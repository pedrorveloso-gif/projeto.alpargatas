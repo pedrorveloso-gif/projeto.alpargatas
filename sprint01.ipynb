{
 "cells": [
  {
   "cell_type": "code",
   "execution_count": 1,
   "id": "1cf5a9aa",
   "metadata": {},
   "outputs": [],
   "source": [
    "import pandas as pd\n",
    "import unicodedata\n",
    "from pathlib import Path\n",
    "\n",
    "# ============================\n",
    "# 0) AJUSTE OS CAMINHOS AQUI\n",
    "# ============================\n",
    "ARQ_ALP = r\"C:\\Users\\pedro\\OneDrive\\Documentos\\Análise dados\\alpargatas\\Projetos_de_Atuac807a771o_-_IA_-_2020_a_2025 (1).xlsx\"\n",
    "ARQ_DTB = r\"C:\\Users\\pedro\\OneDrive\\Documentos\\Análise dados\\alpargatas\\RELATORIO_DTB_BRASIL_2024_MUNICIPIOS.ods\"\n",
    "SAIDA_DIR = r\"C:\\Users\\pedro\\OneDrive\\Documentos\\Análise dados\\alpargatas\"  # pasta onde quer salvar os CSVs\n"
   ]
  },
  {
   "cell_type": "code",
   "execution_count": 2,
   "id": "f2f0479b",
   "metadata": {},
   "outputs": [
    {
     "name": "stdout",
     "output_type": "stream",
     "text": [
      "Lendo DTB/IBGE…\n",
      "Lendo abas do arquivo Alpargatas…\n"
     ]
    },
    {
     "name": "stderr",
     "output_type": "stream",
     "text": [
      "c:\\Users\\pedro\\anaconda3\\Lib\\site-packages\\openpyxl\\worksheet\\_read_only.py:85: UserWarning: Failed to load a conditional formatting rule. It will be discarded. Cause: expected <class 'openpyxl.worksheet.cell_range.MultiCellRange'>\n",
      "  for idx, row in parser.parse():\n",
      "c:\\Users\\pedro\\anaconda3\\Lib\\site-packages\\openpyxl\\worksheet\\_read_only.py:85: UserWarning: Failed to load a conditional formatting rule. It will be discarded. Cause: expected <class 'openpyxl.worksheet.cell_range.MultiCellRange'>\n",
      "  for idx, row in parser.parse():\n",
      "c:\\Users\\pedro\\anaconda3\\Lib\\site-packages\\openpyxl\\worksheet\\_read_only.py:85: UserWarning: Failed to load a conditional formatting rule. It will be discarded. Cause: expected <class 'openpyxl.worksheet.cell_range.MultiCellRange'>\n",
      "  for idx, row in parser.parse():\n",
      "c:\\Users\\pedro\\anaconda3\\Lib\\site-packages\\openpyxl\\worksheet\\_read_only.py:85: UserWarning: Failed to load a conditional formatting rule. It will be discarded. Cause: expected <class 'openpyxl.worksheet.cell_range.MultiCellRange'>\n",
      "  for idx, row in parser.parse():\n"
     ]
    },
    {
     "name": "stdout",
     "output_type": "stream",
     "text": [
      "[AVISO] Não achei cabeçalho CIDADES/UF na aba 'Doações Realizada 2024 Linaldo'. Pulando…\n"
     ]
    },
    {
     "name": "stderr",
     "output_type": "stream",
     "text": [
      "c:\\Users\\pedro\\anaconda3\\Lib\\site-packages\\openpyxl\\worksheet\\_read_only.py:85: UserWarning: Failed to load a conditional formatting rule. It will be discarded. Cause: expected <class 'openpyxl.worksheet.cell_range.MultiCellRange'>\n",
      "  for idx, row in parser.parse():\n",
      "c:\\Users\\pedro\\anaconda3\\Lib\\site-packages\\openpyxl\\worksheet\\_read_only.py:85: UserWarning: Failed to load a conditional formatting rule. It will be discarded. Cause: expected <class 'openpyxl.worksheet.cell_range.MultiCellRange'>\n",
      "  for idx, row in parser.parse():\n"
     ]
    },
    {
     "name": "stdout",
     "output_type": "stream",
     "text": [
      "[AVISO] Não achei cabeçalho CIDADES/UF na aba '2022'. Pulando…\n",
      "[AVISO] Não achei cabeçalho CIDADES/UF na aba 'Resumo NºIA 2023 - Sustentabili'. Pulando…\n",
      "[AVISO] Não achei cabeçalho CIDADES/UF na aba 'Doações IA 2023'. Pulando…\n",
      "[AVISO] Não achei cabeçalho CIDADES/UF na aba '2021'. Pulando…\n",
      "[AVISO] Não achei cabeçalho CIDADES/UF na aba '2020'. Pulando…\n",
      "Cruzando e salvando…\n",
      "\n",
      "Concluído:\n",
      " - Codificados:     85 (arquivo salvo)\n",
      " - Para revisar:     34 (arquivo salvo)\n",
      "\n",
      "Amostra codificados:\n",
      "           MUNICIPIO_NOME_ALP UF_SIGLA MUNICIPIO_CHAVE FONTE_ABA MUNICIPIO_CODIGO  MUNICIPIO_NOME\n",
      "                  ALAGOA NOVA       PB     ALAGOA NOVA      2025          2500403     ALAGOA NOVA\n",
      "              BAÍA DA TRAIÇÃO       PB BAIA DA TRAICAO      2025          2501401 BAÍA DA TRAIÇÃO\n",
      "                   BANANEIRAS       PB      BANANEIRAS      2025          2501500      BANANEIRAS\n",
      "                   CABACEIRAS       PB      CABACEIRAS      2025          2503100      CABACEIRAS\n",
      "               CAMPINA GRANDE       PB  CAMPINA GRANDE      2025          2504009  CAMPINA GRANDE\n",
      "CAMPINA GRANDE- MIXING CENTER       PB CAMPINA GRANDE-      2025              NaN             NaN\n",
      "                      CARPINA       PE         CARPINA      2025          2604007         CARPINA\n",
      "                     CATURITÉ       PB        CATURITE      2025          2504355        CATURITÉ\n",
      "                    GUARABIRA       PB       GUARABIRA      2025          2506301       GUARABIRA\n",
      "                         INGÁ       PB            INGA      2025          2506806            INGÁ\n"
     ]
    }
   ],
   "source": [
    "\n",
    "# =========================================================\n",
    "# 1) Utilitários curtos\n",
    "# =========================================================\n",
    "def nrm(txt: object) -> str:\n",
    "    \"\"\"Normaliza: remove acentos, vira CAIXA-ALTA e tira espaços. NaN -> ''.\"\"\"\n",
    "    if pd.isna(txt):\n",
    "        return \"\"\n",
    "    s = str(txt)\n",
    "    s = unicodedata.normalize(\"NFKD\", s).encode(\"ASCII\", \"ignore\").decode(\"ASCII\")\n",
    "    return s.upper().strip()\n",
    "\n",
    "def chave_municipio(nome: str) -> str:\n",
    "    \"\"\"\n",
    "    Chave 'suave' para casamentos:\n",
    "    - caixa alta\n",
    "    - remove pontuações leves\n",
    "    - corta sufixos que atrapalham match (ex.: ' - ...', ' MIXING CENTER').\n",
    "    \"\"\"\n",
    "    n = nrm(nome).replace(\"–\", \"-\").replace(\"—\", \"-\")\n",
    "    if \" - \" in n:           # corta qualquer coisa depois de ' - '\n",
    "        n = n.split(\" - \")[0]\n",
    "    for suf in (\" MIXING CENTER\", \" DISTRITO\", \" DISTRITO INDUSTRIAL\"):\n",
    "        if n.endswith(suf):\n",
    "            n = n[: -len(suf)].strip()\n",
    "    return n\n",
    "\n",
    "def acha_linha_header_cidades_uf(df_no_header: pd.DataFrame) -> int | None:\n",
    "    \"\"\"Retorna o índice da primeira linha que contenha CIDADES e UF (após normalização).\"\"\"\n",
    "    for i, row in df_no_header.iterrows():\n",
    "        vals = [nrm(x) for x in row.tolist()]\n",
    "        if \"CIDADES\" in vals and \"UF\" in vals:\n",
    "            return i\n",
    "    return None\n",
    "\n",
    "# =========================================================\n",
    "# 2) Ler & limpar DTB/IBGE\n",
    "# =========================================================\n",
    "def carrega_dtb(path: str) -> pd.DataFrame:\n",
    "    \"\"\"Lê DTB/IBGE e devolve DataFrame com colunas-chave já limpas e prontas.\"\"\"\n",
    "    # Mapa Nome_UF -> Sigla\n",
    "    UF_SIGLAS = {\n",
    "        \"ACRE\":\"AC\",\"ALAGOAS\":\"AL\",\"AMAPÁ\":\"AP\",\"AMAZONAS\":\"AM\",\"BAHIA\":\"BA\",\n",
    "        \"CEARÁ\":\"CE\",\"DISTRITO FEDERAL\":\"DF\",\"ESPÍRITO SANTO\":\"ES\",\"GOIÁS\":\"GO\",\n",
    "        \"MARANHÃO\":\"MA\",\"MATO GROSSO\":\"MT\",\"MATO GROSSO DO SUL\":\"MS\",\"MINAS GERAIS\":\"MG\",\n",
    "        \"PARÁ\":\"PA\",\"PARAÍBA\":\"PB\",\"PARANÁ\":\"PR\",\"PERNAMBUCO\":\"PE\",\"PIAUÍ\":\"PI\",\n",
    "        \"RIO DE JANEIRO\":\"RJ\",\"RIO GRANDE DO NORTE\":\"RN\",\"RIO GRANDE DO SUL\":\"RS\",\n",
    "        \"RONDÔNIA\":\"RO\",\"RORAIMA\":\"RR\",\"SANTA CATARINA\":\"SC\",\"SÃO PAULO\":\"SP\",\n",
    "        \"SERGIPE\":\"SE\",\"TOCANTINS\":\"TO\"\n",
    "    }\n",
    "\n",
    "    # A DTB costuma trazer linhas de título/cabeçalhos antes dos dados\n",
    "    # → usamos skiprows=6 (ajuste se necessário).\n",
    "    raw = pd.read_excel(path, engine=\"odf\", skiprows=6)\n",
    "\n",
    "    # Seleciona/renomeia o que interessa e padroniza\n",
    "    dtb = (raw.rename(columns={\n",
    "                \"UF\": \"UF_COD_NUM\",\n",
    "                \"Nome_UF\": \"UF_NOME\",\n",
    "                \"Código Município Completo\": \"MUNICIPIO_CODIGO\",\n",
    "                \"Nome_Município\": \"MUNICIPIO_NOME\"\n",
    "            })[[\"UF_COD_NUM\",\"UF_NOME\",\"MUNICIPIO_CODIGO\",\"MUNICIPIO_NOME\"]]\n",
    "           .dropna(subset=[\"UF_NOME\",\"MUNICIPIO_CODIGO\",\"MUNICIPIO_NOME\"]))\n",
    "\n",
    "    dtb[\"UF_SIGLA\"]           = dtb[\"UF_NOME\"].astype(str).str.upper().map(UF_SIGLAS)\n",
    "    dtb[\"MUNICIPIO_CODIGO\"]   = dtb[\"MUNICIPIO_CODIGO\"].astype(str).str.zfill(7)\n",
    "    dtb[\"MUNICIPIO_NOME\"]     = dtb[\"MUNICIPIO_NOME\"].astype(str).str.upper().str.strip()\n",
    "    dtb[\"MUNICIPIO_CHAVE\"]    = dtb[\"MUNICIPIO_NOME\"].apply(chave_municipio)\n",
    "\n",
    "    return dtb[[\"UF_SIGLA\",\"MUNICIPIO_CODIGO\",\"MUNICIPIO_NOME\",\"MUNICIPIO_CHAVE\"]]\n",
    "\n",
    "# =========================================================\n",
    "# 3) Ler abas do arquivo Alpargatas (2020–2025) e extrair cidade/UF\n",
    "# =========================================================\n",
    "def carrega_alpargatas(path: str) -> pd.DataFrame:\n",
    "    \"\"\"Lê todas as abas (2020–2025), detecta header e extrai CIDADES/UF em um único DataFrame.\"\"\"\n",
    "    xls = pd.ExcelFile(path)\n",
    "    abas = [a for a in xls.sheet_names if any(str(ano) in a for ano in range(2020, 2026))]\n",
    "    if not abas:\n",
    "        raise RuntimeError(\"Nenhuma aba 2020–2025 encontrada no arquivo Alpargatas.\")\n",
    "\n",
    "    frames = []\n",
    "    for aba in abas:\n",
    "        # Lê as primeiras linhas sem header só para acharmos onde começa CIDADES/UF\n",
    "        nohdr = pd.read_excel(path, sheet_name=aba, header=None, nrows=400)\n",
    "        hdr   = acha_linha_header_cidades_uf(nohdr)\n",
    "        if hdr is None:\n",
    "            print(f\"[AVISO] Não achei cabeçalho CIDADES/UF na aba '{aba}'. Pulando…\")\n",
    "            continue\n",
    "\n",
    "        df = pd.read_excel(path, sheet_name=aba, header=hdr)\n",
    "\n",
    "        # Descobre as colunas \"Cidades\" e \"UF\" em qualquer grafia\n",
    "        cmap = {c: nrm(c) for c in df.columns}\n",
    "        c_cid = next((orig for orig, norm in cmap.items() if norm == \"CIDADES\"), None)\n",
    "        c_uf  = next((orig for orig, norm in cmap.items() if norm == \"UF\"), None)\n",
    "        if not c_cid or not c_uf:\n",
    "            print(f\"[AVISO] Colunas 'CIDADES'/'UF' não encontradas após header na aba '{aba}'.\")\n",
    "            continue\n",
    "\n",
    "        tmp = (df[[c_cid, c_uf]].copy()\n",
    "                 .rename(columns={c_cid:\"MUNICIPIO_NOME_ALP\", c_uf:\"UF_SIGLA\"}))\n",
    "        tmp[\"MUNICIPIO_NOME_ALP\"] = tmp[\"MUNICIPIO_NOME_ALP\"].astype(str).str.upper().str.strip()\n",
    "        tmp[\"UF_SIGLA\"]           = tmp[\"UF_SIGLA\"].astype(str).str.strip()\n",
    "        tmp = tmp.dropna(subset=[\"MUNICIPIO_NOME_ALP\",\"UF_SIGLA\"])\n",
    "        tmp = tmp[tmp[\"MUNICIPIO_NOME_ALP\"].str.len() > 0]\n",
    "\n",
    "        tmp[\"MUNICIPIO_CHAVE\"] = tmp[\"MUNICIPIO_NOME_ALP\"].apply(chave_municipio)\n",
    "        tmp[\"FONTE_ABA\"]       = aba\n",
    "        frames.append(tmp)\n",
    "\n",
    "    if not frames:\n",
    "        raise RuntimeError(\"Nenhuma aba válida foi processada (CIDADES/UF não encontrado).\")\n",
    "\n",
    "    # remove duplicados entre abas (mesma cidade/UF pode aparecer em mais de uma aba)\n",
    "    return pd.concat(frames, ignore_index=True).drop_duplicates([\"MUNICIPIO_CHAVE\",\"UF_SIGLA\"])\n",
    "\n",
    "# =========================================================\n",
    "# 4) Cruzamento e saída\n",
    "# =========================================================\n",
    "def cruzar_e_salvar(dtb: pd.DataFrame, alpa: pd.DataFrame, saida_dir: str) -> tuple[pd.DataFrame, pd.DataFrame]:\n",
    "    \"\"\"\n",
    "    Casa Alpargatas × IBGE usando (MUNICIPIO_CHAVE, UF_SIGLA).\n",
    "    Salva:\n",
    "      - municipios_alpargatas_codificados.csv\n",
    "      - municipios_nao_encontrados_para_tratar.csv\n",
    "    Retorna (codificados, nao_encontrados)\n",
    "    \"\"\"\n",
    "    codificados = alpa.merge(\n",
    "        dtb, on=[\"MUNICIPIO_CHAVE\",\"UF_SIGLA\"], how=\"left\", suffixes=(\"_ALP\",\"_IBGE\")\n",
    "    )\n",
    "\n",
    "    nao_encontrados = (codificados[codificados[\"MUNICIPIO_CODIGO\"].isna()]\n",
    "                       .drop_duplicates(subset=[\"MUNICIPIO_NOME_ALP\",\"UF_SIGLA\"])\n",
    "                       .sort_values([\"UF_SIGLA\",\"MUNICIPIO_NOME_ALP\"]))\n",
    "\n",
    "    Path(saida_dir).mkdir(parents=True, exist_ok=True)\n",
    "    codificados.to_csv(Path(saida_dir, \"municipios_alpargatas_codificados.csv\"), index=False, encoding=\"utf-8\")\n",
    "    nao_encontrados.to_csv(Path(saida_dir, \"municipios_nao_encontrados_para_tratar.csv\"), index=False, encoding=\"utf-8\")\n",
    "\n",
    "    print(f\"\\nConcluído:\")\n",
    "    print(f\" - Codificados: {len(codificados):>6} (arquivo salvo)\")\n",
    "    print(f\" - Para revisar: {len(nao_encontrados):>6} (arquivo salvo)\")\n",
    "\n",
    "    return codificados, nao_encontrados\n",
    "\n",
    "# =========================================================\n",
    "# 5) Execução\n",
    "# =========================================================\n",
    "if __name__ == \"__main__\":\n",
    "    print(\"Lendo DTB/IBGE…\")\n",
    "    dtb  = carrega_dtb(ARQ_DTB)\n",
    "\n",
    "    print(\"Lendo abas do arquivo Alpargatas…\")\n",
    "    alpa = carrega_alpargatas(ARQ_ALP)\n",
    "\n",
    "    print(\"Cruzando e salvando…\")\n",
    "    codificados, nao_encontrados = cruzar_e_salvar(dtb, alpa, SAIDA_DIR)\n",
    "\n",
    "    # Visão rápida (opcional)\n",
    "    print(\"\\nAmostra codificados:\")\n",
    "    print(codificados.head(10).to_string(index=False))\n"
   ]
  },
  {
   "cell_type": "code",
   "execution_count": 3,
   "id": "6ac3073d",
   "metadata": {},
   "outputs": [],
   "source": [
    "# Adicionar manualmente o código de CAMPINA GRANDE (PB) se estiver NaN\n",
    "mask = (codificados[\"MUNICIPIO_NOME_ALP\"].str.contains(\"CAMPINA GRANDE\", case=False, na=False)) & \\\n",
    "       (codificados[\"UF_SIGLA\"] == \"PB\") & \\\n",
    "       (codificados[\"MUNICIPIO_CODIGO\"].isna())\n",
    "\n",
    "codificados.loc[mask, \"MUNICIPIO_CODIGO\"] = \"2504009\"\n",
    "\n"
   ]
  },
  {
   "cell_type": "code",
   "execution_count": 4,
   "id": "f20be81f",
   "metadata": {},
   "outputs": [
    {
     "data": {
      "text/html": [
       "<div>\n",
       "<style scoped>\n",
       "    .dataframe tbody tr th:only-of-type {\n",
       "        vertical-align: middle;\n",
       "    }\n",
       "\n",
       "    .dataframe tbody tr th {\n",
       "        vertical-align: top;\n",
       "    }\n",
       "\n",
       "    .dataframe thead th {\n",
       "        text-align: right;\n",
       "    }\n",
       "</style>\n",
       "<table border=\"1\" class=\"dataframe\">\n",
       "  <thead>\n",
       "    <tr style=\"text-align: right;\">\n",
       "      <th></th>\n",
       "      <th>MUNICIPIO_NOME_ALP</th>\n",
       "      <th>UF_SIGLA</th>\n",
       "      <th>MUNICIPIO_CHAVE</th>\n",
       "      <th>FONTE_ABA</th>\n",
       "      <th>MUNICIPIO_CODIGO</th>\n",
       "      <th>MUNICIPIO_NOME</th>\n",
       "    </tr>\n",
       "  </thead>\n",
       "  <tbody>\n",
       "    <tr>\n",
       "      <th>0</th>\n",
       "      <td>ALAGOA NOVA</td>\n",
       "      <td>PB</td>\n",
       "      <td>ALAGOA NOVA</td>\n",
       "      <td>2025</td>\n",
       "      <td>2500403</td>\n",
       "      <td>ALAGOA NOVA</td>\n",
       "    </tr>\n",
       "    <tr>\n",
       "      <th>1</th>\n",
       "      <td>BAÍA DA TRAIÇÃO</td>\n",
       "      <td>PB</td>\n",
       "      <td>BAIA DA TRAICAO</td>\n",
       "      <td>2025</td>\n",
       "      <td>2501401</td>\n",
       "      <td>BAÍA DA TRAIÇÃO</td>\n",
       "    </tr>\n",
       "    <tr>\n",
       "      <th>2</th>\n",
       "      <td>BANANEIRAS</td>\n",
       "      <td>PB</td>\n",
       "      <td>BANANEIRAS</td>\n",
       "      <td>2025</td>\n",
       "      <td>2501500</td>\n",
       "      <td>BANANEIRAS</td>\n",
       "    </tr>\n",
       "    <tr>\n",
       "      <th>3</th>\n",
       "      <td>CABACEIRAS</td>\n",
       "      <td>PB</td>\n",
       "      <td>CABACEIRAS</td>\n",
       "      <td>2025</td>\n",
       "      <td>2503100</td>\n",
       "      <td>CABACEIRAS</td>\n",
       "    </tr>\n",
       "    <tr>\n",
       "      <th>4</th>\n",
       "      <td>CAMPINA GRANDE</td>\n",
       "      <td>PB</td>\n",
       "      <td>CAMPINA GRANDE</td>\n",
       "      <td>2025</td>\n",
       "      <td>2504009</td>\n",
       "      <td>CAMPINA GRANDE</td>\n",
       "    </tr>\n",
       "    <tr>\n",
       "      <th>5</th>\n",
       "      <td>CAMPINA GRANDE- MIXING CENTER</td>\n",
       "      <td>PB</td>\n",
       "      <td>CAMPINA GRANDE-</td>\n",
       "      <td>2025</td>\n",
       "      <td>2504009</td>\n",
       "      <td>NaN</td>\n",
       "    </tr>\n",
       "    <tr>\n",
       "      <th>6</th>\n",
       "      <td>CARPINA</td>\n",
       "      <td>PE</td>\n",
       "      <td>CARPINA</td>\n",
       "      <td>2025</td>\n",
       "      <td>2604007</td>\n",
       "      <td>CARPINA</td>\n",
       "    </tr>\n",
       "    <tr>\n",
       "      <th>7</th>\n",
       "      <td>CATURITÉ</td>\n",
       "      <td>PB</td>\n",
       "      <td>CATURITE</td>\n",
       "      <td>2025</td>\n",
       "      <td>2504355</td>\n",
       "      <td>CATURITÉ</td>\n",
       "    </tr>\n",
       "    <tr>\n",
       "      <th>8</th>\n",
       "      <td>GUARABIRA</td>\n",
       "      <td>PB</td>\n",
       "      <td>GUARABIRA</td>\n",
       "      <td>2025</td>\n",
       "      <td>2506301</td>\n",
       "      <td>GUARABIRA</td>\n",
       "    </tr>\n",
       "    <tr>\n",
       "      <th>9</th>\n",
       "      <td>INGÁ</td>\n",
       "      <td>PB</td>\n",
       "      <td>INGA</td>\n",
       "      <td>2025</td>\n",
       "      <td>2506806</td>\n",
       "      <td>INGÁ</td>\n",
       "    </tr>\n",
       "    <tr>\n",
       "      <th>10</th>\n",
       "      <td>ITATUBA</td>\n",
       "      <td>PB</td>\n",
       "      <td>ITATUBA</td>\n",
       "      <td>2025</td>\n",
       "      <td>2507200</td>\n",
       "      <td>ITATUBA</td>\n",
       "    </tr>\n",
       "    <tr>\n",
       "      <th>11</th>\n",
       "      <td>JOÃO PESSOA</td>\n",
       "      <td>PB</td>\n",
       "      <td>JOAO PESSOA</td>\n",
       "      <td>2025</td>\n",
       "      <td>2507507</td>\n",
       "      <td>JOÃO PESSOA</td>\n",
       "    </tr>\n",
       "    <tr>\n",
       "      <th>12</th>\n",
       "      <td>LAGOA SECA</td>\n",
       "      <td>PB</td>\n",
       "      <td>LAGOA SECA</td>\n",
       "      <td>2025</td>\n",
       "      <td>2508307</td>\n",
       "      <td>LAGOA SECA</td>\n",
       "    </tr>\n",
       "    <tr>\n",
       "      <th>13</th>\n",
       "      <td>MOGEIRO</td>\n",
       "      <td>PB</td>\n",
       "      <td>MOGEIRO</td>\n",
       "      <td>2025</td>\n",
       "      <td>2509404</td>\n",
       "      <td>MOGEIRO</td>\n",
       "    </tr>\n",
       "    <tr>\n",
       "      <th>14</th>\n",
       "      <td>MONTES CLAROS</td>\n",
       "      <td>MG</td>\n",
       "      <td>MONTES CLAROS</td>\n",
       "      <td>2025</td>\n",
       "      <td>3143302</td>\n",
       "      <td>MONTES CLAROS</td>\n",
       "    </tr>\n",
       "    <tr>\n",
       "      <th>15</th>\n",
       "      <td>QUEIMADAS</td>\n",
       "      <td>PB</td>\n",
       "      <td>QUEIMADAS</td>\n",
       "      <td>2025</td>\n",
       "      <td>2512507</td>\n",
       "      <td>QUEIMADAS</td>\n",
       "    </tr>\n",
       "    <tr>\n",
       "      <th>16</th>\n",
       "      <td>SANTA RITA</td>\n",
       "      <td>PB</td>\n",
       "      <td>SANTA RITA</td>\n",
       "      <td>2025</td>\n",
       "      <td>2513703</td>\n",
       "      <td>SANTA RITA</td>\n",
       "    </tr>\n",
       "    <tr>\n",
       "      <th>17</th>\n",
       "      <td>SÃO PAULO</td>\n",
       "      <td>SP</td>\n",
       "      <td>SAO PAULO</td>\n",
       "      <td>2025</td>\n",
       "      <td>3550308</td>\n",
       "      <td>SÃO PAULO</td>\n",
       "    </tr>\n",
       "  </tbody>\n",
       "</table>\n",
       "</div>"
      ],
      "text/plain": [
       "               MUNICIPIO_NOME_ALP UF_SIGLA  MUNICIPIO_CHAVE FONTE_ABA  \\\n",
       "0                     ALAGOA NOVA       PB      ALAGOA NOVA      2025   \n",
       "1                 BAÍA DA TRAIÇÃO       PB  BAIA DA TRAICAO      2025   \n",
       "2                      BANANEIRAS       PB       BANANEIRAS      2025   \n",
       "3                      CABACEIRAS       PB       CABACEIRAS      2025   \n",
       "4                  CAMPINA GRANDE       PB   CAMPINA GRANDE      2025   \n",
       "5   CAMPINA GRANDE- MIXING CENTER       PB  CAMPINA GRANDE-      2025   \n",
       "6                         CARPINA       PE          CARPINA      2025   \n",
       "7                        CATURITÉ       PB         CATURITE      2025   \n",
       "8                       GUARABIRA       PB        GUARABIRA      2025   \n",
       "9                            INGÁ       PB             INGA      2025   \n",
       "10                        ITATUBA       PB          ITATUBA      2025   \n",
       "11                    JOÃO PESSOA       PB      JOAO PESSOA      2025   \n",
       "12                     LAGOA SECA       PB       LAGOA SECA      2025   \n",
       "13                        MOGEIRO       PB          MOGEIRO      2025   \n",
       "14                  MONTES CLAROS       MG    MONTES CLAROS      2025   \n",
       "15                      QUEIMADAS       PB        QUEIMADAS      2025   \n",
       "16                     SANTA RITA       PB       SANTA RITA      2025   \n",
       "17                      SÃO PAULO       SP        SAO PAULO      2025   \n",
       "\n",
       "   MUNICIPIO_CODIGO   MUNICIPIO_NOME  \n",
       "0           2500403      ALAGOA NOVA  \n",
       "1           2501401  BAÍA DA TRAIÇÃO  \n",
       "2           2501500       BANANEIRAS  \n",
       "3           2503100       CABACEIRAS  \n",
       "4           2504009   CAMPINA GRANDE  \n",
       "5           2504009              NaN  \n",
       "6           2604007          CARPINA  \n",
       "7           2504355         CATURITÉ  \n",
       "8           2506301        GUARABIRA  \n",
       "9           2506806             INGÁ  \n",
       "10          2507200          ITATUBA  \n",
       "11          2507507      JOÃO PESSOA  \n",
       "12          2508307       LAGOA SECA  \n",
       "13          2509404          MOGEIRO  \n",
       "14          3143302    MONTES CLAROS  \n",
       "15          2512507        QUEIMADAS  \n",
       "16          2513703       SANTA RITA  \n",
       "17          3550308        SÃO PAULO  "
      ]
     },
     "execution_count": 4,
     "metadata": {},
     "output_type": "execute_result"
    }
   ],
   "source": [
    "codificados.head(18)"
   ]
  },
  {
   "cell_type": "code",
   "execution_count": 5,
   "id": "be710e30",
   "metadata": {},
   "outputs": [],
   "source": [
    "remover = [\"MUNICIPIO_NOME_IBGE\"]\n",
    "codificados = codificados.drop(columns=remover, errors=\"ignore\")"
   ]
  },
  {
   "cell_type": "code",
   "execution_count": 6,
   "id": "0769d198",
   "metadata": {},
   "outputs": [],
   "source": [
    "ods_iniciais = r\"C:\\Users\\pedro\\OneDrive\\Documentos\\Análise dados\\alpargatas\\divulgacao_anos_iniciais_municipios_2023.xlsx\"\n",
    "ods_finais = r\"C:\\Users\\pedro\\OneDrive\\Documentos\\Análise dados\\alpargatas\\divulgacao_anos_finais_municipios_2023.xlsx\"\n",
    "ods_em = r\"C:\\Users\\pedro\\OneDrive\\Documentos\\Análise dados\\alpargatas\\divulgacao_ensino_medio_municipios_2023.xlsx\"\n",
    "\n",
    "df_iniciais = pd.read_excel(ods_iniciais, header= 9)\n",
    "df_finais = pd.read_excel(ods_finais, header = 9)\n",
    "df_em = pd.read_excel(ods_em, header = 9)\n"
   ]
  },
  {
   "cell_type": "code",
   "execution_count": 7,
   "id": "c1690a19",
   "metadata": {},
   "outputs": [
    {
     "data": {
      "text/html": [
       "<div>\n",
       "<style scoped>\n",
       "    .dataframe tbody tr th:only-of-type {\n",
       "        vertical-align: middle;\n",
       "    }\n",
       "\n",
       "    .dataframe tbody tr th {\n",
       "        vertical-align: top;\n",
       "    }\n",
       "\n",
       "    .dataframe thead th {\n",
       "        text-align: right;\n",
       "    }\n",
       "</style>\n",
       "<table border=\"1\" class=\"dataframe\">\n",
       "  <thead>\n",
       "    <tr style=\"text-align: right;\">\n",
       "      <th></th>\n",
       "      <th>SG_UF</th>\n",
       "      <th>CO_MUNICIPIO</th>\n",
       "      <th>NO_MUNICIPIO</th>\n",
       "      <th>REDE</th>\n",
       "      <th>VL_APROVACAO_2005_SI_4</th>\n",
       "      <th>VL_APROVACAO_2005_SI</th>\n",
       "      <th>VL_APROVACAO_2005_1</th>\n",
       "      <th>VL_APROVACAO_2005_2</th>\n",
       "      <th>VL_APROVACAO_2005_3</th>\n",
       "      <th>VL_APROVACAO_2005_4</th>\n",
       "      <th>...</th>\n",
       "      <th>VL_OBSERVADO_2021</th>\n",
       "      <th>VL_OBSERVADO_2023</th>\n",
       "      <th>VL_PROJECAO_2007</th>\n",
       "      <th>VL_PROJECAO_2009</th>\n",
       "      <th>VL_PROJECAO_2011</th>\n",
       "      <th>VL_PROJECAO_2013</th>\n",
       "      <th>VL_PROJECAO_2015</th>\n",
       "      <th>VL_PROJECAO_2017</th>\n",
       "      <th>VL_PROJECAO_2019</th>\n",
       "      <th>VL_PROJECAO_2021</th>\n",
       "    </tr>\n",
       "  </thead>\n",
       "  <tbody>\n",
       "    <tr>\n",
       "      <th>0</th>\n",
       "      <td>RO</td>\n",
       "      <td>1100015.0</td>\n",
       "      <td>Alta Floresta D'Oeste</td>\n",
       "      <td>Estadual</td>\n",
       "      <td>77.2</td>\n",
       "      <td>-</td>\n",
       "      <td>70.4</td>\n",
       "      <td>78.2</td>\n",
       "      <td>73.7</td>\n",
       "      <td>82.5</td>\n",
       "      <td>...</td>\n",
       "      <td>4.6</td>\n",
       "      <td>5.9</td>\n",
       "      <td>3.6</td>\n",
       "      <td>3.9</td>\n",
       "      <td>4.3</td>\n",
       "      <td>4.6</td>\n",
       "      <td>4.9</td>\n",
       "      <td>5.2</td>\n",
       "      <td>5.5</td>\n",
       "      <td>5.7</td>\n",
       "    </tr>\n",
       "    <tr>\n",
       "      <th>1</th>\n",
       "      <td>RO</td>\n",
       "      <td>1100015.0</td>\n",
       "      <td>Alta Floresta D'Oeste</td>\n",
       "      <td>Municipal</td>\n",
       "      <td>-</td>\n",
       "      <td>-</td>\n",
       "      <td>-</td>\n",
       "      <td>-</td>\n",
       "      <td>-</td>\n",
       "      <td>-</td>\n",
       "      <td>...</td>\n",
       "      <td>4.8</td>\n",
       "      <td>5.1</td>\n",
       "      <td>-</td>\n",
       "      <td>-</td>\n",
       "      <td>-</td>\n",
       "      <td>-</td>\n",
       "      <td>-</td>\n",
       "      <td>5.3</td>\n",
       "      <td>5.5</td>\n",
       "      <td>5.8</td>\n",
       "    </tr>\n",
       "    <tr>\n",
       "      <th>2</th>\n",
       "      <td>RO</td>\n",
       "      <td>1100015.0</td>\n",
       "      <td>Alta Floresta D'Oeste</td>\n",
       "      <td>Pública</td>\n",
       "      <td>80.9</td>\n",
       "      <td>-</td>\n",
       "      <td>73</td>\n",
       "      <td>81.5</td>\n",
       "      <td>81.1</td>\n",
       "      <td>87.9</td>\n",
       "      <td>...</td>\n",
       "      <td>4.8</td>\n",
       "      <td>5.3</td>\n",
       "      <td>3.8</td>\n",
       "      <td>4.1</td>\n",
       "      <td>4.5</td>\n",
       "      <td>4.8</td>\n",
       "      <td>5.1</td>\n",
       "      <td>5.4</td>\n",
       "      <td>5.7</td>\n",
       "      <td>5.9</td>\n",
       "    </tr>\n",
       "    <tr>\n",
       "      <th>3</th>\n",
       "      <td>RO</td>\n",
       "      <td>1100023.0</td>\n",
       "      <td>Ariquemes</td>\n",
       "      <td>Estadual</td>\n",
       "      <td>87.1</td>\n",
       "      <td>-</td>\n",
       "      <td>83.3</td>\n",
       "      <td>88.6</td>\n",
       "      <td>88.5</td>\n",
       "      <td>87.5</td>\n",
       "      <td>...</td>\n",
       "      <td>5.8</td>\n",
       "      <td>6.1</td>\n",
       "      <td>4.1</td>\n",
       "      <td>4.4</td>\n",
       "      <td>4.8</td>\n",
       "      <td>5.1</td>\n",
       "      <td>5.4</td>\n",
       "      <td>5.6</td>\n",
       "      <td>5.9</td>\n",
       "      <td>6.2</td>\n",
       "    </tr>\n",
       "    <tr>\n",
       "      <th>4</th>\n",
       "      <td>RO</td>\n",
       "      <td>1100023.0</td>\n",
       "      <td>Ariquemes</td>\n",
       "      <td>Municipal</td>\n",
       "      <td>85.7</td>\n",
       "      <td>93</td>\n",
       "      <td>79</td>\n",
       "      <td>87.3</td>\n",
       "      <td>86.1</td>\n",
       "      <td>87.4</td>\n",
       "      <td>...</td>\n",
       "      <td>4.5</td>\n",
       "      <td>5.3</td>\n",
       "      <td>3.6</td>\n",
       "      <td>3.9</td>\n",
       "      <td>4.3</td>\n",
       "      <td>4.6</td>\n",
       "      <td>4.9</td>\n",
       "      <td>5.2</td>\n",
       "      <td>5.5</td>\n",
       "      <td>5.8</td>\n",
       "    </tr>\n",
       "    <tr>\n",
       "      <th>5</th>\n",
       "      <td>RO</td>\n",
       "      <td>1100023.0</td>\n",
       "      <td>Ariquemes</td>\n",
       "      <td>Pública</td>\n",
       "      <td>86</td>\n",
       "      <td>93</td>\n",
       "      <td>79.7</td>\n",
       "      <td>87.6</td>\n",
       "      <td>86.8</td>\n",
       "      <td>87.4</td>\n",
       "      <td>...</td>\n",
       "      <td>4.7</td>\n",
       "      <td>5.4</td>\n",
       "      <td>3.8</td>\n",
       "      <td>4.1</td>\n",
       "      <td>4.5</td>\n",
       "      <td>4.8</td>\n",
       "      <td>5.1</td>\n",
       "      <td>5.4</td>\n",
       "      <td>5.7</td>\n",
       "      <td>5.9</td>\n",
       "    </tr>\n",
       "    <tr>\n",
       "      <th>6</th>\n",
       "      <td>RO</td>\n",
       "      <td>1100031.0</td>\n",
       "      <td>Cabixi</td>\n",
       "      <td>Estadual</td>\n",
       "      <td>92.6</td>\n",
       "      <td>-</td>\n",
       "      <td>75</td>\n",
       "      <td>93</td>\n",
       "      <td>98</td>\n",
       "      <td>94.6</td>\n",
       "      <td>...</td>\n",
       "      <td>-</td>\n",
       "      <td>-</td>\n",
       "      <td>4.2</td>\n",
       "      <td>4.5</td>\n",
       "      <td>4.9</td>\n",
       "      <td>5.2</td>\n",
       "      <td>5.5</td>\n",
       "      <td>5.7</td>\n",
       "      <td>6</td>\n",
       "      <td>6.3</td>\n",
       "    </tr>\n",
       "    <tr>\n",
       "      <th>7</th>\n",
       "      <td>RO</td>\n",
       "      <td>1100031.0</td>\n",
       "      <td>Cabixi</td>\n",
       "      <td>Municipal</td>\n",
       "      <td>83.5</td>\n",
       "      <td>-</td>\n",
       "      <td>70.8</td>\n",
       "      <td>89.3</td>\n",
       "      <td>87.2</td>\n",
       "      <td>90.4</td>\n",
       "      <td>...</td>\n",
       "      <td>5.1</td>\n",
       "      <td>5.8</td>\n",
       "      <td>3.5</td>\n",
       "      <td>3.8</td>\n",
       "      <td>4.2</td>\n",
       "      <td>4.5</td>\n",
       "      <td>4.8</td>\n",
       "      <td>5.1</td>\n",
       "      <td>5.4</td>\n",
       "      <td>5.7</td>\n",
       "    </tr>\n",
       "    <tr>\n",
       "      <th>8</th>\n",
       "      <td>RO</td>\n",
       "      <td>1100031.0</td>\n",
       "      <td>Cabixi</td>\n",
       "      <td>Pública</td>\n",
       "      <td>86.2</td>\n",
       "      <td>-</td>\n",
       "      <td>71.5</td>\n",
       "      <td>90.3</td>\n",
       "      <td>89.8</td>\n",
       "      <td>92.6</td>\n",
       "      <td>...</td>\n",
       "      <td>5.1</td>\n",
       "      <td>5.8</td>\n",
       "      <td>3.7</td>\n",
       "      <td>4.1</td>\n",
       "      <td>4.5</td>\n",
       "      <td>4.8</td>\n",
       "      <td>5.1</td>\n",
       "      <td>5.3</td>\n",
       "      <td>5.6</td>\n",
       "      <td>5.9</td>\n",
       "    </tr>\n",
       "    <tr>\n",
       "      <th>9</th>\n",
       "      <td>RO</td>\n",
       "      <td>1100049.0</td>\n",
       "      <td>Cacoal</td>\n",
       "      <td>Estadual</td>\n",
       "      <td>84</td>\n",
       "      <td>-</td>\n",
       "      <td>76.8</td>\n",
       "      <td>79.1</td>\n",
       "      <td>88.8</td>\n",
       "      <td>89.3</td>\n",
       "      <td>...</td>\n",
       "      <td>5.7</td>\n",
       "      <td>6</td>\n",
       "      <td>3.8</td>\n",
       "      <td>4.2</td>\n",
       "      <td>4.6</td>\n",
       "      <td>4.9</td>\n",
       "      <td>5.1</td>\n",
       "      <td>5.4</td>\n",
       "      <td>5.7</td>\n",
       "      <td>6</td>\n",
       "    </tr>\n",
       "  </tbody>\n",
       "</table>\n",
       "<p>10 rows × 122 columns</p>\n",
       "</div>"
      ],
      "text/plain": [
       "  SG_UF  CO_MUNICIPIO           NO_MUNICIPIO       REDE  \\\n",
       "0    RO     1100015.0  Alta Floresta D'Oeste   Estadual   \n",
       "1    RO     1100015.0  Alta Floresta D'Oeste  Municipal   \n",
       "2    RO     1100015.0  Alta Floresta D'Oeste    Pública   \n",
       "3    RO     1100023.0              Ariquemes   Estadual   \n",
       "4    RO     1100023.0              Ariquemes  Municipal   \n",
       "5    RO     1100023.0              Ariquemes    Pública   \n",
       "6    RO     1100031.0                 Cabixi   Estadual   \n",
       "7    RO     1100031.0                 Cabixi  Municipal   \n",
       "8    RO     1100031.0                 Cabixi    Pública   \n",
       "9    RO     1100049.0                 Cacoal   Estadual   \n",
       "\n",
       "  VL_APROVACAO_2005_SI_4 VL_APROVACAO_2005_SI VL_APROVACAO_2005_1  \\\n",
       "0                   77.2                    -                70.4   \n",
       "1                      -                    -                   -   \n",
       "2                   80.9                    -                  73   \n",
       "3                   87.1                    -                83.3   \n",
       "4                   85.7                   93                  79   \n",
       "5                     86                   93                79.7   \n",
       "6                   92.6                    -                  75   \n",
       "7                   83.5                    -                70.8   \n",
       "8                   86.2                    -                71.5   \n",
       "9                     84                    -                76.8   \n",
       "\n",
       "  VL_APROVACAO_2005_2 VL_APROVACAO_2005_3 VL_APROVACAO_2005_4  ...  \\\n",
       "0                78.2                73.7                82.5  ...   \n",
       "1                   -                   -                   -  ...   \n",
       "2                81.5                81.1                87.9  ...   \n",
       "3                88.6                88.5                87.5  ...   \n",
       "4                87.3                86.1                87.4  ...   \n",
       "5                87.6                86.8                87.4  ...   \n",
       "6                  93                  98                94.6  ...   \n",
       "7                89.3                87.2                90.4  ...   \n",
       "8                90.3                89.8                92.6  ...   \n",
       "9                79.1                88.8                89.3  ...   \n",
       "\n",
       "  VL_OBSERVADO_2021 VL_OBSERVADO_2023 VL_PROJECAO_2007 VL_PROJECAO_2009  \\\n",
       "0               4.6               5.9              3.6              3.9   \n",
       "1               4.8               5.1                -                -   \n",
       "2               4.8               5.3              3.8              4.1   \n",
       "3               5.8               6.1              4.1              4.4   \n",
       "4               4.5               5.3              3.6              3.9   \n",
       "5               4.7               5.4              3.8              4.1   \n",
       "6                 -                 -              4.2              4.5   \n",
       "7               5.1               5.8              3.5              3.8   \n",
       "8               5.1               5.8              3.7              4.1   \n",
       "9               5.7                 6              3.8              4.2   \n",
       "\n",
       "  VL_PROJECAO_2011 VL_PROJECAO_2013 VL_PROJECAO_2015 VL_PROJECAO_2017  \\\n",
       "0              4.3              4.6              4.9              5.2   \n",
       "1                -                -                -              5.3   \n",
       "2              4.5              4.8              5.1              5.4   \n",
       "3              4.8              5.1              5.4              5.6   \n",
       "4              4.3              4.6              4.9              5.2   \n",
       "5              4.5              4.8              5.1              5.4   \n",
       "6              4.9              5.2              5.5              5.7   \n",
       "7              4.2              4.5              4.8              5.1   \n",
       "8              4.5              4.8              5.1              5.3   \n",
       "9              4.6              4.9              5.1              5.4   \n",
       "\n",
       "  VL_PROJECAO_2019 VL_PROJECAO_2021  \n",
       "0              5.5              5.7  \n",
       "1              5.5              5.8  \n",
       "2              5.7              5.9  \n",
       "3              5.9              6.2  \n",
       "4              5.5              5.8  \n",
       "5              5.7              5.9  \n",
       "6                6              6.3  \n",
       "7              5.4              5.7  \n",
       "8              5.6              5.9  \n",
       "9              5.7                6  \n",
       "\n",
       "[10 rows x 122 columns]"
      ]
     },
     "execution_count": 7,
     "metadata": {},
     "output_type": "execute_result"
    }
   ],
   "source": [
    "df_iniciais.head(10)"
   ]
  },
  {
   "cell_type": "code",
   "execution_count": 8,
   "id": "f98791b0",
   "metadata": {},
   "outputs": [
    {
     "name": "stdout",
     "output_type": "stream",
     "text": [
      "   MUNICIPIO_CODIGO UF_SIGLA             MUNICIPIO_NOME_ALP  \\\n",
      "0           2500403       PB                    ALAGOA NOVA   \n",
      "1           2501401       PB                BAÍA DA TRAIÇÃO   \n",
      "2           2501500       PB                     BANANEIRAS   \n",
      "3           2503100       PB                     CABACEIRAS   \n",
      "4           2504009       PB                 CAMPINA GRANDE   \n",
      "5           2504009       PB  CAMPINA GRANDE- MIXING CENTER   \n",
      "6           2604007       PE                        CARPINA   \n",
      "7           2504355       PB                       CATURITÉ   \n",
      "8           2506301       PB                      GUARABIRA   \n",
      "9           2506806       PB                           INGÁ   \n",
      "10          2507200       PB                        ITATUBA   \n",
      "11          2507507       PB                    JOÃO PESSOA   \n",
      "12          2508307       PB                     LAGOA SECA   \n",
      "13          2509404       PB                        MOGEIRO   \n",
      "14          3143302       MG                  MONTES CLAROS   \n",
      "15          2512507       PB                      QUEIMADAS   \n",
      "16          2513703       PB                     SANTA RITA   \n",
      "17          3550308       SP                      SÃO PAULO   \n",
      "18          2515807       PB                  SERRA REDONDA   \n",
      "19              NaN      nan                     TOTAL 2025   \n",
      "\n",
      "    TAXA_APROVACAO_INICIAIS_P  TAXA_APROVACAO_FINAIS_P  \\\n",
      "0                      0.9703                   0.8187   \n",
      "1                         NaN                   0.8661   \n",
      "2                      0.9713                   0.8612   \n",
      "3                      1.0000                   0.9897   \n",
      "4                      0.9819                   0.8416   \n",
      "5                      0.9819                   0.8416   \n",
      "6                      0.9797                   0.9234   \n",
      "7                      0.9773                   0.8953   \n",
      "8                      0.9643                   0.9107   \n",
      "9                      0.9843                   0.8970   \n",
      "10                     0.9866                   0.9584   \n",
      "11                     0.9449                   0.8333   \n",
      "12                     0.9902                   0.8672   \n",
      "13                     0.9988                   0.9960   \n",
      "14                     0.9979                   0.9631   \n",
      "15                     1.0000                   0.9702   \n",
      "16                     0.9271                   0.8197   \n",
      "17                     0.9936                   0.9714   \n",
      "18                     0.9162                   0.7574   \n",
      "19                        NaN                      NaN   \n",
      "\n",
      "    TAXA_APROVACAO_MEDIO_P  TAXA_APROVACAO_INICIAIS_%  \\\n",
      "0                   0.8093                      97.03   \n",
      "1                   0.9140                        NaN   \n",
      "2                   0.7868                      97.13   \n",
      "3                   0.9543                     100.00   \n",
      "4                   0.8366                      98.19   \n",
      "5                   0.8366                      98.19   \n",
      "6                   0.9594                      97.97   \n",
      "7                   0.8899                      97.73   \n",
      "8                   0.9269                      96.43   \n",
      "9                   1.0000                      98.43   \n",
      "10                  0.8316                      98.66   \n",
      "11                  0.8130                      94.49   \n",
      "12                  0.7489                      99.02   \n",
      "13                  0.9851                      99.88   \n",
      "14                  0.8871                      99.79   \n",
      "15                  0.7564                     100.00   \n",
      "16                  0.8244                      92.71   \n",
      "17                  0.9324                      99.36   \n",
      "18                  0.8278                      91.62   \n",
      "19                     NaN                        NaN   \n",
      "\n",
      "    TAXA_APROVACAO_FINAIS_%  TAXA_APROVACAO_MEDIO_%  \n",
      "0                     81.87                   80.93  \n",
      "1                     86.61                   91.40  \n",
      "2                     86.12                   78.68  \n",
      "3                     98.97                   95.43  \n",
      "4                     84.16                   83.66  \n",
      "5                     84.16                   83.66  \n",
      "6                     92.34                   95.94  \n",
      "7                     89.53                   88.99  \n",
      "8                     91.07                   92.69  \n",
      "9                     89.70                  100.00  \n",
      "10                    95.84                   83.16  \n",
      "11                    83.33                   81.30  \n",
      "12                    86.72                   74.89  \n",
      "13                    99.60                   98.51  \n",
      "14                    96.31                   88.71  \n",
      "15                    97.02                   75.64  \n",
      "16                    81.97                   82.44  \n",
      "17                    97.14                   93.24  \n",
      "18                    75.74                   82.78  \n",
      "19                      NaN                     NaN  \n"
     ]
    }
   ],
   "source": [
    "import numpy as np\n",
    "\n",
    "# ============================================================\n",
    "# 1) Função utilitária: calcula a MÉDIA do indicador (VL_INDICADOR_REND_2023)\n",
    "#    por município em um DataFrame qualquer, e devolve\n",
    "#    um DataFrame com duas colunas: CO_MUNICIPIO e <rótulo_saida>.\n",
    "def media_por_municipio(df: pd.DataFrame, rotulo_saida: str) -> pd.DataFrame:\n",
    "    # Faz uma cópia para não alterar o df original fora da função\n",
    "    df = df.copy()\n",
    "\n",
    "    # 1.1) Padroniza o código do município (IBGE) como string com 7 dígitos.\n",
    "    #      - extrai apenas números (7 dígitos) caso venham misturados\n",
    "    #      - preenche com zeros à esquerda se precisar (zfill)\n",
    "    df[\"CO_MUNICIPIO\"] = (\n",
    "        df[\"CO_MUNICIPIO\"]\n",
    "        .astype(str)\n",
    "        .str.extract(r\"(\\d{7})\", expand=False)  # se tiver mais coisa na célula, pega só os 7 dígitos\n",
    "        .str.zfill(7)\n",
    "    )\n",
    "\n",
    "    # 1.2) Converte a coluna do indicador para numérico.\n",
    "    #      - errors='coerce' transforma valores inválidos ('-', strings etc.) em NaN\n",
    "    ind = pd.to_numeric(df[\"VL_INDICADOR_REND_2023\"], errors=\"coerce\")\n",
    "\n",
    "    # 1.3) Calcula a MÉDIA do indicador por município (ignora NaN automaticamente).\n",
    "    #      - faz um DataFrame com as duas colunas: CO_MUNICIPIO e rotulo_saida\n",
    "    #      - agrupa por CO_MUNICIPIO e calcula mean()\n",
    "    out = (\n",
    "        pd.DataFrame({\"CO_MUNICIPIO\": df[\"CO_MUNICIPIO\"], rotulo_saida: ind})\n",
    "        .groupby(\"CO_MUNICIPIO\", as_index=False)[rotulo_saida]\n",
    "        .mean()\n",
    "    )\n",
    "\n",
    "    # Devolve um DF com CO_MUNICIPIO e a média do indicador\n",
    "    return out\n",
    "\n",
    "\n",
    "# 2) Calcula as três TABELAS (uma para cada etapa):\n",
    "#    - anos iniciais\n",
    "#    - anos finais\n",
    "#    - ensino médio\n",
    "#    Cada uma com a coluna \"CO_MUNICIPIO\" + \"TAXA_APROVACAO_<ETAPA>_P\"\n",
    "\n",
    "ini = media_por_municipio(df_iniciais, \"TAXA_APROVACAO_INICIAIS_P\")\n",
    "fin = media_por_municipio(df_finais,   \"TAXA_APROVACAO_FINAIS_P\")\n",
    "med = media_por_municipio(df_em,       \"TAXA_APROVACAO_MEDIO_P\")\n",
    "\n",
    "# ============================================================\n",
    "# Cria também colunas em percentual\n",
    "# ============================================================\n",
    "ini[\"TAXA_APROVACAO_INICIAIS_%\"] = ini[\"TAXA_APROVACAO_INICIAIS_P\"] * 100\n",
    "fin[\"TAXA_APROVACAO_FINAIS_%\"]   = fin[\"TAXA_APROVACAO_FINAIS_P\"]   * 100\n",
    "med[\"TAXA_APROVACAO_MEDIO_%\"]    = med[\"TAXA_APROVACAO_MEDIO_P\"]    * 100\n",
    "\n",
    "# ============================================================\n",
    "# 3) Faz o MERGE com a sua base \"codificados\" (municípios alvo):\n",
    "#    - garante MUNICIPIO_CODIGO com 7 dígitos\n",
    "#    - junta (left) as médias calculadas de cada etapa por código IBGE\n",
    "#    - remove colunas duplicadas de CO_MUNICIPIO criadas pelos merges\n",
    "# ============================================================\n",
    "res = codificados.copy()\n",
    "\n",
    "# 3.1) Padroniza o código do município na base principal\n",
    "res[\"MUNICIPIO_CODIGO\"] = (\n",
    "    res[\"MUNICIPIO_CODIGO\"]\n",
    "    .astype(str)\n",
    "    .str.extract(r\"(\\d{7})\", expand=False)\n",
    "    .str.zfill(7)\n",
    ")\n",
    "\n",
    "# 3.2) MERGE com as três tabelas calculadas (um left-join para manter todos os municípios da base)\n",
    "#      Observação: usamos suffixes diferentes nos merges 2 e 3 para evitar conflitos de nomes\n",
    "res = (\n",
    "    res\n",
    "    .merge(ini, left_on=\"MUNICIPIO_CODIGO\", right_on=\"CO_MUNICIPIO\", how=\"left\")                                  # anos iniciais\n",
    "    .merge(fin, left_on=\"MUNICIPIO_CODIGO\", right_on=\"CO_MUNICIPIO\", how=\"left\", suffixes=(\"\", \"_fin\"))           # anos finais\n",
    "    .merge(med, left_on=\"MUNICIPIO_CODIGO\", right_on=\"CO_MUNICIPIO\", how=\"left\", suffixes=(\"\", \"_med\"))           # ensino médio\n",
    ")\n",
    "\n",
    "# 3.3) Remove colunas CO_MUNICIPIO repetidas (geradas pelos merges)\n",
    "for c in [\"CO_MUNICIPIO\", \"CO_MUNICIPIO_fin\", \"CO_MUNICIPIO_med\"]:\n",
    "    if c in res.columns:\n",
    "        res.drop(columns=c, inplace=True)\n",
    "\n",
    "# ============================================================\n",
    "# 4) Arredonda para Visualização:\n",
    "#    - *_P (proporção) com 4 casas\n",
    "#    - *_% (percentual) com 2 casas\n",
    "# ============================================================\n",
    "for c in [\"TAXA_APROVACAO_INICIAIS_P\", \"TAXA_APROVACAO_FINAIS_P\", \"TAXA_APROVACAO_MEDIO_P\"]:\n",
    "    if c in res.columns:\n",
    "        res[c] = res[c].round(4)\n",
    "\n",
    "for c in [\"TAXA_APROVACAO_INICIAIS_%\", \"TAXA_APROVACAO_FINAIS_%\", \"TAXA_APROVACAO_MEDIO_%\"]:\n",
    "    if c in res.columns:\n",
    "        res[c] = res[c].round(2)\n",
    "\n",
    "# ============================================================\n",
    "# 5) Prévia das colunas principais para conferir o resultado\n",
    "# ============================================================\n",
    "cols_show = [\n",
    "    \"MUNICIPIO_CODIGO\", \"UF_SIGLA\", \"MUNICIPIO_NOME_ALP\",\n",
    "    \"TAXA_APROVACAO_INICIAIS_P\", \"TAXA_APROVACAO_FINAIS_P\", \"TAXA_APROVACAO_MEDIO_P\",\n",
    "    \"TAXA_APROVACAO_INICIAIS_%\", \"TAXA_APROVACAO_FINAIS_%\", \"TAXA_APROVACAO_MEDIO_%\"\n",
    "]\n",
    "\n",
    "# Imprime somente as colunas que de fato existem (caso alguma não tenha sido criada)\n",
    "print(res[[c for c in cols_show if c in res.columns]].head(20))\n",
    "\n"
   ]
  },
  {
   "cell_type": "code",
   "execution_count": 9,
   "id": "48b3e82d",
   "metadata": {},
   "outputs": [],
   "source": [
    "# 1) Remover colunas que estão vazias ou duplicadas\n",
    "cols_remover = [\"TAXA_APROVACAO_INICIAIS\", \"TAXA_APROVACAO_FINAIS\", \"TAXA_APROVACAO_MEDIO\"]\n",
    "res = res.drop(columns=cols_remover, errors=\"ignore\")\n",
    "res = res.drop(index=5)  # remove a linha de índice 3\n",
    "# 2) Renomear colunas removendo o sufixo \"_P\"\n",
    "res = res.rename(columns=lambda x: x.replace(\"_P\", \"\") if x.endswith(\"_P\") else x)\n",
    "# 3) Definir que a tabela acaba no útimo municipio do dataset do alpargatas\n",
    "res = res.iloc[:18]\n"
   ]
  },
  {
   "cell_type": "code",
   "execution_count": 10,
   "id": "13ca8bde",
   "metadata": {},
   "outputs": [
    {
     "data": {
      "text/html": [
       "<div>\n",
       "<style scoped>\n",
       "    .dataframe tbody tr th:only-of-type {\n",
       "        vertical-align: middle;\n",
       "    }\n",
       "\n",
       "    .dataframe tbody tr th {\n",
       "        vertical-align: top;\n",
       "    }\n",
       "\n",
       "    .dataframe thead th {\n",
       "        text-align: right;\n",
       "    }\n",
       "</style>\n",
       "<table border=\"1\" class=\"dataframe\">\n",
       "  <thead>\n",
       "    <tr style=\"text-align: right;\">\n",
       "      <th></th>\n",
       "      <th>MUNICIPIO_NOME_ALP</th>\n",
       "      <th>UF_SIGLA</th>\n",
       "      <th>MUNICIPIO_CHAVE</th>\n",
       "      <th>FONTE_ABA</th>\n",
       "      <th>MUNICIPIO_CODIGO</th>\n",
       "      <th>MUNICIPIO_NOME</th>\n",
       "      <th>TAXA_APROVACAO_INICIAIS</th>\n",
       "      <th>TAXA_APROVACAO_INICIAIS_%</th>\n",
       "      <th>TAXA_APROVACAO_FINAIS</th>\n",
       "      <th>TAXA_APROVACAO_FINAIS_%</th>\n",
       "      <th>TAXA_APROVACAO_MEDIO</th>\n",
       "      <th>TAXA_APROVACAO_MEDIO_%</th>\n",
       "    </tr>\n",
       "  </thead>\n",
       "  <tbody>\n",
       "    <tr>\n",
       "      <th>0</th>\n",
       "      <td>ALAGOA NOVA</td>\n",
       "      <td>PB</td>\n",
       "      <td>ALAGOA NOVA</td>\n",
       "      <td>2025</td>\n",
       "      <td>2500403</td>\n",
       "      <td>ALAGOA NOVA</td>\n",
       "      <td>0.9703</td>\n",
       "      <td>97.03</td>\n",
       "      <td>0.8187</td>\n",
       "      <td>81.87</td>\n",
       "      <td>0.8093</td>\n",
       "      <td>80.93</td>\n",
       "    </tr>\n",
       "    <tr>\n",
       "      <th>1</th>\n",
       "      <td>BAÍA DA TRAIÇÃO</td>\n",
       "      <td>PB</td>\n",
       "      <td>BAIA DA TRAICAO</td>\n",
       "      <td>2025</td>\n",
       "      <td>2501401</td>\n",
       "      <td>BAÍA DA TRAIÇÃO</td>\n",
       "      <td>NaN</td>\n",
       "      <td>NaN</td>\n",
       "      <td>0.8661</td>\n",
       "      <td>86.61</td>\n",
       "      <td>0.9140</td>\n",
       "      <td>91.40</td>\n",
       "    </tr>\n",
       "    <tr>\n",
       "      <th>2</th>\n",
       "      <td>BANANEIRAS</td>\n",
       "      <td>PB</td>\n",
       "      <td>BANANEIRAS</td>\n",
       "      <td>2025</td>\n",
       "      <td>2501500</td>\n",
       "      <td>BANANEIRAS</td>\n",
       "      <td>0.9713</td>\n",
       "      <td>97.13</td>\n",
       "      <td>0.8612</td>\n",
       "      <td>86.12</td>\n",
       "      <td>0.7868</td>\n",
       "      <td>78.68</td>\n",
       "    </tr>\n",
       "    <tr>\n",
       "      <th>3</th>\n",
       "      <td>CABACEIRAS</td>\n",
       "      <td>PB</td>\n",
       "      <td>CABACEIRAS</td>\n",
       "      <td>2025</td>\n",
       "      <td>2503100</td>\n",
       "      <td>CABACEIRAS</td>\n",
       "      <td>1.0000</td>\n",
       "      <td>100.00</td>\n",
       "      <td>0.9897</td>\n",
       "      <td>98.97</td>\n",
       "      <td>0.9543</td>\n",
       "      <td>95.43</td>\n",
       "    </tr>\n",
       "    <tr>\n",
       "      <th>4</th>\n",
       "      <td>CAMPINA GRANDE</td>\n",
       "      <td>PB</td>\n",
       "      <td>CAMPINA GRANDE</td>\n",
       "      <td>2025</td>\n",
       "      <td>2504009</td>\n",
       "      <td>CAMPINA GRANDE</td>\n",
       "      <td>0.9819</td>\n",
       "      <td>98.19</td>\n",
       "      <td>0.8416</td>\n",
       "      <td>84.16</td>\n",
       "      <td>0.8366</td>\n",
       "      <td>83.66</td>\n",
       "    </tr>\n",
       "    <tr>\n",
       "      <th>6</th>\n",
       "      <td>CARPINA</td>\n",
       "      <td>PE</td>\n",
       "      <td>CARPINA</td>\n",
       "      <td>2025</td>\n",
       "      <td>2604007</td>\n",
       "      <td>CARPINA</td>\n",
       "      <td>0.9797</td>\n",
       "      <td>97.97</td>\n",
       "      <td>0.9234</td>\n",
       "      <td>92.34</td>\n",
       "      <td>0.9594</td>\n",
       "      <td>95.94</td>\n",
       "    </tr>\n",
       "    <tr>\n",
       "      <th>7</th>\n",
       "      <td>CATURITÉ</td>\n",
       "      <td>PB</td>\n",
       "      <td>CATURITE</td>\n",
       "      <td>2025</td>\n",
       "      <td>2504355</td>\n",
       "      <td>CATURITÉ</td>\n",
       "      <td>0.9773</td>\n",
       "      <td>97.73</td>\n",
       "      <td>0.8953</td>\n",
       "      <td>89.53</td>\n",
       "      <td>0.8899</td>\n",
       "      <td>88.99</td>\n",
       "    </tr>\n",
       "    <tr>\n",
       "      <th>8</th>\n",
       "      <td>GUARABIRA</td>\n",
       "      <td>PB</td>\n",
       "      <td>GUARABIRA</td>\n",
       "      <td>2025</td>\n",
       "      <td>2506301</td>\n",
       "      <td>GUARABIRA</td>\n",
       "      <td>0.9643</td>\n",
       "      <td>96.43</td>\n",
       "      <td>0.9107</td>\n",
       "      <td>91.07</td>\n",
       "      <td>0.9269</td>\n",
       "      <td>92.69</td>\n",
       "    </tr>\n",
       "    <tr>\n",
       "      <th>9</th>\n",
       "      <td>INGÁ</td>\n",
       "      <td>PB</td>\n",
       "      <td>INGA</td>\n",
       "      <td>2025</td>\n",
       "      <td>2506806</td>\n",
       "      <td>INGÁ</td>\n",
       "      <td>0.9843</td>\n",
       "      <td>98.43</td>\n",
       "      <td>0.8970</td>\n",
       "      <td>89.70</td>\n",
       "      <td>1.0000</td>\n",
       "      <td>100.00</td>\n",
       "    </tr>\n",
       "    <tr>\n",
       "      <th>10</th>\n",
       "      <td>ITATUBA</td>\n",
       "      <td>PB</td>\n",
       "      <td>ITATUBA</td>\n",
       "      <td>2025</td>\n",
       "      <td>2507200</td>\n",
       "      <td>ITATUBA</td>\n",
       "      <td>0.9866</td>\n",
       "      <td>98.66</td>\n",
       "      <td>0.9584</td>\n",
       "      <td>95.84</td>\n",
       "      <td>0.8316</td>\n",
       "      <td>83.16</td>\n",
       "    </tr>\n",
       "    <tr>\n",
       "      <th>11</th>\n",
       "      <td>JOÃO PESSOA</td>\n",
       "      <td>PB</td>\n",
       "      <td>JOAO PESSOA</td>\n",
       "      <td>2025</td>\n",
       "      <td>2507507</td>\n",
       "      <td>JOÃO PESSOA</td>\n",
       "      <td>0.9449</td>\n",
       "      <td>94.49</td>\n",
       "      <td>0.8333</td>\n",
       "      <td>83.33</td>\n",
       "      <td>0.8130</td>\n",
       "      <td>81.30</td>\n",
       "    </tr>\n",
       "    <tr>\n",
       "      <th>12</th>\n",
       "      <td>LAGOA SECA</td>\n",
       "      <td>PB</td>\n",
       "      <td>LAGOA SECA</td>\n",
       "      <td>2025</td>\n",
       "      <td>2508307</td>\n",
       "      <td>LAGOA SECA</td>\n",
       "      <td>0.9902</td>\n",
       "      <td>99.02</td>\n",
       "      <td>0.8672</td>\n",
       "      <td>86.72</td>\n",
       "      <td>0.7489</td>\n",
       "      <td>74.89</td>\n",
       "    </tr>\n",
       "    <tr>\n",
       "      <th>13</th>\n",
       "      <td>MOGEIRO</td>\n",
       "      <td>PB</td>\n",
       "      <td>MOGEIRO</td>\n",
       "      <td>2025</td>\n",
       "      <td>2509404</td>\n",
       "      <td>MOGEIRO</td>\n",
       "      <td>0.9988</td>\n",
       "      <td>99.88</td>\n",
       "      <td>0.9960</td>\n",
       "      <td>99.60</td>\n",
       "      <td>0.9851</td>\n",
       "      <td>98.51</td>\n",
       "    </tr>\n",
       "    <tr>\n",
       "      <th>14</th>\n",
       "      <td>MONTES CLAROS</td>\n",
       "      <td>MG</td>\n",
       "      <td>MONTES CLAROS</td>\n",
       "      <td>2025</td>\n",
       "      <td>3143302</td>\n",
       "      <td>MONTES CLAROS</td>\n",
       "      <td>0.9979</td>\n",
       "      <td>99.79</td>\n",
       "      <td>0.9631</td>\n",
       "      <td>96.31</td>\n",
       "      <td>0.8871</td>\n",
       "      <td>88.71</td>\n",
       "    </tr>\n",
       "    <tr>\n",
       "      <th>15</th>\n",
       "      <td>QUEIMADAS</td>\n",
       "      <td>PB</td>\n",
       "      <td>QUEIMADAS</td>\n",
       "      <td>2025</td>\n",
       "      <td>2512507</td>\n",
       "      <td>QUEIMADAS</td>\n",
       "      <td>1.0000</td>\n",
       "      <td>100.00</td>\n",
       "      <td>0.9702</td>\n",
       "      <td>97.02</td>\n",
       "      <td>0.7564</td>\n",
       "      <td>75.64</td>\n",
       "    </tr>\n",
       "    <tr>\n",
       "      <th>16</th>\n",
       "      <td>SANTA RITA</td>\n",
       "      <td>PB</td>\n",
       "      <td>SANTA RITA</td>\n",
       "      <td>2025</td>\n",
       "      <td>2513703</td>\n",
       "      <td>SANTA RITA</td>\n",
       "      <td>0.9271</td>\n",
       "      <td>92.71</td>\n",
       "      <td>0.8197</td>\n",
       "      <td>81.97</td>\n",
       "      <td>0.8244</td>\n",
       "      <td>82.44</td>\n",
       "    </tr>\n",
       "    <tr>\n",
       "      <th>17</th>\n",
       "      <td>SÃO PAULO</td>\n",
       "      <td>SP</td>\n",
       "      <td>SAO PAULO</td>\n",
       "      <td>2025</td>\n",
       "      <td>3550308</td>\n",
       "      <td>SÃO PAULO</td>\n",
       "      <td>0.9936</td>\n",
       "      <td>99.36</td>\n",
       "      <td>0.9714</td>\n",
       "      <td>97.14</td>\n",
       "      <td>0.9324</td>\n",
       "      <td>93.24</td>\n",
       "    </tr>\n",
       "    <tr>\n",
       "      <th>18</th>\n",
       "      <td>SERRA REDONDA</td>\n",
       "      <td>PB</td>\n",
       "      <td>SERRA REDONDA</td>\n",
       "      <td>2025</td>\n",
       "      <td>2515807</td>\n",
       "      <td>SERRA REDONDA</td>\n",
       "      <td>0.9162</td>\n",
       "      <td>91.62</td>\n",
       "      <td>0.7574</td>\n",
       "      <td>75.74</td>\n",
       "      <td>0.8278</td>\n",
       "      <td>82.78</td>\n",
       "    </tr>\n",
       "  </tbody>\n",
       "</table>\n",
       "</div>"
      ],
      "text/plain": [
       "   MUNICIPIO_NOME_ALP UF_SIGLA  MUNICIPIO_CHAVE FONTE_ABA MUNICIPIO_CODIGO  \\\n",
       "0         ALAGOA NOVA       PB      ALAGOA NOVA      2025          2500403   \n",
       "1     BAÍA DA TRAIÇÃO       PB  BAIA DA TRAICAO      2025          2501401   \n",
       "2          BANANEIRAS       PB       BANANEIRAS      2025          2501500   \n",
       "3          CABACEIRAS       PB       CABACEIRAS      2025          2503100   \n",
       "4      CAMPINA GRANDE       PB   CAMPINA GRANDE      2025          2504009   \n",
       "6             CARPINA       PE          CARPINA      2025          2604007   \n",
       "7            CATURITÉ       PB         CATURITE      2025          2504355   \n",
       "8           GUARABIRA       PB        GUARABIRA      2025          2506301   \n",
       "9                INGÁ       PB             INGA      2025          2506806   \n",
       "10            ITATUBA       PB          ITATUBA      2025          2507200   \n",
       "11        JOÃO PESSOA       PB      JOAO PESSOA      2025          2507507   \n",
       "12         LAGOA SECA       PB       LAGOA SECA      2025          2508307   \n",
       "13            MOGEIRO       PB          MOGEIRO      2025          2509404   \n",
       "14      MONTES CLAROS       MG    MONTES CLAROS      2025          3143302   \n",
       "15          QUEIMADAS       PB        QUEIMADAS      2025          2512507   \n",
       "16         SANTA RITA       PB       SANTA RITA      2025          2513703   \n",
       "17          SÃO PAULO       SP        SAO PAULO      2025          3550308   \n",
       "18      SERRA REDONDA       PB    SERRA REDONDA      2025          2515807   \n",
       "\n",
       "     MUNICIPIO_NOME  TAXA_APROVACAO_INICIAIS  TAXA_APROVACAO_INICIAIS_%  \\\n",
       "0       ALAGOA NOVA                   0.9703                      97.03   \n",
       "1   BAÍA DA TRAIÇÃO                      NaN                        NaN   \n",
       "2        BANANEIRAS                   0.9713                      97.13   \n",
       "3        CABACEIRAS                   1.0000                     100.00   \n",
       "4    CAMPINA GRANDE                   0.9819                      98.19   \n",
       "6           CARPINA                   0.9797                      97.97   \n",
       "7          CATURITÉ                   0.9773                      97.73   \n",
       "8         GUARABIRA                   0.9643                      96.43   \n",
       "9              INGÁ                   0.9843                      98.43   \n",
       "10          ITATUBA                   0.9866                      98.66   \n",
       "11      JOÃO PESSOA                   0.9449                      94.49   \n",
       "12       LAGOA SECA                   0.9902                      99.02   \n",
       "13          MOGEIRO                   0.9988                      99.88   \n",
       "14    MONTES CLAROS                   0.9979                      99.79   \n",
       "15        QUEIMADAS                   1.0000                     100.00   \n",
       "16       SANTA RITA                   0.9271                      92.71   \n",
       "17        SÃO PAULO                   0.9936                      99.36   \n",
       "18    SERRA REDONDA                   0.9162                      91.62   \n",
       "\n",
       "    TAXA_APROVACAO_FINAIS  TAXA_APROVACAO_FINAIS_%  TAXA_APROVACAO_MEDIO  \\\n",
       "0                  0.8187                    81.87                0.8093   \n",
       "1                  0.8661                    86.61                0.9140   \n",
       "2                  0.8612                    86.12                0.7868   \n",
       "3                  0.9897                    98.97                0.9543   \n",
       "4                  0.8416                    84.16                0.8366   \n",
       "6                  0.9234                    92.34                0.9594   \n",
       "7                  0.8953                    89.53                0.8899   \n",
       "8                  0.9107                    91.07                0.9269   \n",
       "9                  0.8970                    89.70                1.0000   \n",
       "10                 0.9584                    95.84                0.8316   \n",
       "11                 0.8333                    83.33                0.8130   \n",
       "12                 0.8672                    86.72                0.7489   \n",
       "13                 0.9960                    99.60                0.9851   \n",
       "14                 0.9631                    96.31                0.8871   \n",
       "15                 0.9702                    97.02                0.7564   \n",
       "16                 0.8197                    81.97                0.8244   \n",
       "17                 0.9714                    97.14                0.9324   \n",
       "18                 0.7574                    75.74                0.8278   \n",
       "\n",
       "    TAXA_APROVACAO_MEDIO_%  \n",
       "0                    80.93  \n",
       "1                    91.40  \n",
       "2                    78.68  \n",
       "3                    95.43  \n",
       "4                    83.66  \n",
       "6                    95.94  \n",
       "7                    88.99  \n",
       "8                    92.69  \n",
       "9                   100.00  \n",
       "10                   83.16  \n",
       "11                   81.30  \n",
       "12                   74.89  \n",
       "13                   98.51  \n",
       "14                   88.71  \n",
       "15                   75.64  \n",
       "16                   82.44  \n",
       "17                   93.24  \n",
       "18                   82.78  "
      ]
     },
     "execution_count": 10,
     "metadata": {},
     "output_type": "execute_result"
    }
   ],
   "source": [
    "res.head(20)"
   ]
  },
  {
   "cell_type": "code",
   "execution_count": 11,
   "id": "99fefff4",
   "metadata": {},
   "outputs": [
    {
     "name": "stderr",
     "output_type": "stream",
     "text": [
      "C:\\Users\\pedro\\AppData\\Local\\Temp\\ipykernel_5192\\3453742091.py:3: FutureWarning: Setting an item of incompatible dtype is deprecated and will raise an error in a future version of pandas. Value '90.66' has dtype incompatible with float64, please explicitly cast to a compatible dtype first.\n",
      "  res.loc[1, \"TAXA_APROVACAO_INICIAIS_%\"] = \"90.66\"\n",
      "C:\\Users\\pedro\\AppData\\Local\\Temp\\ipykernel_5192\\3453742091.py:4: FutureWarning: Setting an item of incompatible dtype is deprecated and will raise an error in a future version of pandas. Value '0.9066' has dtype incompatible with float64, please explicitly cast to a compatible dtype first.\n",
      "  res.loc[1, \"TAXA_APROVACAO_INICIAIS\"] = \"0.9066\"\n"
     ]
    },
    {
     "data": {
      "text/html": [
       "<div>\n",
       "<style scoped>\n",
       "    .dataframe tbody tr th:only-of-type {\n",
       "        vertical-align: middle;\n",
       "    }\n",
       "\n",
       "    .dataframe tbody tr th {\n",
       "        vertical-align: top;\n",
       "    }\n",
       "\n",
       "    .dataframe thead th {\n",
       "        text-align: right;\n",
       "    }\n",
       "</style>\n",
       "<table border=\"1\" class=\"dataframe\">\n",
       "  <thead>\n",
       "    <tr style=\"text-align: right;\">\n",
       "      <th></th>\n",
       "      <th>MUNICIPIO_NOME_ALP</th>\n",
       "      <th>UF_SIGLA</th>\n",
       "      <th>MUNICIPIO_CHAVE</th>\n",
       "      <th>FONTE_ABA</th>\n",
       "      <th>MUNICIPIO_CODIGO</th>\n",
       "      <th>MUNICIPIO_NOME</th>\n",
       "      <th>TAXA_APROVACAO_INICIAIS</th>\n",
       "      <th>TAXA_APROVACAO_INICIAIS_%</th>\n",
       "      <th>TAXA_APROVACAO_FINAIS</th>\n",
       "      <th>TAXA_APROVACAO_FINAIS_%</th>\n",
       "      <th>TAXA_APROVACAO_MEDIO</th>\n",
       "      <th>TAXA_APROVACAO_MEDIO_%</th>\n",
       "    </tr>\n",
       "  </thead>\n",
       "  <tbody>\n",
       "    <tr>\n",
       "      <th>0</th>\n",
       "      <td>ALAGOA NOVA</td>\n",
       "      <td>PB</td>\n",
       "      <td>ALAGOA NOVA</td>\n",
       "      <td>2025</td>\n",
       "      <td>2500403</td>\n",
       "      <td>ALAGOA NOVA</td>\n",
       "      <td>0.9703</td>\n",
       "      <td>97.03</td>\n",
       "      <td>0.8187</td>\n",
       "      <td>81.87</td>\n",
       "      <td>0.8093</td>\n",
       "      <td>80.93</td>\n",
       "    </tr>\n",
       "    <tr>\n",
       "      <th>1</th>\n",
       "      <td>BAÍA DA TRAIÇÃO</td>\n",
       "      <td>PB</td>\n",
       "      <td>BAIA DA TRAICAO</td>\n",
       "      <td>2025</td>\n",
       "      <td>2501401</td>\n",
       "      <td>BAÍA DA TRAIÇÃO</td>\n",
       "      <td>0.9066</td>\n",
       "      <td>90.66</td>\n",
       "      <td>0.8661</td>\n",
       "      <td>86.61</td>\n",
       "      <td>0.9140</td>\n",
       "      <td>91.40</td>\n",
       "    </tr>\n",
       "    <tr>\n",
       "      <th>2</th>\n",
       "      <td>BANANEIRAS</td>\n",
       "      <td>PB</td>\n",
       "      <td>BANANEIRAS</td>\n",
       "      <td>2025</td>\n",
       "      <td>2501500</td>\n",
       "      <td>BANANEIRAS</td>\n",
       "      <td>0.9713</td>\n",
       "      <td>97.13</td>\n",
       "      <td>0.8612</td>\n",
       "      <td>86.12</td>\n",
       "      <td>0.7868</td>\n",
       "      <td>78.68</td>\n",
       "    </tr>\n",
       "    <tr>\n",
       "      <th>3</th>\n",
       "      <td>CABACEIRAS</td>\n",
       "      <td>PB</td>\n",
       "      <td>CABACEIRAS</td>\n",
       "      <td>2025</td>\n",
       "      <td>2503100</td>\n",
       "      <td>CABACEIRAS</td>\n",
       "      <td>1.0</td>\n",
       "      <td>100.0</td>\n",
       "      <td>0.9897</td>\n",
       "      <td>98.97</td>\n",
       "      <td>0.9543</td>\n",
       "      <td>95.43</td>\n",
       "    </tr>\n",
       "    <tr>\n",
       "      <th>4</th>\n",
       "      <td>CAMPINA GRANDE</td>\n",
       "      <td>PB</td>\n",
       "      <td>CAMPINA GRANDE</td>\n",
       "      <td>2025</td>\n",
       "      <td>2504009</td>\n",
       "      <td>CAMPINA GRANDE</td>\n",
       "      <td>0.9819</td>\n",
       "      <td>98.19</td>\n",
       "      <td>0.8416</td>\n",
       "      <td>84.16</td>\n",
       "      <td>0.8366</td>\n",
       "      <td>83.66</td>\n",
       "    </tr>\n",
       "  </tbody>\n",
       "</table>\n",
       "</div>"
      ],
      "text/plain": [
       "  MUNICIPIO_NOME_ALP UF_SIGLA  MUNICIPIO_CHAVE FONTE_ABA MUNICIPIO_CODIGO  \\\n",
       "0        ALAGOA NOVA       PB      ALAGOA NOVA      2025          2500403   \n",
       "1    BAÍA DA TRAIÇÃO       PB  BAIA DA TRAICAO      2025          2501401   \n",
       "2         BANANEIRAS       PB       BANANEIRAS      2025          2501500   \n",
       "3         CABACEIRAS       PB       CABACEIRAS      2025          2503100   \n",
       "4     CAMPINA GRANDE       PB   CAMPINA GRANDE      2025          2504009   \n",
       "\n",
       "    MUNICIPIO_NOME TAXA_APROVACAO_INICIAIS TAXA_APROVACAO_INICIAIS_%  \\\n",
       "0      ALAGOA NOVA                  0.9703                     97.03   \n",
       "1  BAÍA DA TRAIÇÃO                  0.9066                     90.66   \n",
       "2       BANANEIRAS                  0.9713                     97.13   \n",
       "3       CABACEIRAS                     1.0                     100.0   \n",
       "4   CAMPINA GRANDE                  0.9819                     98.19   \n",
       "\n",
       "   TAXA_APROVACAO_FINAIS  TAXA_APROVACAO_FINAIS_%  TAXA_APROVACAO_MEDIO  \\\n",
       "0                 0.8187                    81.87                0.8093   \n",
       "1                 0.8661                    86.61                0.9140   \n",
       "2                 0.8612                    86.12                0.7868   \n",
       "3                 0.9897                    98.97                0.9543   \n",
       "4                 0.8416                    84.16                0.8366   \n",
       "\n",
       "   TAXA_APROVACAO_MEDIO_%  \n",
       "0                   80.93  \n",
       "1                   91.40  \n",
       "2                   78.68  \n",
       "3                   95.43  \n",
       "4                   83.66  "
      ]
     },
     "execution_count": 11,
     "metadata": {},
     "output_type": "execute_result"
    }
   ],
   "source": [
    "# Preenchimento dos valores nulos (Baía da Traição), apoós rápida checagem no dataset do inep \n",
    "# Coletamos a média dos últimos anos preenchidos a substituímos na nossa tabela\n",
    "res.loc[1, \"TAXA_APROVACAO_INICIAIS_%\"] = \"90.66\"\n",
    "res.loc[1, \"TAXA_APROVACAO_INICIAIS\"] = \"0.9066\"\n",
    "res.head()\n"
   ]
  },
  {
   "cell_type": "code",
   "execution_count": 12,
   "id": "4d9e736a",
   "metadata": {},
   "outputs": [
    {
     "data": {
      "text/html": [
       "<div>\n",
       "<style scoped>\n",
       "    .dataframe tbody tr th:only-of-type {\n",
       "        vertical-align: middle;\n",
       "    }\n",
       "\n",
       "    .dataframe tbody tr th {\n",
       "        vertical-align: top;\n",
       "    }\n",
       "\n",
       "    .dataframe thead th {\n",
       "        text-align: right;\n",
       "    }\n",
       "</style>\n",
       "<table border=\"1\" class=\"dataframe\">\n",
       "  <thead>\n",
       "    <tr style=\"text-align: right;\">\n",
       "      <th></th>\n",
       "      <th>MUNICIPIO_NOME_ALP</th>\n",
       "      <th>UF_SIGLA</th>\n",
       "      <th>MUNICIPIO_CHAVE</th>\n",
       "      <th>FONTE_ABA</th>\n",
       "      <th>MUNICIPIO_CODIGO</th>\n",
       "      <th>MUNICIPIO_NOME</th>\n",
       "      <th>TAXA_APROVACAO_INICIAIS</th>\n",
       "      <th>TAXA_APROVACAO_INICIAIS_%</th>\n",
       "      <th>TAXA_APROVACAO_FINAIS</th>\n",
       "      <th>TAXA_APROVACAO_FINAIS_%</th>\n",
       "      <th>TAXA_APROVACAO_MEDIO</th>\n",
       "      <th>TAXA_APROVACAO_MEDIO_%</th>\n",
       "    </tr>\n",
       "  </thead>\n",
       "  <tbody>\n",
       "    <tr>\n",
       "      <th>0</th>\n",
       "      <td>ALAGOA NOVA</td>\n",
       "      <td>PB</td>\n",
       "      <td>ALAGOA NOVA</td>\n",
       "      <td>2025</td>\n",
       "      <td>2500403</td>\n",
       "      <td>ALAGOA NOVA</td>\n",
       "      <td>0.9703</td>\n",
       "      <td>97.03</td>\n",
       "      <td>0.8187</td>\n",
       "      <td>81.87</td>\n",
       "      <td>0.8093</td>\n",
       "      <td>80.93</td>\n",
       "    </tr>\n",
       "    <tr>\n",
       "      <th>1</th>\n",
       "      <td>BAÍA DA TRAIÇÃO</td>\n",
       "      <td>PB</td>\n",
       "      <td>BAIA DA TRAICAO</td>\n",
       "      <td>2025</td>\n",
       "      <td>2501401</td>\n",
       "      <td>BAÍA DA TRAIÇÃO</td>\n",
       "      <td>0.9066</td>\n",
       "      <td>90.66</td>\n",
       "      <td>0.8661</td>\n",
       "      <td>86.61</td>\n",
       "      <td>0.9140</td>\n",
       "      <td>91.40</td>\n",
       "    </tr>\n",
       "    <tr>\n",
       "      <th>2</th>\n",
       "      <td>BANANEIRAS</td>\n",
       "      <td>PB</td>\n",
       "      <td>BANANEIRAS</td>\n",
       "      <td>2025</td>\n",
       "      <td>2501500</td>\n",
       "      <td>BANANEIRAS</td>\n",
       "      <td>0.9713</td>\n",
       "      <td>97.13</td>\n",
       "      <td>0.8612</td>\n",
       "      <td>86.12</td>\n",
       "      <td>0.7868</td>\n",
       "      <td>78.68</td>\n",
       "    </tr>\n",
       "    <tr>\n",
       "      <th>3</th>\n",
       "      <td>CABACEIRAS</td>\n",
       "      <td>PB</td>\n",
       "      <td>CABACEIRAS</td>\n",
       "      <td>2025</td>\n",
       "      <td>2503100</td>\n",
       "      <td>CABACEIRAS</td>\n",
       "      <td>1.0</td>\n",
       "      <td>100.0</td>\n",
       "      <td>0.9897</td>\n",
       "      <td>98.97</td>\n",
       "      <td>0.9543</td>\n",
       "      <td>95.43</td>\n",
       "    </tr>\n",
       "    <tr>\n",
       "      <th>4</th>\n",
       "      <td>CAMPINA GRANDE</td>\n",
       "      <td>PB</td>\n",
       "      <td>CAMPINA GRANDE</td>\n",
       "      <td>2025</td>\n",
       "      <td>2504009</td>\n",
       "      <td>CAMPINA GRANDE</td>\n",
       "      <td>0.9819</td>\n",
       "      <td>98.19</td>\n",
       "      <td>0.8416</td>\n",
       "      <td>84.16</td>\n",
       "      <td>0.8366</td>\n",
       "      <td>83.66</td>\n",
       "    </tr>\n",
       "    <tr>\n",
       "      <th>6</th>\n",
       "      <td>CARPINA</td>\n",
       "      <td>PE</td>\n",
       "      <td>CARPINA</td>\n",
       "      <td>2025</td>\n",
       "      <td>2604007</td>\n",
       "      <td>CARPINA</td>\n",
       "      <td>0.9797</td>\n",
       "      <td>97.97</td>\n",
       "      <td>0.9234</td>\n",
       "      <td>92.34</td>\n",
       "      <td>0.9594</td>\n",
       "      <td>95.94</td>\n",
       "    </tr>\n",
       "    <tr>\n",
       "      <th>7</th>\n",
       "      <td>CATURITÉ</td>\n",
       "      <td>PB</td>\n",
       "      <td>CATURITE</td>\n",
       "      <td>2025</td>\n",
       "      <td>2504355</td>\n",
       "      <td>CATURITÉ</td>\n",
       "      <td>0.9773</td>\n",
       "      <td>97.73</td>\n",
       "      <td>0.8953</td>\n",
       "      <td>89.53</td>\n",
       "      <td>0.8899</td>\n",
       "      <td>88.99</td>\n",
       "    </tr>\n",
       "    <tr>\n",
       "      <th>8</th>\n",
       "      <td>GUARABIRA</td>\n",
       "      <td>PB</td>\n",
       "      <td>GUARABIRA</td>\n",
       "      <td>2025</td>\n",
       "      <td>2506301</td>\n",
       "      <td>GUARABIRA</td>\n",
       "      <td>0.9643</td>\n",
       "      <td>96.43</td>\n",
       "      <td>0.9107</td>\n",
       "      <td>91.07</td>\n",
       "      <td>0.9269</td>\n",
       "      <td>92.69</td>\n",
       "    </tr>\n",
       "    <tr>\n",
       "      <th>9</th>\n",
       "      <td>INGÁ</td>\n",
       "      <td>PB</td>\n",
       "      <td>INGA</td>\n",
       "      <td>2025</td>\n",
       "      <td>2506806</td>\n",
       "      <td>INGÁ</td>\n",
       "      <td>0.9843</td>\n",
       "      <td>98.43</td>\n",
       "      <td>0.8970</td>\n",
       "      <td>89.70</td>\n",
       "      <td>1.0000</td>\n",
       "      <td>100.00</td>\n",
       "    </tr>\n",
       "    <tr>\n",
       "      <th>10</th>\n",
       "      <td>ITATUBA</td>\n",
       "      <td>PB</td>\n",
       "      <td>ITATUBA</td>\n",
       "      <td>2025</td>\n",
       "      <td>2507200</td>\n",
       "      <td>ITATUBA</td>\n",
       "      <td>0.9866</td>\n",
       "      <td>98.66</td>\n",
       "      <td>0.9584</td>\n",
       "      <td>95.84</td>\n",
       "      <td>0.8316</td>\n",
       "      <td>83.16</td>\n",
       "    </tr>\n",
       "    <tr>\n",
       "      <th>11</th>\n",
       "      <td>JOÃO PESSOA</td>\n",
       "      <td>PB</td>\n",
       "      <td>JOAO PESSOA</td>\n",
       "      <td>2025</td>\n",
       "      <td>2507507</td>\n",
       "      <td>JOÃO PESSOA</td>\n",
       "      <td>0.9449</td>\n",
       "      <td>94.49</td>\n",
       "      <td>0.8333</td>\n",
       "      <td>83.33</td>\n",
       "      <td>0.8130</td>\n",
       "      <td>81.30</td>\n",
       "    </tr>\n",
       "    <tr>\n",
       "      <th>12</th>\n",
       "      <td>LAGOA SECA</td>\n",
       "      <td>PB</td>\n",
       "      <td>LAGOA SECA</td>\n",
       "      <td>2025</td>\n",
       "      <td>2508307</td>\n",
       "      <td>LAGOA SECA</td>\n",
       "      <td>0.9902</td>\n",
       "      <td>99.02</td>\n",
       "      <td>0.8672</td>\n",
       "      <td>86.72</td>\n",
       "      <td>0.7489</td>\n",
       "      <td>74.89</td>\n",
       "    </tr>\n",
       "    <tr>\n",
       "      <th>13</th>\n",
       "      <td>MOGEIRO</td>\n",
       "      <td>PB</td>\n",
       "      <td>MOGEIRO</td>\n",
       "      <td>2025</td>\n",
       "      <td>2509404</td>\n",
       "      <td>MOGEIRO</td>\n",
       "      <td>0.9988</td>\n",
       "      <td>99.88</td>\n",
       "      <td>0.9960</td>\n",
       "      <td>99.60</td>\n",
       "      <td>0.9851</td>\n",
       "      <td>98.51</td>\n",
       "    </tr>\n",
       "    <tr>\n",
       "      <th>14</th>\n",
       "      <td>MONTES CLAROS</td>\n",
       "      <td>MG</td>\n",
       "      <td>MONTES CLAROS</td>\n",
       "      <td>2025</td>\n",
       "      <td>3143302</td>\n",
       "      <td>MONTES CLAROS</td>\n",
       "      <td>0.9979</td>\n",
       "      <td>99.79</td>\n",
       "      <td>0.9631</td>\n",
       "      <td>96.31</td>\n",
       "      <td>0.8871</td>\n",
       "      <td>88.71</td>\n",
       "    </tr>\n",
       "    <tr>\n",
       "      <th>15</th>\n",
       "      <td>QUEIMADAS</td>\n",
       "      <td>PB</td>\n",
       "      <td>QUEIMADAS</td>\n",
       "      <td>2025</td>\n",
       "      <td>2512507</td>\n",
       "      <td>QUEIMADAS</td>\n",
       "      <td>1.0</td>\n",
       "      <td>100.0</td>\n",
       "      <td>0.9702</td>\n",
       "      <td>97.02</td>\n",
       "      <td>0.7564</td>\n",
       "      <td>75.64</td>\n",
       "    </tr>\n",
       "    <tr>\n",
       "      <th>16</th>\n",
       "      <td>SANTA RITA</td>\n",
       "      <td>PB</td>\n",
       "      <td>SANTA RITA</td>\n",
       "      <td>2025</td>\n",
       "      <td>2513703</td>\n",
       "      <td>SANTA RITA</td>\n",
       "      <td>0.9271</td>\n",
       "      <td>92.71</td>\n",
       "      <td>0.8197</td>\n",
       "      <td>81.97</td>\n",
       "      <td>0.8244</td>\n",
       "      <td>82.44</td>\n",
       "    </tr>\n",
       "    <tr>\n",
       "      <th>17</th>\n",
       "      <td>SÃO PAULO</td>\n",
       "      <td>SP</td>\n",
       "      <td>SAO PAULO</td>\n",
       "      <td>2025</td>\n",
       "      <td>3550308</td>\n",
       "      <td>SÃO PAULO</td>\n",
       "      <td>0.9936</td>\n",
       "      <td>99.36</td>\n",
       "      <td>0.9714</td>\n",
       "      <td>97.14</td>\n",
       "      <td>0.9324</td>\n",
       "      <td>93.24</td>\n",
       "    </tr>\n",
       "    <tr>\n",
       "      <th>18</th>\n",
       "      <td>SERRA REDONDA</td>\n",
       "      <td>PB</td>\n",
       "      <td>SERRA REDONDA</td>\n",
       "      <td>2025</td>\n",
       "      <td>2515807</td>\n",
       "      <td>SERRA REDONDA</td>\n",
       "      <td>0.9162</td>\n",
       "      <td>91.62</td>\n",
       "      <td>0.7574</td>\n",
       "      <td>75.74</td>\n",
       "      <td>0.8278</td>\n",
       "      <td>82.78</td>\n",
       "    </tr>\n",
       "  </tbody>\n",
       "</table>\n",
       "</div>"
      ],
      "text/plain": [
       "   MUNICIPIO_NOME_ALP UF_SIGLA  MUNICIPIO_CHAVE FONTE_ABA MUNICIPIO_CODIGO  \\\n",
       "0         ALAGOA NOVA       PB      ALAGOA NOVA      2025          2500403   \n",
       "1     BAÍA DA TRAIÇÃO       PB  BAIA DA TRAICAO      2025          2501401   \n",
       "2          BANANEIRAS       PB       BANANEIRAS      2025          2501500   \n",
       "3          CABACEIRAS       PB       CABACEIRAS      2025          2503100   \n",
       "4      CAMPINA GRANDE       PB   CAMPINA GRANDE      2025          2504009   \n",
       "6             CARPINA       PE          CARPINA      2025          2604007   \n",
       "7            CATURITÉ       PB         CATURITE      2025          2504355   \n",
       "8           GUARABIRA       PB        GUARABIRA      2025          2506301   \n",
       "9                INGÁ       PB             INGA      2025          2506806   \n",
       "10            ITATUBA       PB          ITATUBA      2025          2507200   \n",
       "11        JOÃO PESSOA       PB      JOAO PESSOA      2025          2507507   \n",
       "12         LAGOA SECA       PB       LAGOA SECA      2025          2508307   \n",
       "13            MOGEIRO       PB          MOGEIRO      2025          2509404   \n",
       "14      MONTES CLAROS       MG    MONTES CLAROS      2025          3143302   \n",
       "15          QUEIMADAS       PB        QUEIMADAS      2025          2512507   \n",
       "16         SANTA RITA       PB       SANTA RITA      2025          2513703   \n",
       "17          SÃO PAULO       SP        SAO PAULO      2025          3550308   \n",
       "18      SERRA REDONDA       PB    SERRA REDONDA      2025          2515807   \n",
       "\n",
       "     MUNICIPIO_NOME TAXA_APROVACAO_INICIAIS TAXA_APROVACAO_INICIAIS_%  \\\n",
       "0       ALAGOA NOVA                  0.9703                     97.03   \n",
       "1   BAÍA DA TRAIÇÃO                  0.9066                     90.66   \n",
       "2        BANANEIRAS                  0.9713                     97.13   \n",
       "3        CABACEIRAS                     1.0                     100.0   \n",
       "4    CAMPINA GRANDE                  0.9819                     98.19   \n",
       "6           CARPINA                  0.9797                     97.97   \n",
       "7          CATURITÉ                  0.9773                     97.73   \n",
       "8         GUARABIRA                  0.9643                     96.43   \n",
       "9              INGÁ                  0.9843                     98.43   \n",
       "10          ITATUBA                  0.9866                     98.66   \n",
       "11      JOÃO PESSOA                  0.9449                     94.49   \n",
       "12       LAGOA SECA                  0.9902                     99.02   \n",
       "13          MOGEIRO                  0.9988                     99.88   \n",
       "14    MONTES CLAROS                  0.9979                     99.79   \n",
       "15        QUEIMADAS                     1.0                     100.0   \n",
       "16       SANTA RITA                  0.9271                     92.71   \n",
       "17        SÃO PAULO                  0.9936                     99.36   \n",
       "18    SERRA REDONDA                  0.9162                     91.62   \n",
       "\n",
       "    TAXA_APROVACAO_FINAIS  TAXA_APROVACAO_FINAIS_%  TAXA_APROVACAO_MEDIO  \\\n",
       "0                  0.8187                    81.87                0.8093   \n",
       "1                  0.8661                    86.61                0.9140   \n",
       "2                  0.8612                    86.12                0.7868   \n",
       "3                  0.9897                    98.97                0.9543   \n",
       "4                  0.8416                    84.16                0.8366   \n",
       "6                  0.9234                    92.34                0.9594   \n",
       "7                  0.8953                    89.53                0.8899   \n",
       "8                  0.9107                    91.07                0.9269   \n",
       "9                  0.8970                    89.70                1.0000   \n",
       "10                 0.9584                    95.84                0.8316   \n",
       "11                 0.8333                    83.33                0.8130   \n",
       "12                 0.8672                    86.72                0.7489   \n",
       "13                 0.9960                    99.60                0.9851   \n",
       "14                 0.9631                    96.31                0.8871   \n",
       "15                 0.9702                    97.02                0.7564   \n",
       "16                 0.8197                    81.97                0.8244   \n",
       "17                 0.9714                    97.14                0.9324   \n",
       "18                 0.7574                    75.74                0.8278   \n",
       "\n",
       "    TAXA_APROVACAO_MEDIO_%  \n",
       "0                    80.93  \n",
       "1                    91.40  \n",
       "2                    78.68  \n",
       "3                    95.43  \n",
       "4                    83.66  \n",
       "6                    95.94  \n",
       "7                    88.99  \n",
       "8                    92.69  \n",
       "9                   100.00  \n",
       "10                   83.16  \n",
       "11                   81.30  \n",
       "12                   74.89  \n",
       "13                   98.51  \n",
       "14                   88.71  \n",
       "15                   75.64  \n",
       "16                   82.44  \n",
       "17                   93.24  \n",
       "18                   82.78  "
      ]
     },
     "execution_count": 12,
     "metadata": {},
     "output_type": "execute_result"
    }
   ],
   "source": [
    "res.head(20)"
   ]
  },
  {
   "cell_type": "code",
   "execution_count": 13,
   "id": "4ff2059c",
   "metadata": {},
   "outputs": [
    {
     "data": {
      "text/html": [
       "<div>\n",
       "<style scoped>\n",
       "    .dataframe tbody tr th:only-of-type {\n",
       "        vertical-align: middle;\n",
       "    }\n",
       "\n",
       "    .dataframe tbody tr th {\n",
       "        vertical-align: top;\n",
       "    }\n",
       "\n",
       "    .dataframe thead th {\n",
       "        text-align: right;\n",
       "    }\n",
       "</style>\n",
       "<table border=\"1\" class=\"dataframe\">\n",
       "  <thead>\n",
       "    <tr style=\"text-align: right;\">\n",
       "      <th></th>\n",
       "      <th>TAXA_APROVACAO_INICIAIS_%</th>\n",
       "      <th>TAXA_APROVACAO_FINAIS_%</th>\n",
       "      <th>TAXA_APROVACAO_MEDIO_%</th>\n",
       "    </tr>\n",
       "    <tr>\n",
       "      <th>UF_SIGLA</th>\n",
       "      <th></th>\n",
       "      <th></th>\n",
       "      <th></th>\n",
       "    </tr>\n",
       "  </thead>\n",
       "  <tbody>\n",
       "    <tr>\n",
       "      <th>MG</th>\n",
       "      <td>99.79</td>\n",
       "      <td>96.31</td>\n",
       "      <td>88.71</td>\n",
       "    </tr>\n",
       "    <tr>\n",
       "      <th>SP</th>\n",
       "      <td>99.36</td>\n",
       "      <td>97.14</td>\n",
       "      <td>93.24</td>\n",
       "    </tr>\n",
       "    <tr>\n",
       "      <th>PE</th>\n",
       "      <td>97.97</td>\n",
       "      <td>92.34</td>\n",
       "      <td>95.94</td>\n",
       "    </tr>\n",
       "    <tr>\n",
       "      <th>PB</th>\n",
       "      <td>96.80</td>\n",
       "      <td>88.55</td>\n",
       "      <td>86.03</td>\n",
       "    </tr>\n",
       "  </tbody>\n",
       "</table>\n",
       "</div>"
      ],
      "text/plain": [
       "          TAXA_APROVACAO_INICIAIS_%  TAXA_APROVACAO_FINAIS_%  \\\n",
       "UF_SIGLA                                                       \n",
       "MG                            99.79                    96.31   \n",
       "SP                            99.36                    97.14   \n",
       "PE                            97.97                    92.34   \n",
       "PB                            96.80                    88.55   \n",
       "\n",
       "          TAXA_APROVACAO_MEDIO_%  \n",
       "UF_SIGLA                          \n",
       "MG                         88.71  \n",
       "SP                         93.24  \n",
       "PE                         95.94  \n",
       "PB                         86.03  "
      ]
     },
     "metadata": {},
     "output_type": "display_data"
    }
   ],
   "source": [
    "# Garantir que as colunas sejam numéricas\n",
    "for col in [\"TAXA_APROVACAO_INICIAIS_%\", \"TAXA_APROVACAO_FINAIS_%\", \"TAXA_APROVACAO_MEDIO_%\"]:\n",
    "    res[col] = pd.to_numeric(res[col], errors=\"coerce\")\n",
    "\n",
    "# Resumo por estado\n",
    "tabela_uf = (\n",
    "    res.groupby(\"UF_SIGLA\")[[\"TAXA_APROVACAO_INICIAIS_%\", \"TAXA_APROVACAO_FINAIS_%\", \"TAXA_APROVACAO_MEDIO_%\"]]\n",
    "    .mean()\n",
    "    .round(2)\n",
    "    .sort_values(\"TAXA_APROVACAO_INICIAIS_%\", ascending=False)\n",
    ")\n",
    "\n",
    "display(tabela_uf)\n"
   ]
  },
  {
   "cell_type": "code",
   "execution_count": 14,
   "id": "7128cb44",
   "metadata": {},
   "outputs": [
    {
     "data": {
      "image/png": "[encoded data removed]",
      "text/plain": [
       "<Figure size 1200x600 with 1 Axes>"
      ]
     },
     "metadata": {},
     "output_type": "display_data"
    }
   ],
   "source": [
    "import matplotlib.pyplot as plt\n",
    "\n",
    "tabela_uf.plot(kind=\"bar\", figsize=(12,6))\n",
    "plt.title(\"Taxa média de aprovação por UF e etapa de ensino (2023)\")\n",
    "plt.ylabel(\"Taxa de aprovação (%)\")\n",
    "plt.xlabel(\"UF\")\n",
    "plt.xticks(rotation=45)\n",
    "\n",
    "# Legenda fora do gráfico, no lado direito\n",
    "plt.legend(title=\"Etapa de Ensino\", bbox_to_anchor=(1.05, 1), loc=\"upper left\")\n",
    "\n",
    "plt.tight_layout()\n",
    "plt.show()\n",
    "\n",
    "# Queda normal da média de aprovação ao longo dos anos escolares\n",
    "# Entretanto, uma diferença perceptível dessa queda no estado da Paraíba\n"
   ]
  },
  {
   "cell_type": "code",
   "execution_count": 15,
   "id": "edf87464",
   "metadata": {},
   "outputs": [
    {
     "data": {
      "image/png": "[encoded data removed]",
      "text/plain": [
       "<Figure size 800x500 with 1 Axes>"
      ]
     },
     "metadata": {},
     "output_type": "display_data"
    }
   ],
   "source": [
    "plt.figure(figsize=(8,5))\n",
    "\n",
    "# Criar o boxplot e capturar o Axes\n",
    "ax = res[[\"TAXA_APROVACAO_INICIAIS_%\", \"TAXA_APROVACAO_FINAIS_%\", \"TAXA_APROVACAO_MEDIO_%\"]].boxplot(\n",
    "    patch_artist=True,\n",
    "    return_type='axes'\n",
    ")\n",
    "\n",
    "# Definir cores para cada caixa\n",
    "cores = [\"#66c2a5\", \"#fc8d62\", \"#8da0cb\"]\n",
    "for patch, cor in zip(ax.artists, cores):\n",
    "    patch.set_facecolor(cor)\n",
    "\n",
    "# Ajustar título e rótulos\n",
    "plt.title(\"Distribuição das taxas de aprovação por etapa de ensino\")\n",
    "plt.ylabel(\"Taxa de aprovação (%)\")\n",
    "plt.xticks(rotation=20, ha=\"right\")\n",
    "\n",
    "plt.tight_layout()\n",
    "plt.show()\n",
    "\n",
    "# Percebemos a brusca queda das aprovações com base no nível de dificuldade do ensino\n",
    "# Aprovação em massa dos anos iniciais, beirando os 100% e queda rápida ao entrar nos anos finais do fundamental e no ensino médio (Quando acontece a maiortaxa de evasão)\n"
   ]
  },
  {
   "cell_type": "code",
   "execution_count": 16,
   "id": "46b9dd67",
   "metadata": {},
   "outputs": [
    {
     "data": {
      "image/png": "[encoded data removed]",
      "text/plain": [
       "<Figure size 600x400 with 2 Axes>"
      ]
     },
     "metadata": {},
     "output_type": "display_data"
    }
   ],
   "source": [
    "import seaborn as sns\n",
    "\n",
    "plt.figure(figsize=(6,4))\n",
    "corr = res[[\"TAXA_APROVACAO_INICIAIS_%\", \"TAXA_APROVACAO_FINAIS_%\", \"TAXA_APROVACAO_MEDIO_%\"]].corr()\n",
    "sns.heatmap(corr, annot=True, cmap=\"Blues\", fmt=\".2f\")\n",
    "plt.title(\"Correlação entre as taxas de aprovação\")\n",
    "plt.show()\n",
    "\n",
    "# Vemos que a aprovação que mais se correlaciona com as outras é a aprovação dos anos finais\n",
    "# Também percebemos a baixissima correlação da aprovação dos anos iniciais com o ensino médio, devido ao nível de ambas "
   ]
  },
  {
   "cell_type": "code",
   "execution_count": 17,
   "id": "44861422",
   "metadata": {},
   "outputs": [],
   "source": [
    "caminho_evasao = r\"C:\\Users\\pedro\\OneDrive\\Documentos\\Análise dados\\alpargatas\\TX_TRANSICAO_MUNICIPIOS_2021_2022.ods\"\n",
    "df_evasao = pd.read_excel(caminho_evasao, header = 8)\n"
   ]
  },
  {
   "cell_type": "code",
   "execution_count": 18,
   "id": "eab1975d",
   "metadata": {},
   "outputs": [
    {
     "data": {
      "text/html": [
       "<div>\n",
       "<style scoped>\n",
       "    .dataframe tbody tr th:only-of-type {\n",
       "        vertical-align: middle;\n",
       "    }\n",
       "\n",
       "    .dataframe tbody tr th {\n",
       "        vertical-align: top;\n",
       "    }\n",
       "\n",
       "    .dataframe thead th {\n",
       "        text-align: right;\n",
       "    }\n",
       "</style>\n",
       "<table border=\"1\" class=\"dataframe\">\n",
       "  <thead>\n",
       "    <tr style=\"text-align: right;\">\n",
       "      <th></th>\n",
       "      <th>NU_ANO_C+A11+A+A6:A9</th>\n",
       "      <th>NO_REGIAO</th>\n",
       "      <th>NO_UF</th>\n",
       "      <th>CO_MUNICIPIO</th>\n",
       "      <th>NO_MUNICIPIO</th>\n",
       "      <th>NO_LOCALIZACAO</th>\n",
       "      <th>NO_DEPENDENCIA</th>\n",
       "      <th>1_CAT1_CATFUN</th>\n",
       "      <th>1_CAT1_CATFUN_AI</th>\n",
       "      <th>1_CAT1_CATFUN_AF</th>\n",
       "      <th>...</th>\n",
       "      <th>1_CAT4_CATFUN_04</th>\n",
       "      <th>1_CAT4_CATFUN_05</th>\n",
       "      <th>1_CAT4_CATFUN_06</th>\n",
       "      <th>1_CAT4_CATFUN_07</th>\n",
       "      <th>1_CAT4_CATFUN_08</th>\n",
       "      <th>1_CAT4_CATFUN_09</th>\n",
       "      <th>1_CAT4_CATMED</th>\n",
       "      <th>1_CAT4_CATMED_01</th>\n",
       "      <th>1_CAT4_CATMED_02</th>\n",
       "      <th>1_CAT4_CATMED_03</th>\n",
       "    </tr>\n",
       "  </thead>\n",
       "  <tbody>\n",
       "    <tr>\n",
       "      <th>0</th>\n",
       "      <td>2021/2022</td>\n",
       "      <td>Norte</td>\n",
       "      <td>RO</td>\n",
       "      <td>1100015.0</td>\n",
       "      <td>Alta Floresta D'Oeste</td>\n",
       "      <td>Total</td>\n",
       "      <td>Total</td>\n",
       "      <td>92.3</td>\n",
       "      <td>94.3</td>\n",
       "      <td>90.4</td>\n",
       "      <td>...</td>\n",
       "      <td>0</td>\n",
       "      <td>0</td>\n",
       "      <td>0.3</td>\n",
       "      <td>0.4</td>\n",
       "      <td>1.4</td>\n",
       "      <td>1.2</td>\n",
       "      <td>2.3</td>\n",
       "      <td>2.9</td>\n",
       "      <td>3.1</td>\n",
       "      <td>0.4</td>\n",
       "    </tr>\n",
       "    <tr>\n",
       "      <th>1</th>\n",
       "      <td>2021/2022</td>\n",
       "      <td>Norte</td>\n",
       "      <td>RO</td>\n",
       "      <td>1100015.0</td>\n",
       "      <td>Alta Floresta D'Oeste</td>\n",
       "      <td>Total</td>\n",
       "      <td>Pública</td>\n",
       "      <td>92.3</td>\n",
       "      <td>94.3</td>\n",
       "      <td>90.4</td>\n",
       "      <td>...</td>\n",
       "      <td>0</td>\n",
       "      <td>0</td>\n",
       "      <td>0.3</td>\n",
       "      <td>0.4</td>\n",
       "      <td>1.4</td>\n",
       "      <td>1.2</td>\n",
       "      <td>2.3</td>\n",
       "      <td>2.9</td>\n",
       "      <td>3.1</td>\n",
       "      <td>0.4</td>\n",
       "    </tr>\n",
       "    <tr>\n",
       "      <th>2</th>\n",
       "      <td>2021/2022</td>\n",
       "      <td>Norte</td>\n",
       "      <td>RO</td>\n",
       "      <td>1100015.0</td>\n",
       "      <td>Alta Floresta D'Oeste</td>\n",
       "      <td>Urbana</td>\n",
       "      <td>Total</td>\n",
       "      <td>93.2</td>\n",
       "      <td>95</td>\n",
       "      <td>91.6</td>\n",
       "      <td>...</td>\n",
       "      <td>0</td>\n",
       "      <td>0</td>\n",
       "      <td>0.2</td>\n",
       "      <td>0.6</td>\n",
       "      <td>1.7</td>\n",
       "      <td>1.2</td>\n",
       "      <td>2.2</td>\n",
       "      <td>2.6</td>\n",
       "      <td>3.3</td>\n",
       "      <td>0.4</td>\n",
       "    </tr>\n",
       "    <tr>\n",
       "      <th>3</th>\n",
       "      <td>2021/2022</td>\n",
       "      <td>Norte</td>\n",
       "      <td>RO</td>\n",
       "      <td>1100015.0</td>\n",
       "      <td>Alta Floresta D'Oeste</td>\n",
       "      <td>Rural</td>\n",
       "      <td>Total</td>\n",
       "      <td>88</td>\n",
       "      <td>91.1</td>\n",
       "      <td>84.9</td>\n",
       "      <td>...</td>\n",
       "      <td>0</td>\n",
       "      <td>0</td>\n",
       "      <td>0</td>\n",
       "      <td>0</td>\n",
       "      <td>0</td>\n",
       "      <td>1.5</td>\n",
       "      <td>2.1</td>\n",
       "      <td>20</td>\n",
       "      <td>0</td>\n",
       "      <td>0</td>\n",
       "    </tr>\n",
       "    <tr>\n",
       "      <th>4</th>\n",
       "      <td>2021/2022</td>\n",
       "      <td>Norte</td>\n",
       "      <td>RO</td>\n",
       "      <td>1100023.0</td>\n",
       "      <td>Ariquemes</td>\n",
       "      <td>Total</td>\n",
       "      <td>Total</td>\n",
       "      <td>89.9</td>\n",
       "      <td>87.3</td>\n",
       "      <td>92.8</td>\n",
       "      <td>...</td>\n",
       "      <td>0.1</td>\n",
       "      <td>0.2</td>\n",
       "      <td>0.5</td>\n",
       "      <td>0.6</td>\n",
       "      <td>1.1</td>\n",
       "      <td>0.8</td>\n",
       "      <td>3.8</td>\n",
       "      <td>2.5</td>\n",
       "      <td>7.3</td>\n",
       "      <td>1.1</td>\n",
       "    </tr>\n",
       "    <tr>\n",
       "      <th>5</th>\n",
       "      <td>2021/2022</td>\n",
       "      <td>Norte</td>\n",
       "      <td>RO</td>\n",
       "      <td>1100023.0</td>\n",
       "      <td>Ariquemes</td>\n",
       "      <td>Total</td>\n",
       "      <td>Pública</td>\n",
       "      <td>88.8</td>\n",
       "      <td>85.7</td>\n",
       "      <td>92.2</td>\n",
       "      <td>...</td>\n",
       "      <td>0.1</td>\n",
       "      <td>0.2</td>\n",
       "      <td>0.5</td>\n",
       "      <td>0.7</td>\n",
       "      <td>1.2</td>\n",
       "      <td>0.9</td>\n",
       "      <td>3.9</td>\n",
       "      <td>2.6</td>\n",
       "      <td>7.6</td>\n",
       "      <td>1.1</td>\n",
       "    </tr>\n",
       "    <tr>\n",
       "      <th>6</th>\n",
       "      <td>2021/2022</td>\n",
       "      <td>Norte</td>\n",
       "      <td>RO</td>\n",
       "      <td>1100023.0</td>\n",
       "      <td>Ariquemes</td>\n",
       "      <td>Total</td>\n",
       "      <td>Privada</td>\n",
       "      <td>98.5</td>\n",
       "      <td>98.8</td>\n",
       "      <td>98.1</td>\n",
       "      <td>...</td>\n",
       "      <td>0</td>\n",
       "      <td>0</td>\n",
       "      <td>0</td>\n",
       "      <td>0</td>\n",
       "      <td>0</td>\n",
       "      <td>0</td>\n",
       "      <td>0</td>\n",
       "      <td>0</td>\n",
       "      <td>0</td>\n",
       "      <td>0</td>\n",
       "    </tr>\n",
       "    <tr>\n",
       "      <th>7</th>\n",
       "      <td>2021/2022</td>\n",
       "      <td>Norte</td>\n",
       "      <td>RO</td>\n",
       "      <td>1100023.0</td>\n",
       "      <td>Ariquemes</td>\n",
       "      <td>Urbana</td>\n",
       "      <td>Total</td>\n",
       "      <td>90.4</td>\n",
       "      <td>87.5</td>\n",
       "      <td>93.6</td>\n",
       "      <td>...</td>\n",
       "      <td>0.1</td>\n",
       "      <td>0.2</td>\n",
       "      <td>0.5</td>\n",
       "      <td>0.6</td>\n",
       "      <td>1.1</td>\n",
       "      <td>0.8</td>\n",
       "      <td>4.4</td>\n",
       "      <td>3.1</td>\n",
       "      <td>8.3</td>\n",
       "      <td>0.6</td>\n",
       "    </tr>\n",
       "    <tr>\n",
       "      <th>8</th>\n",
       "      <td>2021/2022</td>\n",
       "      <td>Norte</td>\n",
       "      <td>RO</td>\n",
       "      <td>1100023.0</td>\n",
       "      <td>Ariquemes</td>\n",
       "      <td>Rural</td>\n",
       "      <td>Total</td>\n",
       "      <td>86.2</td>\n",
       "      <td>85.5</td>\n",
       "      <td>86.9</td>\n",
       "      <td>...</td>\n",
       "      <td>0</td>\n",
       "      <td>0</td>\n",
       "      <td>0.4</td>\n",
       "      <td>1</td>\n",
       "      <td>0.4</td>\n",
       "      <td>0.6</td>\n",
       "      <td>1.6</td>\n",
       "      <td>0.2</td>\n",
       "      <td>2.4</td>\n",
       "      <td>2.7</td>\n",
       "    </tr>\n",
       "    <tr>\n",
       "      <th>9</th>\n",
       "      <td>2021/2022</td>\n",
       "      <td>Norte</td>\n",
       "      <td>RO</td>\n",
       "      <td>1100031.0</td>\n",
       "      <td>Cabixi</td>\n",
       "      <td>Total</td>\n",
       "      <td>Total</td>\n",
       "      <td>95</td>\n",
       "      <td>94.1</td>\n",
       "      <td>95.9</td>\n",
       "      <td>...</td>\n",
       "      <td>0</td>\n",
       "      <td>0</td>\n",
       "      <td>0</td>\n",
       "      <td>0</td>\n",
       "      <td>0</td>\n",
       "      <td>0</td>\n",
       "      <td>2.1</td>\n",
       "      <td>3</td>\n",
       "      <td>2.9</td>\n",
       "      <td>0</td>\n",
       "    </tr>\n",
       "  </tbody>\n",
       "</table>\n",
       "<p>10 rows × 71 columns</p>\n",
       "</div>"
      ],
      "text/plain": [
       "  NU_ANO_C+A11+A+A6:A9 NO_REGIAO NO_UF  CO_MUNICIPIO           NO_MUNICIPIO  \\\n",
       "0            2021/2022     Norte    RO     1100015.0  Alta Floresta D'Oeste   \n",
       "1            2021/2022     Norte    RO     1100015.0  Alta Floresta D'Oeste   \n",
       "2            2021/2022     Norte    RO     1100015.0  Alta Floresta D'Oeste   \n",
       "3            2021/2022     Norte    RO     1100015.0  Alta Floresta D'Oeste   \n",
       "4            2021/2022     Norte    RO     1100023.0              Ariquemes   \n",
       "5            2021/2022     Norte    RO     1100023.0              Ariquemes   \n",
       "6            2021/2022     Norte    RO     1100023.0              Ariquemes   \n",
       "7            2021/2022     Norte    RO     1100023.0              Ariquemes   \n",
       "8            2021/2022     Norte    RO     1100023.0              Ariquemes   \n",
       "9            2021/2022     Norte    RO     1100031.0                 Cabixi   \n",
       "\n",
       "  NO_LOCALIZACAO NO_DEPENDENCIA 1_CAT1_CATFUN 1_CAT1_CATFUN_AI  \\\n",
       "0          Total          Total          92.3             94.3   \n",
       "1          Total        Pública          92.3             94.3   \n",
       "2         Urbana          Total          93.2               95   \n",
       "3          Rural          Total            88             91.1   \n",
       "4          Total          Total          89.9             87.3   \n",
       "5          Total        Pública          88.8             85.7   \n",
       "6          Total        Privada          98.5             98.8   \n",
       "7         Urbana          Total          90.4             87.5   \n",
       "8          Rural          Total          86.2             85.5   \n",
       "9          Total          Total            95             94.1   \n",
       "\n",
       "  1_CAT1_CATFUN_AF  ... 1_CAT4_CATFUN_04 1_CAT4_CATFUN_05 1_CAT4_CATFUN_06  \\\n",
       "0             90.4  ...                0                0              0.3   \n",
       "1             90.4  ...                0                0              0.3   \n",
       "2             91.6  ...                0                0              0.2   \n",
       "3             84.9  ...                0                0                0   \n",
       "4             92.8  ...              0.1              0.2              0.5   \n",
       "5             92.2  ...              0.1              0.2              0.5   \n",
       "6             98.1  ...                0                0                0   \n",
       "7             93.6  ...              0.1              0.2              0.5   \n",
       "8             86.9  ...                0                0              0.4   \n",
       "9             95.9  ...                0                0                0   \n",
       "\n",
       "  1_CAT4_CATFUN_07 1_CAT4_CATFUN_08 1_CAT4_CATFUN_09 1_CAT4_CATMED  \\\n",
       "0              0.4              1.4              1.2           2.3   \n",
       "1              0.4              1.4              1.2           2.3   \n",
       "2              0.6              1.7              1.2           2.2   \n",
       "3                0                0              1.5           2.1   \n",
       "4              0.6              1.1              0.8           3.8   \n",
       "5              0.7              1.2              0.9           3.9   \n",
       "6                0                0                0             0   \n",
       "7              0.6              1.1              0.8           4.4   \n",
       "8                1              0.4              0.6           1.6   \n",
       "9                0                0                0           2.1   \n",
       "\n",
       "  1_CAT4_CATMED_01 1_CAT4_CATMED_02 1_CAT4_CATMED_03  \n",
       "0              2.9              3.1              0.4  \n",
       "1              2.9              3.1              0.4  \n",
       "2              2.6              3.3              0.4  \n",
       "3               20                0                0  \n",
       "4              2.5              7.3              1.1  \n",
       "5              2.6              7.6              1.1  \n",
       "6                0                0                0  \n",
       "7              3.1              8.3              0.6  \n",
       "8              0.2              2.4              2.7  \n",
       "9                3              2.9                0  \n",
       "\n",
       "[10 rows x 71 columns]"
      ]
     },
     "execution_count": 18,
     "metadata": {},
     "output_type": "execute_result"
    }
   ],
   "source": [
    "df_evasao.head(10)"
   ]
  },
  {
   "cell_type": "code",
   "execution_count": 19,
   "id": "ff241d81",
   "metadata": {},
   "outputs": [
    {
     "data": {
      "text/html": [
       "<div>\n",
       "<style scoped>\n",
       "    .dataframe tbody tr th:only-of-type {\n",
       "        vertical-align: middle;\n",
       "    }\n",
       "\n",
       "    .dataframe tbody tr th {\n",
       "        vertical-align: top;\n",
       "    }\n",
       "\n",
       "    .dataframe thead th {\n",
       "        text-align: right;\n",
       "    }\n",
       "</style>\n",
       "<table border=\"1\" class=\"dataframe\">\n",
       "  <thead>\n",
       "    <tr style=\"text-align: right;\">\n",
       "      <th></th>\n",
       "      <th>NO_REGIAO</th>\n",
       "      <th>NO_UF</th>\n",
       "      <th>CO_MUNICIPIO</th>\n",
       "      <th>NO_MUNICIPIO</th>\n",
       "      <th>NO_LOCALIZACAO</th>\n",
       "      <th>NO_DEPENDENCIA</th>\n",
       "      <th>1_CAT3_CATFUN</th>\n",
       "      <th>1_CAT3_CATFUN_AI</th>\n",
       "      <th>1_CAT3_CATFUN_01</th>\n",
       "      <th>1_CAT3_CATFUN_02</th>\n",
       "      <th>...</th>\n",
       "      <th>1_CAT3_CATFUN_04</th>\n",
       "      <th>1_CAT3_CATFUN_05</th>\n",
       "      <th>1_CAT3_CATFUN_06</th>\n",
       "      <th>1_CAT3_CATFUN_07</th>\n",
       "      <th>1_CAT3_CATFUN_08</th>\n",
       "      <th>1_CAT3_CATFUN_09</th>\n",
       "      <th>1_CAT3_CATMED</th>\n",
       "      <th>1_CAT3_CATMED_01</th>\n",
       "      <th>1_CAT3_CATMED_02</th>\n",
       "      <th>1_CAT3_CATMED_03</th>\n",
       "    </tr>\n",
       "  </thead>\n",
       "  <tbody>\n",
       "    <tr>\n",
       "      <th>0</th>\n",
       "      <td>Norte</td>\n",
       "      <td>RO</td>\n",
       "      <td>1100015.0</td>\n",
       "      <td>Alta Floresta D'Oeste</td>\n",
       "      <td>Total</td>\n",
       "      <td>Total</td>\n",
       "      <td>3.8</td>\n",
       "      <td>1.5</td>\n",
       "      <td>0.7</td>\n",
       "      <td>1.4</td>\n",
       "      <td>...</td>\n",
       "      <td>1</td>\n",
       "      <td>2.9</td>\n",
       "      <td>3.2</td>\n",
       "      <td>4.6</td>\n",
       "      <td>5.5</td>\n",
       "      <td>11</td>\n",
       "      <td>13.6</td>\n",
       "      <td>15.4</td>\n",
       "      <td>17.4</td>\n",
       "      <td>6.5</td>\n",
       "    </tr>\n",
       "    <tr>\n",
       "      <th>1</th>\n",
       "      <td>Norte</td>\n",
       "      <td>RO</td>\n",
       "      <td>1100015.0</td>\n",
       "      <td>Alta Floresta D'Oeste</td>\n",
       "      <td>Total</td>\n",
       "      <td>Pública</td>\n",
       "      <td>3.8</td>\n",
       "      <td>1.5</td>\n",
       "      <td>0.7</td>\n",
       "      <td>1.4</td>\n",
       "      <td>...</td>\n",
       "      <td>1</td>\n",
       "      <td>2.9</td>\n",
       "      <td>3.2</td>\n",
       "      <td>4.6</td>\n",
       "      <td>5.5</td>\n",
       "      <td>11</td>\n",
       "      <td>13.6</td>\n",
       "      <td>15.4</td>\n",
       "      <td>17.4</td>\n",
       "      <td>6.5</td>\n",
       "    </tr>\n",
       "    <tr>\n",
       "      <th>2</th>\n",
       "      <td>Norte</td>\n",
       "      <td>RO</td>\n",
       "      <td>1100015.0</td>\n",
       "      <td>Alta Floresta D'Oeste</td>\n",
       "      <td>Urbana</td>\n",
       "      <td>Total</td>\n",
       "      <td>3.8</td>\n",
       "      <td>1.8</td>\n",
       "      <td>0.9</td>\n",
       "      <td>1.5</td>\n",
       "      <td>...</td>\n",
       "      <td>1.3</td>\n",
       "      <td>3.2</td>\n",
       "      <td>3.4</td>\n",
       "      <td>4.4</td>\n",
       "      <td>5.9</td>\n",
       "      <td>8.7</td>\n",
       "      <td>13.1</td>\n",
       "      <td>14.5</td>\n",
       "      <td>16.8</td>\n",
       "      <td>6.6</td>\n",
       "    </tr>\n",
       "    <tr>\n",
       "      <th>3</th>\n",
       "      <td>Norte</td>\n",
       "      <td>RO</td>\n",
       "      <td>1100015.0</td>\n",
       "      <td>Alta Floresta D'Oeste</td>\n",
       "      <td>Rural</td>\n",
       "      <td>Total</td>\n",
       "      <td>4</td>\n",
       "      <td>0.3</td>\n",
       "      <td>0</td>\n",
       "      <td>0</td>\n",
       "      <td>...</td>\n",
       "      <td>0</td>\n",
       "      <td>1.3</td>\n",
       "      <td>2.5</td>\n",
       "      <td>5.1</td>\n",
       "      <td>3.4</td>\n",
       "      <td>21.7</td>\n",
       "      <td>22.4</td>\n",
       "      <td>80</td>\n",
       "      <td>24</td>\n",
       "      <td>5.3</td>\n",
       "    </tr>\n",
       "    <tr>\n",
       "      <th>4</th>\n",
       "      <td>Norte</td>\n",
       "      <td>RO</td>\n",
       "      <td>1100023.0</td>\n",
       "      <td>Ariquemes</td>\n",
       "      <td>Total</td>\n",
       "      <td>Total</td>\n",
       "      <td>3.3</td>\n",
       "      <td>2</td>\n",
       "      <td>1.6</td>\n",
       "      <td>1.7</td>\n",
       "      <td>...</td>\n",
       "      <td>2.4</td>\n",
       "      <td>2.4</td>\n",
       "      <td>3.3</td>\n",
       "      <td>3.9</td>\n",
       "      <td>4.5</td>\n",
       "      <td>7.3</td>\n",
       "      <td>10.8</td>\n",
       "      <td>9.6</td>\n",
       "      <td>17.4</td>\n",
       "      <td>4</td>\n",
       "    </tr>\n",
       "    <tr>\n",
       "      <th>5</th>\n",
       "      <td>Norte</td>\n",
       "      <td>RO</td>\n",
       "      <td>1100023.0</td>\n",
       "      <td>Ariquemes</td>\n",
       "      <td>Total</td>\n",
       "      <td>Pública</td>\n",
       "      <td>3.6</td>\n",
       "      <td>2.2</td>\n",
       "      <td>1.9</td>\n",
       "      <td>1.9</td>\n",
       "      <td>...</td>\n",
       "      <td>2.5</td>\n",
       "      <td>2.6</td>\n",
       "      <td>3.6</td>\n",
       "      <td>3.9</td>\n",
       "      <td>5.1</td>\n",
       "      <td>7.8</td>\n",
       "      <td>11.1</td>\n",
       "      <td>9.9</td>\n",
       "      <td>18</td>\n",
       "      <td>4.1</td>\n",
       "    </tr>\n",
       "    <tr>\n",
       "      <th>6</th>\n",
       "      <td>Norte</td>\n",
       "      <td>RO</td>\n",
       "      <td>1100023.0</td>\n",
       "      <td>Ariquemes</td>\n",
       "      <td>Total</td>\n",
       "      <td>Privada</td>\n",
       "      <td>1.1</td>\n",
       "      <td>0.6</td>\n",
       "      <td>0</td>\n",
       "      <td>0.6</td>\n",
       "      <td>...</td>\n",
       "      <td>1.1</td>\n",
       "      <td>0.6</td>\n",
       "      <td>0.6</td>\n",
       "      <td>3.8</td>\n",
       "      <td>0.4</td>\n",
       "      <td>2.7</td>\n",
       "      <td>1.4</td>\n",
       "      <td>1.8</td>\n",
       "      <td>1.9</td>\n",
       "      <td>0</td>\n",
       "    </tr>\n",
       "    <tr>\n",
       "      <th>7</th>\n",
       "      <td>Norte</td>\n",
       "      <td>RO</td>\n",
       "      <td>1100023.0</td>\n",
       "      <td>Ariquemes</td>\n",
       "      <td>Urbana</td>\n",
       "      <td>Total</td>\n",
       "      <td>3</td>\n",
       "      <td>2</td>\n",
       "      <td>1.6</td>\n",
       "      <td>1.7</td>\n",
       "      <td>...</td>\n",
       "      <td>2.4</td>\n",
       "      <td>2.5</td>\n",
       "      <td>3.2</td>\n",
       "      <td>3.3</td>\n",
       "      <td>3.6</td>\n",
       "      <td>6.4</td>\n",
       "      <td>11</td>\n",
       "      <td>9.7</td>\n",
       "      <td>18.4</td>\n",
       "      <td>3</td>\n",
       "    </tr>\n",
       "    <tr>\n",
       "      <th>8</th>\n",
       "      <td>Norte</td>\n",
       "      <td>RO</td>\n",
       "      <td>1100023.0</td>\n",
       "      <td>Ariquemes</td>\n",
       "      <td>Rural</td>\n",
       "      <td>Total</td>\n",
       "      <td>5.4</td>\n",
       "      <td>1.7</td>\n",
       "      <td>0.9</td>\n",
       "      <td>0.8</td>\n",
       "      <td>...</td>\n",
       "      <td>1.9</td>\n",
       "      <td>1.9</td>\n",
       "      <td>3.8</td>\n",
       "      <td>7.8</td>\n",
       "      <td>11</td>\n",
       "      <td>14.4</td>\n",
       "      <td>9.9</td>\n",
       "      <td>9.6</td>\n",
       "      <td>12.9</td>\n",
       "      <td>7.4</td>\n",
       "    </tr>\n",
       "    <tr>\n",
       "      <th>9</th>\n",
       "      <td>Norte</td>\n",
       "      <td>RO</td>\n",
       "      <td>1100031.0</td>\n",
       "      <td>Cabixi</td>\n",
       "      <td>Total</td>\n",
       "      <td>Total</td>\n",
       "      <td>2.6</td>\n",
       "      <td>1</td>\n",
       "      <td>1.4</td>\n",
       "      <td>0</td>\n",
       "      <td>...</td>\n",
       "      <td>0</td>\n",
       "      <td>0.9</td>\n",
       "      <td>0.9</td>\n",
       "      <td>2</td>\n",
       "      <td>4</td>\n",
       "      <td>8.7</td>\n",
       "      <td>9.8</td>\n",
       "      <td>10.3</td>\n",
       "      <td>16.2</td>\n",
       "      <td>1.7</td>\n",
       "    </tr>\n",
       "  </tbody>\n",
       "</table>\n",
       "<p>10 rows × 21 columns</p>\n",
       "</div>"
      ],
      "text/plain": [
       "  NO_REGIAO NO_UF  CO_MUNICIPIO           NO_MUNICIPIO NO_LOCALIZACAO  \\\n",
       "0     Norte    RO     1100015.0  Alta Floresta D'Oeste          Total   \n",
       "1     Norte    RO     1100015.0  Alta Floresta D'Oeste          Total   \n",
       "2     Norte    RO     1100015.0  Alta Floresta D'Oeste         Urbana   \n",
       "3     Norte    RO     1100015.0  Alta Floresta D'Oeste          Rural   \n",
       "4     Norte    RO     1100023.0              Ariquemes          Total   \n",
       "5     Norte    RO     1100023.0              Ariquemes          Total   \n",
       "6     Norte    RO     1100023.0              Ariquemes          Total   \n",
       "7     Norte    RO     1100023.0              Ariquemes         Urbana   \n",
       "8     Norte    RO     1100023.0              Ariquemes          Rural   \n",
       "9     Norte    RO     1100031.0                 Cabixi          Total   \n",
       "\n",
       "  NO_DEPENDENCIA 1_CAT3_CATFUN 1_CAT3_CATFUN_AI 1_CAT3_CATFUN_01  \\\n",
       "0          Total           3.8              1.5              0.7   \n",
       "1        Pública           3.8              1.5              0.7   \n",
       "2          Total           3.8              1.8              0.9   \n",
       "3          Total             4              0.3                0   \n",
       "4          Total           3.3                2              1.6   \n",
       "5        Pública           3.6              2.2              1.9   \n",
       "6        Privada           1.1              0.6                0   \n",
       "7          Total             3                2              1.6   \n",
       "8          Total           5.4              1.7              0.9   \n",
       "9          Total           2.6                1              1.4   \n",
       "\n",
       "  1_CAT3_CATFUN_02  ... 1_CAT3_CATFUN_04 1_CAT3_CATFUN_05 1_CAT3_CATFUN_06  \\\n",
       "0              1.4  ...                1              2.9              3.2   \n",
       "1              1.4  ...                1              2.9              3.2   \n",
       "2              1.5  ...              1.3              3.2              3.4   \n",
       "3                0  ...                0              1.3              2.5   \n",
       "4              1.7  ...              2.4              2.4              3.3   \n",
       "5              1.9  ...              2.5              2.6              3.6   \n",
       "6              0.6  ...              1.1              0.6              0.6   \n",
       "7              1.7  ...              2.4              2.5              3.2   \n",
       "8              0.8  ...              1.9              1.9              3.8   \n",
       "9                0  ...                0              0.9              0.9   \n",
       "\n",
       "  1_CAT3_CATFUN_07 1_CAT3_CATFUN_08 1_CAT3_CATFUN_09 1_CAT3_CATMED  \\\n",
       "0              4.6              5.5               11          13.6   \n",
       "1              4.6              5.5               11          13.6   \n",
       "2              4.4              5.9              8.7          13.1   \n",
       "3              5.1              3.4             21.7          22.4   \n",
       "4              3.9              4.5              7.3          10.8   \n",
       "5              3.9              5.1              7.8          11.1   \n",
       "6              3.8              0.4              2.7           1.4   \n",
       "7              3.3              3.6              6.4            11   \n",
       "8              7.8               11             14.4           9.9   \n",
       "9                2                4              8.7           9.8   \n",
       "\n",
       "  1_CAT3_CATMED_01 1_CAT3_CATMED_02 1_CAT3_CATMED_03  \n",
       "0             15.4             17.4              6.5  \n",
       "1             15.4             17.4              6.5  \n",
       "2             14.5             16.8              6.6  \n",
       "3               80               24              5.3  \n",
       "4              9.6             17.4                4  \n",
       "5              9.9               18              4.1  \n",
       "6              1.8              1.9                0  \n",
       "7              9.7             18.4                3  \n",
       "8              9.6             12.9              7.4  \n",
       "9             10.3             16.2              1.7  \n",
       "\n",
       "[10 rows x 21 columns]"
      ]
     },
     "execution_count": 19,
     "metadata": {},
     "output_type": "execute_result"
    }
   ],
   "source": [
    "# selecionar apenas as colunas que você quer\n",
    "colunas_desejadas = [\n",
    "    \"NO_REGIAO\",\n",
    "    \"NO_UF\",\n",
    "    \"CO_MUNICIPIO\",\n",
    "    \"NO_MUNICIPIO\",\n",
    "    \"NO_LOCALIZACAO\",\n",
    "    \"NO_DEPENDENCIA\",\n",
    "    \"1_CAT3_CATFUN\",\n",
    "    \"1_CAT3_CATFUN_AI\",\n",
    "    \"1_CAT3_CATFUN_01\",\n",
    "    \"1_CAT3_CATFUN_02\",\n",
    "    \"1_CAT3_CATFUN_03\",\n",
    "    \"1_CAT3_CATFUN_04\",\n",
    "    \"1_CAT3_CATFUN_05\",\n",
    "    \"1_CAT3_CATFUN_06\",\n",
    "    \"1_CAT3_CATFUN_07\",\n",
    "    \"1_CAT3_CATFUN_08\",\n",
    "    \"1_CAT3_CATFUN_09\",\n",
    "    \"1_CAT3_CATMED\",\n",
    "    \"1_CAT3_CATMED_01\",\n",
    "    \"1_CAT3_CATMED_02\",\n",
    "    \"1_CAT3_CATMED_03\",\n",
    "\n",
    "]\n",
    "\n",
    "df_filtrado = df_evasao[colunas_desejadas]\n",
    "df_filtrado.head(10)\n"
   ]
  },
  {
   "cell_type": "code",
   "execution_count": 20,
   "id": "f33f6130",
   "metadata": {},
   "outputs": [
    {
     "data": {
      "text/html": [
       "<div>\n",
       "<style scoped>\n",
       "    .dataframe tbody tr th:only-of-type {\n",
       "        vertical-align: middle;\n",
       "    }\n",
       "\n",
       "    .dataframe tbody tr th {\n",
       "        vertical-align: top;\n",
       "    }\n",
       "\n",
       "    .dataframe thead th {\n",
       "        text-align: right;\n",
       "    }\n",
       "</style>\n",
       "<table border=\"1\" class=\"dataframe\">\n",
       "  <thead>\n",
       "    <tr style=\"text-align: right;\">\n",
       "      <th></th>\n",
       "      <th>NO_REGIAO</th>\n",
       "      <th>NO_UF</th>\n",
       "      <th>CO_MUNICIPIO</th>\n",
       "      <th>NO_MUNICIPIO</th>\n",
       "      <th>NO_LOCALIZACAO</th>\n",
       "      <th>NO_DEPENDENCIA</th>\n",
       "      <th>Fundamental - Total</th>\n",
       "      <th>Fundamental - Anos Iniciais</th>\n",
       "      <th>Fundamental - 1º Ano</th>\n",
       "      <th>Fundamental - 2º Ano</th>\n",
       "      <th>...</th>\n",
       "      <th>Fundamental - 4º Ano</th>\n",
       "      <th>Fundamental - 5º Ano</th>\n",
       "      <th>Fundamental - 6º Ano</th>\n",
       "      <th>Fundamental - 7º Ano</th>\n",
       "      <th>Fundamental - 8º Ano</th>\n",
       "      <th>Fundamental - 9º Ano</th>\n",
       "      <th>Médio - Total</th>\n",
       "      <th>Médio - 1ª série</th>\n",
       "      <th>Médio - 2ª série</th>\n",
       "      <th>Médio - 3ª série</th>\n",
       "    </tr>\n",
       "  </thead>\n",
       "  <tbody>\n",
       "    <tr>\n",
       "      <th>0</th>\n",
       "      <td>Norte</td>\n",
       "      <td>RO</td>\n",
       "      <td>1100015.0</td>\n",
       "      <td>Alta Floresta D'Oeste</td>\n",
       "      <td>Total</td>\n",
       "      <td>Total</td>\n",
       "      <td>3.8</td>\n",
       "      <td>1.5</td>\n",
       "      <td>0.7</td>\n",
       "      <td>1.4</td>\n",
       "      <td>...</td>\n",
       "      <td>1</td>\n",
       "      <td>2.9</td>\n",
       "      <td>3.2</td>\n",
       "      <td>4.6</td>\n",
       "      <td>5.5</td>\n",
       "      <td>11</td>\n",
       "      <td>13.6</td>\n",
       "      <td>15.4</td>\n",
       "      <td>17.4</td>\n",
       "      <td>6.5</td>\n",
       "    </tr>\n",
       "    <tr>\n",
       "      <th>1</th>\n",
       "      <td>Norte</td>\n",
       "      <td>RO</td>\n",
       "      <td>1100015.0</td>\n",
       "      <td>Alta Floresta D'Oeste</td>\n",
       "      <td>Total</td>\n",
       "      <td>Pública</td>\n",
       "      <td>3.8</td>\n",
       "      <td>1.5</td>\n",
       "      <td>0.7</td>\n",
       "      <td>1.4</td>\n",
       "      <td>...</td>\n",
       "      <td>1</td>\n",
       "      <td>2.9</td>\n",
       "      <td>3.2</td>\n",
       "      <td>4.6</td>\n",
       "      <td>5.5</td>\n",
       "      <td>11</td>\n",
       "      <td>13.6</td>\n",
       "      <td>15.4</td>\n",
       "      <td>17.4</td>\n",
       "      <td>6.5</td>\n",
       "    </tr>\n",
       "    <tr>\n",
       "      <th>2</th>\n",
       "      <td>Norte</td>\n",
       "      <td>RO</td>\n",
       "      <td>1100015.0</td>\n",
       "      <td>Alta Floresta D'Oeste</td>\n",
       "      <td>Urbana</td>\n",
       "      <td>Total</td>\n",
       "      <td>3.8</td>\n",
       "      <td>1.8</td>\n",
       "      <td>0.9</td>\n",
       "      <td>1.5</td>\n",
       "      <td>...</td>\n",
       "      <td>1.3</td>\n",
       "      <td>3.2</td>\n",
       "      <td>3.4</td>\n",
       "      <td>4.4</td>\n",
       "      <td>5.9</td>\n",
       "      <td>8.7</td>\n",
       "      <td>13.1</td>\n",
       "      <td>14.5</td>\n",
       "      <td>16.8</td>\n",
       "      <td>6.6</td>\n",
       "    </tr>\n",
       "    <tr>\n",
       "      <th>3</th>\n",
       "      <td>Norte</td>\n",
       "      <td>RO</td>\n",
       "      <td>1100015.0</td>\n",
       "      <td>Alta Floresta D'Oeste</td>\n",
       "      <td>Rural</td>\n",
       "      <td>Total</td>\n",
       "      <td>4</td>\n",
       "      <td>0.3</td>\n",
       "      <td>0</td>\n",
       "      <td>0</td>\n",
       "      <td>...</td>\n",
       "      <td>0</td>\n",
       "      <td>1.3</td>\n",
       "      <td>2.5</td>\n",
       "      <td>5.1</td>\n",
       "      <td>3.4</td>\n",
       "      <td>21.7</td>\n",
       "      <td>22.4</td>\n",
       "      <td>80</td>\n",
       "      <td>24</td>\n",
       "      <td>5.3</td>\n",
       "    </tr>\n",
       "    <tr>\n",
       "      <th>4</th>\n",
       "      <td>Norte</td>\n",
       "      <td>RO</td>\n",
       "      <td>1100023.0</td>\n",
       "      <td>Ariquemes</td>\n",
       "      <td>Total</td>\n",
       "      <td>Total</td>\n",
       "      <td>3.3</td>\n",
       "      <td>2</td>\n",
       "      <td>1.6</td>\n",
       "      <td>1.7</td>\n",
       "      <td>...</td>\n",
       "      <td>2.4</td>\n",
       "      <td>2.4</td>\n",
       "      <td>3.3</td>\n",
       "      <td>3.9</td>\n",
       "      <td>4.5</td>\n",
       "      <td>7.3</td>\n",
       "      <td>10.8</td>\n",
       "      <td>9.6</td>\n",
       "      <td>17.4</td>\n",
       "      <td>4</td>\n",
       "    </tr>\n",
       "    <tr>\n",
       "      <th>...</th>\n",
       "      <td>...</td>\n",
       "      <td>...</td>\n",
       "      <td>...</td>\n",
       "      <td>...</td>\n",
       "      <td>...</td>\n",
       "      <td>...</td>\n",
       "      <td>...</td>\n",
       "      <td>...</td>\n",
       "      <td>...</td>\n",
       "      <td>...</td>\n",
       "      <td>...</td>\n",
       "      <td>...</td>\n",
       "      <td>...</td>\n",
       "      <td>...</td>\n",
       "      <td>...</td>\n",
       "      <td>...</td>\n",
       "      <td>...</td>\n",
       "      <td>...</td>\n",
       "      <td>...</td>\n",
       "      <td>...</td>\n",
       "      <td>...</td>\n",
       "    </tr>\n",
       "    <tr>\n",
       "      <th>16785</th>\n",
       "      <td>Sudeste</td>\n",
       "      <td>SP</td>\n",
       "      <td>3553302.0</td>\n",
       "      <td>Tambaú</td>\n",
       "      <td>Urbana</td>\n",
       "      <td>Total</td>\n",
       "      <td>0.8</td>\n",
       "      <td>0.2</td>\n",
       "      <td>0</td>\n",
       "      <td>0</td>\n",
       "      <td>...</td>\n",
       "      <td>0</td>\n",
       "      <td>0.3</td>\n",
       "      <td>1</td>\n",
       "      <td>1.1</td>\n",
       "      <td>0.8</td>\n",
       "      <td>3.8</td>\n",
       "      <td>8.9</td>\n",
       "      <td>12.5</td>\n",
       "      <td>9.9</td>\n",
       "      <td>3.1</td>\n",
       "    </tr>\n",
       "    <tr>\n",
       "      <th>16786</th>\n",
       "      <td>Sudeste</td>\n",
       "      <td>SP</td>\n",
       "      <td>3553302.0</td>\n",
       "      <td>Tambaú</td>\n",
       "      <td>Rural</td>\n",
       "      <td>Total</td>\n",
       "      <td>0</td>\n",
       "      <td>0</td>\n",
       "      <td>0</td>\n",
       "      <td>0</td>\n",
       "      <td>...</td>\n",
       "      <td>0</td>\n",
       "      <td>0</td>\n",
       "      <td>--</td>\n",
       "      <td>--</td>\n",
       "      <td>--</td>\n",
       "      <td>--</td>\n",
       "      <td>--</td>\n",
       "      <td>--</td>\n",
       "      <td>--</td>\n",
       "      <td>--</td>\n",
       "    </tr>\n",
       "    <tr>\n",
       "      <th>16787</th>\n",
       "      <td>Sudeste</td>\n",
       "      <td>SP</td>\n",
       "      <td>3553401.0</td>\n",
       "      <td>Tanabi</td>\n",
       "      <td>Total</td>\n",
       "      <td>Total</td>\n",
       "      <td>1.2</td>\n",
       "      <td>0.1</td>\n",
       "      <td>0</td>\n",
       "      <td>0.3</td>\n",
       "      <td>...</td>\n",
       "      <td>0</td>\n",
       "      <td>0.3</td>\n",
       "      <td>1.3</td>\n",
       "      <td>0.9</td>\n",
       "      <td>1.6</td>\n",
       "      <td>6.2</td>\n",
       "      <td>8.7</td>\n",
       "      <td>10.7</td>\n",
       "      <td>14.7</td>\n",
       "      <td>0</td>\n",
       "    </tr>\n",
       "    <tr>\n",
       "      <th>16788</th>\n",
       "      <td>Sudeste</td>\n",
       "      <td>SP</td>\n",
       "      <td>3553401.0</td>\n",
       "      <td>Tanabi</td>\n",
       "      <td>Total</td>\n",
       "      <td>Pública</td>\n",
       "      <td>1.4</td>\n",
       "      <td>0.1</td>\n",
       "      <td>0</td>\n",
       "      <td>0.4</td>\n",
       "      <td>...</td>\n",
       "      <td>0</td>\n",
       "      <td>0.3</td>\n",
       "      <td>1.2</td>\n",
       "      <td>1.1</td>\n",
       "      <td>2.1</td>\n",
       "      <td>8</td>\n",
       "      <td>10.4</td>\n",
       "      <td>13</td>\n",
       "      <td>17.6</td>\n",
       "      <td>0</td>\n",
       "    </tr>\n",
       "    <tr>\n",
       "      <th>16789</th>\n",
       "      <td>Sudeste</td>\n",
       "      <td>SP</td>\n",
       "      <td>3553401.0</td>\n",
       "      <td>Tanabi</td>\n",
       "      <td>Total</td>\n",
       "      <td>Privada</td>\n",
       "      <td>0.2</td>\n",
       "      <td>0</td>\n",
       "      <td>0</td>\n",
       "      <td>0</td>\n",
       "      <td>...</td>\n",
       "      <td>0</td>\n",
       "      <td>0</td>\n",
       "      <td>1.7</td>\n",
       "      <td>0</td>\n",
       "      <td>0</td>\n",
       "      <td>0</td>\n",
       "      <td>0.7</td>\n",
       "      <td>1.8</td>\n",
       "      <td>0</td>\n",
       "      <td>0</td>\n",
       "    </tr>\n",
       "  </tbody>\n",
       "</table>\n",
       "<p>16790 rows × 21 columns</p>\n",
       "</div>"
      ],
      "text/plain": [
       "      NO_REGIAO NO_UF  CO_MUNICIPIO           NO_MUNICIPIO NO_LOCALIZACAO  \\\n",
       "0         Norte    RO     1100015.0  Alta Floresta D'Oeste          Total   \n",
       "1         Norte    RO     1100015.0  Alta Floresta D'Oeste          Total   \n",
       "2         Norte    RO     1100015.0  Alta Floresta D'Oeste         Urbana   \n",
       "3         Norte    RO     1100015.0  Alta Floresta D'Oeste          Rural   \n",
       "4         Norte    RO     1100023.0              Ariquemes          Total   \n",
       "...         ...   ...           ...                    ...            ...   \n",
       "16785   Sudeste    SP     3553302.0                 Tambaú         Urbana   \n",
       "16786   Sudeste    SP     3553302.0                 Tambaú          Rural   \n",
       "16787   Sudeste    SP     3553401.0                 Tanabi          Total   \n",
       "16788   Sudeste    SP     3553401.0                 Tanabi          Total   \n",
       "16789   Sudeste    SP     3553401.0                 Tanabi          Total   \n",
       "\n",
       "      NO_DEPENDENCIA Fundamental - Total Fundamental - Anos Iniciais  \\\n",
       "0              Total                 3.8                         1.5   \n",
       "1            Pública                 3.8                         1.5   \n",
       "2              Total                 3.8                         1.8   \n",
       "3              Total                   4                         0.3   \n",
       "4              Total                 3.3                           2   \n",
       "...              ...                 ...                         ...   \n",
       "16785          Total                 0.8                         0.2   \n",
       "16786          Total                   0                           0   \n",
       "16787          Total                 1.2                         0.1   \n",
       "16788        Pública                 1.4                         0.1   \n",
       "16789        Privada                 0.2                           0   \n",
       "\n",
       "      Fundamental - 1º Ano Fundamental - 2º Ano  ... Fundamental - 4º Ano  \\\n",
       "0                      0.7                  1.4  ...                    1   \n",
       "1                      0.7                  1.4  ...                    1   \n",
       "2                      0.9                  1.5  ...                  1.3   \n",
       "3                        0                    0  ...                    0   \n",
       "4                      1.6                  1.7  ...                  2.4   \n",
       "...                    ...                  ...  ...                  ...   \n",
       "16785                    0                    0  ...                    0   \n",
       "16786                    0                    0  ...                    0   \n",
       "16787                    0                  0.3  ...                    0   \n",
       "16788                    0                  0.4  ...                    0   \n",
       "16789                    0                    0  ...                    0   \n",
       "\n",
       "      Fundamental - 5º Ano Fundamental - 6º Ano Fundamental - 7º Ano  \\\n",
       "0                      2.9                  3.2                  4.6   \n",
       "1                      2.9                  3.2                  4.6   \n",
       "2                      3.2                  3.4                  4.4   \n",
       "3                      1.3                  2.5                  5.1   \n",
       "4                      2.4                  3.3                  3.9   \n",
       "...                    ...                  ...                  ...   \n",
       "16785                  0.3                    1                  1.1   \n",
       "16786                    0                   --                   --   \n",
       "16787                  0.3                  1.3                  0.9   \n",
       "16788                  0.3                  1.2                  1.1   \n",
       "16789                    0                  1.7                    0   \n",
       "\n",
       "      Fundamental - 8º Ano Fundamental - 9º Ano Médio - Total  \\\n",
       "0                      5.5                   11          13.6   \n",
       "1                      5.5                   11          13.6   \n",
       "2                      5.9                  8.7          13.1   \n",
       "3                      3.4                 21.7          22.4   \n",
       "4                      4.5                  7.3          10.8   \n",
       "...                    ...                  ...           ...   \n",
       "16785                  0.8                  3.8           8.9   \n",
       "16786                   --                   --            --   \n",
       "16787                  1.6                  6.2           8.7   \n",
       "16788                  2.1                    8          10.4   \n",
       "16789                    0                    0           0.7   \n",
       "\n",
       "      Médio - 1ª série Médio - 2ª série Médio - 3ª série  \n",
       "0                 15.4             17.4              6.5  \n",
       "1                 15.4             17.4              6.5  \n",
       "2                 14.5             16.8              6.6  \n",
       "3                   80               24              5.3  \n",
       "4                  9.6             17.4                4  \n",
       "...                ...              ...              ...  \n",
       "16785             12.5              9.9              3.1  \n",
       "16786               --               --               --  \n",
       "16787             10.7             14.7                0  \n",
       "16788               13             17.6                0  \n",
       "16789              1.8                0                0  \n",
       "\n",
       "[16790 rows x 21 columns]"
      ]
     },
     "execution_count": 20,
     "metadata": {},
     "output_type": "execute_result"
    }
   ],
   "source": [
    "mapa_colunas = {\n",
    "    # Fundamental\n",
    "    \"1_CAT3_CATFUN\": \"Fundamental - Total\",\n",
    "    \"1_CAT3_CATFUN_AI\": \"Fundamental - Anos Iniciais\",\n",
    "    \"1_CAT3_CATFUN_AF\": \"Fundamental - Anos Finais\",\n",
    "    \"1_CAT3_CATFUN_01\": \"Fundamental - 1º Ano\",\n",
    "    \"1_CAT3_CATFUN_02\": \"Fundamental - 2º Ano\",\n",
    "    \"1_CAT3_CATFUN_03\": \"Fundamental - 3º Ano\",\n",
    "    \"1_CAT3_CATFUN_04\": \"Fundamental - 4º Ano\",\n",
    "    \"1_CAT3_CATFUN_05\": \"Fundamental - 5º Ano\",\n",
    "    \"1_CAT3_CATFUN_06\": \"Fundamental - 6º Ano\",\n",
    "    \"1_CAT3_CATFUN_07\": \"Fundamental - 7º Ano\",\n",
    "    \"1_CAT3_CATFUN_08\": \"Fundamental - 8º Ano\",\n",
    "    \"1_CAT3_CATFUN_09\": \"Fundamental - 9º Ano\",\n",
    "\n",
    "    # Médio\n",
    "    \"1_CAT3_CATMED\": \"Médio - Total\",\n",
    "    \"1_CAT3_CATMED_01\": \"Médio - 1ª série\",\n",
    "    \"1_CAT3_CATMED_02\": \"Médio - 2ª série\",\n",
    "    \"1_CAT3_CATMED_03\": \"Médio - 3ª série\",\n",
    "}\n",
    "\n",
    "df_filtrado = df_filtrado.rename(columns=mapa_colunas)\n",
    "\n",
    "df_filtrado.head(16790)\n"
   ]
  },
  {
   "cell_type": "code",
   "execution_count": 21,
   "id": "e5ce0ca2",
   "metadata": {},
   "outputs": [
    {
     "name": "stdout",
     "output_type": "stream",
     "text": [
      "🔹 Ranking completo - Fundamental\n"
     ]
    },
    {
     "data": {
      "text/html": [
       "<div>\n",
       "<style scoped>\n",
       "    .dataframe tbody tr th:only-of-type {\n",
       "        vertical-align: middle;\n",
       "    }\n",
       "\n",
       "    .dataframe tbody tr th {\n",
       "        vertical-align: top;\n",
       "    }\n",
       "\n",
       "    .dataframe thead th {\n",
       "        text-align: right;\n",
       "    }\n",
       "</style>\n",
       "<table border=\"1\" class=\"dataframe\">\n",
       "  <thead>\n",
       "    <tr style=\"text-align: right;\">\n",
       "      <th></th>\n",
       "      <th>NO_MUNICIPIO</th>\n",
       "      <th>Fundamental - Total</th>\n",
       "      <th>Médio - Total</th>\n",
       "    </tr>\n",
       "  </thead>\n",
       "  <tbody>\n",
       "    <tr>\n",
       "      <th>15834</th>\n",
       "      <td>Mogi Mirim</td>\n",
       "      <td>75.7</td>\n",
       "      <td>71.4</td>\n",
       "    </tr>\n",
       "    <tr>\n",
       "      <th>16791</th>\n",
       "      <td>Tanabi</td>\n",
       "      <td>75.0</td>\n",
       "      <td>100.0</td>\n",
       "    </tr>\n",
       "    <tr>\n",
       "      <th>14947</th>\n",
       "      <td>Caraguatatuba</td>\n",
       "      <td>71.4</td>\n",
       "      <td>61.5</td>\n",
       "    </tr>\n",
       "    <tr>\n",
       "      <th>15811</th>\n",
       "      <td>Mirassol</td>\n",
       "      <td>65.4</td>\n",
       "      <td>5.5</td>\n",
       "    </tr>\n",
       "    <tr>\n",
       "      <th>16806</th>\n",
       "      <td>Taquaritinga</td>\n",
       "      <td>64.3</td>\n",
       "      <td>60.0</td>\n",
       "    </tr>\n",
       "    <tr>\n",
       "      <th>...</th>\n",
       "      <td>...</td>\n",
       "      <td>...</td>\n",
       "      <td>...</td>\n",
       "    </tr>\n",
       "    <tr>\n",
       "      <th>23680</th>\n",
       "      <td>Uirapuru</td>\n",
       "      <td>NaN</td>\n",
       "      <td>10.9</td>\n",
       "    </tr>\n",
       "    <tr>\n",
       "      <th>23693</th>\n",
       "      <td>Urutaí</td>\n",
       "      <td>NaN</td>\n",
       "      <td>7.4</td>\n",
       "    </tr>\n",
       "    <tr>\n",
       "      <th>23722</th>\n",
       "      <td>NaN</td>\n",
       "      <td>NaN</td>\n",
       "      <td>NaN</td>\n",
       "    </tr>\n",
       "    <tr>\n",
       "      <th>23723</th>\n",
       "      <td>NaN</td>\n",
       "      <td>NaN</td>\n",
       "      <td>NaN</td>\n",
       "    </tr>\n",
       "    <tr>\n",
       "      <th>23724</th>\n",
       "      <td>NaN</td>\n",
       "      <td>NaN</td>\n",
       "      <td>NaN</td>\n",
       "    </tr>\n",
       "  </tbody>\n",
       "</table>\n",
       "<p>23725 rows × 3 columns</p>\n",
       "</div>"
      ],
      "text/plain": [
       "        NO_MUNICIPIO  Fundamental - Total  Médio - Total\n",
       "15834     Mogi Mirim                 75.7           71.4\n",
       "16791         Tanabi                 75.0          100.0\n",
       "14947  Caraguatatuba                 71.4           61.5\n",
       "15811       Mirassol                 65.4            5.5\n",
       "16806   Taquaritinga                 64.3           60.0\n",
       "...              ...                  ...            ...\n",
       "23680       Uirapuru                  NaN           10.9\n",
       "23693         Urutaí                  NaN            7.4\n",
       "23722            NaN                  NaN            NaN\n",
       "23723            NaN                  NaN            NaN\n",
       "23724            NaN                  NaN            NaN\n",
       "\n",
       "[23725 rows x 3 columns]"
      ]
     },
     "metadata": {},
     "output_type": "display_data"
    },
    {
     "name": "stdout",
     "output_type": "stream",
     "text": [
      "🔹 Ranking completo - Médio\n"
     ]
    },
    {
     "data": {
      "text/html": [
       "<div>\n",
       "<style scoped>\n",
       "    .dataframe tbody tr th:only-of-type {\n",
       "        vertical-align: middle;\n",
       "    }\n",
       "\n",
       "    .dataframe tbody tr th {\n",
       "        vertical-align: top;\n",
       "    }\n",
       "\n",
       "    .dataframe thead th {\n",
       "        text-align: right;\n",
       "    }\n",
       "</style>\n",
       "<table border=\"1\" class=\"dataframe\">\n",
       "  <thead>\n",
       "    <tr style=\"text-align: right;\">\n",
       "      <th></th>\n",
       "      <th>NO_MUNICIPIO</th>\n",
       "      <th>Fundamental - Total</th>\n",
       "      <th>Médio - Total</th>\n",
       "    </tr>\n",
       "  </thead>\n",
       "  <tbody>\n",
       "    <tr>\n",
       "      <th>16791</th>\n",
       "      <td>Tanabi</td>\n",
       "      <td>75.0</td>\n",
       "      <td>100.0</td>\n",
       "    </tr>\n",
       "    <tr>\n",
       "      <th>10045</th>\n",
       "      <td>Teixeira de Freitas</td>\n",
       "      <td>6.3</td>\n",
       "      <td>89.6</td>\n",
       "    </tr>\n",
       "    <tr>\n",
       "      <th>13409</th>\n",
       "      <td>Sete Lagoas</td>\n",
       "      <td>3.9</td>\n",
       "      <td>84.6</td>\n",
       "    </tr>\n",
       "    <tr>\n",
       "      <th>3634</th>\n",
       "      <td>Porto</td>\n",
       "      <td>7.9</td>\n",
       "      <td>75.0</td>\n",
       "    </tr>\n",
       "    <tr>\n",
       "      <th>16373</th>\n",
       "      <td>Ribeirão Preto</td>\n",
       "      <td>56.8</td>\n",
       "      <td>75.0</td>\n",
       "    </tr>\n",
       "    <tr>\n",
       "      <th>...</th>\n",
       "      <td>...</td>\n",
       "      <td>...</td>\n",
       "      <td>...</td>\n",
       "    </tr>\n",
       "    <tr>\n",
       "      <th>23705</th>\n",
       "      <td>Vianópolis</td>\n",
       "      <td>3.7</td>\n",
       "      <td>NaN</td>\n",
       "    </tr>\n",
       "    <tr>\n",
       "      <th>23712</th>\n",
       "      <td>Vila Boa</td>\n",
       "      <td>0.0</td>\n",
       "      <td>NaN</td>\n",
       "    </tr>\n",
       "    <tr>\n",
       "      <th>23722</th>\n",
       "      <td>NaN</td>\n",
       "      <td>NaN</td>\n",
       "      <td>NaN</td>\n",
       "    </tr>\n",
       "    <tr>\n",
       "      <th>23723</th>\n",
       "      <td>NaN</td>\n",
       "      <td>NaN</td>\n",
       "      <td>NaN</td>\n",
       "    </tr>\n",
       "    <tr>\n",
       "      <th>23724</th>\n",
       "      <td>NaN</td>\n",
       "      <td>NaN</td>\n",
       "      <td>NaN</td>\n",
       "    </tr>\n",
       "  </tbody>\n",
       "</table>\n",
       "<p>23725 rows × 3 columns</p>\n",
       "</div>"
      ],
      "text/plain": [
       "              NO_MUNICIPIO  Fundamental - Total  Médio - Total\n",
       "16791               Tanabi                 75.0          100.0\n",
       "10045  Teixeira de Freitas                  6.3           89.6\n",
       "13409          Sete Lagoas                  3.9           84.6\n",
       "3634                 Porto                  7.9           75.0\n",
       "16373       Ribeirão Preto                 56.8           75.0\n",
       "...                    ...                  ...            ...\n",
       "23705           Vianópolis                  3.7            NaN\n",
       "23712             Vila Boa                  0.0            NaN\n",
       "23722                  NaN                  NaN            NaN\n",
       "23723                  NaN                  NaN            NaN\n",
       "23724                  NaN                  NaN            NaN\n",
       "\n",
       "[23725 rows x 3 columns]"
      ]
     },
     "metadata": {},
     "output_type": "display_data"
    }
   ],
   "source": [
    "# garantir que as taxas são numéricas\n",
    "for col in [\"Fundamental - Total\", \"Médio - Total\"]:\n",
    "    df_filtrado[col] = pd.to_numeric(\n",
    "        df_filtrado[col].astype(str).str.replace(\",\", \".\"), errors=\"coerce\"\n",
    "    )\n",
    "\n",
    "# maior taxa no Fundamental\n",
    "mais_alto_fund = df_filtrado.loc[df_filtrado[\"Fundamental - Total\"].idxmax(),\n",
    "                               [\"NO_MUNICIPIO\", \"Fundamental - Total\", \"Médio - Total\"]]\n",
    "\n",
    "# maior taxa no Médio\n",
    "mais_alto_med = df_filtrado.loc[df_filtrado[\"Médio - Total\"].idxmax(),\n",
    "                              [\"NO_MUNICIPIO\", \"Fundamental - Total\", \"Médio - Total\"]]\n",
    "# ordenar por Fundamental (do maior para o menor)\n",
    "ranking_fund = df_filtrado.sort_values(\"Fundamental - Total\", ascending=False)[\n",
    "    [\"NO_MUNICIPIO\", \"Fundamental - Total\", \"Médio - Total\"]\n",
    "]\n",
    "\n",
    "# ordenar por Médio (do maior para o menor)\n",
    "ranking_med = df_filtrado.sort_values(\"Médio - Total\", ascending=False)[\n",
    "    [\"NO_MUNICIPIO\", \"Fundamental - Total\", \"Médio - Total\"]\n",
    "]\n",
    "\n",
    "print(\"🔹 Ranking completo - Fundamental\")\n",
    "display(ranking_fund)\n",
    "\n",
    "print(\"🔹 Ranking completo - Médio\")\n",
    "display(ranking_med)\n",
    "\n"
   ]
  },
  {
   "cell_type": "code",
   "execution_count": 22,
   "id": "3cc67615",
   "metadata": {},
   "outputs": [
    {
     "data": {
      "text/html": [
       "<div>\n",
       "<style scoped>\n",
       "    .dataframe tbody tr th:only-of-type {\n",
       "        vertical-align: middle;\n",
       "    }\n",
       "\n",
       "    .dataframe tbody tr th {\n",
       "        vertical-align: top;\n",
       "    }\n",
       "\n",
       "    .dataframe thead th {\n",
       "        text-align: right;\n",
       "    }\n",
       "</style>\n",
       "<table border=\"1\" class=\"dataframe\">\n",
       "  <thead>\n",
       "    <tr style=\"text-align: right;\">\n",
       "      <th></th>\n",
       "      <th>UF_SIGLA</th>\n",
       "      <th>MUNICIPIO_NOME_ALP</th>\n",
       "      <th>NO_MUNICIPIO</th>\n",
       "      <th>NO_LOCALIZACAO</th>\n",
       "      <th>NO_DEPENDENCIA</th>\n",
       "      <th>Evasão - Fundamental</th>\n",
       "      <th>Evasão -Médio</th>\n",
       "      <th>TAXA_APROVACAO_INICIAIS</th>\n",
       "      <th>TAXA_APROVACAO_FINAIS</th>\n",
       "    </tr>\n",
       "  </thead>\n",
       "  <tbody>\n",
       "    <tr>\n",
       "      <th>0</th>\n",
       "      <td>PB</td>\n",
       "      <td>ALAGOA NOVA</td>\n",
       "      <td>Alagoa Nova</td>\n",
       "      <td>Total</td>\n",
       "      <td>Total</td>\n",
       "      <td>2.7</td>\n",
       "      <td>9.3</td>\n",
       "      <td>0.9703</td>\n",
       "      <td>0.8187</td>\n",
       "    </tr>\n",
       "    <tr>\n",
       "      <th>1</th>\n",
       "      <td>PB</td>\n",
       "      <td>ALAGOA NOVA</td>\n",
       "      <td>Alagoa Nova</td>\n",
       "      <td>Total</td>\n",
       "      <td>Pública</td>\n",
       "      <td>2.8</td>\n",
       "      <td>9.3</td>\n",
       "      <td>0.9703</td>\n",
       "      <td>0.8187</td>\n",
       "    </tr>\n",
       "    <tr>\n",
       "      <th>2</th>\n",
       "      <td>PB</td>\n",
       "      <td>ALAGOA NOVA</td>\n",
       "      <td>Alagoa Nova</td>\n",
       "      <td>Total</td>\n",
       "      <td>Privada</td>\n",
       "      <td>1.2</td>\n",
       "      <td>NaN</td>\n",
       "      <td>0.9703</td>\n",
       "      <td>0.8187</td>\n",
       "    </tr>\n",
       "    <tr>\n",
       "      <th>3</th>\n",
       "      <td>PB</td>\n",
       "      <td>ALAGOA NOVA</td>\n",
       "      <td>Alagoa Nova</td>\n",
       "      <td>Urbana</td>\n",
       "      <td>Total</td>\n",
       "      <td>2.9</td>\n",
       "      <td>9.3</td>\n",
       "      <td>0.9703</td>\n",
       "      <td>0.8187</td>\n",
       "    </tr>\n",
       "    <tr>\n",
       "      <th>4</th>\n",
       "      <td>PB</td>\n",
       "      <td>ALAGOA NOVA</td>\n",
       "      <td>Alagoa Nova</td>\n",
       "      <td>Rural</td>\n",
       "      <td>Total</td>\n",
       "      <td>2.4</td>\n",
       "      <td>NaN</td>\n",
       "      <td>0.9703</td>\n",
       "      <td>0.8187</td>\n",
       "    </tr>\n",
       "    <tr>\n",
       "      <th>5</th>\n",
       "      <td>PB</td>\n",
       "      <td>BAÍA DA TRAIÇÃO</td>\n",
       "      <td>Baía da Traição</td>\n",
       "      <td>Total</td>\n",
       "      <td>Total</td>\n",
       "      <td>3.2</td>\n",
       "      <td>6.6</td>\n",
       "      <td>0.9066</td>\n",
       "      <td>0.8661</td>\n",
       "    </tr>\n",
       "    <tr>\n",
       "      <th>6</th>\n",
       "      <td>PB</td>\n",
       "      <td>BAÍA DA TRAIÇÃO</td>\n",
       "      <td>Baía da Traição</td>\n",
       "      <td>Total</td>\n",
       "      <td>Pública</td>\n",
       "      <td>3.2</td>\n",
       "      <td>6.6</td>\n",
       "      <td>0.9066</td>\n",
       "      <td>0.8661</td>\n",
       "    </tr>\n",
       "    <tr>\n",
       "      <th>7</th>\n",
       "      <td>PB</td>\n",
       "      <td>BAÍA DA TRAIÇÃO</td>\n",
       "      <td>Baía da Traição</td>\n",
       "      <td>Urbana</td>\n",
       "      <td>Total</td>\n",
       "      <td>2.8</td>\n",
       "      <td>2.3</td>\n",
       "      <td>0.9066</td>\n",
       "      <td>0.8661</td>\n",
       "    </tr>\n",
       "    <tr>\n",
       "      <th>8</th>\n",
       "      <td>PB</td>\n",
       "      <td>BAÍA DA TRAIÇÃO</td>\n",
       "      <td>Baía da Traição</td>\n",
       "      <td>Rural</td>\n",
       "      <td>Total</td>\n",
       "      <td>3.4</td>\n",
       "      <td>8.9</td>\n",
       "      <td>0.9066</td>\n",
       "      <td>0.8661</td>\n",
       "    </tr>\n",
       "    <tr>\n",
       "      <th>9</th>\n",
       "      <td>PB</td>\n",
       "      <td>BANANEIRAS</td>\n",
       "      <td>Bananeiras</td>\n",
       "      <td>Total</td>\n",
       "      <td>Total</td>\n",
       "      <td>3.6</td>\n",
       "      <td>17.0</td>\n",
       "      <td>0.9713</td>\n",
       "      <td>0.8612</td>\n",
       "    </tr>\n",
       "    <tr>\n",
       "      <th>10</th>\n",
       "      <td>PB</td>\n",
       "      <td>BANANEIRAS</td>\n",
       "      <td>Bananeiras</td>\n",
       "      <td>Total</td>\n",
       "      <td>Pública</td>\n",
       "      <td>4.2</td>\n",
       "      <td>18.1</td>\n",
       "      <td>0.9713</td>\n",
       "      <td>0.8612</td>\n",
       "    </tr>\n",
       "    <tr>\n",
       "      <th>11</th>\n",
       "      <td>PB</td>\n",
       "      <td>BANANEIRAS</td>\n",
       "      <td>Bananeiras</td>\n",
       "      <td>Total</td>\n",
       "      <td>Privada</td>\n",
       "      <td>1.1</td>\n",
       "      <td>2.3</td>\n",
       "      <td>0.9713</td>\n",
       "      <td>0.8612</td>\n",
       "    </tr>\n",
       "    <tr>\n",
       "      <th>12</th>\n",
       "      <td>PB</td>\n",
       "      <td>BANANEIRAS</td>\n",
       "      <td>Bananeiras</td>\n",
       "      <td>Urbana</td>\n",
       "      <td>Total</td>\n",
       "      <td>3.5</td>\n",
       "      <td>18.2</td>\n",
       "      <td>0.9713</td>\n",
       "      <td>0.8612</td>\n",
       "    </tr>\n",
       "    <tr>\n",
       "      <th>13</th>\n",
       "      <td>PB</td>\n",
       "      <td>BANANEIRAS</td>\n",
       "      <td>Bananeiras</td>\n",
       "      <td>Rural</td>\n",
       "      <td>Total</td>\n",
       "      <td>3.6</td>\n",
       "      <td>7.4</td>\n",
       "      <td>0.9713</td>\n",
       "      <td>0.8612</td>\n",
       "    </tr>\n",
       "    <tr>\n",
       "      <th>14</th>\n",
       "      <td>PB</td>\n",
       "      <td>CABACEIRAS</td>\n",
       "      <td>Cabaceiras</td>\n",
       "      <td>Total</td>\n",
       "      <td>Total</td>\n",
       "      <td>2.5</td>\n",
       "      <td>7.7</td>\n",
       "      <td>1.0</td>\n",
       "      <td>0.9897</td>\n",
       "    </tr>\n",
       "    <tr>\n",
       "      <th>15</th>\n",
       "      <td>PB</td>\n",
       "      <td>CABACEIRAS</td>\n",
       "      <td>Cabaceiras</td>\n",
       "      <td>Total</td>\n",
       "      <td>Pública</td>\n",
       "      <td>2.5</td>\n",
       "      <td>7.7</td>\n",
       "      <td>1.0</td>\n",
       "      <td>0.9897</td>\n",
       "    </tr>\n",
       "    <tr>\n",
       "      <th>16</th>\n",
       "      <td>PB</td>\n",
       "      <td>CABACEIRAS</td>\n",
       "      <td>Cabaceiras</td>\n",
       "      <td>Urbana</td>\n",
       "      <td>Total</td>\n",
       "      <td>2.9</td>\n",
       "      <td>9.0</td>\n",
       "      <td>1.0</td>\n",
       "      <td>0.9897</td>\n",
       "    </tr>\n",
       "    <tr>\n",
       "      <th>17</th>\n",
       "      <td>PB</td>\n",
       "      <td>CABACEIRAS</td>\n",
       "      <td>Cabaceiras</td>\n",
       "      <td>Rural</td>\n",
       "      <td>Total</td>\n",
       "      <td>1.7</td>\n",
       "      <td>5.3</td>\n",
       "      <td>1.0</td>\n",
       "      <td>0.9897</td>\n",
       "    </tr>\n",
       "    <tr>\n",
       "      <th>18</th>\n",
       "      <td>PB</td>\n",
       "      <td>CAMPINA GRANDE</td>\n",
       "      <td>Campina Grande</td>\n",
       "      <td>Total</td>\n",
       "      <td>Total</td>\n",
       "      <td>4.4</td>\n",
       "      <td>8.9</td>\n",
       "      <td>0.9819</td>\n",
       "      <td>0.8416</td>\n",
       "    </tr>\n",
       "    <tr>\n",
       "      <th>19</th>\n",
       "      <td>PB</td>\n",
       "      <td>CAMPINA GRANDE</td>\n",
       "      <td>Campina Grande</td>\n",
       "      <td>Total</td>\n",
       "      <td>Pública</td>\n",
       "      <td>5.6</td>\n",
       "      <td>10.4</td>\n",
       "      <td>0.9819</td>\n",
       "      <td>0.8416</td>\n",
       "    </tr>\n",
       "    <tr>\n",
       "      <th>20</th>\n",
       "      <td>PB</td>\n",
       "      <td>CAMPINA GRANDE</td>\n",
       "      <td>Campina Grande</td>\n",
       "      <td>Total</td>\n",
       "      <td>Privada</td>\n",
       "      <td>2.5</td>\n",
       "      <td>4.3</td>\n",
       "      <td>0.9819</td>\n",
       "      <td>0.8416</td>\n",
       "    </tr>\n",
       "    <tr>\n",
       "      <th>21</th>\n",
       "      <td>PB</td>\n",
       "      <td>CAMPINA GRANDE</td>\n",
       "      <td>Campina Grande</td>\n",
       "      <td>Urbana</td>\n",
       "      <td>Total</td>\n",
       "      <td>4.4</td>\n",
       "      <td>8.9</td>\n",
       "      <td>0.9819</td>\n",
       "      <td>0.8416</td>\n",
       "    </tr>\n",
       "    <tr>\n",
       "      <th>22</th>\n",
       "      <td>PB</td>\n",
       "      <td>CAMPINA GRANDE</td>\n",
       "      <td>Campina Grande</td>\n",
       "      <td>Rural</td>\n",
       "      <td>Total</td>\n",
       "      <td>4.9</td>\n",
       "      <td>9.2</td>\n",
       "      <td>0.9819</td>\n",
       "      <td>0.8416</td>\n",
       "    </tr>\n",
       "    <tr>\n",
       "      <th>23</th>\n",
       "      <td>PE</td>\n",
       "      <td>CARPINA</td>\n",
       "      <td>Carpina</td>\n",
       "      <td>Total</td>\n",
       "      <td>Total</td>\n",
       "      <td>3.3</td>\n",
       "      <td>5.3</td>\n",
       "      <td>0.9797</td>\n",
       "      <td>0.9234</td>\n",
       "    </tr>\n",
       "    <tr>\n",
       "      <th>24</th>\n",
       "      <td>PE</td>\n",
       "      <td>CARPINA</td>\n",
       "      <td>Carpina</td>\n",
       "      <td>Total</td>\n",
       "      <td>Pública</td>\n",
       "      <td>4.1</td>\n",
       "      <td>5.4</td>\n",
       "      <td>0.9797</td>\n",
       "      <td>0.9234</td>\n",
       "    </tr>\n",
       "    <tr>\n",
       "      <th>25</th>\n",
       "      <td>PE</td>\n",
       "      <td>CARPINA</td>\n",
       "      <td>Carpina</td>\n",
       "      <td>Total</td>\n",
       "      <td>Privada</td>\n",
       "      <td>1.6</td>\n",
       "      <td>3.2</td>\n",
       "      <td>0.9797</td>\n",
       "      <td>0.9234</td>\n",
       "    </tr>\n",
       "    <tr>\n",
       "      <th>26</th>\n",
       "      <td>PE</td>\n",
       "      <td>CARPINA</td>\n",
       "      <td>Carpina</td>\n",
       "      <td>Urbana</td>\n",
       "      <td>Total</td>\n",
       "      <td>3.3</td>\n",
       "      <td>5.3</td>\n",
       "      <td>0.9797</td>\n",
       "      <td>0.9234</td>\n",
       "    </tr>\n",
       "    <tr>\n",
       "      <th>27</th>\n",
       "      <td>PE</td>\n",
       "      <td>CARPINA</td>\n",
       "      <td>Carpina</td>\n",
       "      <td>Rural</td>\n",
       "      <td>Total</td>\n",
       "      <td>1.4</td>\n",
       "      <td>NaN</td>\n",
       "      <td>0.9797</td>\n",
       "      <td>0.9234</td>\n",
       "    </tr>\n",
       "    <tr>\n",
       "      <th>28</th>\n",
       "      <td>PB</td>\n",
       "      <td>CATURITÉ</td>\n",
       "      <td>Caturité</td>\n",
       "      <td>Total</td>\n",
       "      <td>Total</td>\n",
       "      <td>3.2</td>\n",
       "      <td>18.1</td>\n",
       "      <td>0.9773</td>\n",
       "      <td>0.8953</td>\n",
       "    </tr>\n",
       "    <tr>\n",
       "      <th>29</th>\n",
       "      <td>PB</td>\n",
       "      <td>CATURITÉ</td>\n",
       "      <td>Caturité</td>\n",
       "      <td>Total</td>\n",
       "      <td>Pública</td>\n",
       "      <td>3.2</td>\n",
       "      <td>18.1</td>\n",
       "      <td>0.9773</td>\n",
       "      <td>0.8953</td>\n",
       "    </tr>\n",
       "  </tbody>\n",
       "</table>\n",
       "</div>"
      ],
      "text/plain": [
       "   UF_SIGLA MUNICIPIO_NOME_ALP     NO_MUNICIPIO NO_LOCALIZACAO NO_DEPENDENCIA  \\\n",
       "0        PB        ALAGOA NOVA      Alagoa Nova          Total          Total   \n",
       "1        PB        ALAGOA NOVA      Alagoa Nova          Total        Pública   \n",
       "2        PB        ALAGOA NOVA      Alagoa Nova          Total        Privada   \n",
       "3        PB        ALAGOA NOVA      Alagoa Nova         Urbana          Total   \n",
       "4        PB        ALAGOA NOVA      Alagoa Nova          Rural          Total   \n",
       "5        PB    BAÍA DA TRAIÇÃO  Baía da Traição          Total          Total   \n",
       "6        PB    BAÍA DA TRAIÇÃO  Baía da Traição          Total        Pública   \n",
       "7        PB    BAÍA DA TRAIÇÃO  Baía da Traição         Urbana          Total   \n",
       "8        PB    BAÍA DA TRAIÇÃO  Baía da Traição          Rural          Total   \n",
       "9        PB         BANANEIRAS       Bananeiras          Total          Total   \n",
       "10       PB         BANANEIRAS       Bananeiras          Total        Pública   \n",
       "11       PB         BANANEIRAS       Bananeiras          Total        Privada   \n",
       "12       PB         BANANEIRAS       Bananeiras         Urbana          Total   \n",
       "13       PB         BANANEIRAS       Bananeiras          Rural          Total   \n",
       "14       PB         CABACEIRAS       Cabaceiras          Total          Total   \n",
       "15       PB         CABACEIRAS       Cabaceiras          Total        Pública   \n",
       "16       PB         CABACEIRAS       Cabaceiras         Urbana          Total   \n",
       "17       PB         CABACEIRAS       Cabaceiras          Rural          Total   \n",
       "18       PB     CAMPINA GRANDE   Campina Grande          Total          Total   \n",
       "19       PB     CAMPINA GRANDE   Campina Grande          Total        Pública   \n",
       "20       PB     CAMPINA GRANDE   Campina Grande          Total        Privada   \n",
       "21       PB     CAMPINA GRANDE   Campina Grande         Urbana          Total   \n",
       "22       PB     CAMPINA GRANDE   Campina Grande          Rural          Total   \n",
       "23       PE            CARPINA          Carpina          Total          Total   \n",
       "24       PE            CARPINA          Carpina          Total        Pública   \n",
       "25       PE            CARPINA          Carpina          Total        Privada   \n",
       "26       PE            CARPINA          Carpina         Urbana          Total   \n",
       "27       PE            CARPINA          Carpina          Rural          Total   \n",
       "28       PB           CATURITÉ         Caturité          Total          Total   \n",
       "29       PB           CATURITÉ         Caturité          Total        Pública   \n",
       "\n",
       "    Evasão - Fundamental  Evasão -Médio TAXA_APROVACAO_INICIAIS  \\\n",
       "0                    2.7            9.3                  0.9703   \n",
       "1                    2.8            9.3                  0.9703   \n",
       "2                    1.2            NaN                  0.9703   \n",
       "3                    2.9            9.3                  0.9703   \n",
       "4                    2.4            NaN                  0.9703   \n",
       "5                    3.2            6.6                  0.9066   \n",
       "6                    3.2            6.6                  0.9066   \n",
       "7                    2.8            2.3                  0.9066   \n",
       "8                    3.4            8.9                  0.9066   \n",
       "9                    3.6           17.0                  0.9713   \n",
       "10                   4.2           18.1                  0.9713   \n",
       "11                   1.1            2.3                  0.9713   \n",
       "12                   3.5           18.2                  0.9713   \n",
       "13                   3.6            7.4                  0.9713   \n",
       "14                   2.5            7.7                     1.0   \n",
       "15                   2.5            7.7                     1.0   \n",
       "16                   2.9            9.0                     1.0   \n",
       "17                   1.7            5.3                     1.0   \n",
       "18                   4.4            8.9                  0.9819   \n",
       "19                   5.6           10.4                  0.9819   \n",
       "20                   2.5            4.3                  0.9819   \n",
       "21                   4.4            8.9                  0.9819   \n",
       "22                   4.9            9.2                  0.9819   \n",
       "23                   3.3            5.3                  0.9797   \n",
       "24                   4.1            5.4                  0.9797   \n",
       "25                   1.6            3.2                  0.9797   \n",
       "26                   3.3            5.3                  0.9797   \n",
       "27                   1.4            NaN                  0.9797   \n",
       "28                   3.2           18.1                  0.9773   \n",
       "29                   3.2           18.1                  0.9773   \n",
       "\n",
       "    TAXA_APROVACAO_FINAIS  \n",
       "0                  0.8187  \n",
       "1                  0.8187  \n",
       "2                  0.8187  \n",
       "3                  0.8187  \n",
       "4                  0.8187  \n",
       "5                  0.8661  \n",
       "6                  0.8661  \n",
       "7                  0.8661  \n",
       "8                  0.8661  \n",
       "9                  0.8612  \n",
       "10                 0.8612  \n",
       "11                 0.8612  \n",
       "12                 0.8612  \n",
       "13                 0.8612  \n",
       "14                 0.9897  \n",
       "15                 0.9897  \n",
       "16                 0.9897  \n",
       "17                 0.9897  \n",
       "18                 0.8416  \n",
       "19                 0.8416  \n",
       "20                 0.8416  \n",
       "21                 0.8416  \n",
       "22                 0.8416  \n",
       "23                 0.9234  \n",
       "24                 0.9234  \n",
       "25                 0.9234  \n",
       "26                 0.9234  \n",
       "27                 0.9234  \n",
       "28                 0.8953  \n",
       "29                 0.8953  "
      ]
     },
     "execution_count": 22,
     "metadata": {},
     "output_type": "execute_result"
    }
   ],
   "source": [
    "import pandas as pd\n",
    "\n",
    "# 1) Forçar numérico (se vier string ou float com .0)\n",
    "res[\"MUNICIPIO_CODIGO\"]     = pd.to_numeric(res[\"MUNICIPIO_CODIGO\"], errors=\"coerce\")\n",
    "df_filtrado[\"CO_MUNICIPIO\"] = pd.to_numeric(df_filtrado[\"CO_MUNICIPIO\"], errors=\"coerce\")\n",
    "\n",
    "# 2) Usar inteiro que aceita nulos\n",
    "res[\"MUNICIPIO_CODIGO\"]     = res[\"MUNICIPIO_CODIGO\"].astype(\"Int64\")\n",
    "df_filtrado[\"CO_MUNICIPIO\"] = df_filtrado[\"CO_MUNICIPIO\"].astype(\"Int64\")\n",
    "\n",
    "# 3) Eliminar linhas sem código\n",
    "res_ok        = res.dropna(subset=[\"MUNICIPIO_CODIGO\"]).copy()\n",
    "df_filtrado_ok = df_filtrado.dropna(subset=[\"CO_MUNICIPIO\"]).copy()\n",
    "\n",
    "# (opcional) criar código IBGE como string de 7 dígitos\n",
    "res_ok[\"COD_IBGE\"]        = res_ok[\"MUNICIPIO_CODIGO\"].astype(\"Int64\").astype(str).str.zfill(7)\n",
    "df_filtrado_ok[\"COD_IBGE\"] = df_filtrado_ok[\"CO_MUNICIPIO\"].astype(\"Int64\").astype(str).str.zfill(7)\n",
    "\n",
    "# mesmas etapas de merge que já fizemos antes...\n",
    "df_merge = pd.merge(\n",
    "    res_ok,\n",
    "    df_filtrado_ok,\n",
    "    left_on=\"MUNICIPIO_CODIGO\",\n",
    "    right_on=\"CO_MUNICIPIO\",\n",
    "    how=\"inner\"\n",
    ")\n",
    "\n",
    "# agora seleciona as colunas principais + localização e dependência\n",
    "cols_saida = [\n",
    "    \"COD_IBGE\", \n",
    "    \"UF_SIGLA\", \n",
    "    \"MUNICIPIO_NOME_ALP\", \n",
    "    \"NO_MUNICIPIO\",\n",
    "    \"NO_LOCALIZACAO\",          # vem do df_filtrado\n",
    "    \"NO_DEPENDENCIA\",          # vem do df_filtrado\n",
    "    \"Fundamental - Total\", \n",
    "    \"Médio - Total\",\n",
    "    \"TAXA_APROVACAO_INICIAIS\", \n",
    "    \"TAXA_APROVACAO_FINAIS\"\n",
    "]\n",
    "\n",
    "# pega só as colunas que realmente existem no df\n",
    "cols_saida = [c for c in cols_saida if c in df_merge.columns]\n",
    "resultado = df_merge[cols_saida].copy()\n",
    "\n",
    "# visualizar os 10 primeiros\n",
    "resultado.rename(columns={\"Fundamental - Total\": \"Evasão - Fundamental\", \"Médio - Total\": \"Evasão -Médio\"}, inplace=True)\n",
    "resultado.head(30)\n",
    "\n"
   ]
  },
  {
   "cell_type": "code",
   "execution_count": 23,
   "id": "33c4076d",
   "metadata": {},
   "outputs": [
    {
     "name": "stdout",
     "output_type": "stream",
     "text": [
      "▶ Colunas tratadas: ['Evasão - Fundamental', 'Evasão -Médio', 'TAXA_APROVACAO_INICIAIS', 'TAXA_APROVACAO_FINAIS']\n",
      "▶ Linhas (orig / outliers / sem_outliers): 87 9 78\n"
     ]
    },
    {
     "data": {
      "text/html": [
       "<div>\n",
       "<style scoped>\n",
       "    .dataframe tbody tr th:only-of-type {\n",
       "        vertical-align: middle;\n",
       "    }\n",
       "\n",
       "    .dataframe tbody tr th {\n",
       "        vertical-align: top;\n",
       "    }\n",
       "\n",
       "    .dataframe thead th {\n",
       "        text-align: right;\n",
       "    }\n",
       "</style>\n",
       "<table border=\"1\" class=\"dataframe\">\n",
       "  <thead>\n",
       "    <tr style=\"text-align: right;\">\n",
       "      <th></th>\n",
       "      <th>UF_SIGLA</th>\n",
       "      <th>MUNICIPIO_NOME_ALP</th>\n",
       "      <th>NO_MUNICIPIO</th>\n",
       "      <th>NO_LOCALIZACAO</th>\n",
       "      <th>NO_DEPENDENCIA</th>\n",
       "      <th>Evasão - Fundamental</th>\n",
       "      <th>Evasão -Médio</th>\n",
       "      <th>TAXA_APROVACAO_INICIAIS</th>\n",
       "      <th>TAXA_APROVACAO_FINAIS</th>\n",
       "    </tr>\n",
       "  </thead>\n",
       "  <tbody>\n",
       "    <tr>\n",
       "      <th>5</th>\n",
       "      <td>PB</td>\n",
       "      <td>BAÍA DA TRAIÇÃO</td>\n",
       "      <td>Baía da Traição</td>\n",
       "      <td>Total</td>\n",
       "      <td>Total</td>\n",
       "      <td>3.2</td>\n",
       "      <td>6.6</td>\n",
       "      <td>0.9066</td>\n",
       "      <td>0.8661</td>\n",
       "    </tr>\n",
       "    <tr>\n",
       "      <th>6</th>\n",
       "      <td>PB</td>\n",
       "      <td>BAÍA DA TRAIÇÃO</td>\n",
       "      <td>Baía da Traição</td>\n",
       "      <td>Total</td>\n",
       "      <td>Pública</td>\n",
       "      <td>3.2</td>\n",
       "      <td>6.6</td>\n",
       "      <td>0.9066</td>\n",
       "      <td>0.8661</td>\n",
       "    </tr>\n",
       "    <tr>\n",
       "      <th>7</th>\n",
       "      <td>PB</td>\n",
       "      <td>BAÍA DA TRAIÇÃO</td>\n",
       "      <td>Baía da Traição</td>\n",
       "      <td>Urbana</td>\n",
       "      <td>Total</td>\n",
       "      <td>2.8</td>\n",
       "      <td>2.3</td>\n",
       "      <td>0.9066</td>\n",
       "      <td>0.8661</td>\n",
       "    </tr>\n",
       "    <tr>\n",
       "      <th>8</th>\n",
       "      <td>PB</td>\n",
       "      <td>BAÍA DA TRAIÇÃO</td>\n",
       "      <td>Baía da Traição</td>\n",
       "      <td>Rural</td>\n",
       "      <td>Total</td>\n",
       "      <td>3.4</td>\n",
       "      <td>8.9</td>\n",
       "      <td>0.9066</td>\n",
       "      <td>0.8661</td>\n",
       "    </tr>\n",
       "    <tr>\n",
       "      <th>82</th>\n",
       "      <td>PB</td>\n",
       "      <td>SERRA REDONDA</td>\n",
       "      <td>Serra Redonda</td>\n",
       "      <td>Total</td>\n",
       "      <td>Total</td>\n",
       "      <td>5.8</td>\n",
       "      <td>13.6</td>\n",
       "      <td>0.9162</td>\n",
       "      <td>0.7574</td>\n",
       "    </tr>\n",
       "    <tr>\n",
       "      <th>83</th>\n",
       "      <td>PB</td>\n",
       "      <td>SERRA REDONDA</td>\n",
       "      <td>Serra Redonda</td>\n",
       "      <td>Total</td>\n",
       "      <td>Pública</td>\n",
       "      <td>6.1</td>\n",
       "      <td>13.6</td>\n",
       "      <td>0.9162</td>\n",
       "      <td>0.7574</td>\n",
       "    </tr>\n",
       "    <tr>\n",
       "      <th>84</th>\n",
       "      <td>PB</td>\n",
       "      <td>SERRA REDONDA</td>\n",
       "      <td>Serra Redonda</td>\n",
       "      <td>Total</td>\n",
       "      <td>Privada</td>\n",
       "      <td>2.7</td>\n",
       "      <td>NaN</td>\n",
       "      <td>0.9162</td>\n",
       "      <td>0.7574</td>\n",
       "    </tr>\n",
       "    <tr>\n",
       "      <th>85</th>\n",
       "      <td>PB</td>\n",
       "      <td>SERRA REDONDA</td>\n",
       "      <td>Serra Redonda</td>\n",
       "      <td>Urbana</td>\n",
       "      <td>Total</td>\n",
       "      <td>7.2</td>\n",
       "      <td>13.6</td>\n",
       "      <td>0.9162</td>\n",
       "      <td>0.7574</td>\n",
       "    </tr>\n",
       "    <tr>\n",
       "      <th>86</th>\n",
       "      <td>PB</td>\n",
       "      <td>SERRA REDONDA</td>\n",
       "      <td>Serra Redonda</td>\n",
       "      <td>Rural</td>\n",
       "      <td>Total</td>\n",
       "      <td>1.1</td>\n",
       "      <td>NaN</td>\n",
       "      <td>0.9162</td>\n",
       "      <td>0.7574</td>\n",
       "    </tr>\n",
       "  </tbody>\n",
       "</table>\n",
       "</div>"
      ],
      "text/plain": [
       "   UF_SIGLA MUNICIPIO_NOME_ALP     NO_MUNICIPIO NO_LOCALIZACAO NO_DEPENDENCIA  \\\n",
       "5        PB    BAÍA DA TRAIÇÃO  Baía da Traição          Total          Total   \n",
       "6        PB    BAÍA DA TRAIÇÃO  Baía da Traição          Total        Pública   \n",
       "7        PB    BAÍA DA TRAIÇÃO  Baía da Traição         Urbana          Total   \n",
       "8        PB    BAÍA DA TRAIÇÃO  Baía da Traição          Rural          Total   \n",
       "82       PB      SERRA REDONDA    Serra Redonda          Total          Total   \n",
       "83       PB      SERRA REDONDA    Serra Redonda          Total        Pública   \n",
       "84       PB      SERRA REDONDA    Serra Redonda          Total        Privada   \n",
       "85       PB      SERRA REDONDA    Serra Redonda         Urbana          Total   \n",
       "86       PB      SERRA REDONDA    Serra Redonda          Rural          Total   \n",
       "\n",
       "    Evasão - Fundamental  Evasão -Médio  TAXA_APROVACAO_INICIAIS  \\\n",
       "5                    3.2            6.6                   0.9066   \n",
       "6                    3.2            6.6                   0.9066   \n",
       "7                    2.8            2.3                   0.9066   \n",
       "8                    3.4            8.9                   0.9066   \n",
       "82                   5.8           13.6                   0.9162   \n",
       "83                   6.1           13.6                   0.9162   \n",
       "84                   2.7            NaN                   0.9162   \n",
       "85                   7.2           13.6                   0.9162   \n",
       "86                   1.1            NaN                   0.9162   \n",
       "\n",
       "    TAXA_APROVACAO_FINAIS  \n",
       "5                  0.8661  \n",
       "6                  0.8661  \n",
       "7                  0.8661  \n",
       "8                  0.8661  \n",
       "82                 0.7574  \n",
       "83                 0.7574  \n",
       "84                 0.7574  \n",
       "85                 0.7574  \n",
       "86                 0.7574  "
      ]
     },
     "metadata": {},
     "output_type": "display_data"
    },
    {
     "data": {
      "text/html": [
       "<div>\n",
       "<style scoped>\n",
       "    .dataframe tbody tr th:only-of-type {\n",
       "        vertical-align: middle;\n",
       "    }\n",
       "\n",
       "    .dataframe tbody tr th {\n",
       "        vertical-align: top;\n",
       "    }\n",
       "\n",
       "    .dataframe thead th {\n",
       "        text-align: right;\n",
       "    }\n",
       "</style>\n",
       "<table border=\"1\" class=\"dataframe\">\n",
       "  <thead>\n",
       "    <tr style=\"text-align: right;\">\n",
       "      <th></th>\n",
       "      <th>UF_SIGLA</th>\n",
       "      <th>MUNICIPIO_NOME_ALP</th>\n",
       "      <th>NO_MUNICIPIO</th>\n",
       "      <th>NO_LOCALIZACAO</th>\n",
       "      <th>NO_DEPENDENCIA</th>\n",
       "      <th>Evasão - Fundamental</th>\n",
       "      <th>Evasão -Médio</th>\n",
       "      <th>TAXA_APROVACAO_INICIAIS</th>\n",
       "      <th>TAXA_APROVACAO_FINAIS</th>\n",
       "    </tr>\n",
       "  </thead>\n",
       "  <tbody>\n",
       "    <tr>\n",
       "      <th>0</th>\n",
       "      <td>PB</td>\n",
       "      <td>ALAGOA NOVA</td>\n",
       "      <td>Alagoa Nova</td>\n",
       "      <td>Total</td>\n",
       "      <td>Total</td>\n",
       "      <td>2.7</td>\n",
       "      <td>9.3</td>\n",
       "      <td>0.9703</td>\n",
       "      <td>0.8187</td>\n",
       "    </tr>\n",
       "    <tr>\n",
       "      <th>1</th>\n",
       "      <td>PB</td>\n",
       "      <td>ALAGOA NOVA</td>\n",
       "      <td>Alagoa Nova</td>\n",
       "      <td>Total</td>\n",
       "      <td>Pública</td>\n",
       "      <td>2.8</td>\n",
       "      <td>9.3</td>\n",
       "      <td>0.9703</td>\n",
       "      <td>0.8187</td>\n",
       "    </tr>\n",
       "    <tr>\n",
       "      <th>2</th>\n",
       "      <td>PB</td>\n",
       "      <td>ALAGOA NOVA</td>\n",
       "      <td>Alagoa Nova</td>\n",
       "      <td>Total</td>\n",
       "      <td>Privada</td>\n",
       "      <td>1.2</td>\n",
       "      <td>NaN</td>\n",
       "      <td>0.9703</td>\n",
       "      <td>0.8187</td>\n",
       "    </tr>\n",
       "    <tr>\n",
       "      <th>3</th>\n",
       "      <td>PB</td>\n",
       "      <td>ALAGOA NOVA</td>\n",
       "      <td>Alagoa Nova</td>\n",
       "      <td>Urbana</td>\n",
       "      <td>Total</td>\n",
       "      <td>2.9</td>\n",
       "      <td>9.3</td>\n",
       "      <td>0.9703</td>\n",
       "      <td>0.8187</td>\n",
       "    </tr>\n",
       "    <tr>\n",
       "      <th>4</th>\n",
       "      <td>PB</td>\n",
       "      <td>ALAGOA NOVA</td>\n",
       "      <td>Alagoa Nova</td>\n",
       "      <td>Rural</td>\n",
       "      <td>Total</td>\n",
       "      <td>2.4</td>\n",
       "      <td>NaN</td>\n",
       "      <td>0.9703</td>\n",
       "      <td>0.8187</td>\n",
       "    </tr>\n",
       "    <tr>\n",
       "      <th>9</th>\n",
       "      <td>PB</td>\n",
       "      <td>BANANEIRAS</td>\n",
       "      <td>Bananeiras</td>\n",
       "      <td>Total</td>\n",
       "      <td>Total</td>\n",
       "      <td>3.6</td>\n",
       "      <td>17.0</td>\n",
       "      <td>0.9713</td>\n",
       "      <td>0.8612</td>\n",
       "    </tr>\n",
       "    <tr>\n",
       "      <th>10</th>\n",
       "      <td>PB</td>\n",
       "      <td>BANANEIRAS</td>\n",
       "      <td>Bananeiras</td>\n",
       "      <td>Total</td>\n",
       "      <td>Pública</td>\n",
       "      <td>4.2</td>\n",
       "      <td>18.1</td>\n",
       "      <td>0.9713</td>\n",
       "      <td>0.8612</td>\n",
       "    </tr>\n",
       "    <tr>\n",
       "      <th>11</th>\n",
       "      <td>PB</td>\n",
       "      <td>BANANEIRAS</td>\n",
       "      <td>Bananeiras</td>\n",
       "      <td>Total</td>\n",
       "      <td>Privada</td>\n",
       "      <td>1.1</td>\n",
       "      <td>2.3</td>\n",
       "      <td>0.9713</td>\n",
       "      <td>0.8612</td>\n",
       "    </tr>\n",
       "    <tr>\n",
       "      <th>12</th>\n",
       "      <td>PB</td>\n",
       "      <td>BANANEIRAS</td>\n",
       "      <td>Bananeiras</td>\n",
       "      <td>Urbana</td>\n",
       "      <td>Total</td>\n",
       "      <td>3.5</td>\n",
       "      <td>18.2</td>\n",
       "      <td>0.9713</td>\n",
       "      <td>0.8612</td>\n",
       "    </tr>\n",
       "    <tr>\n",
       "      <th>13</th>\n",
       "      <td>PB</td>\n",
       "      <td>BANANEIRAS</td>\n",
       "      <td>Bananeiras</td>\n",
       "      <td>Rural</td>\n",
       "      <td>Total</td>\n",
       "      <td>3.6</td>\n",
       "      <td>7.4</td>\n",
       "      <td>0.9713</td>\n",
       "      <td>0.8612</td>\n",
       "    </tr>\n",
       "  </tbody>\n",
       "</table>\n",
       "</div>"
      ],
      "text/plain": [
       "   UF_SIGLA MUNICIPIO_NOME_ALP NO_MUNICIPIO NO_LOCALIZACAO NO_DEPENDENCIA  \\\n",
       "0        PB        ALAGOA NOVA  Alagoa Nova          Total          Total   \n",
       "1        PB        ALAGOA NOVA  Alagoa Nova          Total        Pública   \n",
       "2        PB        ALAGOA NOVA  Alagoa Nova          Total        Privada   \n",
       "3        PB        ALAGOA NOVA  Alagoa Nova         Urbana          Total   \n",
       "4        PB        ALAGOA NOVA  Alagoa Nova          Rural          Total   \n",
       "9        PB         BANANEIRAS   Bananeiras          Total          Total   \n",
       "10       PB         BANANEIRAS   Bananeiras          Total        Pública   \n",
       "11       PB         BANANEIRAS   Bananeiras          Total        Privada   \n",
       "12       PB         BANANEIRAS   Bananeiras         Urbana          Total   \n",
       "13       PB         BANANEIRAS   Bananeiras          Rural          Total   \n",
       "\n",
       "    Evasão - Fundamental  Evasão -Médio  TAXA_APROVACAO_INICIAIS  \\\n",
       "0                    2.7            9.3                   0.9703   \n",
       "1                    2.8            9.3                   0.9703   \n",
       "2                    1.2            NaN                   0.9703   \n",
       "3                    2.9            9.3                   0.9703   \n",
       "4                    2.4            NaN                   0.9703   \n",
       "9                    3.6           17.0                   0.9713   \n",
       "10                   4.2           18.1                   0.9713   \n",
       "11                   1.1            2.3                   0.9713   \n",
       "12                   3.5           18.2                   0.9713   \n",
       "13                   3.6            7.4                   0.9713   \n",
       "\n",
       "    TAXA_APROVACAO_FINAIS  \n",
       "0                  0.8187  \n",
       "1                  0.8187  \n",
       "2                  0.8187  \n",
       "3                  0.8187  \n",
       "4                  0.8187  \n",
       "9                  0.8612  \n",
       "10                 0.8612  \n",
       "11                 0.8612  \n",
       "12                 0.8612  \n",
       "13                 0.8612  "
      ]
     },
     "metadata": {},
     "output_type": "display_data"
    },
    {
     "data": {
      "text/html": [
       "<div>\n",
       "<style scoped>\n",
       "    .dataframe tbody tr th:only-of-type {\n",
       "        vertical-align: middle;\n",
       "    }\n",
       "\n",
       "    .dataframe tbody tr th {\n",
       "        vertical-align: top;\n",
       "    }\n",
       "\n",
       "    .dataframe thead th {\n",
       "        text-align: right;\n",
       "    }\n",
       "</style>\n",
       "<table border=\"1\" class=\"dataframe\">\n",
       "  <thead>\n",
       "    <tr style=\"text-align: right;\">\n",
       "      <th></th>\n",
       "      <th>UF_SIGLA</th>\n",
       "      <th>MUNICIPIO_NOME_ALP</th>\n",
       "      <th>NO_MUNICIPIO</th>\n",
       "      <th>NO_LOCALIZACAO</th>\n",
       "      <th>NO_DEPENDENCIA</th>\n",
       "      <th>Evasão - Fundamental</th>\n",
       "      <th>Evasão -Médio</th>\n",
       "      <th>TAXA_APROVACAO_INICIAIS</th>\n",
       "      <th>TAXA_APROVACAO_FINAIS</th>\n",
       "    </tr>\n",
       "  </thead>\n",
       "  <tbody>\n",
       "    <tr>\n",
       "      <th>0</th>\n",
       "      <td>PB</td>\n",
       "      <td>ALAGOA NOVA</td>\n",
       "      <td>Alagoa Nova</td>\n",
       "      <td>Total</td>\n",
       "      <td>Total</td>\n",
       "      <td>2.7</td>\n",
       "      <td>9.3</td>\n",
       "      <td>0.97030</td>\n",
       "      <td>0.8187</td>\n",
       "    </tr>\n",
       "    <tr>\n",
       "      <th>1</th>\n",
       "      <td>PB</td>\n",
       "      <td>ALAGOA NOVA</td>\n",
       "      <td>Alagoa Nova</td>\n",
       "      <td>Total</td>\n",
       "      <td>Pública</td>\n",
       "      <td>2.8</td>\n",
       "      <td>9.3</td>\n",
       "      <td>0.97030</td>\n",
       "      <td>0.8187</td>\n",
       "    </tr>\n",
       "    <tr>\n",
       "      <th>2</th>\n",
       "      <td>PB</td>\n",
       "      <td>ALAGOA NOVA</td>\n",
       "      <td>Alagoa Nova</td>\n",
       "      <td>Total</td>\n",
       "      <td>Privada</td>\n",
       "      <td>1.2</td>\n",
       "      <td>NaN</td>\n",
       "      <td>0.97030</td>\n",
       "      <td>0.8187</td>\n",
       "    </tr>\n",
       "    <tr>\n",
       "      <th>3</th>\n",
       "      <td>PB</td>\n",
       "      <td>ALAGOA NOVA</td>\n",
       "      <td>Alagoa Nova</td>\n",
       "      <td>Urbana</td>\n",
       "      <td>Total</td>\n",
       "      <td>2.9</td>\n",
       "      <td>9.3</td>\n",
       "      <td>0.97030</td>\n",
       "      <td>0.8187</td>\n",
       "    </tr>\n",
       "    <tr>\n",
       "      <th>4</th>\n",
       "      <td>PB</td>\n",
       "      <td>ALAGOA NOVA</td>\n",
       "      <td>Alagoa Nova</td>\n",
       "      <td>Rural</td>\n",
       "      <td>Total</td>\n",
       "      <td>2.4</td>\n",
       "      <td>NaN</td>\n",
       "      <td>0.97030</td>\n",
       "      <td>0.8187</td>\n",
       "    </tr>\n",
       "    <tr>\n",
       "      <th>5</th>\n",
       "      <td>PB</td>\n",
       "      <td>BAÍA DA TRAIÇÃO</td>\n",
       "      <td>Baía da Traição</td>\n",
       "      <td>Total</td>\n",
       "      <td>Total</td>\n",
       "      <td>3.2</td>\n",
       "      <td>6.6</td>\n",
       "      <td>0.92035</td>\n",
       "      <td>0.8661</td>\n",
       "    </tr>\n",
       "    <tr>\n",
       "      <th>6</th>\n",
       "      <td>PB</td>\n",
       "      <td>BAÍA DA TRAIÇÃO</td>\n",
       "      <td>Baía da Traição</td>\n",
       "      <td>Total</td>\n",
       "      <td>Pública</td>\n",
       "      <td>3.2</td>\n",
       "      <td>6.6</td>\n",
       "      <td>0.92035</td>\n",
       "      <td>0.8661</td>\n",
       "    </tr>\n",
       "    <tr>\n",
       "      <th>7</th>\n",
       "      <td>PB</td>\n",
       "      <td>BAÍA DA TRAIÇÃO</td>\n",
       "      <td>Baía da Traição</td>\n",
       "      <td>Urbana</td>\n",
       "      <td>Total</td>\n",
       "      <td>2.8</td>\n",
       "      <td>2.3</td>\n",
       "      <td>0.92035</td>\n",
       "      <td>0.8661</td>\n",
       "    </tr>\n",
       "    <tr>\n",
       "      <th>8</th>\n",
       "      <td>PB</td>\n",
       "      <td>BAÍA DA TRAIÇÃO</td>\n",
       "      <td>Baía da Traição</td>\n",
       "      <td>Rural</td>\n",
       "      <td>Total</td>\n",
       "      <td>3.4</td>\n",
       "      <td>8.9</td>\n",
       "      <td>0.92035</td>\n",
       "      <td>0.8661</td>\n",
       "    </tr>\n",
       "    <tr>\n",
       "      <th>9</th>\n",
       "      <td>PB</td>\n",
       "      <td>BANANEIRAS</td>\n",
       "      <td>Bananeiras</td>\n",
       "      <td>Total</td>\n",
       "      <td>Total</td>\n",
       "      <td>3.6</td>\n",
       "      <td>17.0</td>\n",
       "      <td>0.97130</td>\n",
       "      <td>0.8612</td>\n",
       "    </tr>\n",
       "  </tbody>\n",
       "</table>\n",
       "</div>"
      ],
      "text/plain": [
       "  UF_SIGLA MUNICIPIO_NOME_ALP     NO_MUNICIPIO NO_LOCALIZACAO NO_DEPENDENCIA  \\\n",
       "0       PB        ALAGOA NOVA      Alagoa Nova          Total          Total   \n",
       "1       PB        ALAGOA NOVA      Alagoa Nova          Total        Pública   \n",
       "2       PB        ALAGOA NOVA      Alagoa Nova          Total        Privada   \n",
       "3       PB        ALAGOA NOVA      Alagoa Nova         Urbana          Total   \n",
       "4       PB        ALAGOA NOVA      Alagoa Nova          Rural          Total   \n",
       "5       PB    BAÍA DA TRAIÇÃO  Baía da Traição          Total          Total   \n",
       "6       PB    BAÍA DA TRAIÇÃO  Baía da Traição          Total        Pública   \n",
       "7       PB    BAÍA DA TRAIÇÃO  Baía da Traição         Urbana          Total   \n",
       "8       PB    BAÍA DA TRAIÇÃO  Baía da Traição          Rural          Total   \n",
       "9       PB         BANANEIRAS       Bananeiras          Total          Total   \n",
       "\n",
       "   Evasão - Fundamental  Evasão -Médio  TAXA_APROVACAO_INICIAIS  \\\n",
       "0                   2.7            9.3                  0.97030   \n",
       "1                   2.8            9.3                  0.97030   \n",
       "2                   1.2            NaN                  0.97030   \n",
       "3                   2.9            9.3                  0.97030   \n",
       "4                   2.4            NaN                  0.97030   \n",
       "5                   3.2            6.6                  0.92035   \n",
       "6                   3.2            6.6                  0.92035   \n",
       "7                   2.8            2.3                  0.92035   \n",
       "8                   3.4            8.9                  0.92035   \n",
       "9                   3.6           17.0                  0.97130   \n",
       "\n",
       "   TAXA_APROVACAO_FINAIS  \n",
       "0                 0.8187  \n",
       "1                 0.8187  \n",
       "2                 0.8187  \n",
       "3                 0.8187  \n",
       "4                 0.8187  \n",
       "5                 0.8661  \n",
       "6                 0.8661  \n",
       "7                 0.8661  \n",
       "8                 0.8661  \n",
       "9                 0.8612  "
      ]
     },
     "metadata": {},
     "output_type": "display_data"
    }
   ],
   "source": [
    "# Tratamento de outliers\n",
    "num_cols = [\n",
    "    \"Evasão - Fundamental\", \n",
    "    \"Evasão -Médio\", \n",
    "    \"TAXA_APROVACAO_INICIAIS\", \n",
    "    \"TAXA_APROVACAO_FINAIS\"\n",
    "]\n",
    "\n",
    "num_cols = [c for c in num_cols if c in resultado.columns]\n",
    "\n",
    "# 2) coerção robusta para numérico\n",
    "resultado_num = resultado.copy()\n",
    "for col in num_cols:\n",
    "    # troca vírgula por ponto e converte; valores não-numéricos viram NaN\n",
    "    resultado_num[col] = (\n",
    "        resultado_num[col]\n",
    "        .astype(str)\n",
    "        .str.replace(\",\", \".\", regex=False)\n",
    "        .str.replace(\"%\", \"\", regex=False)\n",
    "        .str.replace(\"\\u2212\", \"-\", regex=False)  # sinal de menos unicode, se houver\n",
    "    )\n",
    "    resultado_num[col] = pd.to_numeric(resultado_num[col], errors=\"coerce\")\n",
    "\n",
    "# 3) IQR\n",
    "Q1 = resultado_num[num_cols].quantile(0.25, numeric_only=True)\n",
    "Q3 = resultado_num[num_cols].quantile(0.75, numeric_only=True)\n",
    "IQR = Q3 - Q1\n",
    "low  = Q1 - 1.5 * IQR\n",
    "high = Q3 + 1.5 * IQR\n",
    "\n",
    "mask_out = (resultado_num[num_cols] < low) | (resultado_num[num_cols] > high)\n",
    "outliers_df = resultado_num[mask_out.any(axis=1)].copy()\n",
    "sem_outliers_df = resultado_num[~mask_out.any(axis=1)].copy()\n",
    "\n",
    "# 4) Winsorização (cap) — limita aos limites low/high por coluna\n",
    "winsor_df = resultado_num.copy()\n",
    "for col in num_cols:\n",
    "    winsor_df[col] = winsor_df[col].clip(lower=low[col], upper=high[col])\n",
    "\n",
    "# 5) ver resultados\n",
    "print(\"▶ Colunas tratadas:\", num_cols)\n",
    "print(\"▶ Linhas (orig / outliers / sem_outliers):\", len(resultado), len(outliers_df), len(sem_outliers_df))\n",
    "\n",
    "display(outliers_df.head(10))       # mostra quem são os casos problemáticos que merecem atenção individual.\n",
    "display(sem_outliers_df.head(10))   # mostra como se comporta a regra geral (análise limpa, tendência central).\n",
    "display(winsor_df.head(10))         # mantém todos os municípios, mas corrige os extremos para que análises estatísticas fiquem mais robustas."
   ]
  },
  {
   "cell_type": "code",
   "execution_count": 24,
   "id": "f603b5a4",
   "metadata": {},
   "outputs": [
    {
     "data": {
      "text/html": [
       "<div>\n",
       "<style scoped>\n",
       "    .dataframe tbody tr th:only-of-type {\n",
       "        vertical-align: middle;\n",
       "    }\n",
       "\n",
       "    .dataframe tbody tr th {\n",
       "        vertical-align: top;\n",
       "    }\n",
       "\n",
       "    .dataframe thead th {\n",
       "        text-align: right;\n",
       "    }\n",
       "</style>\n",
       "<table border=\"1\" class=\"dataframe\">\n",
       "  <thead>\n",
       "    <tr style=\"text-align: right;\">\n",
       "      <th></th>\n",
       "      <th>UF_SIGLA</th>\n",
       "      <th>MUNICIPIO_NOME_ALP</th>\n",
       "      <th>NO_MUNICIPIO</th>\n",
       "      <th>NO_LOCALIZACAO</th>\n",
       "      <th>NO_DEPENDENCIA</th>\n",
       "      <th>Evasão - Fundamental</th>\n",
       "      <th>Evasão -Médio</th>\n",
       "      <th>TAXA_APROVACAO_INICIAIS</th>\n",
       "      <th>TAXA_APROVACAO_FINAIS</th>\n",
       "      <th>Reprovacao_Iniciais</th>\n",
       "      <th>Reprovacao_Finais</th>\n",
       "      <th>Urgencia</th>\n",
       "    </tr>\n",
       "  </thead>\n",
       "  <tbody>\n",
       "    <tr>\n",
       "      <th>85</th>\n",
       "      <td>PB</td>\n",
       "      <td>SERRA REDONDA</td>\n",
       "      <td>Serra Redonda</td>\n",
       "      <td>Urbana</td>\n",
       "      <td>Total</td>\n",
       "      <td>6.15</td>\n",
       "      <td>13.6</td>\n",
       "      <td>0.92035</td>\n",
       "      <td>0.7574</td>\n",
       "      <td>7.965</td>\n",
       "      <td>24.26</td>\n",
       "      <td>51.975</td>\n",
       "    </tr>\n",
       "    <tr>\n",
       "      <th>83</th>\n",
       "      <td>PB</td>\n",
       "      <td>SERRA REDONDA</td>\n",
       "      <td>Serra Redonda</td>\n",
       "      <td>Total</td>\n",
       "      <td>Pública</td>\n",
       "      <td>6.10</td>\n",
       "      <td>13.6</td>\n",
       "      <td>0.92035</td>\n",
       "      <td>0.7574</td>\n",
       "      <td>7.965</td>\n",
       "      <td>24.26</td>\n",
       "      <td>51.925</td>\n",
       "    </tr>\n",
       "    <tr>\n",
       "      <th>82</th>\n",
       "      <td>PB</td>\n",
       "      <td>SERRA REDONDA</td>\n",
       "      <td>Serra Redonda</td>\n",
       "      <td>Total</td>\n",
       "      <td>Total</td>\n",
       "      <td>5.80</td>\n",
       "      <td>13.6</td>\n",
       "      <td>0.92035</td>\n",
       "      <td>0.7574</td>\n",
       "      <td>7.965</td>\n",
       "      <td>24.26</td>\n",
       "      <td>51.625</td>\n",
       "    </tr>\n",
       "    <tr>\n",
       "      <th>73</th>\n",
       "      <td>PB</td>\n",
       "      <td>SANTA RITA</td>\n",
       "      <td>Santa Rita</td>\n",
       "      <td>Total</td>\n",
       "      <td>Pública</td>\n",
       "      <td>5.50</td>\n",
       "      <td>15.2</td>\n",
       "      <td>0.92710</td>\n",
       "      <td>0.8197</td>\n",
       "      <td>7.290</td>\n",
       "      <td>18.03</td>\n",
       "      <td>46.020</td>\n",
       "    </tr>\n",
       "    <tr>\n",
       "      <th>72</th>\n",
       "      <td>PB</td>\n",
       "      <td>SANTA RITA</td>\n",
       "      <td>Santa Rita</td>\n",
       "      <td>Total</td>\n",
       "      <td>Total</td>\n",
       "      <td>5.00</td>\n",
       "      <td>14.5</td>\n",
       "      <td>0.92710</td>\n",
       "      <td>0.8197</td>\n",
       "      <td>7.290</td>\n",
       "      <td>18.03</td>\n",
       "      <td>44.820</td>\n",
       "    </tr>\n",
       "    <tr>\n",
       "      <th>76</th>\n",
       "      <td>PB</td>\n",
       "      <td>SANTA RITA</td>\n",
       "      <td>Santa Rita</td>\n",
       "      <td>Rural</td>\n",
       "      <td>Total</td>\n",
       "      <td>5.90</td>\n",
       "      <td>13.4</td>\n",
       "      <td>0.92710</td>\n",
       "      <td>0.8197</td>\n",
       "      <td>7.290</td>\n",
       "      <td>18.03</td>\n",
       "      <td>44.620</td>\n",
       "    </tr>\n",
       "    <tr>\n",
       "      <th>75</th>\n",
       "      <td>PB</td>\n",
       "      <td>SANTA RITA</td>\n",
       "      <td>Santa Rita</td>\n",
       "      <td>Urbana</td>\n",
       "      <td>Total</td>\n",
       "      <td>4.70</td>\n",
       "      <td>14.5</td>\n",
       "      <td>0.92710</td>\n",
       "      <td>0.8197</td>\n",
       "      <td>7.290</td>\n",
       "      <td>18.03</td>\n",
       "      <td>44.520</td>\n",
       "    </tr>\n",
       "    <tr>\n",
       "      <th>10</th>\n",
       "      <td>PB</td>\n",
       "      <td>BANANEIRAS</td>\n",
       "      <td>Bananeiras</td>\n",
       "      <td>Total</td>\n",
       "      <td>Pública</td>\n",
       "      <td>4.20</td>\n",
       "      <td>18.1</td>\n",
       "      <td>0.97130</td>\n",
       "      <td>0.8612</td>\n",
       "      <td>2.870</td>\n",
       "      <td>13.88</td>\n",
       "      <td>39.050</td>\n",
       "    </tr>\n",
       "    <tr>\n",
       "      <th>12</th>\n",
       "      <td>PB</td>\n",
       "      <td>BANANEIRAS</td>\n",
       "      <td>Bananeiras</td>\n",
       "      <td>Urbana</td>\n",
       "      <td>Total</td>\n",
       "      <td>3.50</td>\n",
       "      <td>18.2</td>\n",
       "      <td>0.97130</td>\n",
       "      <td>0.8612</td>\n",
       "      <td>2.870</td>\n",
       "      <td>13.88</td>\n",
       "      <td>38.450</td>\n",
       "    </tr>\n",
       "    <tr>\n",
       "      <th>9</th>\n",
       "      <td>PB</td>\n",
       "      <td>BANANEIRAS</td>\n",
       "      <td>Bananeiras</td>\n",
       "      <td>Total</td>\n",
       "      <td>Total</td>\n",
       "      <td>3.60</td>\n",
       "      <td>17.0</td>\n",
       "      <td>0.97130</td>\n",
       "      <td>0.8612</td>\n",
       "      <td>2.870</td>\n",
       "      <td>13.88</td>\n",
       "      <td>37.350</td>\n",
       "    </tr>\n",
       "    <tr>\n",
       "      <th>49</th>\n",
       "      <td>PB</td>\n",
       "      <td>JOÃO PESSOA</td>\n",
       "      <td>João Pessoa</td>\n",
       "      <td>Total</td>\n",
       "      <td>Pública</td>\n",
       "      <td>4.30</td>\n",
       "      <td>10.6</td>\n",
       "      <td>0.94490</td>\n",
       "      <td>0.8333</td>\n",
       "      <td>5.510</td>\n",
       "      <td>16.67</td>\n",
       "      <td>37.080</td>\n",
       "    </tr>\n",
       "    <tr>\n",
       "      <th>51</th>\n",
       "      <td>PB</td>\n",
       "      <td>JOÃO PESSOA</td>\n",
       "      <td>João Pessoa</td>\n",
       "      <td>Urbana</td>\n",
       "      <td>Total</td>\n",
       "      <td>4.10</td>\n",
       "      <td>10.2</td>\n",
       "      <td>0.94490</td>\n",
       "      <td>0.8333</td>\n",
       "      <td>5.510</td>\n",
       "      <td>16.67</td>\n",
       "      <td>36.480</td>\n",
       "    </tr>\n",
       "    <tr>\n",
       "      <th>48</th>\n",
       "      <td>PB</td>\n",
       "      <td>JOÃO PESSOA</td>\n",
       "      <td>João Pessoa</td>\n",
       "      <td>Total</td>\n",
       "      <td>Total</td>\n",
       "      <td>4.10</td>\n",
       "      <td>10.2</td>\n",
       "      <td>0.94490</td>\n",
       "      <td>0.8333</td>\n",
       "      <td>5.510</td>\n",
       "      <td>16.67</td>\n",
       "      <td>36.480</td>\n",
       "    </tr>\n",
       "    <tr>\n",
       "      <th>50</th>\n",
       "      <td>PB</td>\n",
       "      <td>JOÃO PESSOA</td>\n",
       "      <td>João Pessoa</td>\n",
       "      <td>Total</td>\n",
       "      <td>Privada</td>\n",
       "      <td>3.90</td>\n",
       "      <td>9.3</td>\n",
       "      <td>0.94490</td>\n",
       "      <td>0.8333</td>\n",
       "      <td>5.510</td>\n",
       "      <td>16.67</td>\n",
       "      <td>35.380</td>\n",
       "    </tr>\n",
       "    <tr>\n",
       "      <th>39</th>\n",
       "      <td>PB</td>\n",
       "      <td>INGÁ</td>\n",
       "      <td>Ingá</td>\n",
       "      <td>Total</td>\n",
       "      <td>Pública</td>\n",
       "      <td>4.10</td>\n",
       "      <td>19.3</td>\n",
       "      <td>0.98430</td>\n",
       "      <td>0.8970</td>\n",
       "      <td>1.570</td>\n",
       "      <td>10.30</td>\n",
       "      <td>35.270</td>\n",
       "    </tr>\n",
       "    <tr>\n",
       "      <th>31</th>\n",
       "      <td>PB</td>\n",
       "      <td>CATURITÉ</td>\n",
       "      <td>Caturité</td>\n",
       "      <td>Urbana</td>\n",
       "      <td>Total</td>\n",
       "      <td>3.90</td>\n",
       "      <td>18.1</td>\n",
       "      <td>0.97730</td>\n",
       "      <td>0.8953</td>\n",
       "      <td>2.270</td>\n",
       "      <td>10.47</td>\n",
       "      <td>34.740</td>\n",
       "    </tr>\n",
       "    <tr>\n",
       "      <th>29</th>\n",
       "      <td>PB</td>\n",
       "      <td>CATURITÉ</td>\n",
       "      <td>Caturité</td>\n",
       "      <td>Total</td>\n",
       "      <td>Pública</td>\n",
       "      <td>3.20</td>\n",
       "      <td>18.1</td>\n",
       "      <td>0.97730</td>\n",
       "      <td>0.8953</td>\n",
       "      <td>2.270</td>\n",
       "      <td>10.47</td>\n",
       "      <td>34.040</td>\n",
       "    </tr>\n",
       "    <tr>\n",
       "      <th>28</th>\n",
       "      <td>PB</td>\n",
       "      <td>CATURITÉ</td>\n",
       "      <td>Caturité</td>\n",
       "      <td>Total</td>\n",
       "      <td>Total</td>\n",
       "      <td>3.20</td>\n",
       "      <td>18.1</td>\n",
       "      <td>0.97730</td>\n",
       "      <td>0.8953</td>\n",
       "      <td>2.270</td>\n",
       "      <td>10.47</td>\n",
       "      <td>34.040</td>\n",
       "    </tr>\n",
       "    <tr>\n",
       "      <th>8</th>\n",
       "      <td>PB</td>\n",
       "      <td>BAÍA DA TRAIÇÃO</td>\n",
       "      <td>Baía da Traição</td>\n",
       "      <td>Rural</td>\n",
       "      <td>Total</td>\n",
       "      <td>3.40</td>\n",
       "      <td>8.9</td>\n",
       "      <td>0.92035</td>\n",
       "      <td>0.8661</td>\n",
       "      <td>7.965</td>\n",
       "      <td>13.39</td>\n",
       "      <td>33.655</td>\n",
       "    </tr>\n",
       "    <tr>\n",
       "      <th>19</th>\n",
       "      <td>PB</td>\n",
       "      <td>CAMPINA GRANDE</td>\n",
       "      <td>Campina Grande</td>\n",
       "      <td>Total</td>\n",
       "      <td>Pública</td>\n",
       "      <td>5.60</td>\n",
       "      <td>10.4</td>\n",
       "      <td>0.98190</td>\n",
       "      <td>0.8416</td>\n",
       "      <td>1.810</td>\n",
       "      <td>15.84</td>\n",
       "      <td>33.650</td>\n",
       "    </tr>\n",
       "  </tbody>\n",
       "</table>\n",
       "</div>"
      ],
      "text/plain": [
       "   UF_SIGLA MUNICIPIO_NOME_ALP     NO_MUNICIPIO NO_LOCALIZACAO NO_DEPENDENCIA  \\\n",
       "85       PB      SERRA REDONDA    Serra Redonda         Urbana          Total   \n",
       "83       PB      SERRA REDONDA    Serra Redonda          Total        Pública   \n",
       "82       PB      SERRA REDONDA    Serra Redonda          Total          Total   \n",
       "73       PB         SANTA RITA       Santa Rita          Total        Pública   \n",
       "72       PB         SANTA RITA       Santa Rita          Total          Total   \n",
       "76       PB         SANTA RITA       Santa Rita          Rural          Total   \n",
       "75       PB         SANTA RITA       Santa Rita         Urbana          Total   \n",
       "10       PB         BANANEIRAS       Bananeiras          Total        Pública   \n",
       "12       PB         BANANEIRAS       Bananeiras         Urbana          Total   \n",
       "9        PB         BANANEIRAS       Bananeiras          Total          Total   \n",
       "49       PB        JOÃO PESSOA      João Pessoa          Total        Pública   \n",
       "51       PB        JOÃO PESSOA      João Pessoa         Urbana          Total   \n",
       "48       PB        JOÃO PESSOA      João Pessoa          Total          Total   \n",
       "50       PB        JOÃO PESSOA      João Pessoa          Total        Privada   \n",
       "39       PB               INGÁ             Ingá          Total        Pública   \n",
       "31       PB           CATURITÉ         Caturité         Urbana          Total   \n",
       "29       PB           CATURITÉ         Caturité          Total        Pública   \n",
       "28       PB           CATURITÉ         Caturité          Total          Total   \n",
       "8        PB    BAÍA DA TRAIÇÃO  Baía da Traição          Rural          Total   \n",
       "19       PB     CAMPINA GRANDE   Campina Grande          Total        Pública   \n",
       "\n",
       "    Evasão - Fundamental  Evasão -Médio  TAXA_APROVACAO_INICIAIS  \\\n",
       "85                  6.15           13.6                  0.92035   \n",
       "83                  6.10           13.6                  0.92035   \n",
       "82                  5.80           13.6                  0.92035   \n",
       "73                  5.50           15.2                  0.92710   \n",
       "72                  5.00           14.5                  0.92710   \n",
       "76                  5.90           13.4                  0.92710   \n",
       "75                  4.70           14.5                  0.92710   \n",
       "10                  4.20           18.1                  0.97130   \n",
       "12                  3.50           18.2                  0.97130   \n",
       "9                   3.60           17.0                  0.97130   \n",
       "49                  4.30           10.6                  0.94490   \n",
       "51                  4.10           10.2                  0.94490   \n",
       "48                  4.10           10.2                  0.94490   \n",
       "50                  3.90            9.3                  0.94490   \n",
       "39                  4.10           19.3                  0.98430   \n",
       "31                  3.90           18.1                  0.97730   \n",
       "29                  3.20           18.1                  0.97730   \n",
       "28                  3.20           18.1                  0.97730   \n",
       "8                   3.40            8.9                  0.92035   \n",
       "19                  5.60           10.4                  0.98190   \n",
       "\n",
       "    TAXA_APROVACAO_FINAIS  Reprovacao_Iniciais  Reprovacao_Finais  Urgencia  \n",
       "85                 0.7574                7.965              24.26    51.975  \n",
       "83                 0.7574                7.965              24.26    51.925  \n",
       "82                 0.7574                7.965              24.26    51.625  \n",
       "73                 0.8197                7.290              18.03    46.020  \n",
       "72                 0.8197                7.290              18.03    44.820  \n",
       "76                 0.8197                7.290              18.03    44.620  \n",
       "75                 0.8197                7.290              18.03    44.520  \n",
       "10                 0.8612                2.870              13.88    39.050  \n",
       "12                 0.8612                2.870              13.88    38.450  \n",
       "9                  0.8612                2.870              13.88    37.350  \n",
       "49                 0.8333                5.510              16.67    37.080  \n",
       "51                 0.8333                5.510              16.67    36.480  \n",
       "48                 0.8333                5.510              16.67    36.480  \n",
       "50                 0.8333                5.510              16.67    35.380  \n",
       "39                 0.8970                1.570              10.30    35.270  \n",
       "31                 0.8953                2.270              10.47    34.740  \n",
       "29                 0.8953                2.270              10.47    34.040  \n",
       "28                 0.8953                2.270              10.47    34.040  \n",
       "8                  0.8661                7.965              13.39    33.655  \n",
       "19                 0.8416                1.810              15.84    33.650  "
      ]
     },
     "metadata": {},
     "output_type": "display_data"
    }
   ],
   "source": [
    "winsor_df[\"Reprovacao_Iniciais\"] = (1 - winsor_df[\"TAXA_APROVACAO_INICIAIS\"]) * 100\n",
    "winsor_df[\"Reprovacao_Finais\"]   = (1 - winsor_df[\"TAXA_APROVACAO_FINAIS\"]) * 100\n",
    "\n",
    "winsor_df[\"Urgencia\"] = (\n",
    "    winsor_df[\"Evasão - Fundamental\"] +\n",
    "    winsor_df[\"Evasão -Médio\"] +\n",
    "    winsor_df[\"Reprovacao_Iniciais\"] +\n",
    "    winsor_df[\"Reprovacao_Finais\"]\n",
    ")\n",
    "\n",
    "urgentes = winsor_df.sort_values(\"Urgencia\", ascending=False).head(20)\n",
    "display(urgentes)\n",
    "\n"
   ]
  },
  {
   "cell_type": "code",
   "execution_count": 25,
   "id": "98110cc3",
   "metadata": {},
   "outputs": [
    {
     "name": "stdout",
     "output_type": "stream",
     "text": [
      "Arquivos salvos: tabela_essencial.xlsx e tabela_essencial.csv\n"
     ]
    }
   ],
   "source": [
    "# Escolha as colunas que você quer no app:\n",
    "colunas_essenciais = [\n",
    "    \"MUNICIPIO_NOME_ALP\",   # ou \"NO_MUNICIPIO\"\n",
    "    \"NO_LOCALIZACAO\",       # opcional\n",
    "    \"NO_DEPENDENCIA\",       # opcional\n",
    "    \"Evasão - Fundamental\",\n",
    "    \"Evasão -Médio\",\n",
    "    \"TAXA_APROVACAO_INICIAIS\",\n",
    "    \"TAXA_APROVACAO_FINAIS\",\n",
    "    \"Reprovacao_Iniciais\",\n",
    "    \"Reprovacao_Finais\",\n",
    "    \"Urgencia\"\n",
    "]\n",
    "\n",
    "tabela_essencial = urgentes[colunas_essenciais].copy()  # use o seu DF final (ex.: winsor_df / urgentes)\n",
    "\n",
    "# Garanta que números estão no formato numérico:\n",
    "def to_num(s):\n",
    "    return pd.to_numeric(s.astype(str).str.replace(\",\", \".\", regex=False), errors=\"coerce\")\n",
    "\n",
    "for c in [\"Evasão - Fundamental\", \"Evasão - Médio\",\n",
    "          \"TAXA_APROVACAO_INICIAIS\", \"TAXA_APROVACAO_FINAIS\",\n",
    "          \"Reprovacao_Iniciais\", \"Reprovacao_Finais\", \"Urgencia\"]:\n",
    "    if c in tabela_essencial.columns:\n",
    "        tabela_essencial[c] = to_num(tabela_essencial[c])\n",
    "\n",
    "# Salvar como Excel e CSV\n",
    "tabela_essencial.to_excel(\"tabela_essencial.xlsx\", index=False)\n",
    "tabela_essencial.to_csv(\"tabela_essencial.csv\", index=False, encoding=\"utf-8\")\n",
    "print(\"Arquivos salvos: tabela_essencial.xlsx e tabela_essencial.csv\")\n"
   ]
  },
  {
   "cell_type": "code",
   "execution_count": 26,
   "id": "56b3cdc3",
   "metadata": {},
   "outputs": [],
   "source": [
    "import unicodedata\n",
    "import pandas as pd\n",
    "\n",
    "# ============================================================\n",
    "# Funções utilitárias\n",
    "# ============================================================\n",
    "def nrm(x):\n",
    "    if pd.isna(x):\n",
    "        return \"\"\n",
    "    s = str(x)\n",
    "    s = unicodedata.normalize(\"NFKD\", s).encode(\"ASCII\", \"ignore\").decode(\"ASCII\")\n",
    "    return s.upper().strip()\n",
    "\n",
    "def chave_municipio(nome: str) -> str:\n",
    "    n = nrm(nome).replace(\"–\", \"-\").replace(\"—\", \"-\")\n",
    "    if \" - \" in n:\n",
    "        n = n.split(\" - \")[0]\n",
    "    for suf in (\" MIXING CENTER\", \" DISTRITO\", \" DISTRITO INDUSTRIAL\"):\n",
    "        if n.endswith(suf):\n",
    "            n = n[: -len(suf)].strip()\n",
    "    return n\n",
    "\n",
    "def ensure_key_urgentes(urgentes: pd.DataFrame) -> pd.DataFrame:\n",
    "    u = urgentes.copy()\n",
    "    # prioridade: MUNICIPIO_NOME_ALP → se não tiver, usa NO_MUNICIPIO\n",
    "    if \"MUNICIPIO_NOME_ALP\" in u.columns:\n",
    "        base_nome = u[\"MUNICIPIO_NOME_ALP\"].where(\n",
    "            u[\"MUNICIPIO_NOME_ALP\"].notna(),\n",
    "            u.get(\"NO_MUNICIPIO\")\n",
    "        )\n",
    "    else:\n",
    "        base_nome = u.get(\"NO_MUNICIPIO\")\n",
    "    u[\"MUNICIPIO_CHAVE\"] = base_nome.apply(chave_municipio)\n",
    "    return u\n",
    "\n",
    "# ============================================================\n",
    "# 0) Look-up UF por código IBGE (usa sua DTB)\n",
    "# ============================================================\n",
    "dtb = carrega_dtb(ARQ_DTB)  # do seu sprint01.py\n",
    "dtb_lookup = (\n",
    "    dtb[[\"MUNICIPIO_CODIGO\", \"UF_SIGLA\", \"MUNICIPIO_NOME\"]]\n",
    "      .rename(columns={\"MUNICIPIO_CODIGO\": \"CO_MUNICIPIO\"})\n",
    ")\n",
    "dtb_lookup[\"CO_MUNICIPIO\"] = (\n",
    "    dtb_lookup[\"CO_MUNICIPIO\"].astype(str).str.extract(r\"(\\d{7})\", expand=False).str.zfill(7)\n",
    ")\n",
    "\n",
    "# ============================================================\n",
    "# 1) média dos OUTROS anos (≠ 2023) por município (anexa UF via DTB)\n",
    "# ============================================================\n",
    "def media_outros_anos_nome_uf(df: pd.DataFrame, rotulo_saida: str) -> pd.DataFrame:\n",
    "    anos = [2005, 2007, 2009, 2011, 2013, 2015, 2017, 2019, 2021, 2022]\n",
    "    cols = [f\"VL_INDICADOR_REND_{a}\" for a in anos if f\"VL_INDICADOR_REND_{a}\" in df.columns]\n",
    "    if not cols:\n",
    "        raise KeyError(\"Nenhuma coluna VL_INDICADOR_REND_XXXX (anos ≠ 2023) encontrada.\")\n",
    "\n",
    "    tmp = df.copy()\n",
    "    tmp[\"CO_MUNICIPIO\"] = (\n",
    "        tmp[\"CO_MUNICIPIO\"].astype(str).str.extract(r\"(\\d{7})\", expand=False).str.zfill(7)\n",
    "    )\n",
    "\n",
    "    # anexa UF e nome oficial via DTB\n",
    "    tmp = tmp.merge(dtb_lookup, on=\"CO_MUNICIPIO\", how=\"left\")\n",
    "\n",
    "    # cria chave por NOME para casar com 'urgentes'\n",
    "    nome_base = tmp[\"NO_MUNICIPIO\"].where(tmp[\"NO_MUNICIPIO\"].notna(), tmp[\"MUNICIPIO_NOME\"])\n",
    "    tmp[\"MUNICIPIO_CHAVE\"] = nome_base.apply(chave_municipio)\n",
    "\n",
    "    # calcula média histórica\n",
    "    tmp_num = tmp[cols].apply(pd.to_numeric, errors=\"coerce\")\n",
    "    tmp[rotulo_saida] = tmp_num.mean(axis=1, skipna=True)\n",
    "\n",
    "    out = (tmp.groupby([\"UF_SIGLA\", \"MUNICIPIO_CHAVE\"], as_index=False)[rotulo_saida]\n",
    "             .mean())\n",
    "    return out\n",
    "\n",
    "# ============================================================\n",
    "# 2) calcula históricos (iniciais/finais/médio) e média geral\n",
    "# ============================================================\n",
    "ini_hist = media_outros_anos_nome_uf(df_iniciais, \"TAXA_APROVACAO_INICIAIS_HIST\")\n",
    "fin_hist = media_outros_anos_nome_uf(df_finais,   \"TAXA_APROVACAO_FINAIS_HIST\")\n",
    "med_hist = media_outros_anos_nome_uf(df_em,       \"TAXA_APROVACAO_MEDIO_HIST\")\n",
    "\n",
    "hist = (ini_hist.merge(fin_hist, on=[\"UF_SIGLA\",\"MUNICIPIO_CHAVE\"], how=\"outer\")\n",
    "               .merge(med_hist, on=[\"UF_SIGLA\",\"MUNICIPIO_CHAVE\"], how=\"outer\"))\n",
    "\n",
    "hist[\"TAXA_APROVACAO_MEDIA_HIST\"] = hist[\n",
    "    [\"TAXA_APROVACAO_INICIAIS_HIST\",\"TAXA_APROVACAO_FINAIS_HIST\",\"TAXA_APROVACAO_MEDIO_HIST\"]\n",
    "].mean(axis=1)\n",
    "\n",
    "for c in [\"TAXA_APROVACAO_INICIAIS_HIST\",\"TAXA_APROVACAO_FINAIS_HIST\",\"TAXA_APROVACAO_MEDIO_HIST\",\"TAXA_APROVACAO_MEDIA_HIST\"]:\n",
    "    if c in hist.columns: \n",
    "        hist[c] = hist[c].round(4)\n",
    "\n",
    "hist[\"TAXA_APROVACAO_MEDIA_HIST_%\"] = (hist[\"TAXA_APROVACAO_MEDIA_HIST\"]*100).round(2)\n",
    "\n",
    "# ============================================================\n",
    "# 3) garante chave em 'urgentes' e faz o merge por UF+chave\n",
    "# ============================================================\n",
    "urgentes = ensure_key_urgentes(urgentes)\n",
    "urgentes = urgentes.merge(\n",
    "    hist[[\"UF_SIGLA\",\"MUNICIPIO_CHAVE\",\"TAXA_APROVACAO_MEDIA_HIST\",\"TAXA_APROVACAO_MEDIA_HIST_%\"]],\n",
    "    on=[\"UF_SIGLA\",\"MUNICIPIO_CHAVE\"],\n",
    "    how=\"left\"\n",
    ")\n",
    "\n"
   ]
  },
  {
   "cell_type": "code",
   "execution_count": 27,
   "id": "11ba34e1",
   "metadata": {},
   "outputs": [
    {
     "data": {
      "text/html": [
       "<div>\n",
       "<style scoped>\n",
       "    .dataframe tbody tr th:only-of-type {\n",
       "        vertical-align: middle;\n",
       "    }\n",
       "\n",
       "    .dataframe tbody tr th {\n",
       "        vertical-align: top;\n",
       "    }\n",
       "\n",
       "    .dataframe thead th {\n",
       "        text-align: right;\n",
       "    }\n",
       "</style>\n",
       "<table border=\"1\" class=\"dataframe\">\n",
       "  <thead>\n",
       "    <tr style=\"text-align: right;\">\n",
       "      <th></th>\n",
       "      <th>UF_SIGLA</th>\n",
       "      <th>MUNICIPIO_NOME_ALP</th>\n",
       "      <th>NO_MUNICIPIO</th>\n",
       "      <th>NO_LOCALIZACAO</th>\n",
       "      <th>NO_DEPENDENCIA</th>\n",
       "      <th>Evasão - Fundamental</th>\n",
       "      <th>Evasão -Médio</th>\n",
       "      <th>TAXA_APROVACAO_INICIAIS</th>\n",
       "      <th>TAXA_APROVACAO_FINAIS</th>\n",
       "      <th>Reprovacao_Iniciais</th>\n",
       "      <th>Reprovacao_Finais</th>\n",
       "      <th>Urgencia</th>\n",
       "      <th>MÉDIA_HISTÓRICA</th>\n",
       "    </tr>\n",
       "  </thead>\n",
       "  <tbody>\n",
       "    <tr>\n",
       "      <th>0</th>\n",
       "      <td>PB</td>\n",
       "      <td>SERRA REDONDA</td>\n",
       "      <td>Serra Redonda</td>\n",
       "      <td>Urbana</td>\n",
       "      <td>Total</td>\n",
       "      <td>6.15</td>\n",
       "      <td>13.6</td>\n",
       "      <td>0.92035</td>\n",
       "      <td>0.7574</td>\n",
       "      <td>7.965</td>\n",
       "      <td>24.26</td>\n",
       "      <td>51.975</td>\n",
       "      <td>77.64</td>\n",
       "    </tr>\n",
       "    <tr>\n",
       "      <th>1</th>\n",
       "      <td>PB</td>\n",
       "      <td>SERRA REDONDA</td>\n",
       "      <td>Serra Redonda</td>\n",
       "      <td>Total</td>\n",
       "      <td>Pública</td>\n",
       "      <td>6.10</td>\n",
       "      <td>13.6</td>\n",
       "      <td>0.92035</td>\n",
       "      <td>0.7574</td>\n",
       "      <td>7.965</td>\n",
       "      <td>24.26</td>\n",
       "      <td>51.925</td>\n",
       "      <td>77.64</td>\n",
       "    </tr>\n",
       "    <tr>\n",
       "      <th>2</th>\n",
       "      <td>PB</td>\n",
       "      <td>SERRA REDONDA</td>\n",
       "      <td>Serra Redonda</td>\n",
       "      <td>Total</td>\n",
       "      <td>Total</td>\n",
       "      <td>5.80</td>\n",
       "      <td>13.6</td>\n",
       "      <td>0.92035</td>\n",
       "      <td>0.7574</td>\n",
       "      <td>7.965</td>\n",
       "      <td>24.26</td>\n",
       "      <td>51.625</td>\n",
       "      <td>77.64</td>\n",
       "    </tr>\n",
       "    <tr>\n",
       "      <th>3</th>\n",
       "      <td>PB</td>\n",
       "      <td>SANTA RITA</td>\n",
       "      <td>Santa Rita</td>\n",
       "      <td>Total</td>\n",
       "      <td>Pública</td>\n",
       "      <td>5.50</td>\n",
       "      <td>15.2</td>\n",
       "      <td>0.92710</td>\n",
       "      <td>0.8197</td>\n",
       "      <td>7.290</td>\n",
       "      <td>18.03</td>\n",
       "      <td>46.020</td>\n",
       "      <td>78.37</td>\n",
       "    </tr>\n",
       "    <tr>\n",
       "      <th>4</th>\n",
       "      <td>PB</td>\n",
       "      <td>SANTA RITA</td>\n",
       "      <td>Santa Rita</td>\n",
       "      <td>Total</td>\n",
       "      <td>Total</td>\n",
       "      <td>5.00</td>\n",
       "      <td>14.5</td>\n",
       "      <td>0.92710</td>\n",
       "      <td>0.8197</td>\n",
       "      <td>7.290</td>\n",
       "      <td>18.03</td>\n",
       "      <td>44.820</td>\n",
       "      <td>78.37</td>\n",
       "    </tr>\n",
       "    <tr>\n",
       "      <th>5</th>\n",
       "      <td>PB</td>\n",
       "      <td>SANTA RITA</td>\n",
       "      <td>Santa Rita</td>\n",
       "      <td>Rural</td>\n",
       "      <td>Total</td>\n",
       "      <td>5.90</td>\n",
       "      <td>13.4</td>\n",
       "      <td>0.92710</td>\n",
       "      <td>0.8197</td>\n",
       "      <td>7.290</td>\n",
       "      <td>18.03</td>\n",
       "      <td>44.620</td>\n",
       "      <td>78.37</td>\n",
       "    </tr>\n",
       "    <tr>\n",
       "      <th>6</th>\n",
       "      <td>PB</td>\n",
       "      <td>SANTA RITA</td>\n",
       "      <td>Santa Rita</td>\n",
       "      <td>Urbana</td>\n",
       "      <td>Total</td>\n",
       "      <td>4.70</td>\n",
       "      <td>14.5</td>\n",
       "      <td>0.92710</td>\n",
       "      <td>0.8197</td>\n",
       "      <td>7.290</td>\n",
       "      <td>18.03</td>\n",
       "      <td>44.520</td>\n",
       "      <td>78.37</td>\n",
       "    </tr>\n",
       "    <tr>\n",
       "      <th>7</th>\n",
       "      <td>PB</td>\n",
       "      <td>BANANEIRAS</td>\n",
       "      <td>Bananeiras</td>\n",
       "      <td>Total</td>\n",
       "      <td>Pública</td>\n",
       "      <td>4.20</td>\n",
       "      <td>18.1</td>\n",
       "      <td>0.97130</td>\n",
       "      <td>0.8612</td>\n",
       "      <td>2.870</td>\n",
       "      <td>13.88</td>\n",
       "      <td>39.050</td>\n",
       "      <td>79.88</td>\n",
       "    </tr>\n",
       "    <tr>\n",
       "      <th>8</th>\n",
       "      <td>PB</td>\n",
       "      <td>BANANEIRAS</td>\n",
       "      <td>Bananeiras</td>\n",
       "      <td>Urbana</td>\n",
       "      <td>Total</td>\n",
       "      <td>3.50</td>\n",
       "      <td>18.2</td>\n",
       "      <td>0.97130</td>\n",
       "      <td>0.8612</td>\n",
       "      <td>2.870</td>\n",
       "      <td>13.88</td>\n",
       "      <td>38.450</td>\n",
       "      <td>79.88</td>\n",
       "    </tr>\n",
       "    <tr>\n",
       "      <th>9</th>\n",
       "      <td>PB</td>\n",
       "      <td>BANANEIRAS</td>\n",
       "      <td>Bananeiras</td>\n",
       "      <td>Total</td>\n",
       "      <td>Total</td>\n",
       "      <td>3.60</td>\n",
       "      <td>17.0</td>\n",
       "      <td>0.97130</td>\n",
       "      <td>0.8612</td>\n",
       "      <td>2.870</td>\n",
       "      <td>13.88</td>\n",
       "      <td>37.350</td>\n",
       "      <td>79.88</td>\n",
       "    </tr>\n",
       "    <tr>\n",
       "      <th>10</th>\n",
       "      <td>PB</td>\n",
       "      <td>JOÃO PESSOA</td>\n",
       "      <td>João Pessoa</td>\n",
       "      <td>Total</td>\n",
       "      <td>Pública</td>\n",
       "      <td>4.30</td>\n",
       "      <td>10.6</td>\n",
       "      <td>0.94490</td>\n",
       "      <td>0.8333</td>\n",
       "      <td>5.510</td>\n",
       "      <td>16.67</td>\n",
       "      <td>37.080</td>\n",
       "      <td>83.61</td>\n",
       "    </tr>\n",
       "    <tr>\n",
       "      <th>11</th>\n",
       "      <td>PB</td>\n",
       "      <td>JOÃO PESSOA</td>\n",
       "      <td>João Pessoa</td>\n",
       "      <td>Urbana</td>\n",
       "      <td>Total</td>\n",
       "      <td>4.10</td>\n",
       "      <td>10.2</td>\n",
       "      <td>0.94490</td>\n",
       "      <td>0.8333</td>\n",
       "      <td>5.510</td>\n",
       "      <td>16.67</td>\n",
       "      <td>36.480</td>\n",
       "      <td>83.61</td>\n",
       "    </tr>\n",
       "    <tr>\n",
       "      <th>12</th>\n",
       "      <td>PB</td>\n",
       "      <td>JOÃO PESSOA</td>\n",
       "      <td>João Pessoa</td>\n",
       "      <td>Total</td>\n",
       "      <td>Total</td>\n",
       "      <td>4.10</td>\n",
       "      <td>10.2</td>\n",
       "      <td>0.94490</td>\n",
       "      <td>0.8333</td>\n",
       "      <td>5.510</td>\n",
       "      <td>16.67</td>\n",
       "      <td>36.480</td>\n",
       "      <td>83.61</td>\n",
       "    </tr>\n",
       "    <tr>\n",
       "      <th>13</th>\n",
       "      <td>PB</td>\n",
       "      <td>JOÃO PESSOA</td>\n",
       "      <td>João Pessoa</td>\n",
       "      <td>Total</td>\n",
       "      <td>Privada</td>\n",
       "      <td>3.90</td>\n",
       "      <td>9.3</td>\n",
       "      <td>0.94490</td>\n",
       "      <td>0.8333</td>\n",
       "      <td>5.510</td>\n",
       "      <td>16.67</td>\n",
       "      <td>35.380</td>\n",
       "      <td>83.61</td>\n",
       "    </tr>\n",
       "    <tr>\n",
       "      <th>14</th>\n",
       "      <td>PB</td>\n",
       "      <td>INGÁ</td>\n",
       "      <td>Ingá</td>\n",
       "      <td>Total</td>\n",
       "      <td>Pública</td>\n",
       "      <td>4.10</td>\n",
       "      <td>19.3</td>\n",
       "      <td>0.98430</td>\n",
       "      <td>0.8970</td>\n",
       "      <td>1.570</td>\n",
       "      <td>10.30</td>\n",
       "      <td>35.270</td>\n",
       "      <td>76.76</td>\n",
       "    </tr>\n",
       "    <tr>\n",
       "      <th>15</th>\n",
       "      <td>PB</td>\n",
       "      <td>CATURITÉ</td>\n",
       "      <td>Caturité</td>\n",
       "      <td>Urbana</td>\n",
       "      <td>Total</td>\n",
       "      <td>3.90</td>\n",
       "      <td>18.1</td>\n",
       "      <td>0.97730</td>\n",
       "      <td>0.8953</td>\n",
       "      <td>2.270</td>\n",
       "      <td>10.47</td>\n",
       "      <td>34.740</td>\n",
       "      <td>84.80</td>\n",
       "    </tr>\n",
       "    <tr>\n",
       "      <th>16</th>\n",
       "      <td>PB</td>\n",
       "      <td>CATURITÉ</td>\n",
       "      <td>Caturité</td>\n",
       "      <td>Total</td>\n",
       "      <td>Pública</td>\n",
       "      <td>3.20</td>\n",
       "      <td>18.1</td>\n",
       "      <td>0.97730</td>\n",
       "      <td>0.8953</td>\n",
       "      <td>2.270</td>\n",
       "      <td>10.47</td>\n",
       "      <td>34.040</td>\n",
       "      <td>84.80</td>\n",
       "    </tr>\n",
       "    <tr>\n",
       "      <th>17</th>\n",
       "      <td>PB</td>\n",
       "      <td>CATURITÉ</td>\n",
       "      <td>Caturité</td>\n",
       "      <td>Total</td>\n",
       "      <td>Total</td>\n",
       "      <td>3.20</td>\n",
       "      <td>18.1</td>\n",
       "      <td>0.97730</td>\n",
       "      <td>0.8953</td>\n",
       "      <td>2.270</td>\n",
       "      <td>10.47</td>\n",
       "      <td>34.040</td>\n",
       "      <td>84.80</td>\n",
       "    </tr>\n",
       "    <tr>\n",
       "      <th>18</th>\n",
       "      <td>PB</td>\n",
       "      <td>BAÍA DA TRAIÇÃO</td>\n",
       "      <td>Baía da Traição</td>\n",
       "      <td>Rural</td>\n",
       "      <td>Total</td>\n",
       "      <td>3.40</td>\n",
       "      <td>8.9</td>\n",
       "      <td>0.92035</td>\n",
       "      <td>0.8661</td>\n",
       "      <td>7.965</td>\n",
       "      <td>13.39</td>\n",
       "      <td>33.655</td>\n",
       "      <td>85.41</td>\n",
       "    </tr>\n",
       "    <tr>\n",
       "      <th>19</th>\n",
       "      <td>PB</td>\n",
       "      <td>CAMPINA GRANDE</td>\n",
       "      <td>Campina Grande</td>\n",
       "      <td>Total</td>\n",
       "      <td>Pública</td>\n",
       "      <td>5.60</td>\n",
       "      <td>10.4</td>\n",
       "      <td>0.98190</td>\n",
       "      <td>0.8416</td>\n",
       "      <td>1.810</td>\n",
       "      <td>15.84</td>\n",
       "      <td>33.650</td>\n",
       "      <td>82.14</td>\n",
       "    </tr>\n",
       "  </tbody>\n",
       "</table>\n",
       "</div>"
      ],
      "text/plain": [
       "   UF_SIGLA MUNICIPIO_NOME_ALP     NO_MUNICIPIO NO_LOCALIZACAO NO_DEPENDENCIA  \\\n",
       "0        PB      SERRA REDONDA    Serra Redonda         Urbana          Total   \n",
       "1        PB      SERRA REDONDA    Serra Redonda          Total        Pública   \n",
       "2        PB      SERRA REDONDA    Serra Redonda          Total          Total   \n",
       "3        PB         SANTA RITA       Santa Rita          Total        Pública   \n",
       "4        PB         SANTA RITA       Santa Rita          Total          Total   \n",
       "5        PB         SANTA RITA       Santa Rita          Rural          Total   \n",
       "6        PB         SANTA RITA       Santa Rita         Urbana          Total   \n",
       "7        PB         BANANEIRAS       Bananeiras          Total        Pública   \n",
       "8        PB         BANANEIRAS       Bananeiras         Urbana          Total   \n",
       "9        PB         BANANEIRAS       Bananeiras          Total          Total   \n",
       "10       PB        JOÃO PESSOA      João Pessoa          Total        Pública   \n",
       "11       PB        JOÃO PESSOA      João Pessoa         Urbana          Total   \n",
       "12       PB        JOÃO PESSOA      João Pessoa          Total          Total   \n",
       "13       PB        JOÃO PESSOA      João Pessoa          Total        Privada   \n",
       "14       PB               INGÁ             Ingá          Total        Pública   \n",
       "15       PB           CATURITÉ         Caturité         Urbana          Total   \n",
       "16       PB           CATURITÉ         Caturité          Total        Pública   \n",
       "17       PB           CATURITÉ         Caturité          Total          Total   \n",
       "18       PB    BAÍA DA TRAIÇÃO  Baía da Traição          Rural          Total   \n",
       "19       PB     CAMPINA GRANDE   Campina Grande          Total        Pública   \n",
       "\n",
       "    Evasão - Fundamental  Evasão -Médio  TAXA_APROVACAO_INICIAIS  \\\n",
       "0                   6.15           13.6                  0.92035   \n",
       "1                   6.10           13.6                  0.92035   \n",
       "2                   5.80           13.6                  0.92035   \n",
       "3                   5.50           15.2                  0.92710   \n",
       "4                   5.00           14.5                  0.92710   \n",
       "5                   5.90           13.4                  0.92710   \n",
       "6                   4.70           14.5                  0.92710   \n",
       "7                   4.20           18.1                  0.97130   \n",
       "8                   3.50           18.2                  0.97130   \n",
       "9                   3.60           17.0                  0.97130   \n",
       "10                  4.30           10.6                  0.94490   \n",
       "11                  4.10           10.2                  0.94490   \n",
       "12                  4.10           10.2                  0.94490   \n",
       "13                  3.90            9.3                  0.94490   \n",
       "14                  4.10           19.3                  0.98430   \n",
       "15                  3.90           18.1                  0.97730   \n",
       "16                  3.20           18.1                  0.97730   \n",
       "17                  3.20           18.1                  0.97730   \n",
       "18                  3.40            8.9                  0.92035   \n",
       "19                  5.60           10.4                  0.98190   \n",
       "\n",
       "    TAXA_APROVACAO_FINAIS  Reprovacao_Iniciais  Reprovacao_Finais  Urgencia  \\\n",
       "0                  0.7574                7.965              24.26    51.975   \n",
       "1                  0.7574                7.965              24.26    51.925   \n",
       "2                  0.7574                7.965              24.26    51.625   \n",
       "3                  0.8197                7.290              18.03    46.020   \n",
       "4                  0.8197                7.290              18.03    44.820   \n",
       "5                  0.8197                7.290              18.03    44.620   \n",
       "6                  0.8197                7.290              18.03    44.520   \n",
       "7                  0.8612                2.870              13.88    39.050   \n",
       "8                  0.8612                2.870              13.88    38.450   \n",
       "9                  0.8612                2.870              13.88    37.350   \n",
       "10                 0.8333                5.510              16.67    37.080   \n",
       "11                 0.8333                5.510              16.67    36.480   \n",
       "12                 0.8333                5.510              16.67    36.480   \n",
       "13                 0.8333                5.510              16.67    35.380   \n",
       "14                 0.8970                1.570              10.30    35.270   \n",
       "15                 0.8953                2.270              10.47    34.740   \n",
       "16                 0.8953                2.270              10.47    34.040   \n",
       "17                 0.8953                2.270              10.47    34.040   \n",
       "18                 0.8661                7.965              13.39    33.655   \n",
       "19                 0.8416                1.810              15.84    33.650   \n",
       "\n",
       "    MÉDIA_HISTÓRICA  \n",
       "0             77.64  \n",
       "1             77.64  \n",
       "2             77.64  \n",
       "3             78.37  \n",
       "4             78.37  \n",
       "5             78.37  \n",
       "6             78.37  \n",
       "7             79.88  \n",
       "8             79.88  \n",
       "9             79.88  \n",
       "10            83.61  \n",
       "11            83.61  \n",
       "12            83.61  \n",
       "13            83.61  \n",
       "14            76.76  \n",
       "15            84.80  \n",
       "16            84.80  \n",
       "17            84.80  \n",
       "18            85.41  \n",
       "19            82.14  "
      ]
     },
     "metadata": {},
     "output_type": "display_data"
    }
   ],
   "source": [
    "urgentes.drop(columns=[\"TAXA_APROVACAO_MEDIA_HIST\", \"MUNICIPIO_CHAVE\"], errors=\"ignore\", inplace=True)\n",
    "urgentes = urgentes.rename(columns={\"TAXA_APROVACAO_MEDIA_HIST_%\": \"MÉDIA_HISTÓRICA\"})\n",
    "display(urgentes.head(20))"
   ]
  },
  {
   "cell_type": "code",
   "execution_count": 28,
   "id": "a851772a",
   "metadata": {},
   "outputs": [],
   "source": [
    "import re \n",
    "\n",
    "# ===========================\n",
    "# 0) Lookup: UF e nome oficial via DTB\n",
    "# ===========================\n",
    "dtb = carrega_dtb(ARQ_DTB)  # já existe no seu sprint01.py\n",
    "dtb_lookup = (\n",
    "    dtb[[\"MUNICIPIO_CODIGO\", \"UF_SIGLA\", \"MUNICIPIO_NOME\"]]\n",
    "      .rename(columns={\"MUNICIPIO_CODIGO\": \"CO_MUNICIPIO\"})\n",
    "      .copy()\n",
    ")\n",
    "dtb_lookup[\"CO_MUNICIPIO\"] = (\n",
    "    dtb_lookup[\"CO_MUNICIPIO\"].astype(str).str.extract(r\"(\\d{7})\", expand=False).str.zfill(7)\n",
    ")\n",
    "\n",
    "# ===========================\n",
    "# 1) Utilitários\n",
    "# ===========================\n",
    "def _anos_disponiveis(df: pd.DataFrame, ano_min=2005, ano_max=2023) -> list[int]:\n",
    "    \"\"\"Detecta automaticamente os anos que existem como VL_INDICADOR_REND_YYYY dentro do range dado.\"\"\"\n",
    "    anos = []\n",
    "    for c in df.columns:\n",
    "        m = re.fullmatch(r\"VL_INDICADOR_REND_(\\d{4})\", str(c))\n",
    "        if m:\n",
    "            a = int(m.group(1))\n",
    "            if ano_min <= a <= ano_max:\n",
    "                anos.append(a)\n",
    "    return sorted(set(anos))\n",
    "\n",
    "def _long_por_municipio_ano(df: pd.DataFrame, etapa_rotulo: str) -> pd.DataFrame:\n",
    "    \"\"\"\n",
    "    Converte uma planilha (iniciais/finais/médio) para formato longo:\n",
    "    colunas: CO_MUNICIPIO, ANO, <etapa_rotulo>\n",
    "    Onde <etapa_rotulo> é a taxa (proporção 0–1) da etapa naquele ano.\n",
    "    \"\"\"\n",
    "    df = df.copy()\n",
    "    if \"CO_MUNICIPIO\" not in df.columns:\n",
    "        raise KeyError(\"Planilha não possui CO_MUNICIPIO.\")\n",
    "    df[\"CO_MUNICIPIO\"] = (\n",
    "        df[\"CO_MUNICIPIO\"].astype(str).str.extract(r\"(\\d{7})\", expand=False).str.zfill(7)\n",
    "    )\n",
    "\n",
    "    anos = _anos_disponiveis(df, 2005, 2023)\n",
    "    if not anos:\n",
    "        raise KeyError(\"Nenhuma coluna VL_INDICADOR_REND_YYYY encontrada no intervalo 2005–2023.\")\n",
    "\n",
    "    cols = [f\"VL_INDICADOR_REND_{a}\" for a in anos]\n",
    "    num = df[[\"CO_MUNICIPIO\"] + cols].copy()\n",
    "    for c in cols:\n",
    "        num[c] = pd.to_numeric(num[c], errors=\"coerce\")\n",
    "\n",
    "    # wide -> long\n",
    "    long_df = num.melt(id_vars=\"CO_MUNICIPIO\", value_vars=cols,\n",
    "                       var_name=\"COL\", value_name=etapa_rotulo)\n",
    "    long_df[\"ANO\"] = long_df[\"COL\"].str.extract(r\"(\\d{4})\").astype(int)\n",
    "    long_df = long_df.drop(columns=[\"COL\"])\n",
    "\n",
    "    # média por município-ano (caso existam múltiplas linhas por município)\n",
    "    long_grp = (long_df\n",
    "                .groupby([\"CO_MUNICIPIO\", \"ANO\"], as_index=False)[etapa_rotulo]\n",
    "                .mean())\n",
    "    return long_grp\n",
    "\n",
    "# ===========================\n",
    "# 2) Construção das três séries (iniciais/finais/médio)\n",
    "# ===========================\n",
    "evo_ini = _long_por_municipio_ano(df_iniciais, \"APROVACAO_INICIAIS\")\n",
    "evo_fin = _long_por_municipio_ano(df_finais,   \"APROVACAO_FINAIS\")\n",
    "evo_med = _long_por_municipio_ano(df_em,       \"APROVACAO_MEDIO\")\n",
    "\n",
    "# ===========================\n",
    "# 3) Merge por município + ano e média geral\n",
    "# ===========================\n",
    "evolucao = (evo_ini\n",
    "            .merge(evo_fin, on=[\"CO_MUNICIPIO\",\"ANO\"], how=\"outer\")\n",
    "            .merge(evo_med, on=[\"CO_MUNICIPIO\",\"ANO\"], how=\"outer\"))\n",
    "\n",
    "# média simples entre as etapas disponíveis (ignora NaN)\n",
    "evolucao[\"APROVACAO_MEDIA_GERAL\"] = evolucao[\n",
    "    [\"APROVACAO_INICIAIS\", \"APROVACAO_FINAIS\", \"APROVACAO_MEDIO\"]\n",
    "].mean(axis=1, skipna=True)\n",
    "\n",
    "# versões em porcentagem\n",
    "for c in [\"APROVACAO_INICIAIS\",\"APROVACAO_FINAIS\",\"APROVACAO_MEDIO\",\"APROVACAO_MEDIA_GERAL\"]:\n",
    "    evolucao[c + \"_%\"] = (evolucao[c] * 100).round(2)\n",
    "\n",
    "# ===========================\n",
    "# 4) Anexar UF e nome oficial (para facilitar gráficos/relatórios)\n",
    "# ===========================\n",
    "evolucao = evolucao.merge(dtb_lookup, on=\"CO_MUNICIPIO\", how=\"left\")\n",
    "\n",
    "# ordenar e colunas finais\n",
    "cols_out = [\n",
    "    \"UF_SIGLA\",\"MUNICIPIO_NOME\",\"CO_MUNICIPIO\",\"ANO\",\n",
    "    \"APROVACAO_INICIAIS\",\"APROVACAO_FINAIS\",\"APROVACAO_MEDIO\",\"APROVACAO_MEDIA_GERAL\",\n",
    "    \"APROVACAO_INICIAIS_%\",\"APROVACAO_FINAIS_%\",\"APROVACAO_MEDIO_%\",\"APROVACAO_MEDIA_GERAL_%\",\n",
    "]\n",
    "evolucao = evolucao[cols_out].sort_values([\"UF_SIGLA\",\"MUNICIPIO_NOME\",\"ANO\"]).reset_index(drop=True)\n"
   ]
  },
  {
   "cell_type": "code",
   "execution_count": 29,
   "id": "29353c17",
   "metadata": {},
   "outputs": [],
   "source": [
    "# ============================================================\n",
    "# 5) Filtrar apenas municípios presentes em URGENTES\n",
    "# ============================================================\n",
    "\n",
    "# garante que urgentes tem MUNICIPIO_CHAVE e UF_SIGLA\n",
    "urgentes = ensure_key_urgentes(urgentes)\n",
    "\n",
    "# cria chave também na tabela evolucao\n",
    "evolucao[\"MUNICIPIO_CHAVE\"] = evolucao[\"MUNICIPIO_NOME\"].apply(chave_municipio)\n",
    "\n",
    "# filtra: mantém só os municípios que estão na tabela urgentes\n",
    "evolucao_filtrada = evolucao.merge(\n",
    "    urgentes[[\"UF_SIGLA\",\"MUNICIPIO_CHAVE\"]].drop_duplicates(),\n",
    "    on=[\"UF_SIGLA\",\"MUNICIPIO_CHAVE\"],\n",
    "    how=\"inner\"\n",
    ").sort_values([\"UF_SIGLA\",\"MUNICIPIO_NOME\",\"ANO\"]).reset_index(drop=True)\n",
    "\n"
   ]
  },
  {
   "cell_type": "code",
   "execution_count": 30,
   "id": "add1fe0f",
   "metadata": {},
   "outputs": [
    {
     "data": {
      "text/html": [
       "<div>\n",
       "<style scoped>\n",
       "    .dataframe tbody tr th:only-of-type {\n",
       "        vertical-align: middle;\n",
       "    }\n",
       "\n",
       "    .dataframe tbody tr th {\n",
       "        vertical-align: top;\n",
       "    }\n",
       "\n",
       "    .dataframe thead th {\n",
       "        text-align: right;\n",
       "    }\n",
       "</style>\n",
       "<table border=\"1\" class=\"dataframe\">\n",
       "  <thead>\n",
       "    <tr style=\"text-align: right;\">\n",
       "      <th></th>\n",
       "      <th>UF_SIGLA</th>\n",
       "      <th>MUNICIPIO_NOME</th>\n",
       "      <th>CO_MUNICIPIO</th>\n",
       "      <th>ANO</th>\n",
       "      <th>APROVACAO_INICIAIS</th>\n",
       "      <th>APROVACAO_FINAIS</th>\n",
       "      <th>APROVACAO_MEDIO</th>\n",
       "      <th>APROVACAO_MEDIA_GERAL</th>\n",
       "      <th>APROVACAO_INICIAIS_%</th>\n",
       "      <th>APROVACAO_FINAIS_%</th>\n",
       "      <th>APROVACAO_MEDIO_%</th>\n",
       "      <th>APROVACAO_MEDIA_GERAL_%</th>\n",
       "      <th>MUNICIPIO_CHAVE</th>\n",
       "    </tr>\n",
       "  </thead>\n",
       "  <tbody>\n",
       "    <tr>\n",
       "      <th>0</th>\n",
       "      <td>PB</td>\n",
       "      <td>BANANEIRAS</td>\n",
       "      <td>2501500</td>\n",
       "      <td>2005</td>\n",
       "      <td>0.649716</td>\n",
       "      <td>0.522871</td>\n",
       "      <td>0.809665</td>\n",
       "      <td>0.586293</td>\n",
       "      <td>64.97</td>\n",
       "      <td>52.29</td>\n",
       "      <td>80.965</td>\n",
       "      <td>58.63</td>\n",
       "      <td>BANANEIRAS</td>\n",
       "    </tr>\n",
       "    <tr>\n",
       "      <th>1</th>\n",
       "      <td>PB</td>\n",
       "      <td>BANANEIRAS</td>\n",
       "      <td>2501500</td>\n",
       "      <td>2007</td>\n",
       "      <td>0.745467</td>\n",
       "      <td>0.651521</td>\n",
       "      <td>0.809665</td>\n",
       "      <td>0.698494</td>\n",
       "      <td>74.55</td>\n",
       "      <td>65.15</td>\n",
       "      <td>80.965</td>\n",
       "      <td>69.85</td>\n",
       "      <td>BANANEIRAS</td>\n",
       "    </tr>\n",
       "    <tr>\n",
       "      <th>2</th>\n",
       "      <td>PB</td>\n",
       "      <td>BANANEIRAS</td>\n",
       "      <td>2501500</td>\n",
       "      <td>2009</td>\n",
       "      <td>0.810568</td>\n",
       "      <td>0.712461</td>\n",
       "      <td>0.809665</td>\n",
       "      <td>0.761515</td>\n",
       "      <td>81.06</td>\n",
       "      <td>71.25</td>\n",
       "      <td>80.965</td>\n",
       "      <td>76.15</td>\n",
       "      <td>BANANEIRAS</td>\n",
       "    </tr>\n",
       "    <tr>\n",
       "      <th>3</th>\n",
       "      <td>PB</td>\n",
       "      <td>BANANEIRAS</td>\n",
       "      <td>2501500</td>\n",
       "      <td>2011</td>\n",
       "      <td>0.912879</td>\n",
       "      <td>0.698315</td>\n",
       "      <td>0.809665</td>\n",
       "      <td>0.805597</td>\n",
       "      <td>91.29</td>\n",
       "      <td>69.83</td>\n",
       "      <td>80.965</td>\n",
       "      <td>80.56</td>\n",
       "      <td>BANANEIRAS</td>\n",
       "    </tr>\n",
       "    <tr>\n",
       "      <th>4</th>\n",
       "      <td>PB</td>\n",
       "      <td>BANANEIRAS</td>\n",
       "      <td>2501500</td>\n",
       "      <td>2013</td>\n",
       "      <td>0.910634</td>\n",
       "      <td>0.792310</td>\n",
       "      <td>0.809665</td>\n",
       "      <td>0.851472</td>\n",
       "      <td>91.06</td>\n",
       "      <td>79.23</td>\n",
       "      <td>80.965</td>\n",
       "      <td>85.15</td>\n",
       "      <td>BANANEIRAS</td>\n",
       "    </tr>\n",
       "    <tr>\n",
       "      <th>5</th>\n",
       "      <td>PB</td>\n",
       "      <td>BANANEIRAS</td>\n",
       "      <td>2501500</td>\n",
       "      <td>2015</td>\n",
       "      <td>0.918559</td>\n",
       "      <td>0.756145</td>\n",
       "      <td>0.809665</td>\n",
       "      <td>0.837352</td>\n",
       "      <td>91.86</td>\n",
       "      <td>75.61</td>\n",
       "      <td>80.965</td>\n",
       "      <td>83.74</td>\n",
       "      <td>BANANEIRAS</td>\n",
       "    </tr>\n",
       "    <tr>\n",
       "      <th>6</th>\n",
       "      <td>PB</td>\n",
       "      <td>BANANEIRAS</td>\n",
       "      <td>2501500</td>\n",
       "      <td>2017</td>\n",
       "      <td>0.900842</td>\n",
       "      <td>0.702206</td>\n",
       "      <td>0.722256</td>\n",
       "      <td>0.775101</td>\n",
       "      <td>90.08</td>\n",
       "      <td>70.22</td>\n",
       "      <td>72.230</td>\n",
       "      <td>77.51</td>\n",
       "      <td>BANANEIRAS</td>\n",
       "    </tr>\n",
       "    <tr>\n",
       "      <th>7</th>\n",
       "      <td>PB</td>\n",
       "      <td>BANANEIRAS</td>\n",
       "      <td>2501500</td>\n",
       "      <td>2019</td>\n",
       "      <td>0.922731</td>\n",
       "      <td>0.718903</td>\n",
       "      <td>0.832523</td>\n",
       "      <td>0.824719</td>\n",
       "      <td>92.27</td>\n",
       "      <td>71.89</td>\n",
       "      <td>83.250</td>\n",
       "      <td>82.47</td>\n",
       "      <td>BANANEIRAS</td>\n",
       "    </tr>\n",
       "    <tr>\n",
       "      <th>8</th>\n",
       "      <td>PB</td>\n",
       "      <td>BANANEIRAS</td>\n",
       "      <td>2501500</td>\n",
       "      <td>2021</td>\n",
       "      <td>0.982386</td>\n",
       "      <td>0.950037</td>\n",
       "      <td>0.906621</td>\n",
       "      <td>0.946348</td>\n",
       "      <td>98.24</td>\n",
       "      <td>95.00</td>\n",
       "      <td>90.660</td>\n",
       "      <td>94.63</td>\n",
       "      <td>BANANEIRAS</td>\n",
       "    </tr>\n",
       "    <tr>\n",
       "      <th>9</th>\n",
       "      <td>PB</td>\n",
       "      <td>BANANEIRAS</td>\n",
       "      <td>2501500</td>\n",
       "      <td>2023</td>\n",
       "      <td>0.971324</td>\n",
       "      <td>0.861160</td>\n",
       "      <td>0.786807</td>\n",
       "      <td>0.873097</td>\n",
       "      <td>97.13</td>\n",
       "      <td>86.12</td>\n",
       "      <td>78.680</td>\n",
       "      <td>87.31</td>\n",
       "      <td>BANANEIRAS</td>\n",
       "    </tr>\n",
       "    <tr>\n",
       "      <th>10</th>\n",
       "      <td>PB</td>\n",
       "      <td>BAÍA DA TRAIÇÃO</td>\n",
       "      <td>2501401</td>\n",
       "      <td>2005</td>\n",
       "      <td>0.709705</td>\n",
       "      <td>0.749625</td>\n",
       "      <td>0.925980</td>\n",
       "      <td>0.729665</td>\n",
       "      <td>70.97</td>\n",
       "      <td>74.96</td>\n",
       "      <td>92.600</td>\n",
       "      <td>72.97</td>\n",
       "      <td>BAIA DA TRAICAO</td>\n",
       "    </tr>\n",
       "    <tr>\n",
       "      <th>11</th>\n",
       "      <td>PB</td>\n",
       "      <td>BAÍA DA TRAIÇÃO</td>\n",
       "      <td>2501401</td>\n",
       "      <td>2007</td>\n",
       "      <td>0.784386</td>\n",
       "      <td>0.716323</td>\n",
       "      <td>0.925980</td>\n",
       "      <td>0.750355</td>\n",
       "      <td>78.44</td>\n",
       "      <td>71.63</td>\n",
       "      <td>92.600</td>\n",
       "      <td>75.04</td>\n",
       "      <td>BAIA DA TRAICAO</td>\n",
       "    </tr>\n",
       "    <tr>\n",
       "      <th>12</th>\n",
       "      <td>PB</td>\n",
       "      <td>BAÍA DA TRAIÇÃO</td>\n",
       "      <td>2501401</td>\n",
       "      <td>2009</td>\n",
       "      <td>0.776003</td>\n",
       "      <td>0.681644</td>\n",
       "      <td>0.925980</td>\n",
       "      <td>0.728824</td>\n",
       "      <td>77.60</td>\n",
       "      <td>68.16</td>\n",
       "      <td>92.600</td>\n",
       "      <td>72.88</td>\n",
       "      <td>BAIA DA TRAICAO</td>\n",
       "    </tr>\n",
       "    <tr>\n",
       "      <th>13</th>\n",
       "      <td>PB</td>\n",
       "      <td>BAÍA DA TRAIÇÃO</td>\n",
       "      <td>2501401</td>\n",
       "      <td>2011</td>\n",
       "      <td>0.875674</td>\n",
       "      <td>0.797426</td>\n",
       "      <td>0.925980</td>\n",
       "      <td>0.836550</td>\n",
       "      <td>87.57</td>\n",
       "      <td>79.74</td>\n",
       "      <td>92.600</td>\n",
       "      <td>83.65</td>\n",
       "      <td>BAIA DA TRAICAO</td>\n",
       "    </tr>\n",
       "    <tr>\n",
       "      <th>14</th>\n",
       "      <td>PB</td>\n",
       "      <td>BAÍA DA TRAIÇÃO</td>\n",
       "      <td>2501401</td>\n",
       "      <td>2013</td>\n",
       "      <td>0.880711</td>\n",
       "      <td>0.803759</td>\n",
       "      <td>0.925980</td>\n",
       "      <td>0.842235</td>\n",
       "      <td>88.07</td>\n",
       "      <td>80.38</td>\n",
       "      <td>92.600</td>\n",
       "      <td>84.22</td>\n",
       "      <td>BAIA DA TRAICAO</td>\n",
       "    </tr>\n",
       "    <tr>\n",
       "      <th>15</th>\n",
       "      <td>PB</td>\n",
       "      <td>BAÍA DA TRAIÇÃO</td>\n",
       "      <td>2501401</td>\n",
       "      <td>2015</td>\n",
       "      <td>0.921363</td>\n",
       "      <td>0.924223</td>\n",
       "      <td>0.925980</td>\n",
       "      <td>0.922793</td>\n",
       "      <td>92.14</td>\n",
       "      <td>92.42</td>\n",
       "      <td>92.600</td>\n",
       "      <td>92.28</td>\n",
       "      <td>BAIA DA TRAICAO</td>\n",
       "    </tr>\n",
       "    <tr>\n",
       "      <th>16</th>\n",
       "      <td>PB</td>\n",
       "      <td>BAÍA DA TRAIÇÃO</td>\n",
       "      <td>2501401</td>\n",
       "      <td>2017</td>\n",
       "      <td>0.863044</td>\n",
       "      <td>0.805528</td>\n",
       "      <td>0.938002</td>\n",
       "      <td>0.868858</td>\n",
       "      <td>86.30</td>\n",
       "      <td>80.55</td>\n",
       "      <td>93.800</td>\n",
       "      <td>86.89</td>\n",
       "      <td>BAIA DA TRAICAO</td>\n",
       "    </tr>\n",
       "    <tr>\n",
       "      <th>17</th>\n",
       "      <td>PB</td>\n",
       "      <td>BAÍA DA TRAIÇÃO</td>\n",
       "      <td>2501401</td>\n",
       "      <td>2019</td>\n",
       "      <td>0.877364</td>\n",
       "      <td>0.789052</td>\n",
       "      <td>0.886965</td>\n",
       "      <td>0.851127</td>\n",
       "      <td>87.74</td>\n",
       "      <td>78.91</td>\n",
       "      <td>88.700</td>\n",
       "      <td>85.11</td>\n",
       "      <td>BAIA DA TRAICAO</td>\n",
       "    </tr>\n",
       "    <tr>\n",
       "      <th>18</th>\n",
       "      <td>PB</td>\n",
       "      <td>BAÍA DA TRAIÇÃO</td>\n",
       "      <td>2501401</td>\n",
       "      <td>2021</td>\n",
       "      <td>0.915610</td>\n",
       "      <td>0.897342</td>\n",
       "      <td>0.952319</td>\n",
       "      <td>0.921757</td>\n",
       "      <td>91.56</td>\n",
       "      <td>89.73</td>\n",
       "      <td>95.230</td>\n",
       "      <td>92.18</td>\n",
       "      <td>BAIA DA TRAICAO</td>\n",
       "    </tr>\n",
       "    <tr>\n",
       "      <th>19</th>\n",
       "      <td>PB</td>\n",
       "      <td>BAÍA DA TRAIÇÃO</td>\n",
       "      <td>2501401</td>\n",
       "      <td>2023</td>\n",
       "      <td>0.875674</td>\n",
       "      <td>0.866104</td>\n",
       "      <td>0.913958</td>\n",
       "      <td>0.890031</td>\n",
       "      <td>87.57</td>\n",
       "      <td>86.61</td>\n",
       "      <td>91.400</td>\n",
       "      <td>89.00</td>\n",
       "      <td>BAIA DA TRAICAO</td>\n",
       "    </tr>\n",
       "  </tbody>\n",
       "</table>\n",
       "</div>"
      ],
      "text/plain": [
       "   UF_SIGLA   MUNICIPIO_NOME CO_MUNICIPIO   ANO  APROVACAO_INICIAIS  \\\n",
       "0        PB       BANANEIRAS      2501500  2005            0.649716   \n",
       "1        PB       BANANEIRAS      2501500  2007            0.745467   \n",
       "2        PB       BANANEIRAS      2501500  2009            0.810568   \n",
       "3        PB       BANANEIRAS      2501500  2011            0.912879   \n",
       "4        PB       BANANEIRAS      2501500  2013            0.910634   \n",
       "5        PB       BANANEIRAS      2501500  2015            0.918559   \n",
       "6        PB       BANANEIRAS      2501500  2017            0.900842   \n",
       "7        PB       BANANEIRAS      2501500  2019            0.922731   \n",
       "8        PB       BANANEIRAS      2501500  2021            0.982386   \n",
       "9        PB       BANANEIRAS      2501500  2023            0.971324   \n",
       "10       PB  BAÍA DA TRAIÇÃO      2501401  2005            0.709705   \n",
       "11       PB  BAÍA DA TRAIÇÃO      2501401  2007            0.784386   \n",
       "12       PB  BAÍA DA TRAIÇÃO      2501401  2009            0.776003   \n",
       "13       PB  BAÍA DA TRAIÇÃO      2501401  2011            0.875674   \n",
       "14       PB  BAÍA DA TRAIÇÃO      2501401  2013            0.880711   \n",
       "15       PB  BAÍA DA TRAIÇÃO      2501401  2015            0.921363   \n",
       "16       PB  BAÍA DA TRAIÇÃO      2501401  2017            0.863044   \n",
       "17       PB  BAÍA DA TRAIÇÃO      2501401  2019            0.877364   \n",
       "18       PB  BAÍA DA TRAIÇÃO      2501401  2021            0.915610   \n",
       "19       PB  BAÍA DA TRAIÇÃO      2501401  2023            0.875674   \n",
       "\n",
       "    APROVACAO_FINAIS  APROVACAO_MEDIO  APROVACAO_MEDIA_GERAL  \\\n",
       "0           0.522871         0.809665               0.586293   \n",
       "1           0.651521         0.809665               0.698494   \n",
       "2           0.712461         0.809665               0.761515   \n",
       "3           0.698315         0.809665               0.805597   \n",
       "4           0.792310         0.809665               0.851472   \n",
       "5           0.756145         0.809665               0.837352   \n",
       "6           0.702206         0.722256               0.775101   \n",
       "7           0.718903         0.832523               0.824719   \n",
       "8           0.950037         0.906621               0.946348   \n",
       "9           0.861160         0.786807               0.873097   \n",
       "10          0.749625         0.925980               0.729665   \n",
       "11          0.716323         0.925980               0.750355   \n",
       "12          0.681644         0.925980               0.728824   \n",
       "13          0.797426         0.925980               0.836550   \n",
       "14          0.803759         0.925980               0.842235   \n",
       "15          0.924223         0.925980               0.922793   \n",
       "16          0.805528         0.938002               0.868858   \n",
       "17          0.789052         0.886965               0.851127   \n",
       "18          0.897342         0.952319               0.921757   \n",
       "19          0.866104         0.913958               0.890031   \n",
       "\n",
       "    APROVACAO_INICIAIS_%  APROVACAO_FINAIS_%  APROVACAO_MEDIO_%  \\\n",
       "0                  64.97               52.29             80.965   \n",
       "1                  74.55               65.15             80.965   \n",
       "2                  81.06               71.25             80.965   \n",
       "3                  91.29               69.83             80.965   \n",
       "4                  91.06               79.23             80.965   \n",
       "5                  91.86               75.61             80.965   \n",
       "6                  90.08               70.22             72.230   \n",
       "7                  92.27               71.89             83.250   \n",
       "8                  98.24               95.00             90.660   \n",
       "9                  97.13               86.12             78.680   \n",
       "10                 70.97               74.96             92.600   \n",
       "11                 78.44               71.63             92.600   \n",
       "12                 77.60               68.16             92.600   \n",
       "13                 87.57               79.74             92.600   \n",
       "14                 88.07               80.38             92.600   \n",
       "15                 92.14               92.42             92.600   \n",
       "16                 86.30               80.55             93.800   \n",
       "17                 87.74               78.91             88.700   \n",
       "18                 91.56               89.73             95.230   \n",
       "19                 87.57               86.61             91.400   \n",
       "\n",
       "    APROVACAO_MEDIA_GERAL_%  MUNICIPIO_CHAVE  \n",
       "0                     58.63       BANANEIRAS  \n",
       "1                     69.85       BANANEIRAS  \n",
       "2                     76.15       BANANEIRAS  \n",
       "3                     80.56       BANANEIRAS  \n",
       "4                     85.15       BANANEIRAS  \n",
       "5                     83.74       BANANEIRAS  \n",
       "6                     77.51       BANANEIRAS  \n",
       "7                     82.47       BANANEIRAS  \n",
       "8                     94.63       BANANEIRAS  \n",
       "9                     87.31       BANANEIRAS  \n",
       "10                    72.97  BAIA DA TRAICAO  \n",
       "11                    75.04  BAIA DA TRAICAO  \n",
       "12                    72.88  BAIA DA TRAICAO  \n",
       "13                    83.65  BAIA DA TRAICAO  \n",
       "14                    84.22  BAIA DA TRAICAO  \n",
       "15                    92.28  BAIA DA TRAICAO  \n",
       "16                    86.89  BAIA DA TRAICAO  \n",
       "17                    85.11  BAIA DA TRAICAO  \n",
       "18                    92.18  BAIA DA TRAICAO  \n",
       "19                    89.00  BAIA DA TRAICAO  "
      ]
     },
     "execution_count": 30,
     "metadata": {},
     "output_type": "execute_result"
    }
   ],
   "source": [
    "# ============================================================\n",
    "# 6) Preencher valores NaN pela mediana dos outros anos (por município)\n",
    "# ============================================================\n",
    "\n",
    "# colunas numéricas que queremos corrigir\n",
    "cols_num = [\n",
    "    \"APROVACAO_INICIAIS\",\"APROVACAO_FINAIS\",\"APROVACAO_MEDIO\",\"APROVACAO_MEDIA_GERAL\",\n",
    "    \"APROVACAO_INICIAIS_%\",\"APROVACAO_FINAIS_%\",\"APROVACAO_MEDIO_%\",\"APROVACAO_MEDIA_GERAL_%\"\n",
    "]\n",
    "\n",
    "# aplica mediana por município (MUNICIPIO_CHAVE)\n",
    "def preencher_por_mediana(df, grupo=\"MUNICIPIO_CHAVE\", cols=cols_num):\n",
    "    df = df.copy()\n",
    "    for col in cols:\n",
    "        if col not in df.columns:\n",
    "            continue\n",
    "        df[col] = df.groupby(grupo)[col].transform(\n",
    "            lambda x: x.fillna(x.median(skipna=True))\n",
    "        )\n",
    "    return df\n",
    "\n",
    "# aplica na tabela evolucao_filtrada\n",
    "evolucao_filtrada = preencher_por_mediana(evolucao_filtrada)\n",
    "\n",
    "# conferindo se ainda restam NaN\n",
    "evolucao_filtrada.head(20)\n"
   ]
  },
  {
   "cell_type": "markdown",
   "id": "5b0d9173",
   "metadata": {},
   "source": [
    "**ANÁLISE**"
   ]
  },
  {
   "cell_type": "markdown",
   "id": "2a60e31a",
   "metadata": {},
   "source": [
    "**2- O problema**\n"
   ]
  },
  {
   "cell_type": "code",
   "execution_count": 31,
   "id": "330630ca",
   "metadata": {},
   "outputs": [
    {
     "data": {
      "text/plain": [
       "NO_MUNICIPIO\n",
       "Serra Redonda      51.841667\n",
       "Santa Rita         44.995000\n",
       "Bananeiras         38.283333\n",
       "João Pessoa        36.355000\n",
       "Ingá               35.270000\n",
       "Caturité           34.273333\n",
       "Baía da Traição    33.655000\n",
       "Campina Grande     33.650000\n",
       "Name: Urgencia, dtype: float64"
      ]
     },
     "metadata": {},
     "output_type": "display_data"
    }
   ],
   "source": [
    "top10 = (urgentes.groupby(\"NO_MUNICIPIO\")[\"Urgencia\"]\n",
    "                 .mean()\n",
    "                 .sort_values(ascending=False)\n",
    "                 .head(10))\n",
    "display(top10)\n"
   ]
  },
  {
   "cell_type": "code",
   "execution_count": 32,
   "id": "2cee4fc9",
   "metadata": {},
   "outputs": [
    {
     "name": "stderr",
     "output_type": "stream",
     "text": [
      "C:\\Users\\pedro\\AppData\\Local\\Temp\\ipykernel_5192\\978325454.py:10: FutureWarning: The default of observed=False is deprecated and will be changed to True in a future version of pandas. Pass observed=False to retain current behavior or observed=True to adopt the future default and silence this warning.\n",
      "  .groupby([\"MUNICIPIO_NOME\",\"PERIODO\"])\n",
      "C:\\Users\\pedro\\AppData\\Local\\Temp\\ipykernel_5192\\978325454.py:16: FutureWarning: The default of observed=False is deprecated and will be changed to True in a future version of pandas. Pass observed=False to retain current behavior or observed=True to adopt the future default and silence this warning.\n",
      "  media_geral = (grouped.groupby(\"PERIODO\")[[\"APROVACAO_INICIAIS\",\n"
     ]
    },
    {
     "data": {
      "image/png": "[encoded data removed]",
      "text/plain": [
       "<Figure size 900x500 with 1 Axes>"
      ]
     },
     "metadata": {},
     "output_type": "display_data"
    }
   ],
   "source": [
    "# Criar janelas de 3 anos\n",
    "evolucao_filtrada[\"PERIODO\"] = pd.cut(\n",
    "    evolucao_filtrada[\"ANO\"],\n",
    "    bins=[2004,2007,2011,2015,2019,2023],  # intervalos\n",
    "    labels=[\"2005–2007\",\"2009–2011\",\"2013–2015\",\"2017–2019\",\"2021–2023\"]\n",
    ")\n",
    "\n",
    "# Calcular médias por município e período\n",
    "grouped = (evolucao_filtrada\n",
    "           .groupby([\"MUNICIPIO_NOME\",\"PERIODO\"])\n",
    "           [[\"APROVACAO_INICIAIS\",\"APROVACAO_FINAIS\",\"APROVACAO_MEDIO\"]]\n",
    "           .mean()\n",
    "           .reset_index())\n",
    "\n",
    "# Exemplo: média geral por período (todos municípios juntos)\n",
    "media_geral = (grouped.groupby(\"PERIODO\")[[\"APROVACAO_INICIAIS\",\n",
    "                                           \"APROVACAO_FINAIS\",\n",
    "                                           \"APROVACAO_MEDIO\"]]\n",
    "               .mean()*100)\n",
    "\n",
    "ax = media_geral.plot(marker=\"o\", figsize=(9,5))\n",
    "ax.set_title(\"Média de aprovação por etapa (2005–2023, em janelas de 2 anos)\", fontsize=12, weight=\"bold\")\n",
    "ax.set_ylabel(\"%\")\n",
    "ax.set_ylim(0,100)\n",
    "plt.show()\n"
   ]
  },
  {
   "cell_type": "code",
   "execution_count": 33,
   "id": "0f3208d1",
   "metadata": {},
   "outputs": [
    {
     "data": {
      "image/png": "[encoded data removed]",
      "text/plain": [
       "<Figure size 1000x500 with 1 Axes>"
      ]
     },
     "metadata": {},
     "output_type": "display_data"
    }
   ],
   "source": [
    "gap = evolucao_filtrada.groupby(\"ANO\")[[\"APROVACAO_INICIAIS\",\"APROVACAO_FINAIS\",\"APROVACAO_MEDIO\"]].mean()*100\n",
    "gap[\"queda_iniciais_finais\"] = gap[\"APROVACAO_INICIAIS\"] - gap[\"APROVACAO_FINAIS\"]\n",
    "gap[\"queda_finais_medio\"] = gap[\"APROVACAO_FINAIS\"] - gap[\"APROVACAO_MEDIO\"]\n",
    "\n",
    "gap[[\"queda_iniciais_finais\",\"queda_finais_medio\"]].plot(figsize=(10,5), marker=\"o\")\n",
    "plt.title(\"Diferença de aprovação entre etapas (2005–2023)\")\n",
    "plt.ylabel(\"Diferença percentual (p.p.)\")\n",
    "plt.axhline(0, color=\"black\", linestyle=\"--\")\n",
    "plt.show()\n"
   ]
  },
  {
   "cell_type": "code",
   "execution_count": 34,
   "id": "cc89da77",
   "metadata": {},
   "outputs": [
    {
     "data": {
      "image/png": "[encoded data removed]",
      "text/plain": [
       "<Figure size 800x600 with 1 Axes>"
      ]
     },
     "metadata": {},
     "output_type": "display_data"
    }
   ],
   "source": [
    "import seaborn as sns\n",
    "\n",
    "plt.figure(figsize=(8,6))\n",
    "sns.boxplot(data=urgentes, x=\"NO_LOCALIZACAO\", y=\"Evasão -Médio\")\n",
    "plt.title(\"Evasão no Ensino Médio por localização (2023)\")\n",
    "plt.ylabel(\"%\")\n",
    "plt.show()\n"
   ]
  },
  {
   "cell_type": "code",
   "execution_count": 35,
   "id": "d703d838",
   "metadata": {},
   "outputs": [
    {
     "data": {
      "image/png": "[encoded data removed]",
      "text/plain": [
       "<Figure size 1000x600 with 1 Axes>"
      ]
     },
     "metadata": {},
     "output_type": "display_data"
    }
   ],
   "source": [
    "import matplotlib.pyplot as plt\n",
    "\n",
    "# calcula a média de cada etapa por ano\n",
    "medias = evolucao_filtrada.groupby(\"ANO\")[[\"APROVACAO_INICIAIS\",\n",
    "                                           \"APROVACAO_FINAIS\",\n",
    "                                           \"APROVACAO_MEDIO\"]].mean()\n",
    "\n",
    "# diferença em pontos percentuais entre Médio e Iniciais/Finais\n",
    "diff = pd.DataFrame({\n",
    "    \"Medio - Iniciais\": (medias[\"APROVACAO_MEDIO\"] - medias[\"APROVACAO_INICIAIS\"]) * 100,\n",
    "    \"Medio - Finais\":   (medias[\"APROVACAO_MEDIO\"] - medias[\"APROVACAO_FINAIS\"]) * 100\n",
    "}, index=medias.index)\n",
    "\n",
    "# plota\n",
    "plt.figure(figsize=(10,6))\n",
    "for col in diff.columns:\n",
    "    plt.plot(diff.index, diff[col], marker=\"o\", label=col)\n",
    "\n",
    "plt.axhline(0, color=\"black\", linestyle=\"--\", alpha=0.7)\n",
    "plt.title(\"Diferença da aprovação do Ensino Médio em relação aos outros níveis (2005–2023)\")\n",
    "plt.xlabel(\"Ano\")\n",
    "plt.ylabel(\"Diferença em pontos percentuais (p.p.)\")\n",
    "plt.legend()\n",
    "plt.tight_layout()\n",
    "plt.show()\n"
   ]
  },
  {
   "cell_type": "markdown",
   "id": "5ed96b34",
   "metadata": {},
   "source": [
    "Top 10 municipios mais urgentes\n"
   ]
  },
  {
   "cell_type": "code",
   "execution_count": 36,
   "id": "6d99805f",
   "metadata": {},
   "outputs": [
    {
     "data": {
      "image/png": "[encoded data removed]",
      "text/plain": [
       "<Figure size 700x400 with 1 Axes>"
      ]
     },
     "metadata": {},
     "output_type": "display_data"
    }
   ],
   "source": [
    "# use 'UF' ou 'UF_SIGLA' dependendo do nome que existir\n",
    "uf_col = \"NO_MUNICIPIO\" if \"UF_SIGLA\" in urgentes.columns else \"UF\"\n",
    "if uf_col in urgentes.columns:\n",
    "    por_uf = (urgentes.groupby(uf_col, as_index=False)[\"Urgencia\"].mean()\n",
    "                      .sort_values(\"Urgencia\", ascending=False))\n",
    "    plt.figure(figsize=(7,4))\n",
    "    bars = plt.barh(por_uf[uf_col], por_uf[\"Urgencia\"], color=\"#c1121f\")\n",
    "    plt.gca().invert_yaxis()\n",
    "    for b in bars:\n",
    "        plt.text(b.get_width()+0.5, b.get_y()+b.get_height()/2, f\"{b.get_width():.1f}\",\n",
    "                 va=\"center\", fontsize=9)\n",
    "    plt.xlabel(\"Grau de urgência\"); plt.title(\"Urgência média por UF\")\n",
    "    plt.tight_layout(); plt.show()\n"
   ]
  },
  {
   "cell_type": "markdown",
   "id": "76f46c78",
   "metadata": {},
   "source": [
    "3.2 Evolução histórica (Ensino Médio) dos TOP 5 urgentes"
   ]
  },
  {
   "cell_type": "code",
   "execution_count": 47,
   "id": "468c8f4c",
   "metadata": {},
   "outputs": [
    {
     "data": {
      "application/vnd.plotly.v1+json": {
       "config": {
        "plotlyServerURL": "https://plot.ly"
       },
       "data": [
        {
         "hovertemplate": "Etapa=APROVACAO_INICIAIS_%<br>ANO=%{x}<br>Aprovação (%)=%{y}<extra></extra>",
         "legendgroup": "APROVACAO_INICIAIS_%",
         "line": {
          "color": "#636efa",
          "dash": "solid"
         },
         "marker": {
          "symbol": "circle"
         },
         "mode": "lines+markers",
         "name": "APROVACAO_INICIAIS_%",
         "orientation": "v",
         "showlegend": true,
         "type": "scatter",
         "x": [
          2005,
          2007,
          2009,
          2011,
          2013,
          2015,
          2017,
          2019,
          2021,
          2023
         ],
         "xaxis": "x",
         "y": [
          70.2509375,
          76.05794375,
          79.30435,
          83.44665416666666,
          87.11625416666666,
          88.36200833333334,
          87.84302083333333,
          89.05423541666667,
          96.534746875,
          94.7314375
         ],
         "yaxis": "y"
        },
        {
         "hovertemplate": "Etapa=APROVACAO_FINAIS_%<br>ANO=%{x}<br>Aprovação (%)=%{y}<extra></extra>",
         "legendgroup": "APROVACAO_FINAIS_%",
         "line": {
          "color": "#EF553B",
          "dash": "solid"
         },
         "marker": {
          "symbol": "circle"
         },
         "mode": "lines+markers",
         "name": "APROVACAO_FINAIS_%",
         "orientation": "v",
         "showlegend": true,
         "type": "scatter",
         "x": [
          2005,
          2007,
          2009,
          2011,
          2013,
          2015,
          2017,
          2019,
          2021,
          2023
         ],
         "xaxis": "x",
         "y": [
          64.01107916666668,
          66.70595416666667,
          68.237375,
          72.23778333333334,
          71.36698541666667,
          74.47537083333333,
          74.1565,
          75.98730833333333,
          94.83625833333333,
          84.64587708333333
         ],
         "yaxis": "y"
        }
       ],
       "layout": {
        "legend": {
         "title": {
          "text": "Etapa"
         },
         "tracegroupgap": 0
        },
        "template": {
         "data": {
          "bar": [
           {
            "error_x": {
             "color": "#2a3f5f"
            },
            "error_y": {
             "color": "#2a3f5f"
            },
            "marker": {
             "line": {
              "color": "#E5ECF6",
              "width": 0.5
             },
             "pattern": {
              "fillmode": "overlay",
              "size": 10,
              "solidity": 0.2
             }
            },
            "type": "bar"
           }
          ],
          "barpolar": [
           {
            "marker": {
             "line": {
              "color": "#E5ECF6",
              "width": 0.5
             },
             "pattern": {
              "fillmode": "overlay",
              "size": 10,
              "solidity": 0.2
             }
            },
            "type": "barpolar"
           }
          ],
          "carpet": [
           {
            "aaxis": {
             "endlinecolor": "#2a3f5f",
             "gridcolor": "white",
             "linecolor": "white",
             "minorgridcolor": "white",
             "startlinecolor": "#2a3f5f"
            },
            "baxis": {
             "endlinecolor": "#2a3f5f",
             "gridcolor": "white",
             "linecolor": "white",
             "minorgridcolor": "white",
             "startlinecolor": "#2a3f5f"
            },
            "type": "carpet"
           }
          ],
          "choropleth": [
           {
            "colorbar": {
             "outlinewidth": 0,
             "ticks": ""
            },
            "type": "choropleth"
           }
          ],
          "contour": [
           {
            "colorbar": {
             "outlinewidth": 0,
             "ticks": ""
            },
            "colorscale": [
             [
              0,
              "#0d0887"
             ],
             [
              0.1111111111111111,
              "#46039f"
             ],
             [
              0.2222222222222222,
              "#7201a8"
             ],
             [
              0.3333333333333333,
              "#9c179e"
             ],
             [
              0.4444444444444444,
              "#bd3786"
             ],
             [
              0.5555555555555556,
              "#d8576b"
             ],
             [
              0.6666666666666666,
              "#ed7953"
             ],
             [
              0.7777777777777778,
              "#fb9f3a"
             ],
             [
              0.8888888888888888,
              "#fdca26"
             ],
             [
              1,
              "#f0f921"
             ]
            ],
            "type": "contour"
           }
          ],
          "contourcarpet": [
           {
            "colorbar": {
             "outlinewidth": 0,
             "ticks": ""
            },
            "type": "contourcarpet"
           }
          ],
          "heatmap": [
           {
            "colorbar": {
             "outlinewidth": 0,
             "ticks": ""
            },
            "colorscale": [
             [
              0,
              "#0d0887"
             ],
             [
              0.1111111111111111,
              "#46039f"
             ],
             [
              0.2222222222222222,
              "#7201a8"
             ],
             [
              0.3333333333333333,
              "#9c179e"
             ],
             [
              0.4444444444444444,
              "#bd3786"
             ],
             [
              0.5555555555555556,
              "#d8576b"
             ],
             [
              0.6666666666666666,
              "#ed7953"
             ],
             [
              0.7777777777777778,
              "#fb9f3a"
             ],
             [
              0.8888888888888888,
              "#fdca26"
             ],
             [
              1,
              "#f0f921"
             ]
            ],
            "type": "heatmap"
           }
          ],
          "heatmapgl": [
           {
            "colorbar": {
             "outlinewidth": 0,
             "ticks": ""
            },
            "colorscale": [
             [
              0,
              "#0d0887"
             ],
             [
              0.1111111111111111,
              "#46039f"
             ],
             [
              0.2222222222222222,
              "#7201a8"
             ],
             [
              0.3333333333333333,
              "#9c179e"
             ],
             [
              0.4444444444444444,
              "#bd3786"
             ],
             [
              0.5555555555555556,
              "#d8576b"
             ],
             [
              0.6666666666666666,
              "#ed7953"
             ],
             [
              0.7777777777777778,
              "#fb9f3a"
             ],
             [
              0.8888888888888888,
              "#fdca26"
             ],
             [
              1,
              "#f0f921"
             ]
            ],
            "type": "heatmapgl"
           }
          ],
          "histogram": [
           {
            "marker": {
             "pattern": {
              "fillmode": "overlay",
              "size": 10,
              "solidity": 0.2
             }
            },
            "type": "histogram"
           }
          ],
          "histogram2d": [
           {
            "colorbar": {
             "outlinewidth": 0,
             "ticks": ""
            },
            "colorscale": [
             [
              0,
              "#0d0887"
             ],
             [
              0.1111111111111111,
              "#46039f"
             ],
             [
              0.2222222222222222,
              "#7201a8"
             ],
             [
              0.3333333333333333,
              "#9c179e"
             ],
             [
              0.4444444444444444,
              "#bd3786"
             ],
             [
              0.5555555555555556,
              "#d8576b"
             ],
             [
              0.6666666666666666,
              "#ed7953"
             ],
             [
              0.7777777777777778,
              "#fb9f3a"
             ],
             [
              0.8888888888888888,
              "#fdca26"
             ],
             [
              1,
              "#f0f921"
             ]
            ],
            "type": "histogram2d"
           }
          ],
          "histogram2dcontour": [
           {
            "colorbar": {
             "outlinewidth": 0,
             "ticks": ""
            },
            "colorscale": [
             [
              0,
              "#0d0887"
             ],
             [
              0.1111111111111111,
              "#46039f"
             ],
             [
              0.2222222222222222,
              "#7201a8"
             ],
             [
              0.3333333333333333,
              "#9c179e"
             ],
             [
              0.4444444444444444,
              "#bd3786"
             ],
             [
              0.5555555555555556,
              "#d8576b"
             ],
             [
              0.6666666666666666,
              "#ed7953"
             ],
             [
              0.7777777777777778,
              "#fb9f3a"
             ],
             [
              0.8888888888888888,
              "#fdca26"
             ],
             [
              1,
              "#f0f921"
             ]
            ],
            "type": "histogram2dcontour"
           }
          ],
          "mesh3d": [
           {
            "colorbar": {
             "outlinewidth": 0,
             "ticks": ""
            },
            "type": "mesh3d"
           }
          ],
          "parcoords": [
           {
            "line": {
             "colorbar": {
              "outlinewidth": 0,
              "ticks": ""
             }
            },
            "type": "parcoords"
           }
          ],
          "pie": [
           {
            "automargin": true,
            "type": "pie"
           }
          ],
          "scatter": [
           {
            "fillpattern": {
             "fillmode": "overlay",
             "size": 10,
             "solidity": 0.2
            },
            "type": "scatter"
           }
          ],
          "scatter3d": [
           {
            "line": {
             "colorbar": {
              "outlinewidth": 0,
              "ticks": ""
             }
            },
            "marker": {
             "colorbar": {
              "outlinewidth": 0,
              "ticks": ""
             }
            },
            "type": "scatter3d"
           }
          ],
          "scattercarpet": [
           {
            "marker": {
             "colorbar": {
              "outlinewidth": 0,
              "ticks": ""
             }
            },
            "type": "scattercarpet"
           }
          ],
          "scattergeo": [
           {
            "marker": {
             "colorbar": {
              "outlinewidth": 0,
              "ticks": ""
             }
            },
            "type": "scattergeo"
           }
          ],
          "scattergl": [
           {
            "marker": {
             "colorbar": {
              "outlinewidth": 0,
              "ticks": ""
             }
            },
            "type": "scattergl"
           }
          ],
          "scattermapbox": [
           {
            "marker": {
             "colorbar": {
              "outlinewidth": 0,
              "ticks": ""
             }
            },
            "type": "scattermapbox"
           }
          ],
          "scatterpolar": [
           {
            "marker": {
             "colorbar": {
              "outlinewidth": 0,
              "ticks": ""
             }
            },
            "type": "scatterpolar"
           }
          ],
          "scatterpolargl": [
           {
            "marker": {
             "colorbar": {
              "outlinewidth": 0,
              "ticks": ""
             }
            },
            "type": "scatterpolargl"
           }
          ],
          "scatterternary": [
           {
            "marker": {
             "colorbar": {
              "outlinewidth": 0,
              "ticks": ""
             }
            },
            "type": "scatterternary"
           }
          ],
          "surface": [
           {
            "colorbar": {
             "outlinewidth": 0,
             "ticks": ""
            },
            "colorscale": [
             [
              0,
              "#0d0887"
             ],
             [
              0.1111111111111111,
              "#46039f"
             ],
             [
              0.2222222222222222,
              "#7201a8"
             ],
             [
              0.3333333333333333,
              "#9c179e"
             ],
             [
              0.4444444444444444,
              "#bd3786"
             ],
             [
              0.5555555555555556,
              "#d8576b"
             ],
             [
              0.6666666666666666,
              "#ed7953"
             ],
             [
              0.7777777777777778,
              "#fb9f3a"
             ],
             [
              0.8888888888888888,
              "#fdca26"
             ],
             [
              1,
              "#f0f921"
             ]
            ],
            "type": "surface"
           }
          ],
          "table": [
           {
            "cells": {
             "fill": {
              "color": "#EBF0F8"
             },
             "line": {
              "color": "white"
             }
            },
            "header": {
             "fill": {
              "color": "#C8D4E3"
             },
             "line": {
              "color": "white"
             }
            },
            "type": "table"
           }
          ]
         },
         "layout": {
          "annotationdefaults": {
           "arrowcolor": "#2a3f5f",
           "arrowhead": 0,
           "arrowwidth": 1
          },
          "autotypenumbers": "strict",
          "coloraxis": {
           "colorbar": {
            "outlinewidth": 0,
            "ticks": ""
           }
          },
          "colorscale": {
           "diverging": [
            [
             0,
             "#8e0152"
            ],
            [
             0.1,
             "#c51b7d"
            ],
            [
             0.2,
             "#de77ae"
            ],
            [
             0.3,
             "#f1b6da"
            ],
            [
             0.4,
             "#fde0ef"
            ],
            [
             0.5,
             "#f7f7f7"
            ],
            [
             0.6,
             "#e6f5d0"
            ],
            [
             0.7,
             "#b8e186"
            ],
            [
             0.8,
             "#7fbc41"
            ],
            [
             0.9,
             "#4d9221"
            ],
            [
             1,
             "#276419"
            ]
           ],
           "sequential": [
            [
             0,
             "#0d0887"
            ],
            [
             0.1111111111111111,
             "#46039f"
            ],
            [
             0.2222222222222222,
             "#7201a8"
            ],
            [
             0.3333333333333333,
             "#9c179e"
            ],
            [
             0.4444444444444444,
             "#bd3786"
            ],
            [
             0.5555555555555556,
             "#d8576b"
            ],
            [
             0.6666666666666666,
             "#ed7953"
            ],
            [
             0.7777777777777778,
             "#fb9f3a"
            ],
            [
             0.8888888888888888,
             "#fdca26"
            ],
            [
             1,
             "#f0f921"
            ]
           ],
           "sequentialminus": [
            [
             0,
             "#0d0887"
            ],
            [
             0.1111111111111111,
             "#46039f"
            ],
            [
             0.2222222222222222,
             "#7201a8"
            ],
            [
             0.3333333333333333,
             "#9c179e"
            ],
            [
             0.4444444444444444,
             "#bd3786"
            ],
            [
             0.5555555555555556,
             "#d8576b"
            ],
            [
             0.6666666666666666,
             "#ed7953"
            ],
            [
             0.7777777777777778,
             "#fb9f3a"
            ],
            [
             0.8888888888888888,
             "#fdca26"
            ],
            [
             1,
             "#f0f921"
            ]
           ]
          },
          "colorway": [
           "#636efa",
           "#EF553B",
           "#00cc96",
           "#ab63fa",
           "#FFA15A",
           "#19d3f3",
           "#FF6692",
           "#B6E880",
           "#FF97FF",
           "#FECB52"
          ],
          "font": {
           "color": "#2a3f5f"
          },
          "geo": {
           "bgcolor": "white",
           "lakecolor": "white",
           "landcolor": "#E5ECF6",
           "showlakes": true,
           "showland": true,
           "subunitcolor": "white"
          },
          "hoverlabel": {
           "align": "left"
          },
          "hovermode": "closest",
          "mapbox": {
           "style": "light"
          },
          "paper_bgcolor": "white",
          "plot_bgcolor": "#E5ECF6",
          "polar": {
           "angularaxis": {
            "gridcolor": "white",
            "linecolor": "white",
            "ticks": ""
           },
           "bgcolor": "#E5ECF6",
           "radialaxis": {
            "gridcolor": "white",
            "linecolor": "white",
            "ticks": ""
           }
          },
          "scene": {
           "xaxis": {
            "backgroundcolor": "#E5ECF6",
            "gridcolor": "white",
            "gridwidth": 2,
            "linecolor": "white",
            "showbackground": true,
            "ticks": "",
            "zerolinecolor": "white"
           },
           "yaxis": {
            "backgroundcolor": "#E5ECF6",
            "gridcolor": "white",
            "gridwidth": 2,
            "linecolor": "white",
            "showbackground": true,
            "ticks": "",
            "zerolinecolor": "white"
           },
           "zaxis": {
            "backgroundcolor": "#E5ECF6",
            "gridcolor": "white",
            "gridwidth": 2,
            "linecolor": "white",
            "showbackground": true,
            "ticks": "",
            "zerolinecolor": "white"
           }
          },
          "shapedefaults": {
           "line": {
            "color": "#2a3f5f"
           }
          },
          "ternary": {
           "aaxis": {
            "gridcolor": "white",
            "linecolor": "white",
            "ticks": ""
           },
           "baxis": {
            "gridcolor": "white",
            "linecolor": "white",
            "ticks": ""
           },
           "bgcolor": "#E5ECF6",
           "caxis": {
            "gridcolor": "white",
            "linecolor": "white",
            "ticks": ""
           }
          },
          "title": {
           "x": 0.05
          },
          "xaxis": {
           "automargin": true,
           "gridcolor": "white",
           "linecolor": "white",
           "ticks": "",
           "title": {
            "standoff": 15
           },
           "zerolinecolor": "white",
           "zerolinewidth": 2
          },
          "yaxis": {
           "automargin": true,
           "gridcolor": "white",
           "linecolor": "white",
           "ticks": "",
           "title": {
            "standoff": 15
           },
           "zerolinecolor": "white",
           "zerolinewidth": 2
          }
         }
        },
        "title": {
         "text": "Tendência Geral — Aprovação Iniciais vs Finais (média do recorte)"
        },
        "xaxis": {
         "anchor": "y",
         "domain": [
          0,
          1
         ],
         "title": {
          "text": "ANO"
         }
        },
        "yaxis": {
         "anchor": "x",
         "domain": [
          0,
          1
         ],
         "tickformat": ".1f",
         "title": {
          "text": "Aprovação (%)"
         }
        }
       }
      }
     },
     "metadata": {},
     "output_type": "display_data"
    },
    {
     "data": {
      "application/vnd.plotly.v1+json": {
       "config": {
        "plotlyServerURL": "https://plot.ly"
       },
       "data": [
        {
         "alignmentgroup": "True",
         "hovertemplate": "GAP (p.p.)=%{x}<br>Município=%{y}<extra></extra>",
         "legendgroup": "",
         "marker": {
          "color": "#636efa",
          "pattern": {
           "shape": ""
          }
         },
         "name": "",
         "offsetgroup": "",
         "orientation": "h",
         "showlegend": false,
         "textposition": "auto",
         "type": "bar",
         "x": [
          13.592709999999997,
          13.591778333333338,
          12.748343333333338,
          12.174855000000008,
          11.00631,
          8.802636666666672,
          8.43117749999999,
          4.485066666666654
         ],
         "xaxis": "x",
         "y": [
          "CAMPINA GRANDE",
          "BANANEIRAS",
          "INGÁ",
          "SERRA REDONDA",
          "SANTA RITA",
          "CATURITÉ",
          "JOÃO PESSOA",
          "BAÍA DA TRAIÇÃO"
         ],
         "yaxis": "y"
        }
       ],
       "layout": {
        "barmode": "relative",
        "legend": {
         "tracegroupgap": 0
        },
        "template": {
         "data": {
          "bar": [
           {
            "error_x": {
             "color": "#2a3f5f"
            },
            "error_y": {
             "color": "#2a3f5f"
            },
            "marker": {
             "line": {
              "color": "#E5ECF6",
              "width": 0.5
             },
             "pattern": {
              "fillmode": "overlay",
              "size": 10,
              "solidity": 0.2
             }
            },
            "type": "bar"
           }
          ],
          "barpolar": [
           {
            "marker": {
             "line": {
              "color": "#E5ECF6",
              "width": 0.5
             },
             "pattern": {
              "fillmode": "overlay",
              "size": 10,
              "solidity": 0.2
             }
            },
            "type": "barpolar"
           }
          ],
          "carpet": [
           {
            "aaxis": {
             "endlinecolor": "#2a3f5f",
             "gridcolor": "white",
             "linecolor": "white",
             "minorgridcolor": "white",
             "startlinecolor": "#2a3f5f"
            },
            "baxis": {
             "endlinecolor": "#2a3f5f",
             "gridcolor": "white",
             "linecolor": "white",
             "minorgridcolor": "white",
             "startlinecolor": "#2a3f5f"
            },
            "type": "carpet"
           }
          ],
          "choropleth": [
           {
            "colorbar": {
             "outlinewidth": 0,
             "ticks": ""
            },
            "type": "choropleth"
           }
          ],
          "contour": [
           {
            "colorbar": {
             "outlinewidth": 0,
             "ticks": ""
            },
            "colorscale": [
             [
              0,
              "#0d0887"
             ],
             [
              0.1111111111111111,
              "#46039f"
             ],
             [
              0.2222222222222222,
              "#7201a8"
             ],
             [
              0.3333333333333333,
              "#9c179e"
             ],
             [
              0.4444444444444444,
              "#bd3786"
             ],
             [
              0.5555555555555556,
              "#d8576b"
             ],
             [
              0.6666666666666666,
              "#ed7953"
             ],
             [
              0.7777777777777778,
              "#fb9f3a"
             ],
             [
              0.8888888888888888,
              "#fdca26"
             ],
             [
              1,
              "#f0f921"
             ]
            ],
            "type": "contour"
           }
          ],
          "contourcarpet": [
           {
            "colorbar": {
             "outlinewidth": 0,
             "ticks": ""
            },
            "type": "contourcarpet"
           }
          ],
          "heatmap": [
           {
            "colorbar": {
             "outlinewidth": 0,
             "ticks": ""
            },
            "colorscale": [
             [
              0,
              "#0d0887"
             ],
             [
              0.1111111111111111,
              "#46039f"
             ],
             [
              0.2222222222222222,
              "#7201a8"
             ],
             [
              0.3333333333333333,
              "#9c179e"
             ],
             [
              0.4444444444444444,
              "#bd3786"
             ],
             [
              0.5555555555555556,
              "#d8576b"
             ],
             [
              0.6666666666666666,
              "#ed7953"
             ],
             [
              0.7777777777777778,
              "#fb9f3a"
             ],
             [
              0.8888888888888888,
              "#fdca26"
             ],
             [
              1,
              "#f0f921"
             ]
            ],
            "type": "heatmap"
           }
          ],
          "heatmapgl": [
           {
            "colorbar": {
             "outlinewidth": 0,
             "ticks": ""
            },
            "colorscale": [
             [
              0,
              "#0d0887"
             ],
             [
              0.1111111111111111,
              "#46039f"
             ],
             [
              0.2222222222222222,
              "#7201a8"
             ],
             [
              0.3333333333333333,
              "#9c179e"
             ],
             [
              0.4444444444444444,
              "#bd3786"
             ],
             [
              0.5555555555555556,
              "#d8576b"
             ],
             [
              0.6666666666666666,
              "#ed7953"
             ],
             [
              0.7777777777777778,
              "#fb9f3a"
             ],
             [
              0.8888888888888888,
              "#fdca26"
             ],
             [
              1,
              "#f0f921"
             ]
            ],
            "type": "heatmapgl"
           }
          ],
          "histogram": [
           {
            "marker": {
             "pattern": {
              "fillmode": "overlay",
              "size": 10,
              "solidity": 0.2
             }
            },
            "type": "histogram"
           }
          ],
          "histogram2d": [
           {
            "colorbar": {
             "outlinewidth": 0,
             "ticks": ""
            },
            "colorscale": [
             [
              0,
              "#0d0887"
             ],
             [
              0.1111111111111111,
              "#46039f"
             ],
             [
              0.2222222222222222,
              "#7201a8"
             ],
             [
              0.3333333333333333,
              "#9c179e"
             ],
             [
              0.4444444444444444,
              "#bd3786"
             ],
             [
              0.5555555555555556,
              "#d8576b"
             ],
             [
              0.6666666666666666,
              "#ed7953"
             ],
             [
              0.7777777777777778,
              "#fb9f3a"
             ],
             [
              0.8888888888888888,
              "#fdca26"
             ],
             [
              1,
              "#f0f921"
             ]
            ],
            "type": "histogram2d"
           }
          ],
          "histogram2dcontour": [
           {
            "colorbar": {
             "outlinewidth": 0,
             "ticks": ""
            },
            "colorscale": [
             [
              0,
              "#0d0887"
             ],
             [
              0.1111111111111111,
              "#46039f"
             ],
             [
              0.2222222222222222,
              "#7201a8"
             ],
             [
              0.3333333333333333,
              "#9c179e"
             ],
             [
              0.4444444444444444,
              "#bd3786"
             ],
             [
              0.5555555555555556,
              "#d8576b"
             ],
             [
              0.6666666666666666,
              "#ed7953"
             ],
             [
              0.7777777777777778,
              "#fb9f3a"
             ],
             [
              0.8888888888888888,
              "#fdca26"
             ],
             [
              1,
              "#f0f921"
             ]
            ],
            "type": "histogram2dcontour"
           }
          ],
          "mesh3d": [
           {
            "colorbar": {
             "outlinewidth": 0,
             "ticks": ""
            },
            "type": "mesh3d"
           }
          ],
          "parcoords": [
           {
            "line": {
             "colorbar": {
              "outlinewidth": 0,
              "ticks": ""
             }
            },
            "type": "parcoords"
           }
          ],
          "pie": [
           {
            "automargin": true,
            "type": "pie"
           }
          ],
          "scatter": [
           {
            "fillpattern": {
             "fillmode": "overlay",
             "size": 10,
             "solidity": 0.2
            },
            "type": "scatter"
           }
          ],
          "scatter3d": [
           {
            "line": {
             "colorbar": {
              "outlinewidth": 0,
              "ticks": ""
             }
            },
            "marker": {
             "colorbar": {
              "outlinewidth": 0,
              "ticks": ""
             }
            },
            "type": "scatter3d"
           }
          ],
          "scattercarpet": [
           {
            "marker": {
             "colorbar": {
              "outlinewidth": 0,
              "ticks": ""
             }
            },
            "type": "scattercarpet"
           }
          ],
          "scattergeo": [
           {
            "marker": {
             "colorbar": {
              "outlinewidth": 0,
              "ticks": ""
             }
            },
            "type": "scattergeo"
           }
          ],
          "scattergl": [
           {
            "marker": {
             "colorbar": {
              "outlinewidth": 0,
              "ticks": ""
             }
            },
            "type": "scattergl"
           }
          ],
          "scattermapbox": [
           {
            "marker": {
             "colorbar": {
              "outlinewidth": 0,
              "ticks": ""
             }
            },
            "type": "scattermapbox"
           }
          ],
          "scatterpolar": [
           {
            "marker": {
             "colorbar": {
              "outlinewidth": 0,
              "ticks": ""
             }
            },
            "type": "scatterpolar"
           }
          ],
          "scatterpolargl": [
           {
            "marker": {
             "colorbar": {
              "outlinewidth": 0,
              "ticks": ""
             }
            },
            "type": "scatterpolargl"
           }
          ],
          "scatterternary": [
           {
            "marker": {
             "colorbar": {
              "outlinewidth": 0,
              "ticks": ""
             }
            },
            "type": "scatterternary"
           }
          ],
          "surface": [
           {
            "colorbar": {
             "outlinewidth": 0,
             "ticks": ""
            },
            "colorscale": [
             [
              0,
              "#0d0887"
             ],
             [
              0.1111111111111111,
              "#46039f"
             ],
             [
              0.2222222222222222,
              "#7201a8"
             ],
             [
              0.3333333333333333,
              "#9c179e"
             ],
             [
              0.4444444444444444,
              "#bd3786"
             ],
             [
              0.5555555555555556,
              "#d8576b"
             ],
             [
              0.6666666666666666,
              "#ed7953"
             ],
             [
              0.7777777777777778,
              "#fb9f3a"
             ],
             [
              0.8888888888888888,
              "#fdca26"
             ],
             [
              1,
              "#f0f921"
             ]
            ],
            "type": "surface"
           }
          ],
          "table": [
           {
            "cells": {
             "fill": {
              "color": "#EBF0F8"
             },
             "line": {
              "color": "white"
             }
            },
            "header": {
             "fill": {
              "color": "#C8D4E3"
             },
             "line": {
              "color": "white"
             }
            },
            "type": "table"
           }
          ]
         },
         "layout": {
          "annotationdefaults": {
           "arrowcolor": "#2a3f5f",
           "arrowhead": 0,
           "arrowwidth": 1
          },
          "autotypenumbers": "strict",
          "coloraxis": {
           "colorbar": {
            "outlinewidth": 0,
            "ticks": ""
           }
          },
          "colorscale": {
           "diverging": [
            [
             0,
             "#8e0152"
            ],
            [
             0.1,
             "#c51b7d"
            ],
            [
             0.2,
             "#de77ae"
            ],
            [
             0.3,
             "#f1b6da"
            ],
            [
             0.4,
             "#fde0ef"
            ],
            [
             0.5,
             "#f7f7f7"
            ],
            [
             0.6,
             "#e6f5d0"
            ],
            [
             0.7,
             "#b8e186"
            ],
            [
             0.8,
             "#7fbc41"
            ],
            [
             0.9,
             "#4d9221"
            ],
            [
             1,
             "#276419"
            ]
           ],
           "sequential": [
            [
             0,
             "#0d0887"
            ],
            [
             0.1111111111111111,
             "#46039f"
            ],
            [
             0.2222222222222222,
             "#7201a8"
            ],
            [
             0.3333333333333333,
             "#9c179e"
            ],
            [
             0.4444444444444444,
             "#bd3786"
            ],
            [
             0.5555555555555556,
             "#d8576b"
            ],
            [
             0.6666666666666666,
             "#ed7953"
            ],
            [
             0.7777777777777778,
             "#fb9f3a"
            ],
            [
             0.8888888888888888,
             "#fdca26"
            ],
            [
             1,
             "#f0f921"
            ]
           ],
           "sequentialminus": [
            [
             0,
             "#0d0887"
            ],
            [
             0.1111111111111111,
             "#46039f"
            ],
            [
             0.2222222222222222,
             "#7201a8"
            ],
            [
             0.3333333333333333,
             "#9c179e"
            ],
            [
             0.4444444444444444,
             "#bd3786"
            ],
            [
             0.5555555555555556,
             "#d8576b"
            ],
            [
             0.6666666666666666,
             "#ed7953"
            ],
            [
             0.7777777777777778,
             "#fb9f3a"
            ],
            [
             0.8888888888888888,
             "#fdca26"
            ],
            [
             1,
             "#f0f921"
            ]
           ]
          },
          "colorway": [
           "#636efa",
           "#EF553B",
           "#00cc96",
           "#ab63fa",
           "#FFA15A",
           "#19d3f3",
           "#FF6692",
           "#B6E880",
           "#FF97FF",
           "#FECB52"
          ],
          "font": {
           "color": "#2a3f5f"
          },
          "geo": {
           "bgcolor": "white",
           "lakecolor": "white",
           "landcolor": "#E5ECF6",
           "showlakes": true,
           "showland": true,
           "subunitcolor": "white"
          },
          "hoverlabel": {
           "align": "left"
          },
          "hovermode": "closest",
          "mapbox": {
           "style": "light"
          },
          "paper_bgcolor": "white",
          "plot_bgcolor": "#E5ECF6",
          "polar": {
           "angularaxis": {
            "gridcolor": "white",
            "linecolor": "white",
            "ticks": ""
           },
           "bgcolor": "#E5ECF6",
           "radialaxis": {
            "gridcolor": "white",
            "linecolor": "white",
            "ticks": ""
           }
          },
          "scene": {
           "xaxis": {
            "backgroundcolor": "#E5ECF6",
            "gridcolor": "white",
            "gridwidth": 2,
            "linecolor": "white",
            "showbackground": true,
            "ticks": "",
            "zerolinecolor": "white"
           },
           "yaxis": {
            "backgroundcolor": "#E5ECF6",
            "gridcolor": "white",
            "gridwidth": 2,
            "linecolor": "white",
            "showbackground": true,
            "ticks": "",
            "zerolinecolor": "white"
           },
           "zaxis": {
            "backgroundcolor": "#E5ECF6",
            "gridcolor": "white",
            "gridwidth": 2,
            "linecolor": "white",
            "showbackground": true,
            "ticks": "",
            "zerolinecolor": "white"
           }
          },
          "shapedefaults": {
           "line": {
            "color": "#2a3f5f"
           }
          },
          "ternary": {
           "aaxis": {
            "gridcolor": "white",
            "linecolor": "white",
            "ticks": ""
           },
           "baxis": {
            "gridcolor": "white",
            "linecolor": "white",
            "ticks": ""
           },
           "bgcolor": "#E5ECF6",
           "caxis": {
            "gridcolor": "white",
            "linecolor": "white",
            "ticks": ""
           }
          },
          "title": {
           "x": 0.05
          },
          "xaxis": {
           "automargin": true,
           "gridcolor": "white",
           "linecolor": "white",
           "ticks": "",
           "title": {
            "standoff": 15
           },
           "zerolinecolor": "white",
           "zerolinewidth": 2
          },
          "yaxis": {
           "automargin": true,
           "gridcolor": "white",
           "linecolor": "white",
           "ticks": "",
           "title": {
            "standoff": 15
           },
           "zerolinecolor": "white",
           "zerolinewidth": 2
          }
         }
        },
        "title": {
         "text": "Gargalo (GAP) de Aprovação — Iniciais − Finais (Top 25)"
        },
        "xaxis": {
         "anchor": "y",
         "domain": [
          0,
          1
         ],
         "title": {
          "text": "GAP (p.p.)"
         }
        },
        "yaxis": {
         "anchor": "x",
         "categoryorder": "total ascending",
         "domain": [
          0,
          1
         ],
         "title": {
          "text": "Município"
         }
        }
       }
      }
     },
     "metadata": {},
     "output_type": "display_data"
    },
    {
     "data": {
      "application/vnd.plotly.v1+json": {
       "config": {
        "plotlyServerURL": "https://plot.ly"
       },
       "data": [],
       "layout": {
        "legend": {
         "tracegroupgap": 0
        },
        "template": {
         "data": {
          "bar": [
           {
            "error_x": {
             "color": "#2a3f5f"
            },
            "error_y": {
             "color": "#2a3f5f"
            },
            "marker": {
             "line": {
              "color": "#E5ECF6",
              "width": 0.5
             },
             "pattern": {
              "fillmode": "overlay",
              "size": 10,
              "solidity": 0.2
             }
            },
            "type": "bar"
           }
          ],
          "barpolar": [
           {
            "marker": {
             "line": {
              "color": "#E5ECF6",
              "width": 0.5
             },
             "pattern": {
              "fillmode": "overlay",
              "size": 10,
              "solidity": 0.2
             }
            },
            "type": "barpolar"
           }
          ],
          "carpet": [
           {
            "aaxis": {
             "endlinecolor": "#2a3f5f",
             "gridcolor": "white",
             "linecolor": "white",
             "minorgridcolor": "white",
             "startlinecolor": "#2a3f5f"
            },
            "baxis": {
             "endlinecolor": "#2a3f5f",
             "gridcolor": "white",
             "linecolor": "white",
             "minorgridcolor": "white",
             "startlinecolor": "#2a3f5f"
            },
            "type": "carpet"
           }
          ],
          "choropleth": [
           {
            "colorbar": {
             "outlinewidth": 0,
             "ticks": ""
            },
            "type": "choropleth"
           }
          ],
          "contour": [
           {
            "colorbar": {
             "outlinewidth": 0,
             "ticks": ""
            },
            "colorscale": [
             [
              0,
              "#0d0887"
             ],
             [
              0.1111111111111111,
              "#46039f"
             ],
             [
              0.2222222222222222,
              "#7201a8"
             ],
             [
              0.3333333333333333,
              "#9c179e"
             ],
             [
              0.4444444444444444,
              "#bd3786"
             ],
             [
              0.5555555555555556,
              "#d8576b"
             ],
             [
              0.6666666666666666,
              "#ed7953"
             ],
             [
              0.7777777777777778,
              "#fb9f3a"
             ],
             [
              0.8888888888888888,
              "#fdca26"
             ],
             [
              1,
              "#f0f921"
             ]
            ],
            "type": "contour"
           }
          ],
          "contourcarpet": [
           {
            "colorbar": {
             "outlinewidth": 0,
             "ticks": ""
            },
            "type": "contourcarpet"
           }
          ],
          "heatmap": [
           {
            "colorbar": {
             "outlinewidth": 0,
             "ticks": ""
            },
            "colorscale": [
             [
              0,
              "#0d0887"
             ],
             [
              0.1111111111111111,
              "#46039f"
             ],
             [
              0.2222222222222222,
              "#7201a8"
             ],
             [
              0.3333333333333333,
              "#9c179e"
             ],
             [
              0.4444444444444444,
              "#bd3786"
             ],
             [
              0.5555555555555556,
              "#d8576b"
             ],
             [
              0.6666666666666666,
              "#ed7953"
             ],
             [
              0.7777777777777778,
              "#fb9f3a"
             ],
             [
              0.8888888888888888,
              "#fdca26"
             ],
             [
              1,
              "#f0f921"
             ]
            ],
            "type": "heatmap"
           }
          ],
          "heatmapgl": [
           {
            "colorbar": {
             "outlinewidth": 0,
             "ticks": ""
            },
            "colorscale": [
             [
              0,
              "#0d0887"
             ],
             [
              0.1111111111111111,
              "#46039f"
             ],
             [
              0.2222222222222222,
              "#7201a8"
             ],
             [
              0.3333333333333333,
              "#9c179e"
             ],
             [
              0.4444444444444444,
              "#bd3786"
             ],
             [
              0.5555555555555556,
              "#d8576b"
             ],
             [
              0.6666666666666666,
              "#ed7953"
             ],
             [
              0.7777777777777778,
              "#fb9f3a"
             ],
             [
              0.8888888888888888,
              "#fdca26"
             ],
             [
              1,
              "#f0f921"
             ]
            ],
            "type": "heatmapgl"
           }
          ],
          "histogram": [
           {
            "marker": {
             "pattern": {
              "fillmode": "overlay",
              "size": 10,
              "solidity": 0.2
             }
            },
            "type": "histogram"
           }
          ],
          "histogram2d": [
           {
            "colorbar": {
             "outlinewidth": 0,
             "ticks": ""
            },
            "colorscale": [
             [
              0,
              "#0d0887"
             ],
             [
              0.1111111111111111,
              "#46039f"
             ],
             [
              0.2222222222222222,
              "#7201a8"
             ],
             [
              0.3333333333333333,
              "#9c179e"
             ],
             [
              0.4444444444444444,
              "#bd3786"
             ],
             [
              0.5555555555555556,
              "#d8576b"
             ],
             [
              0.6666666666666666,
              "#ed7953"
             ],
             [
              0.7777777777777778,
              "#fb9f3a"
             ],
             [
              0.8888888888888888,
              "#fdca26"
             ],
             [
              1,
              "#f0f921"
             ]
            ],
            "type": "histogram2d"
           }
          ],
          "histogram2dcontour": [
           {
            "colorbar": {
             "outlinewidth": 0,
             "ticks": ""
            },
            "colorscale": [
             [
              0,
              "#0d0887"
             ],
             [
              0.1111111111111111,
              "#46039f"
             ],
             [
              0.2222222222222222,
              "#7201a8"
             ],
             [
              0.3333333333333333,
              "#9c179e"
             ],
             [
              0.4444444444444444,
              "#bd3786"
             ],
             [
              0.5555555555555556,
              "#d8576b"
             ],
             [
              0.6666666666666666,
              "#ed7953"
             ],
             [
              0.7777777777777778,
              "#fb9f3a"
             ],
             [
              0.8888888888888888,
              "#fdca26"
             ],
             [
              1,
              "#f0f921"
             ]
            ],
            "type": "histogram2dcontour"
           }
          ],
          "mesh3d": [
           {
            "colorbar": {
             "outlinewidth": 0,
             "ticks": ""
            },
            "type": "mesh3d"
           }
          ],
          "parcoords": [
           {
            "line": {
             "colorbar": {
              "outlinewidth": 0,
              "ticks": ""
             }
            },
            "type": "parcoords"
           }
          ],
          "pie": [
           {
            "automargin": true,
            "type": "pie"
           }
          ],
          "scatter": [
           {
            "fillpattern": {
             "fillmode": "overlay",
             "size": 10,
             "solidity": 0.2
            },
            "type": "scatter"
           }
          ],
          "scatter3d": [
           {
            "line": {
             "colorbar": {
              "outlinewidth": 0,
              "ticks": ""
             }
            },
            "marker": {
             "colorbar": {
              "outlinewidth": 0,
              "ticks": ""
             }
            },
            "type": "scatter3d"
           }
          ],
          "scattercarpet": [
           {
            "marker": {
             "colorbar": {
              "outlinewidth": 0,
              "ticks": ""
             }
            },
            "type": "scattercarpet"
           }
          ],
          "scattergeo": [
           {
            "marker": {
             "colorbar": {
              "outlinewidth": 0,
              "ticks": ""
             }
            },
            "type": "scattergeo"
           }
          ],
          "scattergl": [
           {
            "marker": {
             "colorbar": {
              "outlinewidth": 0,
              "ticks": ""
             }
            },
            "type": "scattergl"
           }
          ],
          "scattermapbox": [
           {
            "marker": {
             "colorbar": {
              "outlinewidth": 0,
              "ticks": ""
             }
            },
            "type": "scattermapbox"
           }
          ],
          "scatterpolar": [
           {
            "marker": {
             "colorbar": {
              "outlinewidth": 0,
              "ticks": ""
             }
            },
            "type": "scatterpolar"
           }
          ],
          "scatterpolargl": [
           {
            "marker": {
             "colorbar": {
              "outlinewidth": 0,
              "ticks": ""
             }
            },
            "type": "scatterpolargl"
           }
          ],
          "scatterternary": [
           {
            "marker": {
             "colorbar": {
              "outlinewidth": 0,
              "ticks": ""
             }
            },
            "type": "scatterternary"
           }
          ],
          "surface": [
           {
            "colorbar": {
             "outlinewidth": 0,
             "ticks": ""
            },
            "colorscale": [
             [
              0,
              "#0d0887"
             ],
             [
              0.1111111111111111,
              "#46039f"
             ],
             [
              0.2222222222222222,
              "#7201a8"
             ],
             [
              0.3333333333333333,
              "#9c179e"
             ],
             [
              0.4444444444444444,
              "#bd3786"
             ],
             [
              0.5555555555555556,
              "#d8576b"
             ],
             [
              0.6666666666666666,
              "#ed7953"
             ],
             [
              0.7777777777777778,
              "#fb9f3a"
             ],
             [
              0.8888888888888888,
              "#fdca26"
             ],
             [
              1,
              "#f0f921"
             ]
            ],
            "type": "surface"
           }
          ],
          "table": [
           {
            "cells": {
             "fill": {
              "color": "#EBF0F8"
             },
             "line": {
              "color": "white"
             }
            },
            "header": {
             "fill": {
              "color": "#C8D4E3"
             },
             "line": {
              "color": "white"
             }
            },
            "type": "table"
           }
          ]
         },
         "layout": {
          "annotationdefaults": {
           "arrowcolor": "#2a3f5f",
           "arrowhead": 0,
           "arrowwidth": 1
          },
          "autotypenumbers": "strict",
          "coloraxis": {
           "colorbar": {
            "outlinewidth": 0,
            "ticks": ""
           }
          },
          "colorscale": {
           "diverging": [
            [
             0,
             "#8e0152"
            ],
            [
             0.1,
             "#c51b7d"
            ],
            [
             0.2,
             "#de77ae"
            ],
            [
             0.3,
             "#f1b6da"
            ],
            [
             0.4,
             "#fde0ef"
            ],
            [
             0.5,
             "#f7f7f7"
            ],
            [
             0.6,
             "#e6f5d0"
            ],
            [
             0.7,
             "#b8e186"
            ],
            [
             0.8,
             "#7fbc41"
            ],
            [
             0.9,
             "#4d9221"
            ],
            [
             1,
             "#276419"
            ]
           ],
           "sequential": [
            [
             0,
             "#0d0887"
            ],
            [
             0.1111111111111111,
             "#46039f"
            ],
            [
             0.2222222222222222,
             "#7201a8"
            ],
            [
             0.3333333333333333,
             "#9c179e"
            ],
            [
             0.4444444444444444,
             "#bd3786"
            ],
            [
             0.5555555555555556,
             "#d8576b"
            ],
            [
             0.6666666666666666,
             "#ed7953"
            ],
            [
             0.7777777777777778,
             "#fb9f3a"
            ],
            [
             0.8888888888888888,
             "#fdca26"
            ],
            [
             1,
             "#f0f921"
            ]
           ],
           "sequentialminus": [
            [
             0,
             "#0d0887"
            ],
            [
             0.1111111111111111,
             "#46039f"
            ],
            [
             0.2222222222222222,
             "#7201a8"
            ],
            [
             0.3333333333333333,
             "#9c179e"
            ],
            [
             0.4444444444444444,
             "#bd3786"
            ],
            [
             0.5555555555555556,
             "#d8576b"
            ],
            [
             0.6666666666666666,
             "#ed7953"
            ],
            [
             0.7777777777777778,
             "#fb9f3a"
            ],
            [
             0.8888888888888888,
             "#fdca26"
            ],
            [
             1,
             "#f0f921"
            ]
           ]
          },
          "colorway": [
           "#636efa",
           "#EF553B",
           "#00cc96",
           "#ab63fa",
           "#FFA15A",
           "#19d3f3",
           "#FF6692",
           "#B6E880",
           "#FF97FF",
           "#FECB52"
          ],
          "font": {
           "color": "#2a3f5f"
          },
          "geo": {
           "bgcolor": "white",
           "lakecolor": "white",
           "landcolor": "#E5ECF6",
           "showlakes": true,
           "showland": true,
           "subunitcolor": "white"
          },
          "hoverlabel": {
           "align": "left"
          },
          "hovermode": "closest",
          "mapbox": {
           "style": "light"
          },
          "paper_bgcolor": "white",
          "plot_bgcolor": "#E5ECF6",
          "polar": {
           "angularaxis": {
            "gridcolor": "white",
            "linecolor": "white",
            "ticks": ""
           },
           "bgcolor": "#E5ECF6",
           "radialaxis": {
            "gridcolor": "white",
            "linecolor": "white",
            "ticks": ""
           }
          },
          "scene": {
           "xaxis": {
            "backgroundcolor": "#E5ECF6",
            "gridcolor": "white",
            "gridwidth": 2,
            "linecolor": "white",
            "showbackground": true,
            "ticks": "",
            "zerolinecolor": "white"
           },
           "yaxis": {
            "backgroundcolor": "#E5ECF6",
            "gridcolor": "white",
            "gridwidth": 2,
            "linecolor": "white",
            "showbackground": true,
            "ticks": "",
            "zerolinecolor": "white"
           },
           "zaxis": {
            "backgroundcolor": "#E5ECF6",
            "gridcolor": "white",
            "gridwidth": 2,
            "linecolor": "white",
            "showbackground": true,
            "ticks": "",
            "zerolinecolor": "white"
           }
          },
          "shapedefaults": {
           "line": {
            "color": "#2a3f5f"
           }
          },
          "ternary": {
           "aaxis": {
            "gridcolor": "white",
            "linecolor": "white",
            "ticks": ""
           },
           "baxis": {
            "gridcolor": "white",
            "linecolor": "white",
            "ticks": ""
           },
           "bgcolor": "#E5ECF6",
           "caxis": {
            "gridcolor": "white",
            "linecolor": "white",
            "ticks": ""
           }
          },
          "title": {
           "x": 0.05
          },
          "xaxis": {
           "automargin": true,
           "gridcolor": "white",
           "linecolor": "white",
           "ticks": "",
           "title": {
            "standoff": 15
           },
           "zerolinecolor": "white",
           "zerolinewidth": 2
          },
          "yaxis": {
           "automargin": true,
           "gridcolor": "white",
           "linecolor": "white",
           "ticks": "",
           "title": {
            "standoff": 15
           },
           "zerolinecolor": "white",
           "zerolinewidth": 2
          }
         }
        },
        "title": {
         "text": "Quadrantes — Aprovação (Anos Finais) × Evasão (Fundamental)"
        },
        "xaxis": {
         "anchor": "y",
         "domain": [
          0,
          1
         ],
         "title": {
          "text": "Aprovação Finais (%)"
         }
        },
        "yaxis": {
         "anchor": "x",
         "domain": [
          0,
          1
         ],
         "title": {
          "text": "Evasão Fundamental (%)"
         }
        }
       }
      }
     },
     "metadata": {},
     "output_type": "display_data"
    },
    {
     "data": {
      "application/vnd.plotly.v1+json": {
       "config": {
        "plotlyServerURL": "https://plot.ly"
       },
       "data": [
        {
         "alignmentgroup": "True",
         "customdata": [],
         "hovertemplate": "Score de Risco (0–1)=%{x}<br>Município=%{y}<br>APROVACAO_INICIAIS_%=%{customdata[0]}<br>APROVACAO_FINAIS_%=%{customdata[1]}<br>EVASAO_FUNDAMENTAL=%{customdata[2]}<br>GAP_APROV_%=%{customdata[3]}<extra></extra>",
         "legendgroup": "",
         "marker": {
          "color": "#636efa",
          "pattern": {
           "shape": ""
          }
         },
         "name": "",
         "offsetgroup": "",
         "orientation": "h",
         "showlegend": false,
         "textposition": "auto",
         "type": "bar",
         "x": [],
         "xaxis": "x",
         "y": [],
         "yaxis": "y"
        }
       ],
       "layout": {
        "barmode": "relative",
        "legend": {
         "tracegroupgap": 0
        },
        "template": {
         "data": {
          "bar": [
           {
            "error_x": {
             "color": "#2a3f5f"
            },
            "error_y": {
             "color": "#2a3f5f"
            },
            "marker": {
             "line": {
              "color": "#E5ECF6",
              "width": 0.5
             },
             "pattern": {
              "fillmode": "overlay",
              "size": 10,
              "solidity": 0.2
             }
            },
            "type": "bar"
           }
          ],
          "barpolar": [
           {
            "marker": {
             "line": {
              "color": "#E5ECF6",
              "width": 0.5
             },
             "pattern": {
              "fillmode": "overlay",
              "size": 10,
              "solidity": 0.2
             }
            },
            "type": "barpolar"
           }
          ],
          "carpet": [
           {
            "aaxis": {
             "endlinecolor": "#2a3f5f",
             "gridcolor": "white",
             "linecolor": "white",
             "minorgridcolor": "white",
             "startlinecolor": "#2a3f5f"
            },
            "baxis": {
             "endlinecolor": "#2a3f5f",
             "gridcolor": "white",
             "linecolor": "white",
             "minorgridcolor": "white",
             "startlinecolor": "#2a3f5f"
            },
            "type": "carpet"
           }
          ],
          "choropleth": [
           {
            "colorbar": {
             "outlinewidth": 0,
             "ticks": ""
            },
            "type": "choropleth"
           }
          ],
          "contour": [
           {
            "colorbar": {
             "outlinewidth": 0,
             "ticks": ""
            },
            "colorscale": [
             [
              0,
              "#0d0887"
             ],
             [
              0.1111111111111111,
              "#46039f"
             ],
             [
              0.2222222222222222,
              "#7201a8"
             ],
             [
              0.3333333333333333,
              "#9c179e"
             ],
             [
              0.4444444444444444,
              "#bd3786"
             ],
             [
              0.5555555555555556,
              "#d8576b"
             ],
             [
              0.6666666666666666,
              "#ed7953"
             ],
             [
              0.7777777777777778,
              "#fb9f3a"
             ],
             [
              0.8888888888888888,
              "#fdca26"
             ],
             [
              1,
              "#f0f921"
             ]
            ],
            "type": "contour"
           }
          ],
          "contourcarpet": [
           {
            "colorbar": {
             "outlinewidth": 0,
             "ticks": ""
            },
            "type": "contourcarpet"
           }
          ],
          "heatmap": [
           {
            "colorbar": {
             "outlinewidth": 0,
             "ticks": ""
            },
            "colorscale": [
             [
              0,
              "#0d0887"
             ],
             [
              0.1111111111111111,
              "#46039f"
             ],
             [
              0.2222222222222222,
              "#7201a8"
             ],
             [
              0.3333333333333333,
              "#9c179e"
             ],
             [
              0.4444444444444444,
              "#bd3786"
             ],
             [
              0.5555555555555556,
              "#d8576b"
             ],
             [
              0.6666666666666666,
              "#ed7953"
             ],
             [
              0.7777777777777778,
              "#fb9f3a"
             ],
             [
              0.8888888888888888,
              "#fdca26"
             ],
             [
              1,
              "#f0f921"
             ]
            ],
            "type": "heatmap"
           }
          ],
          "heatmapgl": [
           {
            "colorbar": {
             "outlinewidth": 0,
             "ticks": ""
            },
            "colorscale": [
             [
              0,
              "#0d0887"
             ],
             [
              0.1111111111111111,
              "#46039f"
             ],
             [
              0.2222222222222222,
              "#7201a8"
             ],
             [
              0.3333333333333333,
              "#9c179e"
             ],
             [
              0.4444444444444444,
              "#bd3786"
             ],
             [
              0.5555555555555556,
              "#d8576b"
             ],
             [
              0.6666666666666666,
              "#ed7953"
             ],
             [
              0.7777777777777778,
              "#fb9f3a"
             ],
             [
              0.8888888888888888,
              "#fdca26"
             ],
             [
              1,
              "#f0f921"
             ]
            ],
            "type": "heatmapgl"
           }
          ],
          "histogram": [
           {
            "marker": {
             "pattern": {
              "fillmode": "overlay",
              "size": 10,
              "solidity": 0.2
             }
            },
            "type": "histogram"
           }
          ],
          "histogram2d": [
           {
            "colorbar": {
             "outlinewidth": 0,
             "ticks": ""
            },
            "colorscale": [
             [
              0,
              "#0d0887"
             ],
             [
              0.1111111111111111,
              "#46039f"
             ],
             [
              0.2222222222222222,
              "#7201a8"
             ],
             [
              0.3333333333333333,
              "#9c179e"
             ],
             [
              0.4444444444444444,
              "#bd3786"
             ],
             [
              0.5555555555555556,
              "#d8576b"
             ],
             [
              0.6666666666666666,
              "#ed7953"
             ],
             [
              0.7777777777777778,
              "#fb9f3a"
             ],
             [
              0.8888888888888888,
              "#fdca26"
             ],
             [
              1,
              "#f0f921"
             ]
            ],
            "type": "histogram2d"
           }
          ],
          "histogram2dcontour": [
           {
            "colorbar": {
             "outlinewidth": 0,
             "ticks": ""
            },
            "colorscale": [
             [
              0,
              "#0d0887"
             ],
             [
              0.1111111111111111,
              "#46039f"
             ],
             [
              0.2222222222222222,
              "#7201a8"
             ],
             [
              0.3333333333333333,
              "#9c179e"
             ],
             [
              0.4444444444444444,
              "#bd3786"
             ],
             [
              0.5555555555555556,
              "#d8576b"
             ],
             [
              0.6666666666666666,
              "#ed7953"
             ],
             [
              0.7777777777777778,
              "#fb9f3a"
             ],
             [
              0.8888888888888888,
              "#fdca26"
             ],
             [
              1,
              "#f0f921"
             ]
            ],
            "type": "histogram2dcontour"
           }
          ],
          "mesh3d": [
           {
            "colorbar": {
             "outlinewidth": 0,
             "ticks": ""
            },
            "type": "mesh3d"
           }
          ],
          "parcoords": [
           {
            "line": {
             "colorbar": {
              "outlinewidth": 0,
              "ticks": ""
             }
            },
            "type": "parcoords"
           }
          ],
          "pie": [
           {
            "automargin": true,
            "type": "pie"
           }
          ],
          "scatter": [
           {
            "fillpattern": {
             "fillmode": "overlay",
             "size": 10,
             "solidity": 0.2
            },
            "type": "scatter"
           }
          ],
          "scatter3d": [
           {
            "line": {
             "colorbar": {
              "outlinewidth": 0,
              "ticks": ""
             }
            },
            "marker": {
             "colorbar": {
              "outlinewidth": 0,
              "ticks": ""
             }
            },
            "type": "scatter3d"
           }
          ],
          "scattercarpet": [
           {
            "marker": {
             "colorbar": {
              "outlinewidth": 0,
              "ticks": ""
             }
            },
            "type": "scattercarpet"
           }
          ],
          "scattergeo": [
           {
            "marker": {
             "colorbar": {
              "outlinewidth": 0,
              "ticks": ""
             }
            },
            "type": "scattergeo"
           }
          ],
          "scattergl": [
           {
            "marker": {
             "colorbar": {
              "outlinewidth": 0,
              "ticks": ""
             }
            },
            "type": "scattergl"
           }
          ],
          "scattermapbox": [
           {
            "marker": {
             "colorbar": {
              "outlinewidth": 0,
              "ticks": ""
             }
            },
            "type": "scattermapbox"
           }
          ],
          "scatterpolar": [
           {
            "marker": {
             "colorbar": {
              "outlinewidth": 0,
              "ticks": ""
             }
            },
            "type": "scatterpolar"
           }
          ],
          "scatterpolargl": [
           {
            "marker": {
             "colorbar": {
              "outlinewidth": 0,
              "ticks": ""
             }
            },
            "type": "scatterpolargl"
           }
          ],
          "scatterternary": [
           {
            "marker": {
             "colorbar": {
              "outlinewidth": 0,
              "ticks": ""
             }
            },
            "type": "scatterternary"
           }
          ],
          "surface": [
           {
            "colorbar": {
             "outlinewidth": 0,
             "ticks": ""
            },
            "colorscale": [
             [
              0,
              "#0d0887"
             ],
             [
              0.1111111111111111,
              "#46039f"
             ],
             [
              0.2222222222222222,
              "#7201a8"
             ],
             [
              0.3333333333333333,
              "#9c179e"
             ],
             [
              0.4444444444444444,
              "#bd3786"
             ],
             [
              0.5555555555555556,
              "#d8576b"
             ],
             [
              0.6666666666666666,
              "#ed7953"
             ],
             [
              0.7777777777777778,
              "#fb9f3a"
             ],
             [
              0.8888888888888888,
              "#fdca26"
             ],
             [
              1,
              "#f0f921"
             ]
            ],
            "type": "surface"
           }
          ],
          "table": [
           {
            "cells": {
             "fill": {
              "color": "#EBF0F8"
             },
             "line": {
              "color": "white"
             }
            },
            "header": {
             "fill": {
              "color": "#C8D4E3"
             },
             "line": {
              "color": "white"
             }
            },
            "type": "table"
           }
          ]
         },
         "layout": {
          "annotationdefaults": {
           "arrowcolor": "#2a3f5f",
           "arrowhead": 0,
           "arrowwidth": 1
          },
          "autotypenumbers": "strict",
          "coloraxis": {
           "colorbar": {
            "outlinewidth": 0,
            "ticks": ""
           }
          },
          "colorscale": {
           "diverging": [
            [
             0,
             "#8e0152"
            ],
            [
             0.1,
             "#c51b7d"
            ],
            [
             0.2,
             "#de77ae"
            ],
            [
             0.3,
             "#f1b6da"
            ],
            [
             0.4,
             "#fde0ef"
            ],
            [
             0.5,
             "#f7f7f7"
            ],
            [
             0.6,
             "#e6f5d0"
            ],
            [
             0.7,
             "#b8e186"
            ],
            [
             0.8,
             "#7fbc41"
            ],
            [
             0.9,
             "#4d9221"
            ],
            [
             1,
             "#276419"
            ]
           ],
           "sequential": [
            [
             0,
             "#0d0887"
            ],
            [
             0.1111111111111111,
             "#46039f"
            ],
            [
             0.2222222222222222,
             "#7201a8"
            ],
            [
             0.3333333333333333,
             "#9c179e"
            ],
            [
             0.4444444444444444,
             "#bd3786"
            ],
            [
             0.5555555555555556,
             "#d8576b"
            ],
            [
             0.6666666666666666,
             "#ed7953"
            ],
            [
             0.7777777777777778,
             "#fb9f3a"
            ],
            [
             0.8888888888888888,
             "#fdca26"
            ],
            [
             1,
             "#f0f921"
            ]
           ],
           "sequentialminus": [
            [
             0,
             "#0d0887"
            ],
            [
             0.1111111111111111,
             "#46039f"
            ],
            [
             0.2222222222222222,
             "#7201a8"
            ],
            [
             0.3333333333333333,
             "#9c179e"
            ],
            [
             0.4444444444444444,
             "#bd3786"
            ],
            [
             0.5555555555555556,
             "#d8576b"
            ],
            [
             0.6666666666666666,
             "#ed7953"
            ],
            [
             0.7777777777777778,
             "#fb9f3a"
            ],
            [
             0.8888888888888888,
             "#fdca26"
            ],
            [
             1,
             "#f0f921"
            ]
           ]
          },
          "colorway": [
           "#636efa",
           "#EF553B",
           "#00cc96",
           "#ab63fa",
           "#FFA15A",
           "#19d3f3",
           "#FF6692",
           "#B6E880",
           "#FF97FF",
           "#FECB52"
          ],
          "font": {
           "color": "#2a3f5f"
          },
          "geo": {
           "bgcolor": "white",
           "lakecolor": "white",
           "landcolor": "#E5ECF6",
           "showlakes": true,
           "showland": true,
           "subunitcolor": "white"
          },
          "hoverlabel": {
           "align": "left"
          },
          "hovermode": "closest",
          "mapbox": {
           "style": "light"
          },
          "paper_bgcolor": "white",
          "plot_bgcolor": "#E5ECF6",
          "polar": {
           "angularaxis": {
            "gridcolor": "white",
            "linecolor": "white",
            "ticks": ""
           },
           "bgcolor": "#E5ECF6",
           "radialaxis": {
            "gridcolor": "white",
            "linecolor": "white",
            "ticks": ""
           }
          },
          "scene": {
           "xaxis": {
            "backgroundcolor": "#E5ECF6",
            "gridcolor": "white",
            "gridwidth": 2,
            "linecolor": "white",
            "showbackground": true,
            "ticks": "",
            "zerolinecolor": "white"
           },
           "yaxis": {
            "backgroundcolor": "#E5ECF6",
            "gridcolor": "white",
            "gridwidth": 2,
            "linecolor": "white",
            "showbackground": true,
            "ticks": "",
            "zerolinecolor": "white"
           },
           "zaxis": {
            "backgroundcolor": "#E5ECF6",
            "gridcolor": "white",
            "gridwidth": 2,
            "linecolor": "white",
            "showbackground": true,
            "ticks": "",
            "zerolinecolor": "white"
           }
          },
          "shapedefaults": {
           "line": {
            "color": "#2a3f5f"
           }
          },
          "ternary": {
           "aaxis": {
            "gridcolor": "white",
            "linecolor": "white",
            "ticks": ""
           },
           "baxis": {
            "gridcolor": "white",
            "linecolor": "white",
            "ticks": ""
           },
           "bgcolor": "#E5ECF6",
           "caxis": {
            "gridcolor": "white",
            "linecolor": "white",
            "ticks": ""
           }
          },
          "title": {
           "x": 0.05
          },
          "xaxis": {
           "automargin": true,
           "gridcolor": "white",
           "linecolor": "white",
           "ticks": "",
           "title": {
            "standoff": 15
           },
           "zerolinecolor": "white",
           "zerolinewidth": 2
          },
          "yaxis": {
           "automargin": true,
           "gridcolor": "white",
           "linecolor": "white",
           "ticks": "",
           "title": {
            "standoff": 15
           },
           "zerolinecolor": "white",
           "zerolinewidth": 2
          }
         }
        },
        "title": {
         "text": "Top 20 — Ranking de Risco (baixa aprov finais + alta evasão + gap)"
        },
        "xaxis": {
         "anchor": "y",
         "domain": [
          0,
          1
         ],
         "title": {
          "text": "Score de Risco (0–1)"
         }
        },
        "yaxis": {
         "anchor": "x",
         "categoryorder": "total ascending",
         "domain": [
          0,
          1
         ],
         "title": {
          "text": "Município"
         }
        }
       }
      }
     },
     "metadata": {},
     "output_type": "display_data"
    }
   ],
   "source": [
    "import pandas as pd\n",
    "import numpy as np\n",
    "import plotly.express as px\n",
    "import re\n",
    "\n",
    "# ================================\n",
    "# Helpers\n",
    "# ================================\n",
    "def _slug(s: str) -> str:\n",
    "    s = str(s).strip().lower()\n",
    "    trans = str.maketrans({\n",
    "        \"ã\":\"a\",\"â\":\"a\",\"á\":\"a\",\"à\":\"a\",\n",
    "        \"é\":\"e\",\"ê\":\"e\",\"è\":\"e\",\n",
    "        \"í\":\"i\",\n",
    "        \"ó\":\"o\",\"ô\":\"o\",\"õ\":\"o\",\n",
    "        \"ú\":\"u\",\n",
    "        \"ç\":\"c\"\n",
    "    })\n",
    "    s = s.translate(trans)\n",
    "    s = re.sub(r\"[^a-z0-9]+\", \"_\", s)\n",
    "    return s\n",
    "\n",
    "def _minmax(s: pd.Series) -> pd.Series:\n",
    "    s = s.astype(float)\n",
    "    if s.max() == s.min():\n",
    "        return pd.Series(0.5, index=s.index)\n",
    "    return (s - s.min()) / (s.max() - s.min())\n",
    "\n",
    "# ================================\n",
    "# 1) Preparar URGENTES\n",
    "#    - manter apenas Total/Total para evitar duplicatas\n",
    "#    - padronizar nomes/colunas\n",
    "# ================================\n",
    "urg = urgentes.copy()\n",
    "\n",
    "# Preferir Total/Total; se não houver, seguimos com o que tiver\n",
    "if {\"NO_LOCALIZACAO\",\"NO_DEPENDENCIA\"}.issubset(urg.columns):\n",
    "    sel = (urg[\"NO_LOCALIZACAO\"].astype(str).str.upper() == \"TOTAL\") & \\\n",
    "          (urg[\"NO_DEPENDENCIA\"].astype(str).str.upper() == \"TOTAL\")\n",
    "    if sel.any():\n",
    "        urg = urg[sel].copy()\n",
    "\n",
    "# renomear colunas-chave\n",
    "col_nome_urg = \"NO_MUNICIPIO\" if \"NO_MUNICIPIO\" in urg.columns else \"MUNICIPIO_NOME_ALP\"\n",
    "urg = urg.rename(columns={\n",
    "    col_nome_urg: \"MUNICIPIO_NOME\",\n",
    "    \"Evasão - Fundamental\": \"EVASAO_FUNDAMENTAL\",\n",
    "    \"Evasão - Médio\": \"EVASAO_MEDIO\"\n",
    "})\n",
    "\n",
    "# keep só o necessário e reduzir por município (caso ainda tenha múltiplas linhas)\n",
    "keep_urg = [\"MUNICIPIO_NOME\"]\n",
    "for c in [\"EVASAO_FUNDAMENTAL\",\"EVASAO_MEDIO\"]:\n",
    "    if c in urg.columns: keep_urg.append(c)\n",
    "urg = urg[keep_urg].copy()\n",
    "urg[\"MUNICIPIO_NOME\"] = urg[\"MUNICIPIO_NOME\"].astype(str).str.strip()\n",
    "urg = urg.groupby(\"MUNICIPIO_NOME\", as_index=False).mean(numeric_only=True)\n",
    "\n",
    "# ================================\n",
    "# 2) Preparar DF_FILTRADO (aprovações por ano)\n",
    "#    - converter 0–1 para % (0–100)\n",
    "# ================================\n",
    "evo = evolucao_filtrada.copy()\n",
    "evo[\"MUNICIPIO_NOME\"] = evo[\"MUNICIPIO_NOME\"].astype(str).str.strip()\n",
    "\n",
    "for c in [\"APROVACAO_INICIAIS\",\"APROVACAO_FINAIS\"]:\n",
    "    if c in evo.columns:\n",
    "        # se já estiver em % (0-100), não muda; caso esteja 0–1, multiplicar por 100\n",
    "        # heurística: se média <= 1.5, consideramos proporção\n",
    "        mean_val = pd.to_numeric(evo[c], errors=\"coerce\").mean()\n",
    "        if pd.notna(mean_val) and mean_val <= 1.5:\n",
    "            evo[c + \"_%\"] = 100 * pd.to_numeric(evo[c], errors=\"coerce\")\n",
    "        else:\n",
    "            evo[c + \"_%\"] = pd.to_numeric(evo[c], errors=\"coerce\")\n",
    "    else:\n",
    "        evo[c + \"_%\"] = np.nan\n",
    "\n",
    "# ================================\n",
    "# 3) Agregados \"estáticos\" por município\n",
    "#    - use a MÉDIA do período (robusto) ou o ÚLTIMO ano (snapshot)\n",
    "#    -> abaixo: média; comente a média e descomente o \"last\" se preferir\n",
    "# ================================\n",
    "# média do período\n",
    "df_static = (\n",
    "    evo.groupby([\"MUNICIPIO_NOME\"], as_index=False)[[\"APROVACAO_INICIAIS_%\",\"APROVACAO_FINAIS_%\"]]\n",
    "       .mean(numeric_only=True)\n",
    ")\n",
    "\n",
    "# --- alternativa: último ano disponível por município ---\n",
    "# idx = evo.groupby(\"MUNICIPIO_NOME\")[\"ANO\"].idxmax()\n",
    "# df_static = evo.loc[idx, [\"MUNICIPIO_NOME\",\"APROVACAO_INICIAIS_%\",\"APROVACAO_FINAIS_%\"]].reset_index(drop=True)\n",
    "\n",
    "# merge evasão\n",
    "df_static = df_static.merge(urg, on=\"MUNICIPIO_NOME\", how=\"left\")\n",
    "\n",
    "# métricas derivadas\n",
    "df_static[\"GAP_APROV_%\"] = df_static[\"APROVACAO_INICIAIS_%\"] - df_static[\"APROVACAO_FINAIS_%\"]\n",
    "\n",
    "aprov_finais_norm = 1 - _minmax(df_static[\"APROVACAO_FINAIS_%\"].fillna(df_static[\"APROVACAO_FINAIS_%\"].median()))\n",
    "evasao_norm       = _minmax(df_static[\"EVASAO_FUNDAMENTAL\"].fillna(df_static[\"EVASAO_FUNDAMENTAL\"].median()))\n",
    "gap_norm          = _minmax(df_static[\"GAP_APROV_%\"].fillna(0))\n",
    "\n",
    "df_static[\"SCORE_RISCO\"] = 0.5*aprov_finais_norm + 0.4*evasao_norm + 0.1*gap_norm\n",
    "\n",
    "# ================================\n",
    "# 4) Gráficos\n",
    "# ================================\n",
    "def graf_tendencia_geral(evo=evo):\n",
    "    t = evo.dropna(subset=[\"ANO\",\"APROVACAO_INICIAIS_%\",\"APROVACAO_FINAIS_%\"]).copy()\n",
    "    m = t.groupby(\"ANO\", as_index=False)[[\"APROVACAO_INICIAIS_%\",\"APROVACAO_FINAIS_%\"]].mean()\n",
    "    melted = m.melt(id_vars=\"ANO\", var_name=\"Etapa\", value_name=\"Aprovação (%)\")\n",
    "    fig = px.line(melted, x=\"ANO\", y=\"Aprovação (%)\", color=\"Etapa\", markers=True,\n",
    "                  title=\"Tendência Geral — Aprovação Iniciais vs Finais (média do recorte)\")\n",
    "    fig.update_layout(yaxis_tickformat=\".1f\")\n",
    "    return fig\n",
    "\n",
    "def graf_gap_aprov(base=df_static, top_n=25):\n",
    "    t = base.dropna(subset=[\"GAP_APROV_%\"]).copy()\n",
    "    t = t.sort_values(\"GAP_APROV_%\", ascending=False).head(top_n)\n",
    "    fig = px.bar(t, x=\"GAP_APROV_%\", y=\"MUNICIPIO_NOME\", orientation=\"h\",\n",
    "                 title=f\"Gargalo (GAP) de Aprovação — Iniciais − Finais (Top {top_n})\",\n",
    "                 labels={\"MUNICIPIO_NOME\":\"Município\",\"GAP_APROV_%\":\"GAP (p.p.)\"})\n",
    "    fig.update_yaxes(categoryorder=\"total ascending\")\n",
    "    return fig\n",
    "\n",
    "def graf_quadrantes(base=df_static):\n",
    "    t = base.dropna(subset=[\"APROVACAO_FINAIS_%\",\"EVASAO_FUNDAMENTAL\"]).copy()\n",
    "    cut_aprov = t[\"APROVACAO_FINAIS_%\"].median()\n",
    "    cut_evas  = t[\"EVASAO_FUNDAMENTAL\"].median()\n",
    "\n",
    "    conds = [\n",
    "        (t[\"APROVACAO_FINAIS_%\"] < cut_aprov) & (t[\"EVASAO_FUNDAMENTAL\"] > cut_evas),\n",
    "        (t[\"APROVACAO_FINAIS_%\"] >= cut_aprov) & (t[\"EVASAO_FUNDAMENTAL\"] > cut_evas),\n",
    "        (t[\"APROVACAO_FINAIS_%\"] < cut_aprov) & (t[\"EVASAO_FUNDAMENTAL\"] <= cut_evas),\n",
    "        (t[\"APROVACAO_FINAIS_%\"] >= cut_aprov) & (t[\"EVASAO_FUNDAMENTAL\"] <= cut_evas),\n",
    "    ]\n",
    "    labels = [\"Crítico (aprov baixa, evas alta)\",\"Atenção (aprov alta, evas alta)\",\n",
    "              \"Apoio pedagógico (aprov baixa, evas baixa)\",\"OK (aprov alta, evas baixa)\"]\n",
    "    t[\"Quadrante\"] = np.select(conds, labels)\n",
    "\n",
    "    fig = px.scatter(\n",
    "        t, x=\"APROVACAO_FINAIS_%\", y=\"EVASAO_FUNDAMENTAL\", color=\"Quadrante\",\n",
    "        hover_data=[\"MUNICIPIO_NOME\",\"APROVACAO_INICIAIS_%\",\"GAP_APROV_%\",\"SCORE_RISCO\"],\n",
    "        title=\"Quadrantes — Aprovação (Anos Finais) × Evasão (Fundamental)\",\n",
    "        labels={\"APROVACAO_FINAIS_%\":\"Aprovação Finais (%)\",\"EVASAO_FUNDAMENTAL\":\"Evasão Fundamental (%)\"}\n",
    "    )\n",
    "    fig.add_vline(x=cut_aprov); fig.add_hline(y=cut_evas)\n",
    "    return fig\n",
    "\n",
    "def graf_ranking_risco(base=df_static, top_n=20):\n",
    "    t = base.dropna(subset=[\"SCORE_RISCO\"]).copy()\n",
    "    t = t.sort_values(\"SCORE_RISCO\", ascending=False).head(top_n)\n",
    "    fig = px.bar(\n",
    "        t, x=\"SCORE_RISCO\", y=\"MUNICIPIO_NOME\", orientation=\"h\",\n",
    "        hover_data=[\"APROVACAO_INICIAIS_%\",\"APROVACAO_FINAIS_%\",\"EVASAO_FUNDAMENTAL\",\"GAP_APROV_%\"],\n",
    "        title=f\"Top {top_n} — Ranking de Risco (baixa aprov finais + alta evasão + gap)\",\n",
    "        labels={\"MUNICIPIO_NOME\":\"Município\",\"SCORE_RISCO\":\"Score de Risco (0–1)\"}\n",
    "    )\n",
    "    fig.update_yaxes(categoryorder=\"total ascending\")\n",
    "    return fig\n",
    "\n",
    "def graf_tendencia_municipio(municipio_nome, evo=evo):\n",
    "    t = evo[evo[\"MUNICIPIO_NOME\"].astype(str).str.strip() == str(municipio_nome).strip()].copy()\n",
    "    t = t.dropna(subset=[\"ANO\",\"APROVACAO_INICIAIS_%\",\"APROVACAO_FINAIS_%\"])\n",
    "    if t.empty:\n",
    "        raise ValueError(f\"Município '{municipio_nome}' não encontrado em df_filtrado.\")\n",
    "    m = t.groupby(\"ANO\", as_index=False)[[\"APROVACAO_INICIAIS_%\",\"APROVACAO_FINAIS_%\"]].mean()\n",
    "    melted = m.melt(id_vars=\"ANO\", var_name=\"Etapa\", value_name=\"Aprovação (%)\")\n",
    "    fig = px.line(melted, x=\"ANO\", y=\"Aprovação (%)\", color=\"Etapa\", markers=True,\n",
    "                  title=f\"{municipio_nome} — Evolução de Aprovação (Iniciais vs Finais)\")\n",
    "    fig.update_layout(yaxis_tickformat=\".1f\")\n",
    "    return fig\n",
    "\n",
    "# ================================\n",
    "# Exemplos de uso (Jupyter)\n",
    "# ================================\n",
    "graf_tendencia_geral().show()\n",
    "graf_gap_aprov().show()\n",
    "graf_quadrantes().show()\n",
    "graf_ranking_risco().show()\n",
    "\n"
   ]
  },
  {
   "cell_type": "code",
   "execution_count": 50,
   "id": "76f2167c",
   "metadata": {},
   "outputs": [
    {
     "name": "stdout",
     "output_type": "stream",
     "text": [
      "Municipios em df_filtrado: 8\n",
      "Municipios em urgentes: 5\n",
      "Após merge (df_static)   : (8, 7) NaN evasão: 3\n"
     ]
    },
    {
     "data": {
      "application/vnd.plotly.v1+json": {
       "config": {
        "plotlyServerURL": "https://plot.ly"
       },
       "data": [
        {
         "customdata": [
          [
           "BANANEIRAS",
           87.25106,
           13.591778333333338,
           0.4560031973624261
          ],
          [
           "CATURITÉ",
           89.31007500000001,
           8.802636666666672,
           0.047406006603245114
          ],
          [
           "JOÃO PESSOA",
           86.1421175,
           8.43117749999999,
           0.3020401570177182
          ]
         ],
         "hovertemplate": "Quadrante=OK (aprov alta, evas baixa)<br>Aprovação Finais (%)=%{x}<br>Evasão Fundamental (%)=%{y}<br>MUNICIPIO_NOME=%{customdata[0]}<br>APROVACAO_INICIAIS_%=%{customdata[1]}<br>GAP_APROV_%=%{customdata[2]}<br>SCORE_RISCO=%{customdata[3]}<extra></extra>",
         "legendgroup": "OK (aprov alta, evas baixa)",
         "marker": {
          "color": "#636efa",
          "symbol": "circle"
         },
         "mode": "markers",
         "name": "OK (aprov alta, evas baixa)",
         "orientation": "v",
         "showlegend": true,
         "type": "scatter",
         "x": [
          73.65928166666666,
          80.50743833333334,
          77.71094000000001
         ],
         "xaxis": "x",
         "y": [
          3.6,
          3.2,
          4.1
         ],
         "yaxis": "y"
        },
        {
         "customdata": [
          [
           "SANTA RITA",
           81.90335666666667,
           11.00631,
           0.7617777272227485
          ],
          [
           "SERRA REDONDA",
           81.05455333333335,
           12.174855000000008,
           0.984432251592344
          ]
         ],
         "hovertemplate": "Quadrante=Crítico (aprov baixa, evas alta)<br>Aprovação Finais (%)=%{x}<br>Evasão Fundamental (%)=%{y}<br>MUNICIPIO_NOME=%{customdata[0]}<br>APROVACAO_INICIAIS_%=%{customdata[1]}<br>GAP_APROV_%=%{customdata[2]}<br>SCORE_RISCO=%{customdata[3]}<extra></extra>",
         "legendgroup": "Crítico (aprov baixa, evas alta)",
         "marker": {
          "color": "#EF553B",
          "symbol": "circle"
         },
         "mode": "markers",
         "name": "Crítico (aprov baixa, evas alta)",
         "orientation": "v",
         "showlegend": true,
         "type": "scatter",
         "x": [
          70.89704666666667,
          68.87969833333334
         ],
         "xaxis": "x",
         "y": [
          5,
          5.8
         ],
         "yaxis": "y"
        }
       ],
       "layout": {
        "legend": {
         "title": {
          "text": "Quadrante"
         },
         "tracegroupgap": 0
        },
        "shapes": [
         {
          "type": "line",
          "x0": 73.65928166666666,
          "x1": 73.65928166666666,
          "xref": "x",
          "y0": 0,
          "y1": 1,
          "yref": "y domain"
         },
         {
          "type": "line",
          "x0": 0,
          "x1": 1,
          "xref": "x domain",
          "y0": 4.1,
          "y1": 4.1,
          "yref": "y"
         }
        ],
        "template": {
         "data": {
          "bar": [
           {
            "error_x": {
             "color": "#2a3f5f"
            },
            "error_y": {
             "color": "#2a3f5f"
            },
            "marker": {
             "line": {
              "color": "#E5ECF6",
              "width": 0.5
             },
             "pattern": {
              "fillmode": "overlay",
              "size": 10,
              "solidity": 0.2
             }
            },
            "type": "bar"
           }
          ],
          "barpolar": [
           {
            "marker": {
             "line": {
              "color": "#E5ECF6",
              "width": 0.5
             },
             "pattern": {
              "fillmode": "overlay",
              "size": 10,
              "solidity": 0.2
             }
            },
            "type": "barpolar"
           }
          ],
          "carpet": [
           {
            "aaxis": {
             "endlinecolor": "#2a3f5f",
             "gridcolor": "white",
             "linecolor": "white",
             "minorgridcolor": "white",
             "startlinecolor": "#2a3f5f"
            },
            "baxis": {
             "endlinecolor": "#2a3f5f",
             "gridcolor": "white",
             "linecolor": "white",
             "minorgridcolor": "white",
             "startlinecolor": "#2a3f5f"
            },
            "type": "carpet"
           }
          ],
          "choropleth": [
           {
            "colorbar": {
             "outlinewidth": 0,
             "ticks": ""
            },
            "type": "choropleth"
           }
          ],
          "contour": [
           {
            "colorbar": {
             "outlinewidth": 0,
             "ticks": ""
            },
            "colorscale": [
             [
              0,
              "#0d0887"
             ],
             [
              0.1111111111111111,
              "#46039f"
             ],
             [
              0.2222222222222222,
              "#7201a8"
             ],
             [
              0.3333333333333333,
              "#9c179e"
             ],
             [
              0.4444444444444444,
              "#bd3786"
             ],
             [
              0.5555555555555556,
              "#d8576b"
             ],
             [
              0.6666666666666666,
              "#ed7953"
             ],
             [
              0.7777777777777778,
              "#fb9f3a"
             ],
             [
              0.8888888888888888,
              "#fdca26"
             ],
             [
              1,
              "#f0f921"
             ]
            ],
            "type": "contour"
           }
          ],
          "contourcarpet": [
           {
            "colorbar": {
             "outlinewidth": 0,
             "ticks": ""
            },
            "type": "contourcarpet"
           }
          ],
          "heatmap": [
           {
            "colorbar": {
             "outlinewidth": 0,
             "ticks": ""
            },
            "colorscale": [
             [
              0,
              "#0d0887"
             ],
             [
              0.1111111111111111,
              "#46039f"
             ],
             [
              0.2222222222222222,
              "#7201a8"
             ],
             [
              0.3333333333333333,
              "#9c179e"
             ],
             [
              0.4444444444444444,
              "#bd3786"
             ],
             [
              0.5555555555555556,
              "#d8576b"
             ],
             [
              0.6666666666666666,
              "#ed7953"
             ],
             [
              0.7777777777777778,
              "#fb9f3a"
             ],
             [
              0.8888888888888888,
              "#fdca26"
             ],
             [
              1,
              "#f0f921"
             ]
            ],
            "type": "heatmap"
           }
          ],
          "heatmapgl": [
           {
            "colorbar": {
             "outlinewidth": 0,
             "ticks": ""
            },
            "colorscale": [
             [
              0,
              "#0d0887"
             ],
             [
              0.1111111111111111,
              "#46039f"
             ],
             [
              0.2222222222222222,
              "#7201a8"
             ],
             [
              0.3333333333333333,
              "#9c179e"
             ],
             [
              0.4444444444444444,
              "#bd3786"
             ],
             [
              0.5555555555555556,
              "#d8576b"
             ],
             [
              0.6666666666666666,
              "#ed7953"
             ],
             [
              0.7777777777777778,
              "#fb9f3a"
             ],
             [
              0.8888888888888888,
              "#fdca26"
             ],
             [
              1,
              "#f0f921"
             ]
            ],
            "type": "heatmapgl"
           }
          ],
          "histogram": [
           {
            "marker": {
             "pattern": {
              "fillmode": "overlay",
              "size": 10,
              "solidity": 0.2
             }
            },
            "type": "histogram"
           }
          ],
          "histogram2d": [
           {
            "colorbar": {
             "outlinewidth": 0,
             "ticks": ""
            },
            "colorscale": [
             [
              0,
              "#0d0887"
             ],
             [
              0.1111111111111111,
              "#46039f"
             ],
             [
              0.2222222222222222,
              "#7201a8"
             ],
             [
              0.3333333333333333,
              "#9c179e"
             ],
             [
              0.4444444444444444,
              "#bd3786"
             ],
             [
              0.5555555555555556,
              "#d8576b"
             ],
             [
              0.6666666666666666,
              "#ed7953"
             ],
             [
              0.7777777777777778,
              "#fb9f3a"
             ],
             [
              0.8888888888888888,
              "#fdca26"
             ],
             [
              1,
              "#f0f921"
             ]
            ],
            "type": "histogram2d"
           }
          ],
          "histogram2dcontour": [
           {
            "colorbar": {
             "outlinewidth": 0,
             "ticks": ""
            },
            "colorscale": [
             [
              0,
              "#0d0887"
             ],
             [
              0.1111111111111111,
              "#46039f"
             ],
             [
              0.2222222222222222,
              "#7201a8"
             ],
             [
              0.3333333333333333,
              "#9c179e"
             ],
             [
              0.4444444444444444,
              "#bd3786"
             ],
             [
              0.5555555555555556,
              "#d8576b"
             ],
             [
              0.6666666666666666,
              "#ed7953"
             ],
             [
              0.7777777777777778,
              "#fb9f3a"
             ],
             [
              0.8888888888888888,
              "#fdca26"
             ],
             [
              1,
              "#f0f921"
             ]
            ],
            "type": "histogram2dcontour"
           }
          ],
          "mesh3d": [
           {
            "colorbar": {
             "outlinewidth": 0,
             "ticks": ""
            },
            "type": "mesh3d"
           }
          ],
          "parcoords": [
           {
            "line": {
             "colorbar": {
              "outlinewidth": 0,
              "ticks": ""
             }
            },
            "type": "parcoords"
           }
          ],
          "pie": [
           {
            "automargin": true,
            "type": "pie"
           }
          ],
          "scatter": [
           {
            "fillpattern": {
             "fillmode": "overlay",
             "size": 10,
             "solidity": 0.2
            },
            "type": "scatter"
           }
          ],
          "scatter3d": [
           {
            "line": {
             "colorbar": {
              "outlinewidth": 0,
              "ticks": ""
             }
            },
            "marker": {
             "colorbar": {
              "outlinewidth": 0,
              "ticks": ""
             }
            },
            "type": "scatter3d"
           }
          ],
          "scattercarpet": [
           {
            "marker": {
             "colorbar": {
              "outlinewidth": 0,
              "ticks": ""
             }
            },
            "type": "scattercarpet"
           }
          ],
          "scattergeo": [
           {
            "marker": {
             "colorbar": {
              "outlinewidth": 0,
              "ticks": ""
             }
            },
            "type": "scattergeo"
           }
          ],
          "scattergl": [
           {
            "marker": {
             "colorbar": {
              "outlinewidth": 0,
              "ticks": ""
             }
            },
            "type": "scattergl"
           }
          ],
          "scattermapbox": [
           {
            "marker": {
             "colorbar": {
              "outlinewidth": 0,
              "ticks": ""
             }
            },
            "type": "scattermapbox"
           }
          ],
          "scatterpolar": [
           {
            "marker": {
             "colorbar": {
              "outlinewidth": 0,
              "ticks": ""
             }
            },
            "type": "scatterpolar"
           }
          ],
          "scatterpolargl": [
           {
            "marker": {
             "colorbar": {
              "outlinewidth": 0,
              "ticks": ""
             }
            },
            "type": "scatterpolargl"
           }
          ],
          "scatterternary": [
           {
            "marker": {
             "colorbar": {
              "outlinewidth": 0,
              "ticks": ""
             }
            },
            "type": "scatterternary"
           }
          ],
          "surface": [
           {
            "colorbar": {
             "outlinewidth": 0,
             "ticks": ""
            },
            "colorscale": [
             [
              0,
              "#0d0887"
             ],
             [
              0.1111111111111111,
              "#46039f"
             ],
             [
              0.2222222222222222,
              "#7201a8"
             ],
             [
              0.3333333333333333,
              "#9c179e"
             ],
             [
              0.4444444444444444,
              "#bd3786"
             ],
             [
              0.5555555555555556,
              "#d8576b"
             ],
             [
              0.6666666666666666,
              "#ed7953"
             ],
             [
              0.7777777777777778,
              "#fb9f3a"
             ],
             [
              0.8888888888888888,
              "#fdca26"
             ],
             [
              1,
              "#f0f921"
             ]
            ],
            "type": "surface"
           }
          ],
          "table": [
           {
            "cells": {
             "fill": {
              "color": "#EBF0F8"
             },
             "line": {
              "color": "white"
             }
            },
            "header": {
             "fill": {
              "color": "#C8D4E3"
             },
             "line": {
              "color": "white"
             }
            },
            "type": "table"
           }
          ]
         },
         "layout": {
          "annotationdefaults": {
           "arrowcolor": "#2a3f5f",
           "arrowhead": 0,
           "arrowwidth": 1
          },
          "autotypenumbers": "strict",
          "coloraxis": {
           "colorbar": {
            "outlinewidth": 0,
            "ticks": ""
           }
          },
          "colorscale": {
           "diverging": [
            [
             0,
             "#8e0152"
            ],
            [
             0.1,
             "#c51b7d"
            ],
            [
             0.2,
             "#de77ae"
            ],
            [
             0.3,
             "#f1b6da"
            ],
            [
             0.4,
             "#fde0ef"
            ],
            [
             0.5,
             "#f7f7f7"
            ],
            [
             0.6,
             "#e6f5d0"
            ],
            [
             0.7,
             "#b8e186"
            ],
            [
             0.8,
             "#7fbc41"
            ],
            [
             0.9,
             "#4d9221"
            ],
            [
             1,
             "#276419"
            ]
           ],
           "sequential": [
            [
             0,
             "#0d0887"
            ],
            [
             0.1111111111111111,
             "#46039f"
            ],
            [
             0.2222222222222222,
             "#7201a8"
            ],
            [
             0.3333333333333333,
             "#9c179e"
            ],
            [
             0.4444444444444444,
             "#bd3786"
            ],
            [
             0.5555555555555556,
             "#d8576b"
            ],
            [
             0.6666666666666666,
             "#ed7953"
            ],
            [
             0.7777777777777778,
             "#fb9f3a"
            ],
            [
             0.8888888888888888,
             "#fdca26"
            ],
            [
             1,
             "#f0f921"
            ]
           ],
           "sequentialminus": [
            [
             0,
             "#0d0887"
            ],
            [
             0.1111111111111111,
             "#46039f"
            ],
            [
             0.2222222222222222,
             "#7201a8"
            ],
            [
             0.3333333333333333,
             "#9c179e"
            ],
            [
             0.4444444444444444,
             "#bd3786"
            ],
            [
             0.5555555555555556,
             "#d8576b"
            ],
            [
             0.6666666666666666,
             "#ed7953"
            ],
            [
             0.7777777777777778,
             "#fb9f3a"
            ],
            [
             0.8888888888888888,
             "#fdca26"
            ],
            [
             1,
             "#f0f921"
            ]
           ]
          },
          "colorway": [
           "#636efa",
           "#EF553B",
           "#00cc96",
           "#ab63fa",
           "#FFA15A",
           "#19d3f3",
           "#FF6692",
           "#B6E880",
           "#FF97FF",
           "#FECB52"
          ],
          "font": {
           "color": "#2a3f5f"
          },
          "geo": {
           "bgcolor": "white",
           "lakecolor": "white",
           "landcolor": "#E5ECF6",
           "showlakes": true,
           "showland": true,
           "subunitcolor": "white"
          },
          "hoverlabel": {
           "align": "left"
          },
          "hovermode": "closest",
          "mapbox": {
           "style": "light"
          },
          "paper_bgcolor": "white",
          "plot_bgcolor": "#E5ECF6",
          "polar": {
           "angularaxis": {
            "gridcolor": "white",
            "linecolor": "white",
            "ticks": ""
           },
           "bgcolor": "#E5ECF6",
           "radialaxis": {
            "gridcolor": "white",
            "linecolor": "white",
            "ticks": ""
           }
          },
          "scene": {
           "xaxis": {
            "backgroundcolor": "#E5ECF6",
            "gridcolor": "white",
            "gridwidth": 2,
            "linecolor": "white",
            "showbackground": true,
            "ticks": "",
            "zerolinecolor": "white"
           },
           "yaxis": {
            "backgroundcolor": "#E5ECF6",
            "gridcolor": "white",
            "gridwidth": 2,
            "linecolor": "white",
            "showbackground": true,
            "ticks": "",
            "zerolinecolor": "white"
           },
           "zaxis": {
            "backgroundcolor": "#E5ECF6",
            "gridcolor": "white",
            "gridwidth": 2,
            "linecolor": "white",
            "showbackground": true,
            "ticks": "",
            "zerolinecolor": "white"
           }
          },
          "shapedefaults": {
           "line": {
            "color": "#2a3f5f"
           }
          },
          "ternary": {
           "aaxis": {
            "gridcolor": "white",
            "linecolor": "white",
            "ticks": ""
           },
           "baxis": {
            "gridcolor": "white",
            "linecolor": "white",
            "ticks": ""
           },
           "bgcolor": "#E5ECF6",
           "caxis": {
            "gridcolor": "white",
            "linecolor": "white",
            "ticks": ""
           }
          },
          "title": {
           "x": 0.05
          },
          "xaxis": {
           "automargin": true,
           "gridcolor": "white",
           "linecolor": "white",
           "ticks": "",
           "title": {
            "standoff": 15
           },
           "zerolinecolor": "white",
           "zerolinewidth": 2
          },
          "yaxis": {
           "automargin": true,
           "gridcolor": "white",
           "linecolor": "white",
           "ticks": "",
           "title": {
            "standoff": 15
           },
           "zerolinecolor": "white",
           "zerolinewidth": 2
          }
         }
        },
        "title": {
         "text": "Quadrantes — Aprovação (Anos Finais) × Evasão (Fundamental)"
        },
        "xaxis": {
         "anchor": "y",
         "domain": [
          0,
          1
         ],
         "title": {
          "text": "Aprovação Finais (%)"
         }
        },
        "yaxis": {
         "anchor": "x",
         "domain": [
          0,
          1
         ],
         "title": {
          "text": "Evasão Fundamental (%)"
         }
        }
       }
      }
     },
     "metadata": {},
     "output_type": "display_data"
    }
   ],
   "source": [
    "import pandas as pd\n",
    "import numpy as np\n",
    "import plotly.express as px\n",
    "import re\n",
    "\n",
    "# --- helpers (use os mesmos do seu script) ---\n",
    "def _slug(s: str) -> str:\n",
    "    s = str(s).strip().lower()\n",
    "    trans = str.maketrans({\"ã\":\"a\",\"â\":\"a\",\"á\":\"a\",\"à\":\"a\",\n",
    "                           \"é\":\"e\",\"ê\":\"e\",\"è\":\"e\",\n",
    "                           \"í\":\"i\",\n",
    "                           \"ó\":\"o\",\"ô\":\"o\",\"õ\":\"o\",\n",
    "                           \"ú\":\"u\",\"ç\":\"c\"})\n",
    "    s = s.translate(trans)\n",
    "    s = re.sub(r\"[^a-z0-9]+\", \"_\", s)\n",
    "    return s\n",
    "\n",
    "def _minmax(s: pd.Series) -> pd.Series:\n",
    "    s = pd.to_numeric(s, errors=\"coerce\").astype(float)\n",
    "    if s.dropna().empty or s.max() == s.min():\n",
    "        return pd.Series(0.5, index=s.index)\n",
    "    return (s - s.min()) / (s.max() - s.min())\n",
    "\n",
    "\n",
    "# ======================================================\n",
    "# 1) Padronizar e criar CHAVE de merge por slug\n",
    "# ======================================================\n",
    "# --- URGENTES ---\n",
    "urg = urgentes.copy()\n",
    "# preferir Total/Total quando existir\n",
    "if {\"NO_LOCALIZACAO\",\"NO_DEPENDENCIA\"}.issubset(urg.columns):\n",
    "    mask_total = (urg[\"NO_LOCALIZACAO\"].astype(str).str.upper()==\"TOTAL\") & \\\n",
    "                 (urg[\"NO_DEPENDENCIA\"].astype(str).str.upper()==\"TOTAL\")\n",
    "    if mask_total.any():\n",
    "        urg = urg[mask_total].copy()\n",
    "\n",
    "col_nome_urg = \"NO_MUNICIPIO\" if \"NO_MUNICIPIO\" in urg.columns else \"MUNICIPIO_NOME_ALP\"\n",
    "urg = urg.rename(columns={\n",
    "    col_nome_urg: \"MUNICIPIO_NOME\",\n",
    "    \"Evasão - Fundamental\": \"EVASAO_FUNDAMENTAL\",\n",
    "    \"Evasão - Médio\": \"EVASAO_MEDIO\"\n",
    "})\n",
    "urg[\"MUNICIPIO_NOME\"] = urg[\"MUNICIPIO_NOME\"].astype(str).str.strip()\n",
    "urg[\"MUN_KEY\"] = urg[\"MUNICIPIO_NOME\"].map(_slug)\n",
    "\n",
    "# reduzir por município\n",
    "keep = [\"MUN_KEY\",\"MUNICIPIO_NOME\"]\n",
    "for c in [\"EVASAO_FUNDAMENTAL\",\"EVASAO_MEDIO\"]:\n",
    "    if c in urg.columns: keep.append(c)\n",
    "urg = urg[keep].groupby([\"MUN_KEY\",\"MUNICIPIO_NOME\"], as_index=False).mean(numeric_only=True)\n",
    "\n",
    "# --- DF_FILTRADO ---\n",
    "evo = evolucao_filtrada.copy()\n",
    "evo[\"MUNICIPIO_NOME\"] = evo[\"MUNICIPIO_NOME\"].astype(str).str.strip()\n",
    "evo[\"MUN_KEY\"] = evo[\"MUNICIPIO_NOME\"].map(_slug)\n",
    "\n",
    "# garantir colunas em %\n",
    "for c in [\"APROVACAO_INICIAIS\",\"APROVACAO_FINAIS\"]:\n",
    "    if c in evo.columns:\n",
    "        v = pd.to_numeric(evo[c], errors=\"coerce\")\n",
    "        if v.mean(skipna=True) <= 1.5:  # estava em proporção\n",
    "            evo[c + \"_%\"] = 100*v\n",
    "        else:\n",
    "            evo[c + \"_%\"] = v\n",
    "    else:\n",
    "        evo[c + \"_%\"] = np.nan\n",
    "\n",
    "# ======================================================\n",
    "# 2) DF estático por município (média do período ou último ano)\n",
    "#    -> escolha UM modo: \"media\" (default) ou \"ultimo\"\n",
    "# ======================================================\n",
    "def build_df_static(evo: pd.DataFrame, urg: pd.DataFrame, modo=\"media\") -> pd.DataFrame:\n",
    "    if modo == \"ultimo\":\n",
    "        idx = evo.groupby(\"MUN_KEY\")[\"ANO\"].idxmax()\n",
    "        base = evo.loc[idx, [\"MUN_KEY\",\"MUNICIPIO_NOME\",\"APROVACAO_INICIAIS_%\",\"APROVACAO_FINAIS_%\"]].copy()\n",
    "    else:  # média\n",
    "        base = (\n",
    "            evo.groupby([\"MUN_KEY\",\"MUNICIPIO_NOME\"], as_index=False)[[\"APROVACAO_INICIAIS_%\",\"APROVACAO_FINAIS_%\"]]\n",
    "               .mean(numeric_only=True)\n",
    "        )\n",
    "\n",
    "    df_static = base.merge(urg[[\"MUN_KEY\",\"EVASAO_FUNDAMENTAL\"]], on=\"MUN_KEY\", how=\"left\")\n",
    "    df_static[\"GAP_APROV_%\"] = df_static[\"APROVACAO_INICIAIS_%\"] - df_static[\"APROVACAO_FINAIS_%\"]\n",
    "\n",
    "    aprov_finais_norm = 1 - _minmax(df_static[\"APROVACAO_FINAIS_%\"].fillna(df_static[\"APROVACAO_FINAIS_%\"].median()))\n",
    "    evasao_norm       = _minmax(df_static[\"EVASAO_FUNDAMENTAL\"].fillna(df_static[\"EVASAO_FUNDAMENTAL\"].median()))\n",
    "    gap_norm          = _minmax(df_static[\"GAP_APROV_%\"].fillna(0))\n",
    "    df_static[\"SCORE_RISCO\"] = 0.5*aprov_finais_norm + 0.4*evasao_norm + 0.1*gap_norm\n",
    "    return df_static\n",
    "\n",
    "df_static = build_df_static(evo, urg, modo=\"media\")\n",
    "\n",
    "# --- SANITY CHECK (opcional, comente se não quiser prints) ---\n",
    "print(\"Municipios em df_filtrado:\", evo[\"MUN_KEY\"].nunique())\n",
    "print(\"Municipios em urgentes:\", urg[\"MUN_KEY\"].nunique())\n",
    "print(\"Após merge (df_static)   :\", df_static.shape, \"NaN evasão:\", df_static[\"EVASAO_FUNDAMENTAL\"].isna().sum())\n",
    "\n",
    "\n",
    "# ======================================================\n",
    "# 3) Gráfico de Quadrantes robusto (com aviso)\n",
    "# ======================================================\n",
    "def graf_quadrantes(base=df_static):\n",
    "    cols_needed = [\"APROVACAO_FINAIS_%\",\"EVASAO_FUNDAMENTAL\"]\n",
    "    t = base.dropna(subset=[c for c in cols_needed if c in base.columns]).copy()\n",
    "\n",
    "    if t.empty:\n",
    "        raise ValueError(\n",
    "            \"Sem dados para plotar: após o merge, 'APROVACAO_FINAIS_%' ou 'EVASAO_FUNDAMENTAL' ficou vazio.\\n\"\n",
    "            \"Dica: verifique se os municípios casaram (use a chave MUN_KEY) e se existem valores não-nulos.\"\n",
    "        )\n",
    "\n",
    "    cut_aprov = t[\"APROVACAO_FINAIS_%\"].median()\n",
    "    cut_evas  = t[\"EVASAO_FUNDAMENTAL\"].median()\n",
    "\n",
    "    conds = [\n",
    "        (t[\"APROVACAO_FINAIS_%\"] < cut_aprov) & (t[\"EVASAO_FUNDAMENTAL\"] > cut_evas),\n",
    "        (t[\"APROVACAO_FINAIS_%\"] >= cut_aprov) & (t[\"EVASAO_FUNDAMENTAL\"] > cut_evas),\n",
    "        (t[\"APROVACAO_FINAIS_%\"] < cut_aprov) & (t[\"EVASAO_FUNDAMENTAL\"] <= cut_evas),\n",
    "        (t[\"APROVACAO_FINAIS_%\"] >= cut_aprov) & (t[\"EVASAO_FUNDAMENTAL\"] <= cut_evas),\n",
    "    ]\n",
    "    labels = [\"Crítico (aprov baixa, evas alta)\",\n",
    "              \"Atenção (aprov alta, evas alta)\",\n",
    "              \"Apoio pedagógico (aprov baixa, evas baixa)\",\n",
    "              \"OK (aprov alta, evas baixa)\"]\n",
    "    t[\"Quadrante\"] = np.select(conds, labels)\n",
    "\n",
    "    fig = px.scatter(\n",
    "        t, x=\"APROVACAO_FINAIS_%\", y=\"EVASAO_FUNDAMENTAL\", color=\"Quadrante\",\n",
    "        hover_data=[\"MUNICIPIO_NOME\",\"APROVACAO_INICIAIS_%\",\"GAP_APROV_%\",\"SCORE_RISCO\"],\n",
    "        title=\"Quadrantes — Aprovação (Anos Finais) × Evasão (Fundamental)\",\n",
    "        labels={\"APROVACAO_FINAIS_%\":\"Aprovação Finais (%)\",\"EVASAO_FUNDAMENTAL\":\"Evasão Fundamental (%)\"}\n",
    "    )\n",
    "    fig.add_vline(x=cut_aprov); fig.add_hline(y=cut_evas)\n",
    "    return fig\n",
    "graf_quadrantes().show()"
   ]
  },
  {
   "cell_type": "code",
   "execution_count": null,
   "id": "3dbefc56",
   "metadata": {},
   "outputs": [
    {
     "data": {
      "application/vnd.plotly.v1+json": {
       "config": {
        "plotlyServerURL": "https://plot.ly"
       },
       "data": [
        {
         "customdata": [
          [
           "BANANEIRAS",
           87.25106,
           13.591778333333338,
           0.4560031973624261
          ],
          [
           "CATURITÉ",
           89.31007500000001,
           8.802636666666672,
           0.047406006603245114
          ],
          [
           "JOÃO PESSOA",
           86.1421175,
           8.43117749999999,
           0.3020401570177182
          ]
         ],
         "hovertemplate": "Quadrante=OK (aprov alta, evasão baixa)<br>Aprovação Finais (%)=%{x}<br>Evasão Fundamental (%)=%{y}<br>SCORE_RISCO=%{customdata[3]}<br>LABEL=%{text}<br>MUNICIPIO_NOME=%{customdata[0]}<br>APROVACAO_INICIAIS_%=%{customdata[1]}<br>GAP_APROV_%=%{customdata[2]}<extra></extra>",
         "legendgroup": "OK (aprov alta, evasão baixa)",
         "marker": {
          "color": "#636efa",
          "line": {
           "color": "white",
           "width": 1
          },
          "opacity": 0.9,
          "size": [
           0.4560031973624261,
           0.047406006603245114,
           0.3020401570177182
          ],
          "sizemode": "area",
          "sizeref": 0.0014562607272076095,
          "symbol": "circle"
         },
         "mode": "markers+text",
         "name": "OK (aprov alta, evasão baixa)",
         "orientation": "v",
         "showlegend": true,
         "text": [
          "Bananeiras",
          "Caturité",
          "João Pessoa"
         ],
         "textfont": {
          "size": 11
         },
         "textposition": "top center",
         "type": "scatter",
         "x": [
          73.65928166666666,
          80.50743833333334,
          77.71094000000001
         ],
         "xaxis": "x",
         "y": [
          3.6,
          3.2,
          4.1
         ],
         "yaxis": "y"
        },
        {
         "customdata": [
          [
           "SANTA RITA",
           81.90335666666667,
           11.00631,
           0.7617777272227485
          ],
          [
           "SERRA REDONDA",
           81.05455333333335,
           12.174855000000008,
           0.984432251592344
          ]
         ],
         "hovertemplate": "Quadrante=Crítico (aprov baixa, evas alta)<br>Aprovação Finais (%)=%{x}<br>Evasão Fundamental (%)=%{y}<br>SCORE_RISCO=%{customdata[3]}<br>LABEL=%{text}<br>MUNICIPIO_NOME=%{customdata[0]}<br>APROVACAO_INICIAIS_%=%{customdata[1]}<br>GAP_APROV_%=%{customdata[2]}<extra></extra>",
         "legendgroup": "Crítico (aprov baixa, evas alta)",
         "marker": {
          "color": "#EF553B",
          "line": {
           "color": "white",
           "width": 1
          },
          "opacity": 0.9,
          "size": [
           0.7617777272227485,
           0.984432251592344
          ],
          "sizemode": "area",
          "sizeref": 0.0014562607272076095,
          "symbol": "circle"
         },
         "mode": "markers+text",
         "name": "Crítico (aprov baixa, evas alta)",
         "orientation": "v",
         "showlegend": true,
         "text": [
          "Santa Rita",
          "Serra Redonda"
         ],
         "textfont": {
          "size": 11
         },
         "textposition": "top center",
         "type": "scatter",
         "x": [
          70.89704666666667,
          68.87969833333334
         ],
         "xaxis": "x",
         "y": [
          5,
          5.8
         ],
         "yaxis": "y"
        }
       ],
       "layout": {
        "annotations": [
         {
          "font": {
           "color": "red",
           "size": 12
          },
          "showarrow": false,
          "text": "Crítico",
          "x": 68.342065,
          "y": 4.9799999999999995
         },
         {
          "font": {
           "color": "orange",
           "size": 12
          },
          "showarrow": false,
          "text": "Atenção",
          "x": 80.33021483333334,
          "y": 5.97
         },
         {
          "font": {
           "color": "gray",
           "size": 12
          },
          "showarrow": false,
          "text": "Apoio pedagógico",
          "x": 68.74663583333333,
          "y": 3.8899999999999997
         },
         {
          "font": {
           "color": "green",
           "size": 12
          },
          "showarrow": false,
          "text": "OK",
          "x": 80.33021483333334,
          "y": 3.8899999999999997
         }
        ],
        "legend": {
         "itemsizing": "constant",
         "title": {
          "text": "Quadrante"
         },
         "tracegroupgap": 0
        },
        "margin": {
         "b": 10,
         "l": 10,
         "r": 10,
         "t": 60
        },
        "shapes": [
         {
          "fillcolor": "red",
          "line": {
           "width": 0
          },
          "opacity": 0.06,
          "type": "rect",
          "x0": 67.87969833333334,
          "x1": 73.65928166666666,
          "y0": 4.1,
          "y1": 6.3
         },
         {
          "fillcolor": "orange",
          "line": {
           "width": 0
          },
          "opacity": 0.06,
          "type": "rect",
          "x0": 73.65928166666666,
          "x1": 81.50743833333334,
          "y0": 4.1,
          "y1": 6.3
         },
         {
          "fillcolor": "gray",
          "line": {
           "width": 0
          },
          "opacity": 0.06,
          "type": "rect",
          "x0": 67.87969833333334,
          "x1": 73.65928166666666,
          "y0": 2.7,
          "y1": 4.1
         },
         {
          "fillcolor": "green",
          "line": {
           "width": 0
          },
          "opacity": 0.06,
          "type": "rect",
          "x0": 73.65928166666666,
          "x1": 81.50743833333334,
          "y0": 2.7,
          "y1": 4.1
         },
         {
          "line": {
           "dash": "dash",
           "width": 3
          },
          "type": "line",
          "x0": 73.65928166666666,
          "x1": 73.65928166666666,
          "xref": "x",
          "y0": 0,
          "y1": 1,
          "yref": "y domain"
         },
         {
          "line": {
           "dash": "dash",
           "width": 3
          },
          "type": "line",
          "x0": 0,
          "x1": 1,
          "xref": "x domain",
          "y0": 4.1,
          "y1": 4.1,
          "yref": "y"
         }
        ],
        "template": {
         "data": {
          "bar": [
           {
            "error_x": {
             "color": "#2a3f5f"
            },
            "error_y": {
             "color": "#2a3f5f"
            },
            "marker": {
             "line": {
              "color": "#E5ECF6",
              "width": 0.5
             },
             "pattern": {
              "fillmode": "overlay",
              "size": 10,
              "solidity": 0.2
             }
            },
            "type": "bar"
           }
          ],
          "barpolar": [
           {
            "marker": {
             "line": {
              "color": "#E5ECF6",
              "width": 0.5
             },
             "pattern": {
              "fillmode": "overlay",
              "size": 10,
              "solidity": 0.2
             }
            },
            "type": "barpolar"
           }
          ],
          "carpet": [
           {
            "aaxis": {
             "endlinecolor": "#2a3f5f",
             "gridcolor": "white",
             "linecolor": "white",
             "minorgridcolor": "white",
             "startlinecolor": "#2a3f5f"
            },
            "baxis": {
             "endlinecolor": "#2a3f5f",
             "gridcolor": "white",
             "linecolor": "white",
             "minorgridcolor": "white",
             "startlinecolor": "#2a3f5f"
            },
            "type": "carpet"
           }
          ],
          "choropleth": [
           {
            "colorbar": {
             "outlinewidth": 0,
             "ticks": ""
            },
            "type": "choropleth"
           }
          ],
          "contour": [
           {
            "colorbar": {
             "outlinewidth": 0,
             "ticks": ""
            },
            "colorscale": [
             [
              0,
              "#0d0887"
             ],
             [
              0.1111111111111111,
              "#46039f"
             ],
             [
              0.2222222222222222,
              "#7201a8"
             ],
             [
              0.3333333333333333,
              "#9c179e"
             ],
             [
              0.4444444444444444,
              "#bd3786"
             ],
             [
              0.5555555555555556,
              "#d8576b"
             ],
             [
              0.6666666666666666,
              "#ed7953"
             ],
             [
              0.7777777777777778,
              "#fb9f3a"
             ],
             [
              0.8888888888888888,
              "#fdca26"
             ],
             [
              1,
              "#f0f921"
             ]
            ],
            "type": "contour"
           }
          ],
          "contourcarpet": [
           {
            "colorbar": {
             "outlinewidth": 0,
             "ticks": ""
            },
            "type": "contourcarpet"
           }
          ],
          "heatmap": [
           {
            "colorbar": {
             "outlinewidth": 0,
             "ticks": ""
            },
            "colorscale": [
             [
              0,
              "#0d0887"
             ],
             [
              0.1111111111111111,
              "#46039f"
             ],
             [
              0.2222222222222222,
              "#7201a8"
             ],
             [
              0.3333333333333333,
              "#9c179e"
             ],
             [
              0.4444444444444444,
              "#bd3786"
             ],
             [
              0.5555555555555556,
              "#d8576b"
             ],
             [
              0.6666666666666666,
              "#ed7953"
             ],
             [
              0.7777777777777778,
              "#fb9f3a"
             ],
             [
              0.8888888888888888,
              "#fdca26"
             ],
             [
              1,
              "#f0f921"
             ]
            ],
            "type": "heatmap"
           }
          ],
          "heatmapgl": [
           {
            "colorbar": {
             "outlinewidth": 0,
             "ticks": ""
            },
            "colorscale": [
             [
              0,
              "#0d0887"
             ],
             [
              0.1111111111111111,
              "#46039f"
             ],
             [
              0.2222222222222222,
              "#7201a8"
             ],
             [
              0.3333333333333333,
              "#9c179e"
             ],
             [
              0.4444444444444444,
              "#bd3786"
             ],
             [
              0.5555555555555556,
              "#d8576b"
             ],
             [
              0.6666666666666666,
              "#ed7953"
             ],
             [
              0.7777777777777778,
              "#fb9f3a"
             ],
             [
              0.8888888888888888,
              "#fdca26"
             ],
             [
              1,
              "#f0f921"
             ]
            ],
            "type": "heatmapgl"
           }
          ],
          "histogram": [
           {
            "marker": {
             "pattern": {
              "fillmode": "overlay",
              "size": 10,
              "solidity": 0.2
             }
            },
            "type": "histogram"
           }
          ],
          "histogram2d": [
           {
            "colorbar": {
             "outlinewidth": 0,
             "ticks": ""
            },
            "colorscale": [
             [
              0,
              "#0d0887"
             ],
             [
              0.1111111111111111,
              "#46039f"
             ],
             [
              0.2222222222222222,
              "#7201a8"
             ],
             [
              0.3333333333333333,
              "#9c179e"
             ],
             [
              0.4444444444444444,
              "#bd3786"
             ],
             [
              0.5555555555555556,
              "#d8576b"
             ],
             [
              0.6666666666666666,
              "#ed7953"
             ],
             [
              0.7777777777777778,
              "#fb9f3a"
             ],
             [
              0.8888888888888888,
              "#fdca26"
             ],
             [
              1,
              "#f0f921"
             ]
            ],
            "type": "histogram2d"
           }
          ],
          "histogram2dcontour": [
           {
            "colorbar": {
             "outlinewidth": 0,
             "ticks": ""
            },
            "colorscale": [
             [
              0,
              "#0d0887"
             ],
             [
              0.1111111111111111,
              "#46039f"
             ],
             [
              0.2222222222222222,
              "#7201a8"
             ],
             [
              0.3333333333333333,
              "#9c179e"
             ],
             [
              0.4444444444444444,
              "#bd3786"
             ],
             [
              0.5555555555555556,
              "#d8576b"
             ],
             [
              0.6666666666666666,
              "#ed7953"
             ],
             [
              0.7777777777777778,
              "#fb9f3a"
             ],
             [
              0.8888888888888888,
              "#fdca26"
             ],
             [
              1,
              "#f0f921"
             ]
            ],
            "type": "histogram2dcontour"
           }
          ],
          "mesh3d": [
           {
            "colorbar": {
             "outlinewidth": 0,
             "ticks": ""
            },
            "type": "mesh3d"
           }
          ],
          "parcoords": [
           {
            "line": {
             "colorbar": {
              "outlinewidth": 0,
              "ticks": ""
             }
            },
            "type": "parcoords"
           }
          ],
          "pie": [
           {
            "automargin": true,
            "type": "pie"
           }
          ],
          "scatter": [
           {
            "fillpattern": {
             "fillmode": "overlay",
             "size": 10,
             "solidity": 0.2
            },
            "type": "scatter"
           }
          ],
          "scatter3d": [
           {
            "line": {
             "colorbar": {
              "outlinewidth": 0,
              "ticks": ""
             }
            },
            "marker": {
             "colorbar": {
              "outlinewidth": 0,
              "ticks": ""
             }
            },
            "type": "scatter3d"
           }
          ],
          "scattercarpet": [
           {
            "marker": {
             "colorbar": {
              "outlinewidth": 0,
              "ticks": ""
             }
            },
            "type": "scattercarpet"
           }
          ],
          "scattergeo": [
           {
            "marker": {
             "colorbar": {
              "outlinewidth": 0,
              "ticks": ""
             }
            },
            "type": "scattergeo"
           }
          ],
          "scattergl": [
           {
            "marker": {
             "colorbar": {
              "outlinewidth": 0,
              "ticks": ""
             }
            },
            "type": "scattergl"
           }
          ],
          "scattermapbox": [
           {
            "marker": {
             "colorbar": {
              "outlinewidth": 0,
              "ticks": ""
             }
            },
            "type": "scattermapbox"
           }
          ],
          "scatterpolar": [
           {
            "marker": {
             "colorbar": {
              "outlinewidth": 0,
              "ticks": ""
             }
            },
            "type": "scatterpolar"
           }
          ],
          "scatterpolargl": [
           {
            "marker": {
             "colorbar": {
              "outlinewidth": 0,
              "ticks": ""
             }
            },
            "type": "scatterpolargl"
           }
          ],
          "scatterternary": [
           {
            "marker": {
             "colorbar": {
              "outlinewidth": 0,
              "ticks": ""
             }
            },
            "type": "scatterternary"
           }
          ],
          "surface": [
           {
            "colorbar": {
             "outlinewidth": 0,
             "ticks": ""
            },
            "colorscale": [
             [
              0,
              "#0d0887"
             ],
             [
              0.1111111111111111,
              "#46039f"
             ],
             [
              0.2222222222222222,
              "#7201a8"
             ],
             [
              0.3333333333333333,
              "#9c179e"
             ],
             [
              0.4444444444444444,
              "#bd3786"
             ],
             [
              0.5555555555555556,
              "#d8576b"
             ],
             [
              0.6666666666666666,
              "#ed7953"
             ],
             [
              0.7777777777777778,
              "#fb9f3a"
             ],
             [
              0.8888888888888888,
              "#fdca26"
             ],
             [
              1,
              "#f0f921"
             ]
            ],
            "type": "surface"
           }
          ],
          "table": [
           {
            "cells": {
             "fill": {
              "color": "#EBF0F8"
             },
             "line": {
              "color": "white"
             }
            },
            "header": {
             "fill": {
              "color": "#C8D4E3"
             },
             "line": {
              "color": "white"
             }
            },
            "type": "table"
           }
          ]
         },
         "layout": {
          "annotationdefaults": {
           "arrowcolor": "#2a3f5f",
           "arrowhead": 0,
           "arrowwidth": 1
          },
          "autotypenumbers": "strict",
          "coloraxis": {
           "colorbar": {
            "outlinewidth": 0,
            "ticks": ""
           }
          },
          "colorscale": {
           "diverging": [
            [
             0,
             "#8e0152"
            ],
            [
             0.1,
             "#c51b7d"
            ],
            [
             0.2,
             "#de77ae"
            ],
            [
             0.3,
             "#f1b6da"
            ],
            [
             0.4,
             "#fde0ef"
            ],
            [
             0.5,
             "#f7f7f7"
            ],
            [
             0.6,
             "#e6f5d0"
            ],
            [
             0.7,
             "#b8e186"
            ],
            [
             0.8,
             "#7fbc41"
            ],
            [
             0.9,
             "#4d9221"
            ],
            [
             1,
             "#276419"
            ]
           ],
           "sequential": [
            [
             0,
             "#0d0887"
            ],
            [
             0.1111111111111111,
             "#46039f"
            ],
            [
             0.2222222222222222,
             "#7201a8"
            ],
            [
             0.3333333333333333,
             "#9c179e"
            ],
            [
             0.4444444444444444,
             "#bd3786"
            ],
            [
             0.5555555555555556,
             "#d8576b"
            ],
            [
             0.6666666666666666,
             "#ed7953"
            ],
            [
             0.7777777777777778,
             "#fb9f3a"
            ],
            [
             0.8888888888888888,
             "#fdca26"
            ],
            [
             1,
             "#f0f921"
            ]
           ],
           "sequentialminus": [
            [
             0,
             "#0d0887"
            ],
            [
             0.1111111111111111,
             "#46039f"
            ],
            [
             0.2222222222222222,
             "#7201a8"
            ],
            [
             0.3333333333333333,
             "#9c179e"
            ],
            [
             0.4444444444444444,
             "#bd3786"
            ],
            [
             0.5555555555555556,
             "#d8576b"
            ],
            [
             0.6666666666666666,
             "#ed7953"
            ],
            [
             0.7777777777777778,
             "#fb9f3a"
            ],
            [
             0.8888888888888888,
             "#fdca26"
            ],
            [
             1,
             "#f0f921"
            ]
           ]
          },
          "colorway": [
           "#636efa",
           "#EF553B",
           "#00cc96",
           "#ab63fa",
           "#FFA15A",
           "#19d3f3",
           "#FF6692",
           "#B6E880",
           "#FF97FF",
           "#FECB52"
          ],
          "font": {
           "color": "#2a3f5f"
          },
          "geo": {
           "bgcolor": "white",
           "lakecolor": "white",
           "landcolor": "#E5ECF6",
           "showlakes": true,
           "showland": true,
           "subunitcolor": "white"
          },
          "hoverlabel": {
           "align": "left"
          },
          "hovermode": "closest",
          "mapbox": {
           "style": "light"
          },
          "paper_bgcolor": "white",
          "plot_bgcolor": "#E5ECF6",
          "polar": {
           "angularaxis": {
            "gridcolor": "white",
            "linecolor": "white",
            "ticks": ""
           },
           "bgcolor": "#E5ECF6",
           "radialaxis": {
            "gridcolor": "white",
            "linecolor": "white",
            "ticks": ""
           }
          },
          "scene": {
           "xaxis": {
            "backgroundcolor": "#E5ECF6",
            "gridcolor": "white",
            "gridwidth": 2,
            "linecolor": "white",
            "showbackground": true,
            "ticks": "",
            "zerolinecolor": "white"
           },
           "yaxis": {
            "backgroundcolor": "#E5ECF6",
            "gridcolor": "white",
            "gridwidth": 2,
            "linecolor": "white",
            "showbackground": true,
            "ticks": "",
            "zerolinecolor": "white"
           },
           "zaxis": {
            "backgroundcolor": "#E5ECF6",
            "gridcolor": "white",
            "gridwidth": 2,
            "linecolor": "white",
            "showbackground": true,
            "ticks": "",
            "zerolinecolor": "white"
           }
          },
          "shapedefaults": {
           "line": {
            "color": "#2a3f5f"
           }
          },
          "ternary": {
           "aaxis": {
            "gridcolor": "white",
            "linecolor": "white",
            "ticks": ""
           },
           "baxis": {
            "gridcolor": "white",
            "linecolor": "white",
            "ticks": ""
           },
           "bgcolor": "#E5ECF6",
           "caxis": {
            "gridcolor": "white",
            "linecolor": "white",
            "ticks": ""
           }
          },
          "title": {
           "x": 0.05
          },
          "xaxis": {
           "automargin": true,
           "gridcolor": "white",
           "linecolor": "white",
           "ticks": "",
           "title": {
            "standoff": 15
           },
           "zerolinecolor": "white",
           "zerolinewidth": 2
          },
          "yaxis": {
           "automargin": true,
           "gridcolor": "white",
           "linecolor": "white",
           "ticks": "",
           "title": {
            "standoff": 15
           },
           "zerolinecolor": "white",
           "zerolinewidth": 2
          }
         }
        },
        "title": {
         "text": "Quadrantes — Aprovação (Anos Finais) × Evasão (Fundamental)"
        },
        "xaxis": {
         "anchor": "y",
         "domain": [
          0,
          1
         ],
         "range": [
          67.87969833333334,
          81.50743833333334
         ],
         "tickformat": ".1f",
         "title": {
          "text": "Aprovação Finais (%)"
         }
        },
        "yaxis": {
         "anchor": "x",
         "domain": [
          0,
          1
         ],
         "range": [
          2.7,
          6.3
         ],
         "tickformat": ".1f",
         "title": {
          "text": "Evasão Fundamental (%)"
         }
        }
       }
      }
     },
     "metadata": {},
     "output_type": "display_data"
    }
   ],
   "source": [
    "import plotly.express as px\n",
    "import plotly.graph_objects as go\n",
    "import numpy as np\n",
    "\n",
    "def graf_quadrantes(base=df_static, usar_tamanho_por_risco=True):\n",
    "    t = base.dropna(subset=[\"APROVACAO_FINAIS_%\",\"EVASAO_FUNDAMENTAL\"]).copy()\n",
    "    if t.empty:\n",
    "        raise ValueError(\"Sem dados para plotar quadrantes.\")\n",
    "\n",
    "    # Cortes (medianas)\n",
    "    cut_x = t[\"APROVACAO_FINAIS_%\"].median()\n",
    "    cut_y = t[\"EVASAO_FUNDAMENTAL\"].median()\n",
    "\n",
    "    # Rótulo de quadrante\n",
    "    conds = [\n",
    "        (t[\"APROVACAO_FINAIS_%\"] < cut_x) & (t[\"EVASAO_FUNDAMENTAL\"] > cut_y),\n",
    "        (t[\"APROVACAO_FINAIS_%\"] >= cut_x) & (t[\"EVASAO_FUNDAMENTAL\"] > cut_y),\n",
    "        (t[\"APROVACAO_FINAIS_%\"] < cut_x) & (t[\"EVASAO_FUNDAMENTAL\"] <= cut_y),\n",
    "        (t[\"APROVACAO_FINAIS_%\"] >= cut_x) & (t[\"EVASAO_FUNDAMENTAL\"] <= cut_y),\n",
    "    ]\n",
    "    labels = [\"Crítico (aprov baixa, evas alta)\",\n",
    "              \"Atenção (aprov alta, evas alta)\",\n",
    "              \"Apoio pedagógico (aprov baixa, evasão baixa)\",\n",
    "              \"OK (aprov alta, evasão baixa)\"]\n",
    "    t[\"Quadrante\"] = np.select(conds, labels)\n",
    "\n",
    "    # Abrevia nome para rótulo curto no ponto\n",
    "    t[\"LABEL\"] = t[\"MUNICIPIO_NOME\"].str.title().str.slice(0, 18)\n",
    "\n",
    "    # Range com folga\n",
    "    pad_x = max(1.0, (t[\"APROVACAO_FINAIS_%\"].max() - t[\"APROVACAO_FINAIS_%\"].min())*0.06)\n",
    "    pad_y = max(0.5, (t[\"EVASAO_FUNDAMENTAL\"].max() - t[\"EVASAO_FUNDAMENTAL\"].min())*0.08)\n",
    "    xr = [t[\"APROVACAO_FINAIS_%\"].min()-pad_x, t[\"APROVACAO_FINAIS_%\"].max()+pad_x]\n",
    "    yr = [t[\"EVASAO_FUNDAMENTAL\"].min()-pad_y, t[\"EVASAO_FUNDAMENTAL\"].max()+pad_y]\n",
    "\n",
    "    size_arg = \"SCORE_RISCO\" if usar_tamanho_por_risco and \"SCORE_RISCO\" in t.columns else None\n",
    "\n",
    "    fig = px.scatter(\n",
    "        t, x=\"APROVACAO_FINAIS_%\", y=\"EVASAO_FUNDAMENTAL\",\n",
    "        color=\"Quadrante\", size=size_arg, size_max=26,\n",
    "        hover_data=[\"MUNICIPIO_NOME\",\"APROVACAO_INICIAIS_%\",\"GAP_APROV_%\",\"SCORE_RISCO\"],\n",
    "        text=\"LABEL\",\n",
    "        title=\"Quadrantes — Aprovação (Anos Finais) × Evasão (Fundamental)\",\n",
    "        labels={\"APROVACAO_FINAIS_%\":\"Aprovação Finais (%)\",\"EVASAO_FUNDAMENTAL\":\"Evasão Fundamental (%)\"},\n",
    "    )\n",
    "\n",
    "    # Pontos maiores, rótulos acima\n",
    "    fig.update_traces(marker=dict(line=dict(width=1, color=\"white\"), opacity=0.9))\n",
    "    fig.update_traces(textposition=\"top center\", textfont=dict(size=11))\n",
    "\n",
    "    # Sombras dos quadrantes\n",
    "    fig.add_shape(type=\"rect\", x0=xr[0], x1=cut_x, y0=cut_y, y1=yr[1], fillcolor=\"red\", opacity=0.06, line_width=0)\n",
    "    fig.add_shape(type=\"rect\", x0=cut_x, x1=xr[1], y0=cut_y, y1=yr[1], fillcolor=\"orange\", opacity=0.06, line_width=0)\n",
    "    fig.add_shape(type=\"rect\", x0=xr[0], x1=cut_x, y0=yr[0], y1=cut_y, fillcolor=\"gray\", opacity=0.06, line_width=0)\n",
    "    fig.add_shape(type=\"rect\", x0=cut_x, x1=xr[1], y0=yr[0], y1=cut_y, fillcolor=\"green\", opacity=0.06, line_width=0)\n",
    "\n",
    "    # Linhas de corte mais visíveis\n",
    "    fig.add_vline(x=cut_x, line_width=3, line_dash=\"dash\")\n",
    "    fig.add_hline(y=cut_y, line_width=3, line_dash=\"dash\")\n",
    "\n",
    "    # Anotações dos quadrantes\n",
    "    fig.add_annotation(x=xr[0]+(cut_x-xr[0])*0.08, y=yr[1]-(yr[1]-cut_y)*0.60,\n",
    "                       text=\"Crítico\", showarrow=False, font=dict(size=12, color=\"red\"))\n",
    "    fig.add_annotation(x=cut_x+(xr[1]-cut_x)*0.85, y=yr[1]-(yr[1]-cut_y)*0.15,\n",
    "                       text=\"Atenção\", showarrow=False, font=dict(size=12, color=\"orange\"))\n",
    "    fig.add_annotation(x=xr[0]+(cut_x-xr[0])*0.15, y=cut_y-(cut_y-yr[0])*0.15,\n",
    "                       text=\"Apoio pedagógico\", showarrow=False, font=dict(size=12, color=\"gray\"))\n",
    "    fig.add_annotation(x=cut_x+(xr[1]-cut_x)*0.85, y=cut_y-(cut_y-yr[0])*0.15,\n",
    "                       text=\"OK\", showarrow=False, font=dict(size=12, color=\"green\"))\n",
    "\n",
    "\n",
    "    # Layout\n",
    "    fig.update_layout(\n",
    "        xaxis=dict(range=xr, tickformat=\".1f\"),\n",
    "        yaxis=dict(range=yr, tickformat=\".1f\"),\n",
    "        legend_title_text=\"Quadrante\",\n",
    "        margin=dict(l=10, r=10, t=60, b=10),\n",
    "    )\n",
    "    return fig\n",
    "graf_quadrantes().show()"
   ]
  },
  {
   "cell_type": "code",
   "execution_count": 76,
   "id": "bf455e6b",
   "metadata": {},
   "outputs": [
    {
     "data": {
      "application/vnd.plotly.v1+json": {
       "config": {
        "plotlyServerURL": "https://plot.ly"
       },
       "data": [
        {
         "alignmentgroup": "True",
         "customdata": [
          [
           81.05455333333335,
           68.87969833333334,
           5.8,
           12.174855000000008
          ],
          [
           81.90335666666667,
           70.89704666666667,
           5,
           11.00631
          ],
          [
           83.94969,
           71.20134666666667,
           null,
           12.748343333333338
          ],
          [
           87.75508333333333,
           74.16237333333333,
           null,
           13.592709999999997
          ],
          [
           87.25106,
           73.65928166666666,
           3.6,
           13.591778333333338
          ],
          [
           86.1421175,
           77.71094000000001,
           4.1,
           8.43117749999999
          ],
          [
           84.795335,
           80.31026833333334,
           null,
           4.485066666666654
          ],
          [
           89.31007500000001,
           80.50743833333334,
           3.2,
           8.802636666666672
          ]
         ],
         "hovertemplate": "Score de Risco (0–1)=%{x}<br>Município=%{y}<br>APROVACAO_INICIAIS_%=%{customdata[0]}<br>APROVACAO_FINAIS_%=%{customdata[1]}<br>EVASAO_FUNDAMENTAL=%{customdata[2]}<br>GAP_APROV_%=%{customdata[3]}<extra></extra>",
         "legendgroup": "",
         "marker": {
          "color": "#636efa",
          "pattern": {
           "shape": ""
          }
         },
         "name": "",
         "offsetgroup": "",
         "orientation": "h",
         "showlegend": false,
         "textposition": "auto",
         "type": "bar",
         "x": [
          0.984432251592344,
          0.7617777272227485,
          0.6293582588910817,
          0.5113032514685373,
          0.4560031973624261,
          0.3020401570177182,
          0.1469399702118183,
          0.047406006603245114
         ],
         "xaxis": "x",
         "y": [
          "SERRA REDONDA",
          "SANTA RITA",
          "INGÁ",
          "CAMPINA GRANDE",
          "BANANEIRAS",
          "JOÃO PESSOA",
          "BAÍA DA TRAIÇÃO",
          "CATURITÉ"
         ],
         "yaxis": "y"
        }
       ],
       "layout": {
        "barmode": "relative",
        "legend": {
         "tracegroupgap": 0
        },
        "template": {
         "data": {
          "bar": [
           {
            "error_x": {
             "color": "#2a3f5f"
            },
            "error_y": {
             "color": "#2a3f5f"
            },
            "marker": {
             "line": {
              "color": "#E5ECF6",
              "width": 0.5
             },
             "pattern": {
              "fillmode": "overlay",
              "size": 10,
              "solidity": 0.2
             }
            },
            "type": "bar"
           }
          ],
          "barpolar": [
           {
            "marker": {
             "line": {
              "color": "#E5ECF6",
              "width": 0.5
             },
             "pattern": {
              "fillmode": "overlay",
              "size": 10,
              "solidity": 0.2
             }
            },
            "type": "barpolar"
           }
          ],
          "carpet": [
           {
            "aaxis": {
             "endlinecolor": "#2a3f5f",
             "gridcolor": "white",
             "linecolor": "white",
             "minorgridcolor": "white",
             "startlinecolor": "#2a3f5f"
            },
            "baxis": {
             "endlinecolor": "#2a3f5f",
             "gridcolor": "white",
             "linecolor": "white",
             "minorgridcolor": "white",
             "startlinecolor": "#2a3f5f"
            },
            "type": "carpet"
           }
          ],
          "choropleth": [
           {
            "colorbar": {
             "outlinewidth": 0,
             "ticks": ""
            },
            "type": "choropleth"
           }
          ],
          "contour": [
           {
            "colorbar": {
             "outlinewidth": 0,
             "ticks": ""
            },
            "colorscale": [
             [
              0,
              "#0d0887"
             ],
             [
              0.1111111111111111,
              "#46039f"
             ],
             [
              0.2222222222222222,
              "#7201a8"
             ],
             [
              0.3333333333333333,
              "#9c179e"
             ],
             [
              0.4444444444444444,
              "#bd3786"
             ],
             [
              0.5555555555555556,
              "#d8576b"
             ],
             [
              0.6666666666666666,
              "#ed7953"
             ],
             [
              0.7777777777777778,
              "#fb9f3a"
             ],
             [
              0.8888888888888888,
              "#fdca26"
             ],
             [
              1,
              "#f0f921"
             ]
            ],
            "type": "contour"
           }
          ],
          "contourcarpet": [
           {
            "colorbar": {
             "outlinewidth": 0,
             "ticks": ""
            },
            "type": "contourcarpet"
           }
          ],
          "heatmap": [
           {
            "colorbar": {
             "outlinewidth": 0,
             "ticks": ""
            },
            "colorscale": [
             [
              0,
              "#0d0887"
             ],
             [
              0.1111111111111111,
              "#46039f"
             ],
             [
              0.2222222222222222,
              "#7201a8"
             ],
             [
              0.3333333333333333,
              "#9c179e"
             ],
             [
              0.4444444444444444,
              "#bd3786"
             ],
             [
              0.5555555555555556,
              "#d8576b"
             ],
             [
              0.6666666666666666,
              "#ed7953"
             ],
             [
              0.7777777777777778,
              "#fb9f3a"
             ],
             [
              0.8888888888888888,
              "#fdca26"
             ],
             [
              1,
              "#f0f921"
             ]
            ],
            "type": "heatmap"
           }
          ],
          "heatmapgl": [
           {
            "colorbar": {
             "outlinewidth": 0,
             "ticks": ""
            },
            "colorscale": [
             [
              0,
              "#0d0887"
             ],
             [
              0.1111111111111111,
              "#46039f"
             ],
             [
              0.2222222222222222,
              "#7201a8"
             ],
             [
              0.3333333333333333,
              "#9c179e"
             ],
             [
              0.4444444444444444,
              "#bd3786"
             ],
             [
              0.5555555555555556,
              "#d8576b"
             ],
             [
              0.6666666666666666,
              "#ed7953"
             ],
             [
              0.7777777777777778,
              "#fb9f3a"
             ],
             [
              0.8888888888888888,
              "#fdca26"
             ],
             [
              1,
              "#f0f921"
             ]
            ],
            "type": "heatmapgl"
           }
          ],
          "histogram": [
           {
            "marker": {
             "pattern": {
              "fillmode": "overlay",
              "size": 10,
              "solidity": 0.2
             }
            },
            "type": "histogram"
           }
          ],
          "histogram2d": [
           {
            "colorbar": {
             "outlinewidth": 0,
             "ticks": ""
            },
            "colorscale": [
             [
              0,
              "#0d0887"
             ],
             [
              0.1111111111111111,
              "#46039f"
             ],
             [
              0.2222222222222222,
              "#7201a8"
             ],
             [
              0.3333333333333333,
              "#9c179e"
             ],
             [
              0.4444444444444444,
              "#bd3786"
             ],
             [
              0.5555555555555556,
              "#d8576b"
             ],
             [
              0.6666666666666666,
              "#ed7953"
             ],
             [
              0.7777777777777778,
              "#fb9f3a"
             ],
             [
              0.8888888888888888,
              "#fdca26"
             ],
             [
              1,
              "#f0f921"
             ]
            ],
            "type": "histogram2d"
           }
          ],
          "histogram2dcontour": [
           {
            "colorbar": {
             "outlinewidth": 0,
             "ticks": ""
            },
            "colorscale": [
             [
              0,
              "#0d0887"
             ],
             [
              0.1111111111111111,
              "#46039f"
             ],
             [
              0.2222222222222222,
              "#7201a8"
             ],
             [
              0.3333333333333333,
              "#9c179e"
             ],
             [
              0.4444444444444444,
              "#bd3786"
             ],
             [
              0.5555555555555556,
              "#d8576b"
             ],
             [
              0.6666666666666666,
              "#ed7953"
             ],
             [
              0.7777777777777778,
              "#fb9f3a"
             ],
             [
              0.8888888888888888,
              "#fdca26"
             ],
             [
              1,
              "#f0f921"
             ]
            ],
            "type": "histogram2dcontour"
           }
          ],
          "mesh3d": [
           {
            "colorbar": {
             "outlinewidth": 0,
             "ticks": ""
            },
            "type": "mesh3d"
           }
          ],
          "parcoords": [
           {
            "line": {
             "colorbar": {
              "outlinewidth": 0,
              "ticks": ""
             }
            },
            "type": "parcoords"
           }
          ],
          "pie": [
           {
            "automargin": true,
            "type": "pie"
           }
          ],
          "scatter": [
           {
            "fillpattern": {
             "fillmode": "overlay",
             "size": 10,
             "solidity": 0.2
            },
            "type": "scatter"
           }
          ],
          "scatter3d": [
           {
            "line": {
             "colorbar": {
              "outlinewidth": 0,
              "ticks": ""
             }
            },
            "marker": {
             "colorbar": {
              "outlinewidth": 0,
              "ticks": ""
             }
            },
            "type": "scatter3d"
           }
          ],
          "scattercarpet": [
           {
            "marker": {
             "colorbar": {
              "outlinewidth": 0,
              "ticks": ""
             }
            },
            "type": "scattercarpet"
           }
          ],
          "scattergeo": [
           {
            "marker": {
             "colorbar": {
              "outlinewidth": 0,
              "ticks": ""
             }
            },
            "type": "scattergeo"
           }
          ],
          "scattergl": [
           {
            "marker": {
             "colorbar": {
              "outlinewidth": 0,
              "ticks": ""
             }
            },
            "type": "scattergl"
           }
          ],
          "scattermapbox": [
           {
            "marker": {
             "colorbar": {
              "outlinewidth": 0,
              "ticks": ""
             }
            },
            "type": "scattermapbox"
           }
          ],
          "scatterpolar": [
           {
            "marker": {
             "colorbar": {
              "outlinewidth": 0,
              "ticks": ""
             }
            },
            "type": "scatterpolar"
           }
          ],
          "scatterpolargl": [
           {
            "marker": {
             "colorbar": {
              "outlinewidth": 0,
              "ticks": ""
             }
            },
            "type": "scatterpolargl"
           }
          ],
          "scatterternary": [
           {
            "marker": {
             "colorbar": {
              "outlinewidth": 0,
              "ticks": ""
             }
            },
            "type": "scatterternary"
           }
          ],
          "surface": [
           {
            "colorbar": {
             "outlinewidth": 0,
             "ticks": ""
            },
            "colorscale": [
             [
              0,
              "#0d0887"
             ],
             [
              0.1111111111111111,
              "#46039f"
             ],
             [
              0.2222222222222222,
              "#7201a8"
             ],
             [
              0.3333333333333333,
              "#9c179e"
             ],
             [
              0.4444444444444444,
              "#bd3786"
             ],
             [
              0.5555555555555556,
              "#d8576b"
             ],
             [
              0.6666666666666666,
              "#ed7953"
             ],
             [
              0.7777777777777778,
              "#fb9f3a"
             ],
             [
              0.8888888888888888,
              "#fdca26"
             ],
             [
              1,
              "#f0f921"
             ]
            ],
            "type": "surface"
           }
          ],
          "table": [
           {
            "cells": {
             "fill": {
              "color": "#EBF0F8"
             },
             "line": {
              "color": "white"
             }
            },
            "header": {
             "fill": {
              "color": "#C8D4E3"
             },
             "line": {
              "color": "white"
             }
            },
            "type": "table"
           }
          ]
         },
         "layout": {
          "annotationdefaults": {
           "arrowcolor": "#2a3f5f",
           "arrowhead": 0,
           "arrowwidth": 1
          },
          "autotypenumbers": "strict",
          "coloraxis": {
           "colorbar": {
            "outlinewidth": 0,
            "ticks": ""
           }
          },
          "colorscale": {
           "diverging": [
            [
             0,
             "#8e0152"
            ],
            [
             0.1,
             "#c51b7d"
            ],
            [
             0.2,
             "#de77ae"
            ],
            [
             0.3,
             "#f1b6da"
            ],
            [
             0.4,
             "#fde0ef"
            ],
            [
             0.5,
             "#f7f7f7"
            ],
            [
             0.6,
             "#e6f5d0"
            ],
            [
             0.7,
             "#b8e186"
            ],
            [
             0.8,
             "#7fbc41"
            ],
            [
             0.9,
             "#4d9221"
            ],
            [
             1,
             "#276419"
            ]
           ],
           "sequential": [
            [
             0,
             "#0d0887"
            ],
            [
             0.1111111111111111,
             "#46039f"
            ],
            [
             0.2222222222222222,
             "#7201a8"
            ],
            [
             0.3333333333333333,
             "#9c179e"
            ],
            [
             0.4444444444444444,
             "#bd3786"
            ],
            [
             0.5555555555555556,
             "#d8576b"
            ],
            [
             0.6666666666666666,
             "#ed7953"
            ],
            [
             0.7777777777777778,
             "#fb9f3a"
            ],
            [
             0.8888888888888888,
             "#fdca26"
            ],
            [
             1,
             "#f0f921"
            ]
           ],
           "sequentialminus": [
            [
             0,
             "#0d0887"
            ],
            [
             0.1111111111111111,
             "#46039f"
            ],
            [
             0.2222222222222222,
             "#7201a8"
            ],
            [
             0.3333333333333333,
             "#9c179e"
            ],
            [
             0.4444444444444444,
             "#bd3786"
            ],
            [
             0.5555555555555556,
             "#d8576b"
            ],
            [
             0.6666666666666666,
             "#ed7953"
            ],
            [
             0.7777777777777778,
             "#fb9f3a"
            ],
            [
             0.8888888888888888,
             "#fdca26"
            ],
            [
             1,
             "#f0f921"
            ]
           ]
          },
          "colorway": [
           "#636efa",
           "#EF553B",
           "#00cc96",
           "#ab63fa",
           "#FFA15A",
           "#19d3f3",
           "#FF6692",
           "#B6E880",
           "#FF97FF",
           "#FECB52"
          ],
          "font": {
           "color": "#2a3f5f"
          },
          "geo": {
           "bgcolor": "white",
           "lakecolor": "white",
           "landcolor": "#E5ECF6",
           "showlakes": true,
           "showland": true,
           "subunitcolor": "white"
          },
          "hoverlabel": {
           "align": "left"
          },
          "hovermode": "closest",
          "mapbox": {
           "style": "light"
          },
          "paper_bgcolor": "white",
          "plot_bgcolor": "#E5ECF6",
          "polar": {
           "angularaxis": {
            "gridcolor": "white",
            "linecolor": "white",
            "ticks": ""
           },
           "bgcolor": "#E5ECF6",
           "radialaxis": {
            "gridcolor": "white",
            "linecolor": "white",
            "ticks": ""
           }
          },
          "scene": {
           "xaxis": {
            "backgroundcolor": "#E5ECF6",
            "gridcolor": "white",
            "gridwidth": 2,
            "linecolor": "white",
            "showbackground": true,
            "ticks": "",
            "zerolinecolor": "white"
           },
           "yaxis": {
            "backgroundcolor": "#E5ECF6",
            "gridcolor": "white",
            "gridwidth": 2,
            "linecolor": "white",
            "showbackground": true,
            "ticks": "",
            "zerolinecolor": "white"
           },
           "zaxis": {
            "backgroundcolor": "#E5ECF6",
            "gridcolor": "white",
            "gridwidth": 2,
            "linecolor": "white",
            "showbackground": true,
            "ticks": "",
            "zerolinecolor": "white"
           }
          },
          "shapedefaults": {
           "line": {
            "color": "#2a3f5f"
           }
          },
          "ternary": {
           "aaxis": {
            "gridcolor": "white",
            "linecolor": "white",
            "ticks": ""
           },
           "baxis": {
            "gridcolor": "white",
            "linecolor": "white",
            "ticks": ""
           },
           "bgcolor": "#E5ECF6",
           "caxis": {
            "gridcolor": "white",
            "linecolor": "white",
            "ticks": ""
           }
          },
          "title": {
           "x": 0.05
          },
          "xaxis": {
           "automargin": true,
           "gridcolor": "white",
           "linecolor": "white",
           "ticks": "",
           "title": {
            "standoff": 15
           },
           "zerolinecolor": "white",
           "zerolinewidth": 2
          },
          "yaxis": {
           "automargin": true,
           "gridcolor": "white",
           "linecolor": "white",
           "ticks": "",
           "title": {
            "standoff": 15
           },
           "zerolinecolor": "white",
           "zerolinewidth": 2
          }
         }
        },
        "title": {
         "text": "Top 20 — Ranking de Risco (baixa aprov finais + alta evasão + gap)"
        },
        "xaxis": {
         "anchor": "y",
         "domain": [
          0,
          1
         ],
         "title": {
          "text": "Score de Risco (0–1)"
         }
        },
        "yaxis": {
         "anchor": "x",
         "categoryorder": "total ascending",
         "domain": [
          0,
          1
         ],
         "title": {
          "text": "Município"
         }
        }
       }
      }
     },
     "metadata": {},
     "output_type": "display_data"
    }
   ],
   "source": [
    "def graf_ranking_risco(base=df_static, top_n=20):\n",
    "    df = base.copy()\n",
    "\n",
    "    # --- garante SCORE_RISCO calculado ---\n",
    "    if \"SCORE_RISCO\" not in df.columns or df[\"SCORE_RISCO\"].isna().all():\n",
    "        aprov_finais_norm = 1 - _minmax(df[\"APROVACAO_FINAIS_%\"].fillna(df[\"APROVACAO_FINAIS_%\"].median()))\n",
    "        evasao_norm       = _minmax(df[\"EVASAO_FUNDAMENTAL\"].fillna(df[\"EVASAO_FUNDAMENTAL\"].median()))\n",
    "        gap_norm          = _minmax(df[\"GAP_APROV_%\"].fillna(0))\n",
    "        df[\"SCORE_RISCO\"] = 0.5*aprov_finais_norm + 0.4*evasao_norm + 0.1*gap_norm\n",
    "\n",
    "    # --- remove linhas totalmente nulas ---\n",
    "    df = df.dropna(subset=[\"SCORE_RISCO\",\"MUNICIPIO_NOME\"])\n",
    "\n",
    "    if df.empty:\n",
    "        raise ValueError(\"Nenhum município com SCORE_RISCO válido. Confira se o merge trouxe valores para evasão e aprovação.\")\n",
    "\n",
    "    df = df.sort_values(\"SCORE_RISCO\", ascending=False).head(top_n)\n",
    "\n",
    "    fig = px.bar(\n",
    "        df, x=\"SCORE_RISCO\", y=\"MUNICIPIO_NOME\", orientation=\"h\",\n",
    "        hover_data=[\"APROVACAO_INICIAIS_%\",\"APROVACAO_FINAIS_%\",\"EVASAO_FUNDAMENTAL\",\"GAP_APROV_%\"],\n",
    "        title=f\"Top {top_n} — Ranking de Risco (baixa aprov finais + alta evasão + gap)\",\n",
    "        labels={\"MUNICIPIO_NOME\":\"Município\",\"SCORE_RISCO\":\"Score de Risco (0–1)\"}\n",
    "    )\n",
    "    fig.update_yaxes(categoryorder=\"total ascending\")\n",
    "    return fig\n",
    "graf_ranking_risco().show() "
   ]
  }
 ],
 "metadata": {
  "kernelspec": {
   "display_name": "base",
   "language": "python",
   "name": "python3"
  },
  "language_info": {
   "codemirror_mode": {
    "name": "ipython",
    "version": 3
   },
   "file_extension": ".py",
   "mimetype": "text/x-python",
   "name": "python",
   "nbconvert_exporter": "python",
   "pygments_lexer": "ipython3",
   "version": "3.12.7"
  }
 },
 "nbformat": 4,
 "nbformat_minor": 5
}
